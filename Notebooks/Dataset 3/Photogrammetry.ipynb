{
  "cells": [
    {
      "attachments": {},
      "cell_type": "markdown",
      "metadata": {},
      "source": [
        "[![Open In Colab](https://colab.research.google.com/assets/colab-badge.svg)](https://colab.research.google.com/github/StadynR/HAR-imu-photogrammetry/blob/main/Notebooks/Dataset%203/Photogrammetry.ipynbb)"
      ]
    },
    {
      "cell_type": "markdown",
      "metadata": {
        "id": "HL5s36gHyqIN"
      },
      "source": [
        "# Dataset 3 - Photogrammetry\n",
        "\n",
        "This notebook contains code and explanations for the training and testing of 7 different AI architectures for the task of Human Action Recognition using time series data photogrammetry markers."
      ]
    },
    {
      "attachments": {},
      "cell_type": "markdown",
      "metadata": {
        "id": "H8jX8ZM6p7eI"
      },
      "source": [
        "## Access to Google Drive and load dataset\n",
        "\n",
        "You need to create a shortcut in your Drive home to this folder: https://drive.google.com/drive/folders/1k2sAkmRyyctE1uOc19mrixyt2N47-7pt?usp=share_link"
      ]
    },
    {
      "cell_type": "code",
      "execution_count": null,
      "metadata": {
        "colab": {
          "base_uri": "https://localhost:8080/"
        },
        "id": "ldkCA4PRsO8N",
        "outputId": "f91007bc-12f3-4432-e8c9-65334aff29cf"
      },
      "outputs": [
        {
          "name": "stdout",
          "output_type": "stream",
          "text": [
            "Mounted at /content/drive\n"
          ]
        }
      ],
      "source": [
        "#Drive mount\n",
        "from google.colab import drive\n",
        "drive.mount('/content/drive')"
      ]
    },
    {
      "cell_type": "code",
      "execution_count": null,
      "metadata": {
        "colab": {
          "base_uri": "https://localhost:8080/",
          "height": 467
        },
        "id": "R_wMh0tvtccD",
        "outputId": "71a44b13-d609-48ba-88ba-405ab9456b64"
      },
      "outputs": [
        {
          "data": {
            "text/html": [
              "\n",
              "  <div id=\"df-785d6789-d1d3-4969-8bcc-883abd6c1dad\">\n",
              "    <div class=\"colab-df-container\">\n",
              "      <div>\n",
              "<style scoped>\n",
              "    .dataframe tbody tr th:only-of-type {\n",
              "        vertical-align: middle;\n",
              "    }\n",
              "\n",
              "    .dataframe tbody tr th {\n",
              "        vertical-align: top;\n",
              "    }\n",
              "\n",
              "    .dataframe thead th {\n",
              "        text-align: right;\n",
              "    }\n",
              "</style>\n",
              "<table border=\"1\" class=\"dataframe\">\n",
              "  <thead>\n",
              "    <tr style=\"text-align: right;\">\n",
              "      <th></th>\n",
              "      <th>SUJETO</th>\n",
              "      <th>EJERCICIO</th>\n",
              "      <th>M1X</th>\n",
              "      <th>M1Y</th>\n",
              "      <th>M1Z</th>\n",
              "      <th>M10X</th>\n",
              "      <th>M10Y</th>\n",
              "      <th>M10Z</th>\n",
              "      <th>M11X</th>\n",
              "      <th>M11Y</th>\n",
              "      <th>...</th>\n",
              "      <th>M6Z</th>\n",
              "      <th>M7X</th>\n",
              "      <th>M7Y</th>\n",
              "      <th>M7Z</th>\n",
              "      <th>M8X</th>\n",
              "      <th>M8Y</th>\n",
              "      <th>M8Z</th>\n",
              "      <th>M9X</th>\n",
              "      <th>M9Y</th>\n",
              "      <th>M9Z</th>\n",
              "    </tr>\n",
              "  </thead>\n",
              "  <tbody>\n",
              "    <tr>\n",
              "      <th>0</th>\n",
              "      <td>1</td>\n",
              "      <td>0</td>\n",
              "      <td>1.992625</td>\n",
              "      <td>0.425210</td>\n",
              "      <td>1.279973</td>\n",
              "      <td>1.973502</td>\n",
              "      <td>0.437671</td>\n",
              "      <td>0.755748</td>\n",
              "      <td>2.011979</td>\n",
              "      <td>0.364953</td>\n",
              "      <td>...</td>\n",
              "      <td>0.987214</td>\n",
              "      <td>1.950921</td>\n",
              "      <td>0.387718</td>\n",
              "      <td>1.490946</td>\n",
              "      <td>1.948927</td>\n",
              "      <td>0.446597</td>\n",
              "      <td>0.876668</td>\n",
              "      <td>1.981671</td>\n",
              "      <td>0.369144</td>\n",
              "      <td>0.852706</td>\n",
              "    </tr>\n",
              "    <tr>\n",
              "      <th>1</th>\n",
              "      <td>1</td>\n",
              "      <td>0</td>\n",
              "      <td>1.992595</td>\n",
              "      <td>0.425097</td>\n",
              "      <td>1.279844</td>\n",
              "      <td>1.973508</td>\n",
              "      <td>0.437453</td>\n",
              "      <td>0.755676</td>\n",
              "      <td>2.011892</td>\n",
              "      <td>0.365010</td>\n",
              "      <td>...</td>\n",
              "      <td>0.987262</td>\n",
              "      <td>1.950920</td>\n",
              "      <td>0.387706</td>\n",
              "      <td>1.490932</td>\n",
              "      <td>1.948922</td>\n",
              "      <td>0.446617</td>\n",
              "      <td>0.876601</td>\n",
              "      <td>1.981672</td>\n",
              "      <td>0.369114</td>\n",
              "      <td>0.852629</td>\n",
              "    </tr>\n",
              "    <tr>\n",
              "      <th>2</th>\n",
              "      <td>1</td>\n",
              "      <td>0</td>\n",
              "      <td>1.992625</td>\n",
              "      <td>0.425210</td>\n",
              "      <td>1.279973</td>\n",
              "      <td>1.973413</td>\n",
              "      <td>0.437636</td>\n",
              "      <td>0.755659</td>\n",
              "      <td>2.011924</td>\n",
              "      <td>0.364982</td>\n",
              "      <td>...</td>\n",
              "      <td>0.987262</td>\n",
              "      <td>1.950889</td>\n",
              "      <td>0.387748</td>\n",
              "      <td>1.490893</td>\n",
              "      <td>1.948922</td>\n",
              "      <td>0.446617</td>\n",
              "      <td>0.876601</td>\n",
              "      <td>1.981635</td>\n",
              "      <td>0.369115</td>\n",
              "      <td>0.852607</td>\n",
              "    </tr>\n",
              "    <tr>\n",
              "      <th>3</th>\n",
              "      <td>1</td>\n",
              "      <td>0</td>\n",
              "      <td>1.992625</td>\n",
              "      <td>0.425210</td>\n",
              "      <td>1.279973</td>\n",
              "      <td>1.973401</td>\n",
              "      <td>0.437553</td>\n",
              "      <td>0.755719</td>\n",
              "      <td>2.011924</td>\n",
              "      <td>0.364982</td>\n",
              "      <td>...</td>\n",
              "      <td>0.987189</td>\n",
              "      <td>1.950890</td>\n",
              "      <td>0.387751</td>\n",
              "      <td>1.490888</td>\n",
              "      <td>1.948969</td>\n",
              "      <td>0.446691</td>\n",
              "      <td>0.876588</td>\n",
              "      <td>1.981635</td>\n",
              "      <td>0.369115</td>\n",
              "      <td>0.852607</td>\n",
              "    </tr>\n",
              "    <tr>\n",
              "      <th>4</th>\n",
              "      <td>1</td>\n",
              "      <td>0</td>\n",
              "      <td>1.992632</td>\n",
              "      <td>0.425229</td>\n",
              "      <td>1.279934</td>\n",
              "      <td>1.973369</td>\n",
              "      <td>0.437562</td>\n",
              "      <td>0.755736</td>\n",
              "      <td>2.011889</td>\n",
              "      <td>0.365046</td>\n",
              "      <td>...</td>\n",
              "      <td>0.987333</td>\n",
              "      <td>1.950858</td>\n",
              "      <td>0.387856</td>\n",
              "      <td>1.490928</td>\n",
              "      <td>1.948927</td>\n",
              "      <td>0.446597</td>\n",
              "      <td>0.876668</td>\n",
              "      <td>1.981622</td>\n",
              "      <td>0.369123</td>\n",
              "      <td>0.852658</td>\n",
              "    </tr>\n",
              "    <tr>\n",
              "      <th>...</th>\n",
              "      <td>...</td>\n",
              "      <td>...</td>\n",
              "      <td>...</td>\n",
              "      <td>...</td>\n",
              "      <td>...</td>\n",
              "      <td>...</td>\n",
              "      <td>...</td>\n",
              "      <td>...</td>\n",
              "      <td>...</td>\n",
              "      <td>...</td>\n",
              "      <td>...</td>\n",
              "      <td>...</td>\n",
              "      <td>...</td>\n",
              "      <td>...</td>\n",
              "      <td>...</td>\n",
              "      <td>...</td>\n",
              "      <td>...</td>\n",
              "      <td>...</td>\n",
              "      <td>...</td>\n",
              "      <td>...</td>\n",
              "      <td>...</td>\n",
              "    </tr>\n",
              "    <tr>\n",
              "      <th>545019</th>\n",
              "      <td>4</td>\n",
              "      <td>1</td>\n",
              "      <td>2.351949</td>\n",
              "      <td>0.486036</td>\n",
              "      <td>1.175989</td>\n",
              "      <td>2.368009</td>\n",
              "      <td>0.763792</td>\n",
              "      <td>0.866502</td>\n",
              "      <td>2.348979</td>\n",
              "      <td>0.458588</td>\n",
              "      <td>...</td>\n",
              "      <td>0.908098</td>\n",
              "      <td>2.263908</td>\n",
              "      <td>0.464522</td>\n",
              "      <td>1.363363</td>\n",
              "      <td>2.372775</td>\n",
              "      <td>0.674357</td>\n",
              "      <td>0.936961</td>\n",
              "      <td>2.318070</td>\n",
              "      <td>0.658706</td>\n",
              "      <td>0.885949</td>\n",
              "    </tr>\n",
              "    <tr>\n",
              "      <th>545020</th>\n",
              "      <td>4</td>\n",
              "      <td>1</td>\n",
              "      <td>2.352348</td>\n",
              "      <td>0.486431</td>\n",
              "      <td>1.176423</td>\n",
              "      <td>2.367721</td>\n",
              "      <td>0.770844</td>\n",
              "      <td>0.877116</td>\n",
              "      <td>2.349819</td>\n",
              "      <td>0.459776</td>\n",
              "      <td>...</td>\n",
              "      <td>0.910092</td>\n",
              "      <td>2.263741</td>\n",
              "      <td>0.464267</td>\n",
              "      <td>1.363323</td>\n",
              "      <td>2.373366</td>\n",
              "      <td>0.678242</td>\n",
              "      <td>0.944151</td>\n",
              "      <td>2.319581</td>\n",
              "      <td>0.663517</td>\n",
              "      <td>0.893081</td>\n",
              "    </tr>\n",
              "    <tr>\n",
              "      <th>545021</th>\n",
              "      <td>4</td>\n",
              "      <td>1</td>\n",
              "      <td>2.352611</td>\n",
              "      <td>0.486324</td>\n",
              "      <td>1.176770</td>\n",
              "      <td>2.367403</td>\n",
              "      <td>0.775071</td>\n",
              "      <td>0.886039</td>\n",
              "      <td>2.350357</td>\n",
              "      <td>0.460842</td>\n",
              "      <td>...</td>\n",
              "      <td>0.912359</td>\n",
              "      <td>2.263673</td>\n",
              "      <td>0.464244</td>\n",
              "      <td>1.363299</td>\n",
              "      <td>2.374037</td>\n",
              "      <td>0.681490</td>\n",
              "      <td>0.951311</td>\n",
              "      <td>2.318555</td>\n",
              "      <td>0.668783</td>\n",
              "      <td>0.899832</td>\n",
              "    </tr>\n",
              "    <tr>\n",
              "      <th>545022</th>\n",
              "      <td>4</td>\n",
              "      <td>1</td>\n",
              "      <td>2.353041</td>\n",
              "      <td>0.486655</td>\n",
              "      <td>1.177495</td>\n",
              "      <td>2.368389</td>\n",
              "      <td>0.781853</td>\n",
              "      <td>0.897178</td>\n",
              "      <td>2.351534</td>\n",
              "      <td>0.462360</td>\n",
              "      <td>...</td>\n",
              "      <td>0.914432</td>\n",
              "      <td>2.263593</td>\n",
              "      <td>0.464031</td>\n",
              "      <td>1.363404</td>\n",
              "      <td>2.374330</td>\n",
              "      <td>0.685317</td>\n",
              "      <td>0.958843</td>\n",
              "      <td>2.319584</td>\n",
              "      <td>0.673565</td>\n",
              "      <td>0.906695</td>\n",
              "    </tr>\n",
              "    <tr>\n",
              "      <th>545023</th>\n",
              "      <td>4</td>\n",
              "      <td>1</td>\n",
              "      <td>2.353433</td>\n",
              "      <td>0.486955</td>\n",
              "      <td>1.177971</td>\n",
              "      <td>2.367913</td>\n",
              "      <td>0.787165</td>\n",
              "      <td>0.906643</td>\n",
              "      <td>2.352080</td>\n",
              "      <td>0.463719</td>\n",
              "      <td>...</td>\n",
              "      <td>0.917093</td>\n",
              "      <td>2.263545</td>\n",
              "      <td>0.463991</td>\n",
              "      <td>1.363431</td>\n",
              "      <td>2.375105</td>\n",
              "      <td>0.688175</td>\n",
              "      <td>0.966435</td>\n",
              "      <td>2.319611</td>\n",
              "      <td>0.678290</td>\n",
              "      <td>0.913630</td>\n",
              "    </tr>\n",
              "  </tbody>\n",
              "</table>\n",
              "<p>545024 rows × 38 columns</p>\n",
              "</div>\n",
              "      <button class=\"colab-df-convert\" onclick=\"convertToInteractive('df-785d6789-d1d3-4969-8bcc-883abd6c1dad')\"\n",
              "              title=\"Convert this dataframe to an interactive table.\"\n",
              "              style=\"display:none;\">\n",
              "        \n",
              "  <svg xmlns=\"http://www.w3.org/2000/svg\" height=\"24px\"viewBox=\"0 0 24 24\"\n",
              "       width=\"24px\">\n",
              "    <path d=\"M0 0h24v24H0V0z\" fill=\"none\"/>\n",
              "    <path d=\"M18.56 5.44l.94 2.06.94-2.06 2.06-.94-2.06-.94-.94-2.06-.94 2.06-2.06.94zm-11 1L8.5 8.5l.94-2.06 2.06-.94-2.06-.94L8.5 2.5l-.94 2.06-2.06.94zm10 10l.94 2.06.94-2.06 2.06-.94-2.06-.94-.94-2.06-.94 2.06-2.06.94z\"/><path d=\"M17.41 7.96l-1.37-1.37c-.4-.4-.92-.59-1.43-.59-.52 0-1.04.2-1.43.59L10.3 9.45l-7.72 7.72c-.78.78-.78 2.05 0 2.83L4 21.41c.39.39.9.59 1.41.59.51 0 1.02-.2 1.41-.59l7.78-7.78 2.81-2.81c.8-.78.8-2.07 0-2.86zM5.41 20L4 18.59l7.72-7.72 1.47 1.35L5.41 20z\"/>\n",
              "  </svg>\n",
              "      </button>\n",
              "      \n",
              "  <style>\n",
              "    .colab-df-container {\n",
              "      display:flex;\n",
              "      flex-wrap:wrap;\n",
              "      gap: 12px;\n",
              "    }\n",
              "\n",
              "    .colab-df-convert {\n",
              "      background-color: #E8F0FE;\n",
              "      border: none;\n",
              "      border-radius: 50%;\n",
              "      cursor: pointer;\n",
              "      display: none;\n",
              "      fill: #1967D2;\n",
              "      height: 32px;\n",
              "      padding: 0 0 0 0;\n",
              "      width: 32px;\n",
              "    }\n",
              "\n",
              "    .colab-df-convert:hover {\n",
              "      background-color: #E2EBFA;\n",
              "      box-shadow: 0px 1px 2px rgba(60, 64, 67, 0.3), 0px 1px 3px 1px rgba(60, 64, 67, 0.15);\n",
              "      fill: #174EA6;\n",
              "    }\n",
              "\n",
              "    [theme=dark] .colab-df-convert {\n",
              "      background-color: #3B4455;\n",
              "      fill: #D2E3FC;\n",
              "    }\n",
              "\n",
              "    [theme=dark] .colab-df-convert:hover {\n",
              "      background-color: #434B5C;\n",
              "      box-shadow: 0px 1px 3px 1px rgba(0, 0, 0, 0.15);\n",
              "      filter: drop-shadow(0px 1px 2px rgba(0, 0, 0, 0.3));\n",
              "      fill: #FFFFFF;\n",
              "    }\n",
              "  </style>\n",
              "\n",
              "      <script>\n",
              "        const buttonEl =\n",
              "          document.querySelector('#df-785d6789-d1d3-4969-8bcc-883abd6c1dad button.colab-df-convert');\n",
              "        buttonEl.style.display =\n",
              "          google.colab.kernel.accessAllowed ? 'block' : 'none';\n",
              "\n",
              "        async function convertToInteractive(key) {\n",
              "          const element = document.querySelector('#df-785d6789-d1d3-4969-8bcc-883abd6c1dad');\n",
              "          const dataTable =\n",
              "            await google.colab.kernel.invokeFunction('convertToInteractive',\n",
              "                                                     [key], {});\n",
              "          if (!dataTable) return;\n",
              "\n",
              "          const docLinkHtml = 'Like what you see? Visit the ' +\n",
              "            '<a target=\"_blank\" href=https://colab.research.google.com/notebooks/data_table.ipynb>data table notebook</a>'\n",
              "            + ' to learn more about interactive tables.';\n",
              "          element.innerHTML = '';\n",
              "          dataTable['output_type'] = 'display_data';\n",
              "          await google.colab.output.renderOutput(dataTable, element);\n",
              "          const docLink = document.createElement('div');\n",
              "          docLink.innerHTML = docLinkHtml;\n",
              "          element.appendChild(docLink);\n",
              "        }\n",
              "      </script>\n",
              "    </div>\n",
              "  </div>\n",
              "  "
            ],
            "text/plain": [
              "        SUJETO   EJERCICIO       M1X       M1Y       M1Z      M10X      M10Y  \\\n",
              "0             1          0  1.992625  0.425210  1.279973  1.973502  0.437671   \n",
              "1             1          0  1.992595  0.425097  1.279844  1.973508  0.437453   \n",
              "2             1          0  1.992625  0.425210  1.279973  1.973413  0.437636   \n",
              "3             1          0  1.992625  0.425210  1.279973  1.973401  0.437553   \n",
              "4             1          0  1.992632  0.425229  1.279934  1.973369  0.437562   \n",
              "...         ...        ...       ...       ...       ...       ...       ...   \n",
              "545019        4          1  2.351949  0.486036  1.175989  2.368009  0.763792   \n",
              "545020        4          1  2.352348  0.486431  1.176423  2.367721  0.770844   \n",
              "545021        4          1  2.352611  0.486324  1.176770  2.367403  0.775071   \n",
              "545022        4          1  2.353041  0.486655  1.177495  2.368389  0.781853   \n",
              "545023        4          1  2.353433  0.486955  1.177971  2.367913  0.787165   \n",
              "\n",
              "            M10Z      M11X      M11Y  ...       M6Z       M7X       M7Y  \\\n",
              "0       0.755748  2.011979  0.364953  ...  0.987214  1.950921  0.387718   \n",
              "1       0.755676  2.011892  0.365010  ...  0.987262  1.950920  0.387706   \n",
              "2       0.755659  2.011924  0.364982  ...  0.987262  1.950889  0.387748   \n",
              "3       0.755719  2.011924  0.364982  ...  0.987189  1.950890  0.387751   \n",
              "4       0.755736  2.011889  0.365046  ...  0.987333  1.950858  0.387856   \n",
              "...          ...       ...       ...  ...       ...       ...       ...   \n",
              "545019  0.866502  2.348979  0.458588  ...  0.908098  2.263908  0.464522   \n",
              "545020  0.877116  2.349819  0.459776  ...  0.910092  2.263741  0.464267   \n",
              "545021  0.886039  2.350357  0.460842  ...  0.912359  2.263673  0.464244   \n",
              "545022  0.897178  2.351534  0.462360  ...  0.914432  2.263593  0.464031   \n",
              "545023  0.906643  2.352080  0.463719  ...  0.917093  2.263545  0.463991   \n",
              "\n",
              "             M7Z       M8X       M8Y       M8Z       M9X       M9Y       M9Z  \n",
              "0       1.490946  1.948927  0.446597  0.876668  1.981671  0.369144  0.852706  \n",
              "1       1.490932  1.948922  0.446617  0.876601  1.981672  0.369114  0.852629  \n",
              "2       1.490893  1.948922  0.446617  0.876601  1.981635  0.369115  0.852607  \n",
              "3       1.490888  1.948969  0.446691  0.876588  1.981635  0.369115  0.852607  \n",
              "4       1.490928  1.948927  0.446597  0.876668  1.981622  0.369123  0.852658  \n",
              "...          ...       ...       ...       ...       ...       ...       ...  \n",
              "545019  1.363363  2.372775  0.674357  0.936961  2.318070  0.658706  0.885949  \n",
              "545020  1.363323  2.373366  0.678242  0.944151  2.319581  0.663517  0.893081  \n",
              "545021  1.363299  2.374037  0.681490  0.951311  2.318555  0.668783  0.899832  \n",
              "545022  1.363404  2.374330  0.685317  0.958843  2.319584  0.673565  0.906695  \n",
              "545023  1.363431  2.375105  0.688175  0.966435  2.319611  0.678290  0.913630  \n",
              "\n",
              "[545024 rows x 38 columns]"
            ]
          },
          "execution_count": 2,
          "metadata": {},
          "output_type": "execute_result"
        }
      ],
      "source": [
        "#Read document\n",
        "import pandas as pd\n",
        "df=pd.read_excel('/content/drive/MyDrive/Datasets/Dataset 3/Photogrammetry Grouped')\n",
        "df"
      ]
    },
    {
      "cell_type": "markdown",
      "metadata": {
        "id": "L2VoazdSqCS_"
      },
      "source": [
        "## Dataset Information"
      ]
    },
    {
      "cell_type": "code",
      "execution_count": null,
      "metadata": {
        "colab": {
          "base_uri": "https://localhost:8080/"
        },
        "id": "NO3J4pjDwj9g",
        "outputId": "bccbbb89-0cec-469b-9815-5bef7c4c4976"
      },
      "outputs": [
        {
          "name": "stdout",
          "output_type": "stream",
          "text": [
            "<class 'pandas.core.frame.DataFrame'>\n",
            "RangeIndex: 545024 entries, 0 to 545023\n",
            "Data columns (total 38 columns):\n",
            " #   Column     Non-Null Count   Dtype  \n",
            "---  ------     --------------   -----  \n",
            " 0   SUJETO     545024 non-null  int64  \n",
            " 1   EJERCICIO  545024 non-null  int64  \n",
            " 2   M1X        545024 non-null  float64\n",
            " 3   M1Y        545024 non-null  float64\n",
            " 4   M1Z        545024 non-null  float64\n",
            " 5   M10X       545024 non-null  float64\n",
            " 6   M10Y       545024 non-null  float64\n",
            " 7   M10Z       545024 non-null  float64\n",
            " 8   M11X       545024 non-null  float64\n",
            " 9   M11Y       545024 non-null  float64\n",
            " 10  M11Z       545024 non-null  float64\n",
            " 11  M12X       545024 non-null  float64\n",
            " 12  M12Y       545024 non-null  float64\n",
            " 13  M12Z       545024 non-null  float64\n",
            " 14  M2X        545024 non-null  float64\n",
            " 15  M2Y        545024 non-null  float64\n",
            " 16  M2Z        545024 non-null  float64\n",
            " 17  M3X        545024 non-null  float64\n",
            " 18  M3Y        545024 non-null  float64\n",
            " 19  M3Z        545024 non-null  float64\n",
            " 20  M4X        545024 non-null  float64\n",
            " 21  M4Y        545024 non-null  float64\n",
            " 22  M4Z        545024 non-null  float64\n",
            " 23  M5X        545024 non-null  float64\n",
            " 24  M5Y        545024 non-null  float64\n",
            " 25  M5Z        545024 non-null  float64\n",
            " 26  M6X        545024 non-null  float64\n",
            " 27  M6Y        545024 non-null  float64\n",
            " 28  M6Z        545024 non-null  float64\n",
            " 29  M7X        545024 non-null  float64\n",
            " 30  M7Y        545024 non-null  float64\n",
            " 31  M7Z        545024 non-null  float64\n",
            " 32  M8X        545024 non-null  float64\n",
            " 33  M8Y        545024 non-null  float64\n",
            " 34  M8Z        545024 non-null  float64\n",
            " 35  M9X        545024 non-null  float64\n",
            " 36  M9Y        545024 non-null  float64\n",
            " 37  M9Z        545024 non-null  float64\n",
            "dtypes: float64(36), int64(2)\n",
            "memory usage: 158.0 MB\n"
          ]
        },
        {
          "data": {
            "text/plain": [
              "(545024, 38)"
            ]
          },
          "execution_count": 3,
          "metadata": {},
          "output_type": "execute_result"
        }
      ],
      "source": [
        "#Data information\n",
        "df.info()\n",
        "df.shape"
      ]
    },
    {
      "cell_type": "markdown",
      "metadata": {
        "id": "CJ_fSlPyqVyU"
      },
      "source": [
        "### Dataset information plot"
      ]
    },
    {
      "cell_type": "code",
      "execution_count": null,
      "metadata": {
        "colab": {
          "base_uri": "https://localhost:8080/",
          "height": 495
        },
        "id": "_B5O0l3t0NEj",
        "outputId": "427f8631-b3aa-4c36-a5a1-6dcc69e6cb58"
      },
      "outputs": [
        {
          "data": {
            "image/png": "[encoded data removed]",
            "text/plain": [
              "<Figure size 1008x576 with 1 Axes>"
            ]
          },
          "metadata": {
            "needs_background": "light"
          },
          "output_type": "display_data"
        }
      ],
      "source": [
        "#Readings per activity\n",
        "countOfActivities = df['EJERCICIO'].value_counts()\n",
        "countOfActivities.plot(kind='bar',title='Number of readings by Activity Type',figsize=(14,8),grid=True);"
      ]
    },
    {
      "cell_type": "code",
      "execution_count": null,
      "metadata": {
        "id": "x-6tgBb50-0t"
      },
      "outputs": [],
      "source": [
        "def plot_activity(activity,df,start=0,stop=200):\n",
        "  extractRowsOfActivity = (df['EJERCICIO'] == int(activity))  # Output will be true/false.\n",
        "  data = df[extractRowsOfActivity] # data has only rows that are for the requested activity.\n",
        "  data = data[['M1X', 'M1Y', 'M1Z', 'M2X', 'M2Y', 'M2Z', 'M3X', 'M3Y', 'M3Z', 'M4X', 'M4Y', 'M4Z', 'M5X', 'M5Y', 'M5Z', 'M6X', 'M6Y', 'M6Z', 'M7X', 'M7Y', 'M7Z', 'M8X', 'M8Y', 'M8Z', 'M9X', 'M9Y', 'M9Z', 'M10X', 'M10Y', 'M10Z', 'M11X', 'M11Y', 'M11Z', 'M12X', 'M12Y', 'M12Z']] # data has only the accelerometer columns.\n",
        "  data = data[start:stop]\n",
        "  \n",
        "  ax = data.plot(subplots=True,figsize=(16,12),title=activity+ ', Start Row: '+str(start)+' Stop row: '+str(stop)) # Plot accelerometer for the activity."
      ]
    },
    {
      "cell_type": "code",
      "execution_count": null,
      "metadata": {
        "colab": {
          "base_uri": "https://localhost:8080/",
          "height": 892
        },
        "id": "tke0KK7hf8_Y",
        "outputId": "d84236c6-53ee-4685-9d48-e006c09b0b00"
      },
      "outputs": [
        {
          "data": {
            "text/plain": [
              "array([<AxesSubplot:>, <AxesSubplot:>, <AxesSubplot:>, <AxesSubplot:>,\n",
              "       <AxesSubplot:>, <AxesSubplot:>, <AxesSubplot:>, <AxesSubplot:>,\n",
              "       <AxesSubplot:>, <AxesSubplot:>, <AxesSubplot:>, <AxesSubplot:>,\n",
              "       <AxesSubplot:>, <AxesSubplot:>, <AxesSubplot:>, <AxesSubplot:>,\n",
              "       <AxesSubplot:>, <AxesSubplot:>, <AxesSubplot:>, <AxesSubplot:>,\n",
              "       <AxesSubplot:>, <AxesSubplot:>, <AxesSubplot:>, <AxesSubplot:>,\n",
              "       <AxesSubplot:>, <AxesSubplot:>, <AxesSubplot:>, <AxesSubplot:>,\n",
              "       <AxesSubplot:>, <AxesSubplot:>, <AxesSubplot:>, <AxesSubplot:>,\n",
              "       <AxesSubplot:>, <AxesSubplot:>, <AxesSubplot:>, <AxesSubplot:>,\n",
              "       <AxesSubplot:>, <AxesSubplot:>], dtype=object)"
            ]
          },
          "execution_count": 6,
          "metadata": {},
          "output_type": "execute_result"
        },
        {
          "data": {
            "image/png": "[encoded data removed]",
            "text/plain": [
              "<Figure size 1152x864 with 38 Axes>"
            ]
          },
          "metadata": {
            "needs_background": "light"
          },
          "output_type": "display_data"
        }
      ],
      "source": [
        "df.plot(subplots=True,figsize=(16,12)) "
      ]
    },
    {
      "cell_type": "markdown",
      "metadata": {
        "id": "1Mol3Zm0qbnq"
      },
      "source": [
        "## Preprocessing\n",
        "\n",
        "- Normalizing the measurements to be between 0 and 1.\n",
        "- Transforming the measurements to be in a 3-D array of [samples, timesteps,features].\n",
        "- One hot encoding the activity names.\n",
        "- Breaking the 3-D array into a training and test dataset. "
      ]
    },
    {
      "cell_type": "markdown",
      "metadata": {
        "id": "S0ukz8gYsgdW"
      },
      "source": [
        "### Data Normalization"
      ]
    },
    {
      "cell_type": "code",
      "execution_count": null,
      "metadata": {
        "colab": {
          "base_uri": "https://localhost:8080/",
          "height": 393
        },
        "id": "goracH02EVY6",
        "outputId": "dc3b9ace-41b0-4ba8-fb9b-4a03c9067433"
      },
      "outputs": [
        {
          "data": {
            "text/html": [
              "\n",
              "  <div id=\"df-873c7111-89f4-40c6-aba3-8d4bdc6d2fc9\">\n",
              "    <div class=\"colab-df-container\">\n",
              "      <div>\n",
              "<style scoped>\n",
              "    .dataframe tbody tr th:only-of-type {\n",
              "        vertical-align: middle;\n",
              "    }\n",
              "\n",
              "    .dataframe tbody tr th {\n",
              "        vertical-align: top;\n",
              "    }\n",
              "\n",
              "    .dataframe thead th {\n",
              "        text-align: right;\n",
              "    }\n",
              "</style>\n",
              "<table border=\"1\" class=\"dataframe\">\n",
              "  <thead>\n",
              "    <tr style=\"text-align: right;\">\n",
              "      <th></th>\n",
              "      <th>SUJETO</th>\n",
              "      <th>EJERCICIO</th>\n",
              "      <th>M1X</th>\n",
              "      <th>M1Y</th>\n",
              "      <th>M1Z</th>\n",
              "      <th>M10X</th>\n",
              "      <th>M10Y</th>\n",
              "      <th>M10Z</th>\n",
              "      <th>M11X</th>\n",
              "      <th>M11Y</th>\n",
              "      <th>...</th>\n",
              "      <th>M9Z_mms</th>\n",
              "      <th>M10X_mms</th>\n",
              "      <th>M10Y_mms</th>\n",
              "      <th>M10Z_mms</th>\n",
              "      <th>M11X_mms</th>\n",
              "      <th>M11Y_mms</th>\n",
              "      <th>M11Z_mms</th>\n",
              "      <th>M12X_mms</th>\n",
              "      <th>M12Y_mms</th>\n",
              "      <th>M12Z_mms</th>\n",
              "    </tr>\n",
              "  </thead>\n",
              "  <tbody>\n",
              "    <tr>\n",
              "      <th>count</th>\n",
              "      <td>545024.00</td>\n",
              "      <td>545024.00</td>\n",
              "      <td>545024.00</td>\n",
              "      <td>545024.00</td>\n",
              "      <td>545024.00</td>\n",
              "      <td>545024.00</td>\n",
              "      <td>545024.00</td>\n",
              "      <td>545024.00</td>\n",
              "      <td>545024.00</td>\n",
              "      <td>545024.00</td>\n",
              "      <td>...</td>\n",
              "      <td>545024.00</td>\n",
              "      <td>545024.00</td>\n",
              "      <td>545024.00</td>\n",
              "      <td>545024.00</td>\n",
              "      <td>545024.00</td>\n",
              "      <td>545024.00</td>\n",
              "      <td>545024.00</td>\n",
              "      <td>545024.00</td>\n",
              "      <td>545024.00</td>\n",
              "      <td>545024.00</td>\n",
              "    </tr>\n",
              "    <tr>\n",
              "      <th>mean</th>\n",
              "      <td>5.50</td>\n",
              "      <td>3.46</td>\n",
              "      <td>1.96</td>\n",
              "      <td>0.66</td>\n",
              "      <td>1.32</td>\n",
              "      <td>2.07</td>\n",
              "      <td>0.89</td>\n",
              "      <td>1.12</td>\n",
              "      <td>2.00</td>\n",
              "      <td>0.65</td>\n",
              "      <td>...</td>\n",
              "      <td>0.37</td>\n",
              "      <td>0.47</td>\n",
              "      <td>0.53</td>\n",
              "      <td>0.39</td>\n",
              "      <td>0.51</td>\n",
              "      <td>0.45</td>\n",
              "      <td>0.33</td>\n",
              "      <td>0.46</td>\n",
              "      <td>0.41</td>\n",
              "      <td>0.31</td>\n",
              "    </tr>\n",
              "    <tr>\n",
              "      <th>std</th>\n",
              "      <td>2.87</td>\n",
              "      <td>1.74</td>\n",
              "      <td>0.28</td>\n",
              "      <td>0.20</td>\n",
              "      <td>0.11</td>\n",
              "      <td>0.33</td>\n",
              "      <td>0.28</td>\n",
              "      <td>0.23</td>\n",
              "      <td>0.29</td>\n",
              "      <td>0.23</td>\n",
              "      <td>...</td>\n",
              "      <td>0.18</td>\n",
              "      <td>0.19</td>\n",
              "      <td>0.18</td>\n",
              "      <td>0.19</td>\n",
              "      <td>0.22</td>\n",
              "      <td>0.21</td>\n",
              "      <td>0.21</td>\n",
              "      <td>0.23</td>\n",
              "      <td>0.22</td>\n",
              "      <td>0.20</td>\n",
              "    </tr>\n",
              "    <tr>\n",
              "      <th>min</th>\n",
              "      <td>1.00</td>\n",
              "      <td>0.00</td>\n",
              "      <td>1.37</td>\n",
              "      <td>0.24</td>\n",
              "      <td>1.13</td>\n",
              "      <td>1.27</td>\n",
              "      <td>0.06</td>\n",
              "      <td>0.65</td>\n",
              "      <td>1.31</td>\n",
              "      <td>0.17</td>\n",
              "      <td>...</td>\n",
              "      <td>0.00</td>\n",
              "      <td>0.00</td>\n",
              "      <td>0.00</td>\n",
              "      <td>0.00</td>\n",
              "      <td>0.00</td>\n",
              "      <td>0.00</td>\n",
              "      <td>0.00</td>\n",
              "      <td>0.00</td>\n",
              "      <td>0.00</td>\n",
              "      <td>0.00</td>\n",
              "    </tr>\n",
              "    <tr>\n",
              "      <th>25%</th>\n",
              "      <td>3.00</td>\n",
              "      <td>2.00</td>\n",
              "      <td>1.65</td>\n",
              "      <td>0.50</td>\n",
              "      <td>1.25</td>\n",
              "      <td>1.83</td>\n",
              "      <td>0.68</td>\n",
              "      <td>0.95</td>\n",
              "      <td>1.71</td>\n",
              "      <td>0.48</td>\n",
              "      <td>...</td>\n",
              "      <td>0.22</td>\n",
              "      <td>0.33</td>\n",
              "      <td>0.39</td>\n",
              "      <td>0.24</td>\n",
              "      <td>0.30</td>\n",
              "      <td>0.29</td>\n",
              "      <td>0.18</td>\n",
              "      <td>0.24</td>\n",
              "      <td>0.24</td>\n",
              "      <td>0.18</td>\n",
              "    </tr>\n",
              "    <tr>\n",
              "      <th>50%</th>\n",
              "      <td>6.00</td>\n",
              "      <td>3.00</td>\n",
              "      <td>2.00</td>\n",
              "      <td>0.63</td>\n",
              "      <td>1.31</td>\n",
              "      <td>2.04</td>\n",
              "      <td>0.90</td>\n",
              "      <td>1.13</td>\n",
              "      <td>2.03</td>\n",
              "      <td>0.63</td>\n",
              "      <td>...</td>\n",
              "      <td>0.35</td>\n",
              "      <td>0.45</td>\n",
              "      <td>0.54</td>\n",
              "      <td>0.39</td>\n",
              "      <td>0.54</td>\n",
              "      <td>0.42</td>\n",
              "      <td>0.29</td>\n",
              "      <td>0.48</td>\n",
              "      <td>0.40</td>\n",
              "      <td>0.26</td>\n",
              "    </tr>\n",
              "    <tr>\n",
              "      <th>75%</th>\n",
              "      <td>8.00</td>\n",
              "      <td>5.00</td>\n",
              "      <td>2.20</td>\n",
              "      <td>0.76</td>\n",
              "      <td>1.39</td>\n",
              "      <td>2.30</td>\n",
              "      <td>1.07</td>\n",
              "      <td>1.30</td>\n",
              "      <td>2.24</td>\n",
              "      <td>0.81</td>\n",
              "      <td>...</td>\n",
              "      <td>0.50</td>\n",
              "      <td>0.60</td>\n",
              "      <td>0.64</td>\n",
              "      <td>0.53</td>\n",
              "      <td>0.69</td>\n",
              "      <td>0.59</td>\n",
              "      <td>0.47</td>\n",
              "      <td>0.65</td>\n",
              "      <td>0.53</td>\n",
              "      <td>0.44</td>\n",
              "    </tr>\n",
              "    <tr>\n",
              "      <th>max</th>\n",
              "      <td>10.00</td>\n",
              "      <td>6.00</td>\n",
              "      <td>2.59</td>\n",
              "      <td>1.10</td>\n",
              "      <td>1.65</td>\n",
              "      <td>2.98</td>\n",
              "      <td>1.63</td>\n",
              "      <td>1.87</td>\n",
              "      <td>2.65</td>\n",
              "      <td>1.25</td>\n",
              "      <td>...</td>\n",
              "      <td>1.00</td>\n",
              "      <td>1.00</td>\n",
              "      <td>1.00</td>\n",
              "      <td>1.00</td>\n",
              "      <td>1.00</td>\n",
              "      <td>1.00</td>\n",
              "      <td>1.00</td>\n",
              "      <td>1.00</td>\n",
              "      <td>1.00</td>\n",
              "      <td>1.00</td>\n",
              "    </tr>\n",
              "  </tbody>\n",
              "</table>\n",
              "<p>8 rows × 74 columns</p>\n",
              "</div>\n",
              "      <button class=\"colab-df-convert\" onclick=\"convertToInteractive('df-873c7111-89f4-40c6-aba3-8d4bdc6d2fc9')\"\n",
              "              title=\"Convert this dataframe to an interactive table.\"\n",
              "              style=\"display:none;\">\n",
              "        \n",
              "  <svg xmlns=\"http://www.w3.org/2000/svg\" height=\"24px\"viewBox=\"0 0 24 24\"\n",
              "       width=\"24px\">\n",
              "    <path d=\"M0 0h24v24H0V0z\" fill=\"none\"/>\n",
              "    <path d=\"M18.56 5.44l.94 2.06.94-2.06 2.06-.94-2.06-.94-.94-2.06-.94 2.06-2.06.94zm-11 1L8.5 8.5l.94-2.06 2.06-.94-2.06-.94L8.5 2.5l-.94 2.06-2.06.94zm10 10l.94 2.06.94-2.06 2.06-.94-2.06-.94-.94-2.06-.94 2.06-2.06.94z\"/><path d=\"M17.41 7.96l-1.37-1.37c-.4-.4-.92-.59-1.43-.59-.52 0-1.04.2-1.43.59L10.3 9.45l-7.72 7.72c-.78.78-.78 2.05 0 2.83L4 21.41c.39.39.9.59 1.41.59.51 0 1.02-.2 1.41-.59l7.78-7.78 2.81-2.81c.8-.78.8-2.07 0-2.86zM5.41 20L4 18.59l7.72-7.72 1.47 1.35L5.41 20z\"/>\n",
              "  </svg>\n",
              "      </button>\n",
              "      \n",
              "  <style>\n",
              "    .colab-df-container {\n",
              "      display:flex;\n",
              "      flex-wrap:wrap;\n",
              "      gap: 12px;\n",
              "    }\n",
              "\n",
              "    .colab-df-convert {\n",
              "      background-color: #E8F0FE;\n",
              "      border: none;\n",
              "      border-radius: 50%;\n",
              "      cursor: pointer;\n",
              "      display: none;\n",
              "      fill: #1967D2;\n",
              "      height: 32px;\n",
              "      padding: 0 0 0 0;\n",
              "      width: 32px;\n",
              "    }\n",
              "\n",
              "    .colab-df-convert:hover {\n",
              "      background-color: #E2EBFA;\n",
              "      box-shadow: 0px 1px 2px rgba(60, 64, 67, 0.3), 0px 1px 3px 1px rgba(60, 64, 67, 0.15);\n",
              "      fill: #174EA6;\n",
              "    }\n",
              "\n",
              "    [theme=dark] .colab-df-convert {\n",
              "      background-color: #3B4455;\n",
              "      fill: #D2E3FC;\n",
              "    }\n",
              "\n",
              "    [theme=dark] .colab-df-convert:hover {\n",
              "      background-color: #434B5C;\n",
              "      box-shadow: 0px 1px 3px 1px rgba(0, 0, 0, 0.15);\n",
              "      filter: drop-shadow(0px 1px 2px rgba(0, 0, 0, 0.3));\n",
              "      fill: #FFFFFF;\n",
              "    }\n",
              "  </style>\n",
              "\n",
              "      <script>\n",
              "        const buttonEl =\n",
              "          document.querySelector('#df-873c7111-89f4-40c6-aba3-8d4bdc6d2fc9 button.colab-df-convert');\n",
              "        buttonEl.style.display =\n",
              "          google.colab.kernel.accessAllowed ? 'block' : 'none';\n",
              "\n",
              "        async function convertToInteractive(key) {\n",
              "          const element = document.querySelector('#df-873c7111-89f4-40c6-aba3-8d4bdc6d2fc9');\n",
              "          const dataTable =\n",
              "            await google.colab.kernel.invokeFunction('convertToInteractive',\n",
              "                                                     [key], {});\n",
              "          if (!dataTable) return;\n",
              "\n",
              "          const docLinkHtml = 'Like what you see? Visit the ' +\n",
              "            '<a target=\"_blank\" href=https://colab.research.google.com/notebooks/data_table.ipynb>data table notebook</a>'\n",
              "            + ' to learn more about interactive tables.';\n",
              "          element.innerHTML = '';\n",
              "          dataTable['output_type'] = 'display_data';\n",
              "          await google.colab.output.renderOutput(dataTable, element);\n",
              "          const docLink = document.createElement('div');\n",
              "          docLink.innerHTML = docLinkHtml;\n",
              "          element.appendChild(docLink);\n",
              "        }\n",
              "      </script>\n",
              "    </div>\n",
              "  </div>\n",
              "  "
            ],
            "text/plain": [
              "         SUJETO   EJERCICIO        M1X        M1Y        M1Z       M10X  \\\n",
              "count  545024.00  545024.00  545024.00  545024.00  545024.00  545024.00   \n",
              "mean        5.50       3.46       1.96       0.66       1.32       2.07   \n",
              "std         2.87       1.74       0.28       0.20       0.11       0.33   \n",
              "min         1.00       0.00       1.37       0.24       1.13       1.27   \n",
              "25%         3.00       2.00       1.65       0.50       1.25       1.83   \n",
              "50%         6.00       3.00       2.00       0.63       1.31       2.04   \n",
              "75%         8.00       5.00       2.20       0.76       1.39       2.30   \n",
              "max        10.00       6.00       2.59       1.10       1.65       2.98   \n",
              "\n",
              "            M10Y       M10Z       M11X       M11Y  ...    M9Z_mms   M10X_mms  \\\n",
              "count  545024.00  545024.00  545024.00  545024.00  ...  545024.00  545024.00   \n",
              "mean        0.89       1.12       2.00       0.65  ...       0.37       0.47   \n",
              "std         0.28       0.23       0.29       0.23  ...       0.18       0.19   \n",
              "min         0.06       0.65       1.31       0.17  ...       0.00       0.00   \n",
              "25%         0.68       0.95       1.71       0.48  ...       0.22       0.33   \n",
              "50%         0.90       1.13       2.03       0.63  ...       0.35       0.45   \n",
              "75%         1.07       1.30       2.24       0.81  ...       0.50       0.60   \n",
              "max         1.63       1.87       2.65       1.25  ...       1.00       1.00   \n",
              "\n",
              "        M10Y_mms   M10Z_mms   M11X_mms   M11Y_mms   M11Z_mms   M12X_mms  \\\n",
              "count  545024.00  545024.00  545024.00  545024.00  545024.00  545024.00   \n",
              "mean        0.53       0.39       0.51       0.45       0.33       0.46   \n",
              "std         0.18       0.19       0.22       0.21       0.21       0.23   \n",
              "min         0.00       0.00       0.00       0.00       0.00       0.00   \n",
              "25%         0.39       0.24       0.30       0.29       0.18       0.24   \n",
              "50%         0.54       0.39       0.54       0.42       0.29       0.48   \n",
              "75%         0.64       0.53       0.69       0.59       0.47       0.65   \n",
              "max         1.00       1.00       1.00       1.00       1.00       1.00   \n",
              "\n",
              "        M12Y_mms   M12Z_mms  \n",
              "count  545024.00  545024.00  \n",
              "mean        0.41       0.31  \n",
              "std         0.22       0.20  \n",
              "min         0.00       0.00  \n",
              "25%         0.24       0.18  \n",
              "50%         0.40       0.26  \n",
              "75%         0.53       0.44  \n",
              "max         1.00       1.00  \n",
              "\n",
              "[8 rows x 74 columns]"
            ]
          },
          "execution_count": 9,
          "metadata": {},
          "output_type": "execute_result"
        }
      ],
      "source": [
        "from sklearn.preprocessing import MinMaxScaler\n",
        "mms = MinMaxScaler()\n",
        "df['M1X_mms'] = mms.fit_transform(df[['M1Y']])\n",
        "df['M1Y_mms'] = mms.fit_transform(df[['M1Y']])\n",
        "df['M1Z_mms'] = mms.fit_transform(df[['M1Z']])\n",
        "\n",
        "df['M2X_mms'] = mms.fit_transform(df[['M2X']])\n",
        "df['M2Y_mms'] = mms.fit_transform(df[['M2Y']])\n",
        "df['M2Z_mms'] = mms.fit_transform(df[['M2Z']])\n",
        "\n",
        "df['M3X_mms'] = mms.fit_transform(df[['M3X']])\n",
        "df['M3Y_mms'] = mms.fit_transform(df[['M3Y']])\n",
        "df['M3Z_mms'] = mms.fit_transform(df[['M3Z']])\n",
        "\n",
        "df['M4X_mms'] = mms.fit_transform(df[['M4X']])\n",
        "df['M4Y_mms'] = mms.fit_transform(df[['M4Y']])\n",
        "df['M4Z_mms'] = mms.fit_transform(df[['M4Z']])\n",
        "\n",
        "df['M5X_mms'] = mms.fit_transform(df[['M5X']])\n",
        "df['M5Y_mms'] = mms.fit_transform(df[['M5Y']])\n",
        "df['M5Z_mms'] = mms.fit_transform(df[['M5Z']])\n",
        "\n",
        "df['M6X_mms'] = mms.fit_transform(df[['M6X']])\n",
        "df['M6Y_mms'] = mms.fit_transform(df[['M6Y']])\n",
        "df['M6Z_mms'] = mms.fit_transform(df[['M6Z']])\n",
        "\n",
        "df['M7X_mms'] = mms.fit_transform(df[['M7X']])\n",
        "df['M7Y_mms'] = mms.fit_transform(df[['M7Y']])\n",
        "df['M7Z_mms'] = mms.fit_transform(df[['M7Z']])\n",
        "\n",
        "df['M8X_mms'] = mms.fit_transform(df[['M8X']])\n",
        "df['M8Y_mms'] = mms.fit_transform(df[['M8Y']])\n",
        "df['M8Z_mms'] = mms.fit_transform(df[['M8Z']])\n",
        "\n",
        "df['M9X_mms'] = mms.fit_transform(df[['M9X']])\n",
        "df['M9Y_mms'] = mms.fit_transform(df[['M9Y']])\n",
        "df['M9Z_mms'] = mms.fit_transform(df[['M9Z']])\n",
        "\n",
        "df['M10X_mms'] = mms.fit_transform(df[['M10X']])\n",
        "df['M10Y_mms'] = mms.fit_transform(df[['M10Y']])\n",
        "df['M10Z_mms'] = mms.fit_transform(df[['M10Z']])\n",
        "\n",
        "df['M11X_mms'] = mms.fit_transform(df[['M11X']])\n",
        "df['M11Y_mms'] = mms.fit_transform(df[['M11Y']])\n",
        "df['M11Z_mms'] = mms.fit_transform(df[['M11Z']])\n",
        "\n",
        "df['M12X_mms'] = mms.fit_transform(df[['M12X']])\n",
        "df['M12Y_mms'] = mms.fit_transform(df[['M12Y']])\n",
        "df['M12Z_mms'] = mms.fit_transform(df[['M12Z']])\n",
        "\n",
        "df.describe().round(2)"
      ]
    },
    {
      "cell_type": "markdown",
      "metadata": {
        "id": "OnWx0M5js87G"
      },
      "source": [
        "### Transformation of dimensions as a 3D array\n",
        "\n",
        "Considering the size of the dataset, a number of samples of 200 was considered enough to have good training and test sets"
      ]
    },
    {
      "cell_type": "code",
      "execution_count": null,
      "metadata": {
        "colab": {
          "base_uri": "https://localhost:8080/"
        },
        "id": "f8yjyIL85z7i",
        "outputId": "0815cef4-3738-484c-d6b1-bfeceea3f46c"
      },
      "outputs": [
        {
          "name": "stderr",
          "output_type": "stream",
          "text": [
            "<ipython-input-10-453b761f92c5>:56: FutureWarning: Unlike other reduction functions (e.g. `skew`, `kurtosis`), the default behavior of `mode` typically preserves the axis it acts along. In SciPy 1.11.0, this behavior will change: the default value of `keepdims` will become False, the `axis` over which the statistic is taken will be eliminated, and the value None will no longer be accepted. Set `keepdims` to True or False to avoid this warning.\n",
            "  label = stats.mode(df['EJERCICIO'][i:i+nSamplesInEach])\n"
          ]
        },
        {
          "data": {
            "text/plain": [
              "(5450, 36, 100)"
            ]
          },
          "execution_count": 10,
          "metadata": {},
          "output_type": "execute_result"
        }
      ],
      "source": [
        "import numpy as np\n",
        "from scipy import stats\n",
        "nSamplesInEach = 100\n",
        "nFeatures = 36\n",
        "samples = []\n",
        "labels = []\n",
        "for i in range(0,len(df)-nSamplesInEach,nSamplesInEach):\n",
        "  m1x = df['M1X_mms'].values[i:i+nSamplesInEach]\n",
        "  m1y = df['M1Y_mms'].values[i:i+nSamplesInEach]\n",
        "  m1z = df['M1Z_mms'].values[i:i+nSamplesInEach]\n",
        "\n",
        "  m2x = df['M2X_mms'].values[i:i+nSamplesInEach]\n",
        "  m2y = df['M2Y_mms'].values[i:i+nSamplesInEach]\n",
        "  m2z = df['M2Z_mms'].values[i:i+nSamplesInEach]\n",
        "\n",
        "  m3x = df['M3X_mms'].values[i:i+nSamplesInEach]\n",
        "  m3y = df['M3Y_mms'].values[i:i+nSamplesInEach]\n",
        "  m3z = df['M3Z_mms'].values[i:i+nSamplesInEach]\n",
        "\n",
        "  m4x = df['M4X_mms'].values[i:i+nSamplesInEach]\n",
        "  m4y = df['M4Y_mms'].values[i:i+nSamplesInEach]\n",
        "  m4z = df['M4Z_mms'].values[i:i+nSamplesInEach]\n",
        "\n",
        "  m5x = df['M5X_mms'].values[i:i+nSamplesInEach]\n",
        "  m5y = df['M5Y_mms'].values[i:i+nSamplesInEach]\n",
        "  m5z = df['M5Z_mms'].values[i:i+nSamplesInEach]\n",
        "\n",
        "  m6x = df['M6X_mms'].values[i:i+nSamplesInEach]\n",
        "  m6y = df['M6Y_mms'].values[i:i+nSamplesInEach]\n",
        "  m6z = df['M6Z_mms'].values[i:i+nSamplesInEach]\n",
        "\n",
        "  m7x = df['M7X_mms'].values[i:i+nSamplesInEach]\n",
        "  m7y = df['M7Y_mms'].values[i:i+nSamplesInEach]\n",
        "  m7z = df['M7Z_mms'].values[i:i+nSamplesInEach]\n",
        "\n",
        "  m8x = df['M8X_mms'].values[i:i+nSamplesInEach]\n",
        "  m8y = df['M8Y_mms'].values[i:i+nSamplesInEach]\n",
        "  m8z = df['M8Z_mms'].values[i:i+nSamplesInEach]\n",
        "\n",
        "  m9x = df['M9X_mms'].values[i:i+nSamplesInEach]\n",
        "  m9y = df['M9Y_mms'].values[i:i+nSamplesInEach]\n",
        "  m9z = df['M9Z_mms'].values[i:i+nSamplesInEach]\n",
        "\n",
        "  m10x = df['M10X_mms'].values[i:i+nSamplesInEach]\n",
        "  m10y = df['M10Y_mms'].values[i:i+nSamplesInEach]\n",
        "  m10z = df['M10Z_mms'].values[i:i+nSamplesInEach]\n",
        "\n",
        "  m11x = df['M11X_mms'].values[i:i+nSamplesInEach]\n",
        "  m11y = df['M11Y_mms'].values[i:i+nSamplesInEach]\n",
        "  m11z = df['M11Z_mms'].values[i:i+nSamplesInEach]\n",
        "\n",
        "  m12x = df['M12X_mms'].values[i:i+nSamplesInEach]\n",
        "  m12y = df['M12Y_mms'].values[i:i+nSamplesInEach]\n",
        "  m12z = df['M12Z_mms'].values[i:i+nSamplesInEach]\n",
        "\n",
        "  label = stats.mode(df['EJERCICIO'][i:i+nSamplesInEach])\n",
        "  label = label[0][0]\n",
        "\n",
        "  samples.append([m1x, m1y, m1z, m2x, m2y, m2z, m3x, m3y, m3z, m4x, m4y, m4z, m5x, m5y, m5z, m6x, m6y, m6z, m7x, m7y, m7z, m8x, m8y, m8z, m9x, m9y, m9z, m10x, m10y, m10z, m11x, m11y, m11z, m12x, m12y, m12z])\n",
        "  labels.append(label)\n",
        "\n",
        "np.array(samples).shape"
      ]
    },
    {
      "cell_type": "markdown",
      "metadata": {
        "id": "IGf2MHB6vCcM"
      },
      "source": [
        "### Reshape\n",
        "\n",
        "This is necessary so that the dimensions of the tensor are in the correct order, that is, to change the shape from (samples, features, timesteps) to (samples, timesteps, features)."
      ]
    },
    {
      "cell_type": "code",
      "execution_count": null,
      "metadata": {
        "colab": {
          "base_uri": "https://localhost:8080/"
        },
        "id": "MzFDbedY-wA9",
        "outputId": "4aaeeff3-6548-4143-ad62-bdaa49fd90bd"
      },
      "outputs": [
        {
          "data": {
            "text/plain": [
              "(5450, 100, 36)"
            ]
          },
          "execution_count": 11,
          "metadata": {},
          "output_type": "execute_result"
        }
      ],
      "source": [
        "reshaped_s = np.array(samples).reshape(-1,nSamplesInEach,nFeatures)\n",
        "np.array(reshaped_s).shape"
      ]
    },
    {
      "cell_type": "code",
      "execution_count": null,
      "metadata": {
        "colab": {
          "base_uri": "https://localhost:8080/"
        },
        "id": "TaNfAMNcn-qx",
        "outputId": "cb529435-dae7-4341-953b-129d4cf8e94f"
      },
      "outputs": [
        {
          "name": "stdout",
          "output_type": "stream",
          "text": [
            "5450\n"
          ]
        }
      ],
      "source": [
        "# Length of dataset after preprocessing\n",
        "print(len(reshaped_s))"
      ]
    },
    {
      "cell_type": "markdown",
      "metadata": {
        "id": "SUWPHVKCvYx0"
      },
      "source": [
        "### Label Encoding\n",
        "\n",
        "To make training easier, the labels are encoded to binary values, which are easier to process and map in a neural network."
      ]
    },
    {
      "cell_type": "code",
      "execution_count": null,
      "metadata": {
        "colab": {
          "base_uri": "https://localhost:8080/"
        },
        "id": "Ze4AqFLn_D_s",
        "outputId": "ef4e9e64-4f03-46a8-cffb-8f75e3a158aa"
      },
      "outputs": [
        {
          "name": "stdout",
          "output_type": "stream",
          "text": [
            "[0, 1, 2, 3, 4, 5, 6]\n"
          ]
        },
        {
          "data": {
            "text/plain": [
              "[0, 0, 0, 0, 0, 1, 1, 1, 1, 1]"
            ]
          },
          "execution_count": 13,
          "metadata": {},
          "output_type": "execute_result"
        }
      ],
      "source": [
        "#Labels \n",
        "orig_labels = list(dict.fromkeys(labels)) # Get unique labels\n",
        "print(orig_labels)\n",
        "labels[:10]"
      ]
    },
    {
      "cell_type": "code",
      "execution_count": null,
      "metadata": {
        "colab": {
          "base_uri": "https://localhost:8080/"
        },
        "id": "7XZQ_MYKAX4Y",
        "outputId": "20db782d-7445-45d4-8749-7191bbb0e674"
      },
      "outputs": [
        {
          "data": {
            "text/plain": [
              "array([[1, 0, 0, 0, 0, 0, 0],\n",
              "       [1, 0, 0, 0, 0, 0, 0],\n",
              "       [1, 0, 0, 0, 0, 0, 0],\n",
              "       [1, 0, 0, 0, 0, 0, 0],\n",
              "       [1, 0, 0, 0, 0, 0, 0],\n",
              "       [0, 1, 0, 0, 0, 0, 0],\n",
              "       [0, 1, 0, 0, 0, 0, 0],\n",
              "       [0, 1, 0, 0, 0, 0, 0],\n",
              "       [0, 1, 0, 0, 0, 0, 0],\n",
              "       [0, 1, 0, 0, 0, 0, 0]], dtype=uint8)"
            ]
          },
          "execution_count": 14,
          "metadata": {},
          "output_type": "execute_result"
        }
      ],
      "source": [
        "labels = np.array(pd.get_dummies(labels))\n",
        "labels[:10]"
      ]
    },
    {
      "cell_type": "code",
      "execution_count": null,
      "metadata": {
        "colab": {
          "base_uri": "https://localhost:8080/"
        },
        "id": "bZ25WYUhm8eF",
        "outputId": "de3c2602-12ef-4ef7-b16e-1139ee0c12ef"
      },
      "outputs": [
        {
          "name": "stdout",
          "output_type": "stream",
          "text": [
            "[[1 0 0 0 0 0 0]\n",
            " [0 1 0 0 0 0 0]\n",
            " [0 0 1 0 0 0 0]\n",
            " [0 0 0 1 0 0 0]\n",
            " [0 0 0 0 1 0 0]\n",
            " [0 0 0 0 0 1 0]\n",
            " [0 0 0 0 0 0 1]]\n"
          ]
        }
      ],
      "source": [
        "# Identify unique encoded labels\n",
        "_, idx = np.unique(labels, axis=0, return_index=True)\n",
        "encoded_labels = labels[np.sort(idx)]\n",
        "print(encoded_labels)"
      ]
    },
    {
      "cell_type": "code",
      "execution_count": null,
      "metadata": {
        "colab": {
          "base_uri": "https://localhost:8080/"
        },
        "id": "MRIHpOXZAc8y",
        "outputId": "aa987c9e-e214-4d9f-d905-45f8be83146e"
      },
      "outputs": [
        {
          "data": {
            "text/plain": [
              "(5450, 7)"
            ]
          },
          "execution_count": 16,
          "metadata": {},
          "output_type": "execute_result"
        }
      ],
      "source": [
        "# Shape of the label list\n",
        "labels.shape"
      ]
    },
    {
      "cell_type": "markdown",
      "metadata": {
        "id": "TKM_Zwr9Hpiv"
      },
      "source": [
        "## Creation of training and testing splits\n",
        "\n"
      ]
    },
    {
      "cell_type": "code",
      "execution_count": null,
      "metadata": {
        "colab": {
          "base_uri": "https://localhost:8080/"
        },
        "id": "VdH2mfCOLO8w",
        "outputId": "e31eb38e-65ed-4a9a-e43e-f22e912e997b"
      },
      "outputs": [
        {
          "data": {
            "text/plain": [
              "3488"
            ]
          },
          "execution_count": 17,
          "metadata": {},
          "output_type": "execute_result"
        }
      ],
      "source": [
        "#Training and Test Data\n",
        "#Split into Train and Test Data sets\n",
        "#We'll use 80% of the measurements for training, 20% of that will go to validation.\n",
        "#20% of the set will be destined to testing\n",
        "\n",
        "from sklearn.model_selection import train_test_split\n",
        "X, X_test, Y, Y_test = train_test_split(reshaped_s, labels, test_size=.2,random_state=4)\n",
        "X_train, X_val, Y_train, Y_val = train_test_split(X, Y, test_size=.2,random_state=4)\n",
        "len(X_train)"
      ]
    },
    {
      "cell_type": "code",
      "execution_count": null,
      "metadata": {
        "colab": {
          "base_uri": "https://localhost:8080/"
        },
        "id": "XmXgNZlXDUt1",
        "outputId": "b212f3d6-af34-4280-d415-3d217456b8b0"
      },
      "outputs": [
        {
          "data": {
            "text/plain": [
              "1090"
            ]
          },
          "execution_count": 18,
          "metadata": {},
          "output_type": "execute_result"
        }
      ],
      "source": [
        "len(X_test)"
      ]
    },
    {
      "cell_type": "markdown",
      "metadata": {
        "id": "HHCSYTOtpQIe"
      },
      "source": [
        "### Samples per Class\n",
        "\n",
        "Count of samples for each class for training and testing"
      ]
    },
    {
      "cell_type": "code",
      "execution_count": null,
      "metadata": {
        "colab": {
          "base_uri": "https://localhost:8080/",
          "height": 300
        },
        "id": "ppj7HurAjiy-",
        "outputId": "3f1b03df-a4cf-4c73-8180-efe1a54e02f0"
      },
      "outputs": [
        {
          "data": {
            "text/html": [
              "\n",
              "  <div id=\"df-7b280bdf-2f7c-4cae-b286-30e2f7433630\">\n",
              "    <div class=\"colab-df-container\">\n",
              "      <div>\n",
              "<style scoped>\n",
              "    .dataframe tbody tr th:only-of-type {\n",
              "        vertical-align: middle;\n",
              "    }\n",
              "\n",
              "    .dataframe tbody tr th {\n",
              "        vertical-align: top;\n",
              "    }\n",
              "\n",
              "    .dataframe thead th {\n",
              "        text-align: right;\n",
              "    }\n",
              "</style>\n",
              "<table border=\"1\" class=\"dataframe\">\n",
              "  <thead>\n",
              "    <tr style=\"text-align: right;\">\n",
              "      <th></th>\n",
              "      <th>Class</th>\n",
              "      <th>Training</th>\n",
              "      <th>Validation</th>\n",
              "      <th>Testing</th>\n",
              "      <th>Total</th>\n",
              "    </tr>\n",
              "  </thead>\n",
              "  <tbody>\n",
              "    <tr>\n",
              "      <th>0</th>\n",
              "      <td>0</td>\n",
              "      <td>40</td>\n",
              "      <td>9</td>\n",
              "      <td>8</td>\n",
              "      <td>57</td>\n",
              "    </tr>\n",
              "    <tr>\n",
              "      <th>1</th>\n",
              "      <td>1</td>\n",
              "      <td>578</td>\n",
              "      <td>136</td>\n",
              "      <td>184</td>\n",
              "      <td>899</td>\n",
              "    </tr>\n",
              "    <tr>\n",
              "      <th>2</th>\n",
              "      <td>2</td>\n",
              "      <td>582</td>\n",
              "      <td>143</td>\n",
              "      <td>175</td>\n",
              "      <td>902</td>\n",
              "    </tr>\n",
              "    <tr>\n",
              "      <th>3</th>\n",
              "      <td>3</td>\n",
              "      <td>563</td>\n",
              "      <td>157</td>\n",
              "      <td>179</td>\n",
              "      <td>902</td>\n",
              "    </tr>\n",
              "    <tr>\n",
              "      <th>4</th>\n",
              "      <td>4</td>\n",
              "      <td>585</td>\n",
              "      <td>138</td>\n",
              "      <td>175</td>\n",
              "      <td>902</td>\n",
              "    </tr>\n",
              "    <tr>\n",
              "      <th>5</th>\n",
              "      <td>5</td>\n",
              "      <td>556</td>\n",
              "      <td>141</td>\n",
              "      <td>203</td>\n",
              "      <td>905</td>\n",
              "    </tr>\n",
              "    <tr>\n",
              "      <th>6</th>\n",
              "      <td>6</td>\n",
              "      <td>584</td>\n",
              "      <td>148</td>\n",
              "      <td>166</td>\n",
              "      <td>904</td>\n",
              "    </tr>\n",
              "    <tr>\n",
              "      <th>Total</th>\n",
              "      <td>21</td>\n",
              "      <td>3488</td>\n",
              "      <td>872</td>\n",
              "      <td>1090</td>\n",
              "      <td>5471</td>\n",
              "    </tr>\n",
              "  </tbody>\n",
              "</table>\n",
              "</div>\n",
              "      <button class=\"colab-df-convert\" onclick=\"convertToInteractive('df-7b280bdf-2f7c-4cae-b286-30e2f7433630')\"\n",
              "              title=\"Convert this dataframe to an interactive table.\"\n",
              "              style=\"display:none;\">\n",
              "        \n",
              "  <svg xmlns=\"http://www.w3.org/2000/svg\" height=\"24px\"viewBox=\"0 0 24 24\"\n",
              "       width=\"24px\">\n",
              "    <path d=\"M0 0h24v24H0V0z\" fill=\"none\"/>\n",
              "    <path d=\"M18.56 5.44l.94 2.06.94-2.06 2.06-.94-2.06-.94-.94-2.06-.94 2.06-2.06.94zm-11 1L8.5 8.5l.94-2.06 2.06-.94-2.06-.94L8.5 2.5l-.94 2.06-2.06.94zm10 10l.94 2.06.94-2.06 2.06-.94-2.06-.94-.94-2.06-.94 2.06-2.06.94z\"/><path d=\"M17.41 7.96l-1.37-1.37c-.4-.4-.92-.59-1.43-.59-.52 0-1.04.2-1.43.59L10.3 9.45l-7.72 7.72c-.78.78-.78 2.05 0 2.83L4 21.41c.39.39.9.59 1.41.59.51 0 1.02-.2 1.41-.59l7.78-7.78 2.81-2.81c.8-.78.8-2.07 0-2.86zM5.41 20L4 18.59l7.72-7.72 1.47 1.35L5.41 20z\"/>\n",
              "  </svg>\n",
              "      </button>\n",
              "      \n",
              "  <style>\n",
              "    .colab-df-container {\n",
              "      display:flex;\n",
              "      flex-wrap:wrap;\n",
              "      gap: 12px;\n",
              "    }\n",
              "\n",
              "    .colab-df-convert {\n",
              "      background-color: #E8F0FE;\n",
              "      border: none;\n",
              "      border-radius: 50%;\n",
              "      cursor: pointer;\n",
              "      display: none;\n",
              "      fill: #1967D2;\n",
              "      height: 32px;\n",
              "      padding: 0 0 0 0;\n",
              "      width: 32px;\n",
              "    }\n",
              "\n",
              "    .colab-df-convert:hover {\n",
              "      background-color: #E2EBFA;\n",
              "      box-shadow: 0px 1px 2px rgba(60, 64, 67, 0.3), 0px 1px 3px 1px rgba(60, 64, 67, 0.15);\n",
              "      fill: #174EA6;\n",
              "    }\n",
              "\n",
              "    [theme=dark] .colab-df-convert {\n",
              "      background-color: #3B4455;\n",
              "      fill: #D2E3FC;\n",
              "    }\n",
              "\n",
              "    [theme=dark] .colab-df-convert:hover {\n",
              "      background-color: #434B5C;\n",
              "      box-shadow: 0px 1px 3px 1px rgba(0, 0, 0, 0.15);\n",
              "      filter: drop-shadow(0px 1px 2px rgba(0, 0, 0, 0.3));\n",
              "      fill: #FFFFFF;\n",
              "    }\n",
              "  </style>\n",
              "\n",
              "      <script>\n",
              "        const buttonEl =\n",
              "          document.querySelector('#df-7b280bdf-2f7c-4cae-b286-30e2f7433630 button.colab-df-convert');\n",
              "        buttonEl.style.display =\n",
              "          google.colab.kernel.accessAllowed ? 'block' : 'none';\n",
              "\n",
              "        async function convertToInteractive(key) {\n",
              "          const element = document.querySelector('#df-7b280bdf-2f7c-4cae-b286-30e2f7433630');\n",
              "          const dataTable =\n",
              "            await google.colab.kernel.invokeFunction('convertToInteractive',\n",
              "                                                     [key], {});\n",
              "          if (!dataTable) return;\n",
              "\n",
              "          const docLinkHtml = 'Like what you see? Visit the ' +\n",
              "            '<a target=\"_blank\" href=https://colab.research.google.com/notebooks/data_table.ipynb>data table notebook</a>'\n",
              "            + ' to learn more about interactive tables.';\n",
              "          element.innerHTML = '';\n",
              "          dataTable['output_type'] = 'display_data';\n",
              "          await google.colab.output.renderOutput(dataTable, element);\n",
              "          const docLink = document.createElement('div');\n",
              "          docLink.innerHTML = docLinkHtml;\n",
              "          element.appendChild(docLink);\n",
              "        }\n",
              "      </script>\n",
              "    </div>\n",
              "  </div>\n",
              "  "
            ],
            "text/plain": [
              "       Class  Training  Validation  Testing  Total\n",
              "0          0        40           9        8     57\n",
              "1          1       578         136      184    899\n",
              "2          2       582         143      175    902\n",
              "3          3       563         157      179    902\n",
              "4          4       585         138      175    902\n",
              "5          5       556         141      203    905\n",
              "6          6       584         148      166    904\n",
              "Total     21      3488         872     1090   5471"
            ]
          },
          "execution_count": 19,
          "metadata": {},
          "output_type": "execute_result"
        }
      ],
      "source": [
        "# Count how many elements \n",
        "def class_count(split, classes):\n",
        "  counts = []\n",
        "  for i in classes:\n",
        "    count = np.where((split == i).all(axis=1))[0].size  # count the number of times the row i in classes is present in the split array.\n",
        "    counts.append(count)\n",
        "  return counts\n",
        "\n",
        "train_counts = class_count(Y_train, encoded_labels)\n",
        "val_counts = class_count(Y_val, encoded_labels)\n",
        "test_counts = class_count(Y_test, encoded_labels)\n",
        "\n",
        "df = pd.DataFrame(list(zip(orig_labels, train_counts, val_counts, test_counts)), \n",
        "                  columns =['Class', 'Training','Validation', 'Testing'])\n",
        "\n",
        "df.loc['Total'] = df.sum(numeric_only=True)\n",
        "df.loc[:,'Total'] = df.sum(numeric_only=True, axis=1)\n",
        "df"
      ]
    },
    {
      "cell_type": "code",
      "execution_count": null,
      "metadata": {
        "colab": {
          "base_uri": "https://localhost:8080/"
        },
        "id": "PlXtWWRfDXcS",
        "outputId": "35d41f70-652f-4535-83bd-ba7aa423ca00"
      },
      "outputs": [
        {
          "name": "stdout",
          "output_type": "stream",
          "text": [
            "n_timesteps: 100, n_features: 36, n_outputs: 7\n"
          ]
        }
      ],
      "source": [
        "# Get the input shape -> (samples, time steps, features)\n",
        "n_timesteps, n_features, n_outputs = X_train.shape[1], X_train.shape[2], Y_train.shape[1]\n",
        "print('n_timesteps: {}, n_features: {}, n_outputs: {}'.format(n_timesteps,n_features,n_outputs))"
      ]
    },
    {
      "cell_type": "markdown",
      "metadata": {
        "id": "Adca4Fet3EBB"
      },
      "source": [
        "## Architectures"
      ]
    },
    {
      "cell_type": "markdown",
      "metadata": {
        "id": "iQqGRDjwAWT7"
      },
      "source": [
        "### Architecture 1: LSTM(128) + Dropout + Fully Connected + Fully Connected\n",
        "\n",
        "Source: https://www.analyticsvidhya.com/blog/2021/07/implementing-lstm-for-human-activity-recognition-using-smartphone-accelerometer-data/"
      ]
    },
    {
      "cell_type": "markdown",
      "metadata": {
        "id": "82d_ZzPv3apZ"
      },
      "source": [
        "This simple architecture uses a LSTM layer of 128 neurons to process the time series data, then a dropout layer to prevent overfitting, and two fully connected layers to map the information from previous layers to the 4 outputs."
      ]
    },
    {
      "cell_type": "code",
      "execution_count": null,
      "metadata": {
        "id": "XmQDIP0efRTG"
      },
      "outputs": [],
      "source": [
        "import keras\n",
        "from keras.models import Sequential\n",
        "from keras.layers import Dense, Dropout, LSTM, Conv1D, MaxPooling1D, Flatten, Reshape"
      ]
    },
    {
      "cell_type": "code",
      "execution_count": null,
      "metadata": {
        "colab": {
          "base_uri": "https://localhost:8080/"
        },
        "id": "kD2WorQmfUB-",
        "outputId": "b50ca456-6542-4125-d5a9-6a324bfd7b27"
      },
      "outputs": [
        {
          "name": "stdout",
          "output_type": "stream",
          "text": [
            "Model: \"sequential\"\n",
            "_________________________________________________________________\n",
            " Layer (type)                Output Shape              Param #   \n",
            "=================================================================\n",
            " lstm (LSTM)                 (None, 128)               84480     \n",
            "                                                                 \n",
            " dropout (Dropout)           (None, 128)               0         \n",
            "                                                                 \n",
            " dense (Dense)               (None, 64)                8256      \n",
            "                                                                 \n",
            " dense_1 (Dense)             (None, 7)                 455       \n",
            "                                                                 \n",
            "=================================================================\n",
            "Total params: 93,191\n",
            "Trainable params: 93,191\n",
            "Non-trainable params: 0\n",
            "_________________________________________________________________\n"
          ]
        }
      ],
      "source": [
        "model = Sequential()\n",
        "# RNN layer\n",
        "model.add(LSTM(units = 128, input_shape = (X_train.shape[1], X_train.shape[2])))\n",
        "# Dropout layer\n",
        "model.add(Dropout(0.5)) \n",
        "# Dense layer with ReLu\n",
        "model.add(Dense(units = 64, activation='relu'))\n",
        "# Softmax layer\n",
        "model.add(Dense(n_outputs, activation = 'softmax'))\n",
        "\n",
        "model.summary()"
      ]
    },
    {
      "cell_type": "markdown",
      "metadata": {
        "id": "njurVV5IIYZM"
      },
      "source": [
        "#### Loss function and optimizer\n",
        "\n",
        "**Loss function:** Categorical Cross Entropy\n",
        "\n",
        "**Optimizer:** Adam"
      ]
    },
    {
      "cell_type": "code",
      "execution_count": null,
      "metadata": {
        "id": "j40CQvaOAizB"
      },
      "outputs": [],
      "source": [
        "model.compile(loss='categorical_crossentropy', optimizer='adam', metrics=['accuracy'])"
      ]
    },
    {
      "cell_type": "markdown",
      "metadata": {
        "id": "ZVIXD_37IYZO"
      },
      "source": [
        "#### Train the model\n",
        "\n",
        "Train the model for 100 epochs in mini-batches of 64 samples. This is 100 iterations over all samples in the `x_train` and `y_train` tensors. While training, monitor the model's loss and accuracy on the samples from the validation set:"
      ]
    },
    {
      "cell_type": "code",
      "execution_count": null,
      "metadata": {
        "colab": {
          "base_uri": "https://localhost:8080/"
        },
        "id": "QQQRdi5eAntm",
        "outputId": "8c76d511-b93b-483c-f8e5-613715435e37"
      },
      "outputs": [
        {
          "name": "stdout",
          "output_type": "stream",
          "text": [
            "Epoch 1/100\n",
            "55/55 [==============================] - 9s 21ms/step - loss: 1.7391 - accuracy: 0.2669 - val_loss: 1.5411 - val_accuracy: 0.3349\n",
            "Epoch 2/100\n",
            "55/55 [==============================] - 0s 8ms/step - loss: 1.5222 - accuracy: 0.3314 - val_loss: 1.4211 - val_accuracy: 0.3635\n",
            "Epoch 3/100\n",
            "55/55 [==============================] - 0s 9ms/step - loss: 1.4214 - accuracy: 0.3515 - val_loss: 1.2927 - val_accuracy: 0.4220\n",
            "Epoch 4/100\n",
            "55/55 [==============================] - 0s 8ms/step - loss: 1.3475 - accuracy: 0.3888 - val_loss: 1.2275 - val_accuracy: 0.4690\n",
            "Epoch 5/100\n",
            "55/55 [==============================] - 0s 8ms/step - loss: 1.2031 - accuracy: 0.4544 - val_loss: 1.1243 - val_accuracy: 0.4690\n",
            "Epoch 6/100\n",
            "55/55 [==============================] - 0s 8ms/step - loss: 1.1396 - accuracy: 0.4619 - val_loss: 1.0951 - val_accuracy: 0.4897\n",
            "Epoch 7/100\n",
            "55/55 [==============================] - 0s 8ms/step - loss: 1.0745 - accuracy: 0.5032 - val_loss: 0.9996 - val_accuracy: 0.5608\n",
            "Epoch 8/100\n",
            "55/55 [==============================] - 0s 8ms/step - loss: 1.0085 - accuracy: 0.5419 - val_loss: 0.9138 - val_accuracy: 0.5940\n",
            "Epoch 9/100\n",
            "55/55 [==============================] - 0s 8ms/step - loss: 0.9735 - accuracy: 0.5662 - val_loss: 0.8717 - val_accuracy: 0.6261\n",
            "Epoch 10/100\n",
            "55/55 [==============================] - 0s 8ms/step - loss: 0.9268 - accuracy: 0.5826 - val_loss: 0.9151 - val_accuracy: 0.5745\n",
            "Epoch 11/100\n",
            "55/55 [==============================] - 0s 9ms/step - loss: 0.8878 - accuracy: 0.6003 - val_loss: 0.8455 - val_accuracy: 0.6124\n",
            "Epoch 12/100\n",
            "55/55 [==============================] - 0s 9ms/step - loss: 0.8212 - accuracy: 0.6456 - val_loss: 0.7476 - val_accuracy: 0.6766\n",
            "Epoch 13/100\n",
            "55/55 [==============================] - 1s 11ms/step - loss: 0.7517 - accuracy: 0.6809 - val_loss: 0.6520 - val_accuracy: 0.7225\n",
            "Epoch 14/100\n",
            "55/55 [==============================] - 1s 12ms/step - loss: 0.7084 - accuracy: 0.7001 - val_loss: 0.7725 - val_accuracy: 0.6594\n",
            "Epoch 15/100\n",
            "55/55 [==============================] - 1s 12ms/step - loss: 0.7078 - accuracy: 0.7081 - val_loss: 0.5822 - val_accuracy: 0.7592\n",
            "Epoch 16/100\n",
            "55/55 [==============================] - 1s 12ms/step - loss: 0.5584 - accuracy: 0.7833 - val_loss: 0.5014 - val_accuracy: 0.8028\n",
            "Epoch 17/100\n",
            "55/55 [==============================] - 1s 11ms/step - loss: 0.5655 - accuracy: 0.7807 - val_loss: 0.4708 - val_accuracy: 0.8142\n",
            "Epoch 18/100\n",
            "55/55 [==============================] - 1s 10ms/step - loss: 0.4754 - accuracy: 0.8205 - val_loss: 0.5673 - val_accuracy: 0.7626\n",
            "Epoch 19/100\n",
            "55/55 [==============================] - 0s 9ms/step - loss: 0.5262 - accuracy: 0.7893 - val_loss: 0.4059 - val_accuracy: 0.8406\n",
            "Epoch 20/100\n",
            "55/55 [==============================] - 0s 8ms/step - loss: 0.4240 - accuracy: 0.8455 - val_loss: 0.4237 - val_accuracy: 0.8429\n",
            "Epoch 21/100\n",
            "55/55 [==============================] - 0s 8ms/step - loss: 0.4089 - accuracy: 0.8466 - val_loss: 0.3450 - val_accuracy: 0.8796\n",
            "Epoch 22/100\n",
            "55/55 [==============================] - 0s 8ms/step - loss: 0.4511 - accuracy: 0.8380 - val_loss: 0.3605 - val_accuracy: 0.8280\n",
            "Epoch 23/100\n",
            "55/55 [==============================] - 0s 9ms/step - loss: 0.3296 - accuracy: 0.8813 - val_loss: 0.3020 - val_accuracy: 0.8991\n",
            "Epoch 24/100\n",
            "55/55 [==============================] - 0s 8ms/step - loss: 0.3327 - accuracy: 0.8825 - val_loss: 0.2617 - val_accuracy: 0.9266\n",
            "Epoch 25/100\n",
            "55/55 [==============================] - 0s 8ms/step - loss: 0.3240 - accuracy: 0.8859 - val_loss: 0.2477 - val_accuracy: 0.9140\n",
            "Epoch 26/100\n",
            "55/55 [==============================] - 0s 8ms/step - loss: 0.2610 - accuracy: 0.9103 - val_loss: 0.2590 - val_accuracy: 0.9220\n",
            "Epoch 27/100\n",
            "55/55 [==============================] - 0s 8ms/step - loss: 0.2692 - accuracy: 0.9062 - val_loss: 0.2645 - val_accuracy: 0.9060\n",
            "Epoch 28/100\n",
            "55/55 [==============================] - 0s 8ms/step - loss: 0.2329 - accuracy: 0.9217 - val_loss: 0.2171 - val_accuracy: 0.9404\n",
            "Epoch 29/100\n",
            "55/55 [==============================] - 0s 8ms/step - loss: 0.2594 - accuracy: 0.9062 - val_loss: 0.2588 - val_accuracy: 0.9117\n",
            "Epoch 30/100\n",
            "55/55 [==============================] - 0s 8ms/step - loss: 0.2309 - accuracy: 0.9237 - val_loss: 0.2269 - val_accuracy: 0.9266\n",
            "Epoch 31/100\n",
            "55/55 [==============================] - 0s 8ms/step - loss: 0.2435 - accuracy: 0.9146 - val_loss: 0.4065 - val_accuracy: 0.8498\n",
            "Epoch 32/100\n",
            "55/55 [==============================] - 0s 9ms/step - loss: 0.2676 - accuracy: 0.9106 - val_loss: 0.2470 - val_accuracy: 0.9312\n",
            "Epoch 33/100\n",
            "55/55 [==============================] - 0s 8ms/step - loss: 0.1776 - accuracy: 0.9455 - val_loss: 0.1468 - val_accuracy: 0.9622\n",
            "Epoch 34/100\n",
            "55/55 [==============================] - 0s 8ms/step - loss: 0.2296 - accuracy: 0.9246 - val_loss: 0.3283 - val_accuracy: 0.8899\n",
            "Epoch 35/100\n",
            "55/55 [==============================] - 0s 8ms/step - loss: 0.1779 - accuracy: 0.9461 - val_loss: 0.1400 - val_accuracy: 0.9622\n",
            "Epoch 36/100\n",
            "55/55 [==============================] - 0s 8ms/step - loss: 0.1913 - accuracy: 0.9389 - val_loss: 0.2625 - val_accuracy: 0.9037\n",
            "Epoch 37/100\n",
            "55/55 [==============================] - 0s 8ms/step - loss: 0.1860 - accuracy: 0.9381 - val_loss: 0.1281 - val_accuracy: 0.9564\n",
            "Epoch 38/100\n",
            "55/55 [==============================] - 0s 8ms/step - loss: 0.1963 - accuracy: 0.9346 - val_loss: 0.2035 - val_accuracy: 0.9381\n",
            "Epoch 39/100\n",
            "55/55 [==============================] - 0s 8ms/step - loss: 0.1848 - accuracy: 0.9427 - val_loss: 0.1475 - val_accuracy: 0.9576\n",
            "Epoch 40/100\n",
            "55/55 [==============================] - 1s 12ms/step - loss: 0.1458 - accuracy: 0.9530 - val_loss: 0.1717 - val_accuracy: 0.9450\n",
            "Epoch 41/100\n",
            "55/55 [==============================] - 1s 11ms/step - loss: 0.1314 - accuracy: 0.9604 - val_loss: 0.2537 - val_accuracy: 0.9289\n",
            "Epoch 42/100\n",
            "55/55 [==============================] - 1s 11ms/step - loss: 0.1428 - accuracy: 0.9593 - val_loss: 0.1713 - val_accuracy: 0.9530\n",
            "Epoch 43/100\n",
            "55/55 [==============================] - 1s 11ms/step - loss: 0.1905 - accuracy: 0.9386 - val_loss: 0.1678 - val_accuracy: 0.9404\n",
            "Epoch 44/100\n",
            "55/55 [==============================] - 1s 13ms/step - loss: 0.2404 - accuracy: 0.9243 - val_loss: 0.2153 - val_accuracy: 0.9289\n",
            "Epoch 45/100\n",
            "55/55 [==============================] - 1s 10ms/step - loss: 0.1538 - accuracy: 0.9510 - val_loss: 0.1058 - val_accuracy: 0.9713\n",
            "Epoch 46/100\n",
            "55/55 [==============================] - 0s 9ms/step - loss: 0.1021 - accuracy: 0.9719 - val_loss: 0.1637 - val_accuracy: 0.9427\n",
            "Epoch 47/100\n",
            "55/55 [==============================] - 0s 8ms/step - loss: 0.1291 - accuracy: 0.9639 - val_loss: 0.1377 - val_accuracy: 0.9507\n",
            "Epoch 48/100\n",
            "55/55 [==============================] - 0s 9ms/step - loss: 0.1249 - accuracy: 0.9601 - val_loss: 0.1281 - val_accuracy: 0.9610\n",
            "Epoch 49/100\n",
            "55/55 [==============================] - 0s 8ms/step - loss: 0.1828 - accuracy: 0.9427 - val_loss: 0.1988 - val_accuracy: 0.9392\n",
            "Epoch 50/100\n",
            "55/55 [==============================] - 0s 8ms/step - loss: 0.1314 - accuracy: 0.9630 - val_loss: 0.1289 - val_accuracy: 0.9622\n",
            "Epoch 51/100\n",
            "55/55 [==============================] - 0s 8ms/step - loss: 0.0960 - accuracy: 0.9748 - val_loss: 0.1092 - val_accuracy: 0.9725\n",
            "Epoch 52/100\n",
            "55/55 [==============================] - 0s 8ms/step - loss: 0.0993 - accuracy: 0.9713 - val_loss: 0.2290 - val_accuracy: 0.9255\n",
            "Epoch 53/100\n",
            "55/55 [==============================] - 0s 8ms/step - loss: 0.1668 - accuracy: 0.9495 - val_loss: 0.1680 - val_accuracy: 0.9484\n",
            "Epoch 54/100\n",
            "55/55 [==============================] - 0s 8ms/step - loss: 0.1739 - accuracy: 0.9475 - val_loss: 0.2084 - val_accuracy: 0.9346\n",
            "Epoch 55/100\n",
            "55/55 [==============================] - 0s 8ms/step - loss: 0.1384 - accuracy: 0.9607 - val_loss: 0.1235 - val_accuracy: 0.9633\n",
            "Epoch 56/100\n",
            "55/55 [==============================] - 0s 8ms/step - loss: 0.1320 - accuracy: 0.9593 - val_loss: 0.1196 - val_accuracy: 0.9679\n",
            "Epoch 57/100\n",
            "55/55 [==============================] - 0s 8ms/step - loss: 0.2095 - accuracy: 0.9315 - val_loss: 0.2519 - val_accuracy: 0.9071\n",
            "Epoch 58/100\n",
            "55/55 [==============================] - 0s 8ms/step - loss: 0.1548 - accuracy: 0.9518 - val_loss: 0.1183 - val_accuracy: 0.9622\n",
            "Epoch 59/100\n",
            "55/55 [==============================] - 0s 8ms/step - loss: 0.1134 - accuracy: 0.9624 - val_loss: 0.0945 - val_accuracy: 0.9782\n",
            "Epoch 60/100\n",
            "55/55 [==============================] - 0s 9ms/step - loss: 0.0847 - accuracy: 0.9768 - val_loss: 0.1167 - val_accuracy: 0.9633\n",
            "Epoch 61/100\n",
            "55/55 [==============================] - 0s 8ms/step - loss: 0.1048 - accuracy: 0.9690 - val_loss: 0.1266 - val_accuracy: 0.9587\n",
            "Epoch 62/100\n",
            "55/55 [==============================] - 0s 8ms/step - loss: 0.1050 - accuracy: 0.9708 - val_loss: 0.1288 - val_accuracy: 0.9656\n",
            "Epoch 63/100\n",
            "55/55 [==============================] - 0s 8ms/step - loss: 0.0991 - accuracy: 0.9710 - val_loss: 0.1331 - val_accuracy: 0.9622\n",
            "Epoch 64/100\n",
            "55/55 [==============================] - 0s 8ms/step - loss: 0.1256 - accuracy: 0.9624 - val_loss: 0.1168 - val_accuracy: 0.9587\n",
            "Epoch 65/100\n",
            "55/55 [==============================] - 0s 8ms/step - loss: 0.1038 - accuracy: 0.9702 - val_loss: 0.1376 - val_accuracy: 0.9599\n",
            "Epoch 66/100\n",
            "55/55 [==============================] - 0s 9ms/step - loss: 0.1363 - accuracy: 0.9570 - val_loss: 0.2440 - val_accuracy: 0.9266\n",
            "Epoch 67/100\n",
            "55/55 [==============================] - 1s 12ms/step - loss: 0.1933 - accuracy: 0.9421 - val_loss: 0.1245 - val_accuracy: 0.9622\n",
            "Epoch 68/100\n",
            "55/55 [==============================] - 1s 11ms/step - loss: 0.0886 - accuracy: 0.9739 - val_loss: 0.1237 - val_accuracy: 0.9599\n",
            "Epoch 69/100\n",
            "55/55 [==============================] - 1s 11ms/step - loss: 0.1259 - accuracy: 0.9639 - val_loss: 0.1280 - val_accuracy: 0.9599\n",
            "Epoch 70/100\n",
            "55/55 [==============================] - 1s 13ms/step - loss: 0.0936 - accuracy: 0.9696 - val_loss: 0.0986 - val_accuracy: 0.9702\n",
            "Epoch 71/100\n",
            "55/55 [==============================] - 1s 12ms/step - loss: 0.0776 - accuracy: 0.9805 - val_loss: 0.1162 - val_accuracy: 0.9690\n",
            "Epoch 72/100\n",
            "55/55 [==============================] - 1s 10ms/step - loss: 0.1050 - accuracy: 0.9705 - val_loss: 0.2197 - val_accuracy: 0.9312\n",
            "Epoch 73/100\n",
            "55/55 [==============================] - 0s 9ms/step - loss: 0.1495 - accuracy: 0.9527 - val_loss: 0.1070 - val_accuracy: 0.9725\n",
            "Epoch 74/100\n",
            "55/55 [==============================] - 0s 9ms/step - loss: 0.0674 - accuracy: 0.9839 - val_loss: 0.0988 - val_accuracy: 0.9725\n",
            "Epoch 75/100\n",
            "55/55 [==============================] - 0s 9ms/step - loss: 0.0964 - accuracy: 0.9728 - val_loss: 0.2310 - val_accuracy: 0.9278\n",
            "Epoch 76/100\n",
            "55/55 [==============================] - 0s 8ms/step - loss: 0.1166 - accuracy: 0.9627 - val_loss: 0.1280 - val_accuracy: 0.9690\n",
            "Epoch 77/100\n",
            "55/55 [==============================] - 0s 8ms/step - loss: 0.1425 - accuracy: 0.9518 - val_loss: 0.1099 - val_accuracy: 0.9644\n",
            "Epoch 78/100\n",
            "55/55 [==============================] - 0s 8ms/step - loss: 0.0901 - accuracy: 0.9733 - val_loss: 0.1201 - val_accuracy: 0.9644\n",
            "Epoch 79/100\n",
            "55/55 [==============================] - 0s 8ms/step - loss: 0.0794 - accuracy: 0.9774 - val_loss: 0.1136 - val_accuracy: 0.9679\n",
            "Epoch 80/100\n",
            "55/55 [==============================] - 0s 9ms/step - loss: 0.0977 - accuracy: 0.9699 - val_loss: 0.1000 - val_accuracy: 0.9713\n",
            "Epoch 81/100\n",
            "55/55 [==============================] - 0s 8ms/step - loss: 0.0810 - accuracy: 0.9768 - val_loss: 0.0720 - val_accuracy: 0.9828\n",
            "Epoch 82/100\n",
            "55/55 [==============================] - 0s 9ms/step - loss: 0.0667 - accuracy: 0.9814 - val_loss: 0.0860 - val_accuracy: 0.9794\n",
            "Epoch 83/100\n",
            "55/55 [==============================] - 0s 8ms/step - loss: 0.0591 - accuracy: 0.9837 - val_loss: 0.0731 - val_accuracy: 0.9817\n",
            "Epoch 84/100\n",
            "55/55 [==============================] - 0s 9ms/step - loss: 0.0624 - accuracy: 0.9808 - val_loss: 0.1250 - val_accuracy: 0.9633\n",
            "Epoch 85/100\n",
            "55/55 [==============================] - 0s 8ms/step - loss: 0.0961 - accuracy: 0.9725 - val_loss: 0.1192 - val_accuracy: 0.9725\n",
            "Epoch 86/100\n",
            "55/55 [==============================] - 1s 9ms/step - loss: 0.0633 - accuracy: 0.9811 - val_loss: 0.0952 - val_accuracy: 0.9759\n",
            "Epoch 87/100\n",
            "55/55 [==============================] - 0s 8ms/step - loss: 0.0669 - accuracy: 0.9805 - val_loss: 0.1023 - val_accuracy: 0.9725\n",
            "Epoch 88/100\n",
            "55/55 [==============================] - 0s 9ms/step - loss: 0.0925 - accuracy: 0.9705 - val_loss: 0.1062 - val_accuracy: 0.9667\n",
            "Epoch 89/100\n",
            "55/55 [==============================] - 0s 8ms/step - loss: 0.1015 - accuracy: 0.9662 - val_loss: 0.1080 - val_accuracy: 0.9736\n",
            "Epoch 90/100\n",
            "55/55 [==============================] - 0s 8ms/step - loss: 0.0777 - accuracy: 0.9774 - val_loss: 0.1263 - val_accuracy: 0.9656\n",
            "Epoch 91/100\n",
            "55/55 [==============================] - 0s 8ms/step - loss: 0.0892 - accuracy: 0.9713 - val_loss: 0.1008 - val_accuracy: 0.9759\n",
            "Epoch 92/100\n",
            "55/55 [==============================] - 0s 9ms/step - loss: 0.0883 - accuracy: 0.9716 - val_loss: 0.1162 - val_accuracy: 0.9702\n",
            "Epoch 93/100\n",
            "55/55 [==============================] - 1s 11ms/step - loss: 0.0618 - accuracy: 0.9808 - val_loss: 0.0741 - val_accuracy: 0.9851\n",
            "Epoch 94/100\n",
            "55/55 [==============================] - 1s 10ms/step - loss: 0.0491 - accuracy: 0.9854 - val_loss: 0.0828 - val_accuracy: 0.9794\n",
            "Epoch 95/100\n",
            "55/55 [==============================] - 1s 12ms/step - loss: 0.0532 - accuracy: 0.9828 - val_loss: 0.1367 - val_accuracy: 0.9690\n",
            "Epoch 96/100\n",
            "55/55 [==============================] - 1s 13ms/step - loss: 0.0846 - accuracy: 0.9731 - val_loss: 0.1042 - val_accuracy: 0.9748\n",
            "Epoch 97/100\n",
            "55/55 [==============================] - 1s 11ms/step - loss: 0.1015 - accuracy: 0.9713 - val_loss: 0.1165 - val_accuracy: 0.9702\n",
            "Epoch 98/100\n",
            "55/55 [==============================] - 1s 11ms/step - loss: 0.0488 - accuracy: 0.9877 - val_loss: 0.0716 - val_accuracy: 0.9839\n",
            "Epoch 99/100\n",
            "55/55 [==============================] - 0s 9ms/step - loss: 0.0462 - accuracy: 0.9857 - val_loss: 0.0728 - val_accuracy: 0.9828\n",
            "Epoch 100/100\n",
            "55/55 [==============================] - 0s 8ms/step - loss: 0.0921 - accuracy: 0.9751 - val_loss: 0.1185 - val_accuracy: 0.9656\n"
          ]
        }
      ],
      "source": [
        "history = model.fit(X_train, Y_train, epochs = 100, validation_data=(X_val, Y_val), batch_size = 64, verbose = 1)"
      ]
    },
    {
      "cell_type": "markdown",
      "metadata": {
        "id": "8e4UJQQeIYZP"
      },
      "source": [
        "#### Evaluate the model"
      ]
    },
    {
      "cell_type": "code",
      "execution_count": null,
      "metadata": {
        "colab": {
          "base_uri": "https://localhost:8080/"
        },
        "id": "FeqMFdq5A2Eb",
        "outputId": "c9b6b8cd-5035-4230-b1c4-58f8dd58ef41"
      },
      "outputs": [
        {
          "name": "stdout",
          "output_type": "stream",
          "text": [
            "18/18 [==============================] - 0s 7ms/step - loss: 0.1401 - accuracy: 0.9670\n",
            "Test Accuracy : 0.9669724702835083\n",
            "Test Loss : 0.14010849595069885\n"
          ]
        }
      ],
      "source": [
        "results = model.evaluate(X_test, Y_test, batch_size = 64, verbose = 1)\n",
        "arch1_test_acc = results[1]\n",
        "arch1_test_loss = results[0]\n",
        "print(\"Test Accuracy :\", results[1])\n",
        "print(\"Test Loss :\", results[0])"
      ]
    },
    {
      "cell_type": "markdown",
      "metadata": {
        "id": "2VLJgpeKIYZP"
      },
      "source": [
        "#### Create a graph of accuracy and loss over time"
      ]
    },
    {
      "cell_type": "code",
      "execution_count": null,
      "metadata": {
        "colab": {
          "base_uri": "https://localhost:8080/",
          "height": 625
        },
        "id": "BITPWxTyBKru",
        "outputId": "fe617a46-c7ca-4fc4-c490-f00bd9896d83"
      },
      "outputs": [
        {
          "data": {
            "text/plain": [
              "<matplotlib.legend.Legend at 0x7fb720f897c0>"
            ]
          },
          "execution_count": 26,
          "metadata": {},
          "output_type": "execute_result"
        },
        {
          "data": {
            "image/png": "[encoded data removed]",
            "text/plain": [
              "<Figure size 1800x720 with 8 Axes>"
            ]
          },
          "metadata": {
            "needs_background": "light"
          },
          "output_type": "display_data"
        }
      ],
      "source": [
        "history_dict = history.history\n",
        "\n",
        "import matplotlib.pyplot as plt\n",
        "\n",
        "# Get the historical values for accuracies and losses\n",
        "\n",
        "acc = history_dict['accuracy']\n",
        "val_acc = history_dict['val_accuracy']\n",
        "loss = history_dict['loss']\n",
        "val_loss = history_dict['val_loss']\n",
        "\n",
        "# Save the last values for accuracies and losses for comparison\n",
        "\n",
        "arch1_train_acc = acc[-1]\n",
        "arch1_val_acc = val_acc[-1]\n",
        "arch1_train_loss = loss[-1]\n",
        "arch1_val_loss = val_loss[-1]\n",
        "\n",
        "epochs = range(1, len(acc) + 1)\n",
        "\n",
        "# Create 7 subplots in a grid with 3 rows and 3 columns\n",
        "fig, axes = plt.subplots(nrows=2, ncols=4, figsize=(25, 10))\n",
        "\n",
        "axes[0, 0].plot(epochs, acc , 'r', label='Training Accuracy')\n",
        "axes[0, 0].plot(epochs,val_acc , 'm', label='Validation Accuracy')\n",
        "axes[0, 0].plot(epochs, loss, 'g', label='Training loss')\n",
        "axes[0, 0].plot(epochs, val_loss, 'b', label='Validation loss')\n",
        "axes[0, 0].set_title(\"Architecture 1\")\n",
        "axes[0, 0].set_xlabel('Epochs')\n",
        "axes[0, 0].set_ylabel('Loss')\n",
        "axes[0, 0].legend()"
      ]
    },
    {
      "cell_type": "markdown",
      "metadata": {
        "id": "mHNRDd3oIYZP"
      },
      "source": [
        "### Architecture 2: LSTM(128) + Dropout + LSTM(64) + Dropout + Fully Connected\n",
        "\n",
        "Source: https://github.com/srvds/Human-Activity-Recognition"
      ]
    },
    {
      "cell_type": "markdown",
      "metadata": {
        "id": "nRXr20-n4pBX"
      },
      "source": [
        "This architecture uses a LSTM layer of 128 neurons to process the time series data, then a dropout layer to prevent overfitting, another LSTM and another dropout layer for improving the previous architecture, and a fully connected layer to map the information from previous layers to the 4 outputs."
      ]
    },
    {
      "cell_type": "markdown",
      "metadata": {
        "id": "kbhGdeMm5G-s"
      },
      "source": [
        "#### Loss function and training"
      ]
    },
    {
      "cell_type": "code",
      "execution_count": null,
      "metadata": {
        "colab": {
          "base_uri": "https://localhost:8080/"
        },
        "id": "AJIMTVGwfkqL",
        "outputId": "bdeed008-f4a4-461d-d085-2958e27b5511"
      },
      "outputs": [
        {
          "name": "stdout",
          "output_type": "stream",
          "text": [
            "Model: \"sequential_1\"\n",
            "_________________________________________________________________\n",
            " Layer (type)                Output Shape              Param #   \n",
            "=================================================================\n",
            " lstm_1 (LSTM)               (None, 100, 128)          84480     \n",
            "                                                                 \n",
            " dropout_1 (Dropout)         (None, 100, 128)          0         \n",
            "                                                                 \n",
            " lstm_2 (LSTM)               (None, 64)                49408     \n",
            "                                                                 \n",
            " dropout_2 (Dropout)         (None, 64)                0         \n",
            "                                                                 \n",
            " dense_2 (Dense)             (None, 7)                 455       \n",
            "                                                                 \n",
            "=================================================================\n",
            "Total params: 134,343\n",
            "Trainable params: 134,343\n",
            "Non-trainable params: 0\n",
            "_________________________________________________________________\n"
          ]
        }
      ],
      "source": [
        "# Initiliazing the sequential model\n",
        "model = keras.Sequential()\n",
        "# Configuring the parameters\n",
        "model.add(LSTM(128, return_sequences=True, input_shape=(X_train.shape[1], X_train.shape[2])))\n",
        "# Adding a dropout layer\n",
        "model.add(Dropout(0.5))\n",
        "# Add another LSTM layer\n",
        "model.add(LSTM(64))\n",
        "# Adding a dropout layer\n",
        "model.add(Dropout(0.5))\n",
        "# Adding a dense output layer with sigmoid activation\n",
        "model.add(Dense(n_outputs, activation='sigmoid'))\n",
        "model.summary()"
      ]
    },
    {
      "cell_type": "code",
      "execution_count": null,
      "metadata": {
        "colab": {
          "base_uri": "https://localhost:8080/"
        },
        "id": "4FKgBgKvfxF0",
        "outputId": "195d25b7-5a63-49f7-be56-3fac15d7a1db"
      },
      "outputs": [
        {
          "name": "stdout",
          "output_type": "stream",
          "text": [
            "Epoch 1/100\n",
            "55/55 [==============================] - 5s 28ms/step - loss: 1.7806 - accuracy: 0.2357 - val_loss: 1.6440 - val_accuracy: 0.2982\n",
            "Epoch 2/100\n",
            "55/55 [==============================] - 1s 12ms/step - loss: 1.6117 - accuracy: 0.2970 - val_loss: 1.4347 - val_accuracy: 0.3761\n",
            "Epoch 3/100\n",
            "55/55 [==============================] - 1s 11ms/step - loss: 1.3731 - accuracy: 0.3899 - val_loss: 1.1863 - val_accuracy: 0.4713\n",
            "Epoch 4/100\n",
            "55/55 [==============================] - 1s 13ms/step - loss: 1.1572 - accuracy: 0.4584 - val_loss: 0.9983 - val_accuracy: 0.5860\n",
            "Epoch 5/100\n",
            "55/55 [==============================] - 1s 14ms/step - loss: 1.0867 - accuracy: 0.5034 - val_loss: 1.0839 - val_accuracy: 0.4759\n",
            "Epoch 6/100\n",
            "55/55 [==============================] - 1s 15ms/step - loss: 1.0175 - accuracy: 0.5350 - val_loss: 0.9916 - val_accuracy: 0.5642\n",
            "Epoch 7/100\n",
            "55/55 [==============================] - 1s 15ms/step - loss: 0.9758 - accuracy: 0.5671 - val_loss: 0.8452 - val_accuracy: 0.6250\n",
            "Epoch 8/100\n",
            "55/55 [==============================] - 1s 15ms/step - loss: 0.8694 - accuracy: 0.6178 - val_loss: 0.7839 - val_accuracy: 0.6709\n",
            "Epoch 9/100\n",
            "55/55 [==============================] - 1s 14ms/step - loss: 0.8082 - accuracy: 0.6588 - val_loss: 0.7476 - val_accuracy: 0.6686\n",
            "Epoch 10/100\n",
            "55/55 [==============================] - 1s 12ms/step - loss: 0.7397 - accuracy: 0.6938 - val_loss: 0.6272 - val_accuracy: 0.7374\n",
            "Epoch 11/100\n",
            "55/55 [==============================] - 1s 12ms/step - loss: 0.6761 - accuracy: 0.7285 - val_loss: 0.7274 - val_accuracy: 0.6663\n",
            "Epoch 12/100\n",
            "55/55 [==============================] - 1s 13ms/step - loss: 0.7424 - accuracy: 0.6907 - val_loss: 0.6051 - val_accuracy: 0.7661\n",
            "Epoch 13/100\n",
            "55/55 [==============================] - 1s 15ms/step - loss: 0.5561 - accuracy: 0.7838 - val_loss: 0.5073 - val_accuracy: 0.7993\n",
            "Epoch 14/100\n",
            "55/55 [==============================] - 1s 15ms/step - loss: 0.4956 - accuracy: 0.8131 - val_loss: 0.3904 - val_accuracy: 0.8486\n",
            "Epoch 15/100\n",
            "55/55 [==============================] - 1s 15ms/step - loss: 0.5277 - accuracy: 0.7944 - val_loss: 0.4074 - val_accuracy: 0.8245\n",
            "Epoch 16/100\n",
            "55/55 [==============================] - 1s 16ms/step - loss: 0.4213 - accuracy: 0.8483 - val_loss: 0.5293 - val_accuracy: 0.7798\n",
            "Epoch 17/100\n",
            "55/55 [==============================] - 1s 12ms/step - loss: 0.4526 - accuracy: 0.8366 - val_loss: 0.4239 - val_accuracy: 0.8291\n",
            "Epoch 18/100\n",
            "55/55 [==============================] - 1s 13ms/step - loss: 0.4122 - accuracy: 0.8492 - val_loss: 0.2828 - val_accuracy: 0.9128\n",
            "Epoch 19/100\n",
            "55/55 [==============================] - 1s 11ms/step - loss: 0.3289 - accuracy: 0.8819 - val_loss: 0.4694 - val_accuracy: 0.8406\n",
            "Epoch 20/100\n",
            "55/55 [==============================] - 1s 12ms/step - loss: 0.5653 - accuracy: 0.8005 - val_loss: 0.3011 - val_accuracy: 0.9037\n",
            "Epoch 21/100\n",
            "55/55 [==============================] - 1s 12ms/step - loss: 0.3104 - accuracy: 0.8925 - val_loss: 0.2568 - val_accuracy: 0.9232\n",
            "Epoch 22/100\n",
            "55/55 [==============================] - 1s 13ms/step - loss: 0.3423 - accuracy: 0.8816 - val_loss: 0.2795 - val_accuracy: 0.8979\n",
            "Epoch 23/100\n",
            "55/55 [==============================] - 1s 14ms/step - loss: 0.2859 - accuracy: 0.9057 - val_loss: 0.2851 - val_accuracy: 0.9002\n",
            "Epoch 24/100\n",
            "55/55 [==============================] - 1s 16ms/step - loss: 0.2666 - accuracy: 0.9117 - val_loss: 0.1984 - val_accuracy: 0.9335\n",
            "Epoch 25/100\n",
            "55/55 [==============================] - 1s 17ms/step - loss: 0.2384 - accuracy: 0.9183 - val_loss: 0.2101 - val_accuracy: 0.9278\n",
            "Epoch 26/100\n",
            "55/55 [==============================] - 1s 16ms/step - loss: 0.4160 - accuracy: 0.8578 - val_loss: 0.3722 - val_accuracy: 0.8670\n",
            "Epoch 27/100\n",
            "55/55 [==============================] - 1s 14ms/step - loss: 0.2910 - accuracy: 0.8968 - val_loss: 0.2507 - val_accuracy: 0.9220\n",
            "Epoch 28/100\n",
            "55/55 [==============================] - 1s 12ms/step - loss: 0.2019 - accuracy: 0.9381 - val_loss: 0.1897 - val_accuracy: 0.9381\n",
            "Epoch 29/100\n",
            "55/55 [==============================] - 1s 13ms/step - loss: 0.2622 - accuracy: 0.9140 - val_loss: 0.2168 - val_accuracy: 0.9220\n",
            "Epoch 30/100\n",
            "55/55 [==============================] - 1s 11ms/step - loss: 0.2207 - accuracy: 0.9292 - val_loss: 0.1436 - val_accuracy: 0.9495\n",
            "Epoch 31/100\n",
            "55/55 [==============================] - 1s 13ms/step - loss: 0.1993 - accuracy: 0.9401 - val_loss: 0.1730 - val_accuracy: 0.9461\n",
            "Epoch 32/100\n",
            "55/55 [==============================] - 1s 13ms/step - loss: 0.1938 - accuracy: 0.9401 - val_loss: 0.1593 - val_accuracy: 0.9484\n",
            "Epoch 33/100\n",
            "55/55 [==============================] - 1s 11ms/step - loss: 0.1768 - accuracy: 0.9435 - val_loss: 0.1774 - val_accuracy: 0.9484\n",
            "Epoch 34/100\n",
            "55/55 [==============================] - 1s 13ms/step - loss: 0.2062 - accuracy: 0.9372 - val_loss: 0.1466 - val_accuracy: 0.9518\n",
            "Epoch 35/100\n",
            "55/55 [==============================] - 1s 12ms/step - loss: 0.2252 - accuracy: 0.9269 - val_loss: 0.2088 - val_accuracy: 0.9335\n",
            "Epoch 36/100\n",
            "55/55 [==============================] - 1s 12ms/step - loss: 0.1714 - accuracy: 0.9458 - val_loss: 0.2100 - val_accuracy: 0.9289\n",
            "Epoch 37/100\n",
            "55/55 [==============================] - 1s 12ms/step - loss: 0.1991 - accuracy: 0.9395 - val_loss: 0.1452 - val_accuracy: 0.9541\n",
            "Epoch 38/100\n",
            "55/55 [==============================] - 1s 12ms/step - loss: 0.1468 - accuracy: 0.9590 - val_loss: 0.1334 - val_accuracy: 0.9622\n",
            "Epoch 39/100\n",
            "55/55 [==============================] - 1s 12ms/step - loss: 0.1954 - accuracy: 0.9407 - val_loss: 0.1949 - val_accuracy: 0.9369\n",
            "Epoch 40/100\n",
            "55/55 [==============================] - 1s 13ms/step - loss: 0.1823 - accuracy: 0.9421 - val_loss: 0.1493 - val_accuracy: 0.9564\n",
            "Epoch 41/100\n",
            "55/55 [==============================] - 1s 12ms/step - loss: 0.1426 - accuracy: 0.9604 - val_loss: 0.1657 - val_accuracy: 0.9438\n",
            "Epoch 42/100\n",
            "55/55 [==============================] - 1s 14ms/step - loss: 0.1648 - accuracy: 0.9518 - val_loss: 0.1825 - val_accuracy: 0.9404\n",
            "Epoch 43/100\n",
            "55/55 [==============================] - 1s 15ms/step - loss: 0.2845 - accuracy: 0.9088 - val_loss: 0.1932 - val_accuracy: 0.9369\n",
            "Epoch 44/100\n",
            "55/55 [==============================] - 1s 15ms/step - loss: 0.1618 - accuracy: 0.9507 - val_loss: 0.1279 - val_accuracy: 0.9587\n",
            "Epoch 45/100\n",
            "55/55 [==============================] - 1s 17ms/step - loss: 0.1640 - accuracy: 0.9507 - val_loss: 0.1345 - val_accuracy: 0.9587\n",
            "Epoch 46/100\n",
            "55/55 [==============================] - 1s 14ms/step - loss: 0.1457 - accuracy: 0.9576 - val_loss: 0.1572 - val_accuracy: 0.9495\n",
            "Epoch 47/100\n",
            "55/55 [==============================] - 1s 11ms/step - loss: 0.1648 - accuracy: 0.9478 - val_loss: 0.1811 - val_accuracy: 0.9472\n",
            "Epoch 48/100\n",
            "55/55 [==============================] - 1s 13ms/step - loss: 0.1472 - accuracy: 0.9584 - val_loss: 0.1450 - val_accuracy: 0.9599\n",
            "Epoch 49/100\n",
            "55/55 [==============================] - 1s 12ms/step - loss: 0.1259 - accuracy: 0.9650 - val_loss: 0.1145 - val_accuracy: 0.9622\n",
            "Epoch 50/100\n",
            "55/55 [==============================] - 1s 11ms/step - loss: 0.1148 - accuracy: 0.9685 - val_loss: 0.0913 - val_accuracy: 0.9748\n",
            "Epoch 51/100\n",
            "55/55 [==============================] - 1s 12ms/step - loss: 0.1382 - accuracy: 0.9599 - val_loss: 0.1115 - val_accuracy: 0.9713\n",
            "Epoch 52/100\n",
            "55/55 [==============================] - 1s 12ms/step - loss: 0.1237 - accuracy: 0.9624 - val_loss: 0.1728 - val_accuracy: 0.9461\n",
            "Epoch 53/100\n",
            "55/55 [==============================] - 1s 13ms/step - loss: 0.1324 - accuracy: 0.9607 - val_loss: 0.1002 - val_accuracy: 0.9702\n",
            "Epoch 54/100\n",
            "55/55 [==============================] - 1s 12ms/step - loss: 0.0905 - accuracy: 0.9731 - val_loss: 0.1076 - val_accuracy: 0.9713\n",
            "Epoch 55/100\n",
            "55/55 [==============================] - 1s 12ms/step - loss: 0.1046 - accuracy: 0.9713 - val_loss: 0.1526 - val_accuracy: 0.9530\n",
            "Epoch 56/100\n",
            "55/55 [==============================] - 1s 12ms/step - loss: 0.1657 - accuracy: 0.9515 - val_loss: 0.1725 - val_accuracy: 0.9450\n",
            "Epoch 57/100\n",
            "55/55 [==============================] - 1s 13ms/step - loss: 0.1477 - accuracy: 0.9547 - val_loss: 0.1320 - val_accuracy: 0.9622\n",
            "Epoch 58/100\n",
            "55/55 [==============================] - 1s 12ms/step - loss: 0.1297 - accuracy: 0.9630 - val_loss: 0.1151 - val_accuracy: 0.9702\n",
            "Epoch 59/100\n",
            "55/55 [==============================] - 1s 12ms/step - loss: 0.1282 - accuracy: 0.9633 - val_loss: 0.1653 - val_accuracy: 0.9530\n",
            "Epoch 60/100\n",
            "55/55 [==============================] - 1s 12ms/step - loss: 0.1211 - accuracy: 0.9639 - val_loss: 0.1583 - val_accuracy: 0.9518\n",
            "Epoch 61/100\n",
            "55/55 [==============================] - 1s 14ms/step - loss: 0.1341 - accuracy: 0.9564 - val_loss: 0.1291 - val_accuracy: 0.9633\n",
            "Epoch 62/100\n",
            "55/55 [==============================] - 1s 15ms/step - loss: 0.1169 - accuracy: 0.9699 - val_loss: 0.2214 - val_accuracy: 0.9369\n",
            "Epoch 63/100\n",
            "55/55 [==============================] - 1s 16ms/step - loss: 0.1878 - accuracy: 0.9429 - val_loss: 0.1530 - val_accuracy: 0.9553\n",
            "Epoch 64/100\n",
            "55/55 [==============================] - 1s 17ms/step - loss: 0.1063 - accuracy: 0.9690 - val_loss: 0.1130 - val_accuracy: 0.9713\n",
            "Epoch 65/100\n",
            "55/55 [==============================] - 1s 13ms/step - loss: 0.1314 - accuracy: 0.9624 - val_loss: 0.1046 - val_accuracy: 0.9725\n",
            "Epoch 66/100\n",
            "55/55 [==============================] - 1s 13ms/step - loss: 0.1272 - accuracy: 0.9622 - val_loss: 0.0947 - val_accuracy: 0.9771\n",
            "Epoch 67/100\n",
            "55/55 [==============================] - 1s 12ms/step - loss: 0.1077 - accuracy: 0.9656 - val_loss: 0.1067 - val_accuracy: 0.9736\n",
            "Epoch 68/100\n",
            "55/55 [==============================] - 1s 13ms/step - loss: 0.0898 - accuracy: 0.9765 - val_loss: 0.0876 - val_accuracy: 0.9794\n",
            "Epoch 69/100\n",
            "55/55 [==============================] - 1s 12ms/step - loss: 0.0702 - accuracy: 0.9794 - val_loss: 0.0794 - val_accuracy: 0.9805\n",
            "Epoch 70/100\n",
            "55/55 [==============================] - 1s 13ms/step - loss: 0.0997 - accuracy: 0.9731 - val_loss: 0.1742 - val_accuracy: 0.9507\n",
            "Epoch 71/100\n",
            "55/55 [==============================] - 1s 12ms/step - loss: 0.1077 - accuracy: 0.9710 - val_loss: 0.1490 - val_accuracy: 0.9599\n",
            "Epoch 72/100\n",
            "55/55 [==============================] - 1s 13ms/step - loss: 0.1392 - accuracy: 0.9564 - val_loss: 0.1228 - val_accuracy: 0.9633\n",
            "Epoch 73/100\n",
            "55/55 [==============================] - 1s 12ms/step - loss: 0.1111 - accuracy: 0.9647 - val_loss: 0.1035 - val_accuracy: 0.9748\n",
            "Epoch 74/100\n",
            "55/55 [==============================] - 1s 12ms/step - loss: 0.0955 - accuracy: 0.9725 - val_loss: 0.1613 - val_accuracy: 0.9564\n",
            "Epoch 75/100\n",
            "55/55 [==============================] - 1s 12ms/step - loss: 0.1145 - accuracy: 0.9688 - val_loss: 0.1091 - val_accuracy: 0.9771\n",
            "Epoch 76/100\n",
            "55/55 [==============================] - 1s 13ms/step - loss: 0.0748 - accuracy: 0.9779 - val_loss: 0.1104 - val_accuracy: 0.9633\n",
            "Epoch 77/100\n",
            "55/55 [==============================] - 1s 12ms/step - loss: 0.1055 - accuracy: 0.9676 - val_loss: 0.1340 - val_accuracy: 0.9633\n",
            "Epoch 78/100\n",
            "55/55 [==============================] - 1s 12ms/step - loss: 0.0817 - accuracy: 0.9765 - val_loss: 0.1083 - val_accuracy: 0.9736\n",
            "Epoch 79/100\n",
            "55/55 [==============================] - 1s 12ms/step - loss: 0.0630 - accuracy: 0.9834 - val_loss: 0.0893 - val_accuracy: 0.9782\n",
            "Epoch 80/100\n",
            "55/55 [==============================] - 1s 15ms/step - loss: 0.0770 - accuracy: 0.9808 - val_loss: 0.0968 - val_accuracy: 0.9690\n",
            "Epoch 81/100\n",
            "55/55 [==============================] - 1s 16ms/step - loss: 0.1086 - accuracy: 0.9710 - val_loss: 0.1271 - val_accuracy: 0.9644\n",
            "Epoch 82/100\n",
            "55/55 [==============================] - 1s 17ms/step - loss: 0.0811 - accuracy: 0.9748 - val_loss: 0.1093 - val_accuracy: 0.9713\n",
            "Epoch 83/100\n",
            "55/55 [==============================] - 1s 15ms/step - loss: 0.1019 - accuracy: 0.9699 - val_loss: 0.1631 - val_accuracy: 0.9484\n",
            "Epoch 84/100\n",
            "55/55 [==============================] - 1s 11ms/step - loss: 0.0927 - accuracy: 0.9728 - val_loss: 0.1576 - val_accuracy: 0.9518\n",
            "Epoch 85/100\n",
            "55/55 [==============================] - 1s 12ms/step - loss: 0.1550 - accuracy: 0.9524 - val_loss: 0.1059 - val_accuracy: 0.9702\n",
            "Epoch 86/100\n",
            "55/55 [==============================] - 1s 13ms/step - loss: 0.0885 - accuracy: 0.9748 - val_loss: 0.0875 - val_accuracy: 0.9805\n",
            "Epoch 87/100\n",
            "55/55 [==============================] - 1s 11ms/step - loss: 0.0739 - accuracy: 0.9791 - val_loss: 0.1208 - val_accuracy: 0.9656\n",
            "Epoch 88/100\n",
            "55/55 [==============================] - 1s 13ms/step - loss: 0.1029 - accuracy: 0.9731 - val_loss: 0.1632 - val_accuracy: 0.9507\n",
            "Epoch 89/100\n",
            "55/55 [==============================] - 1s 12ms/step - loss: 0.0737 - accuracy: 0.9768 - val_loss: 0.0970 - val_accuracy: 0.9794\n",
            "Epoch 90/100\n",
            "55/55 [==============================] - 1s 12ms/step - loss: 0.0752 - accuracy: 0.9788 - val_loss: 0.0775 - val_accuracy: 0.9839\n",
            "Epoch 91/100\n",
            "55/55 [==============================] - 1s 13ms/step - loss: 0.0670 - accuracy: 0.9811 - val_loss: 0.1327 - val_accuracy: 0.9599\n",
            "Epoch 92/100\n",
            "55/55 [==============================] - 1s 13ms/step - loss: 0.0699 - accuracy: 0.9802 - val_loss: 0.0695 - val_accuracy: 0.9839\n",
            "Epoch 93/100\n",
            "55/55 [==============================] - 1s 12ms/step - loss: 0.0624 - accuracy: 0.9825 - val_loss: 0.1024 - val_accuracy: 0.9759\n",
            "Epoch 94/100\n",
            "55/55 [==============================] - 1s 12ms/step - loss: 0.0929 - accuracy: 0.9753 - val_loss: 0.1229 - val_accuracy: 0.9656\n",
            "Epoch 95/100\n",
            "55/55 [==============================] - 1s 12ms/step - loss: 0.1350 - accuracy: 0.9607 - val_loss: 0.0970 - val_accuracy: 0.9748\n",
            "Epoch 96/100\n",
            "55/55 [==============================] - 1s 13ms/step - loss: 0.0712 - accuracy: 0.9817 - val_loss: 0.0922 - val_accuracy: 0.9782\n",
            "Epoch 97/100\n",
            "55/55 [==============================] - 1s 12ms/step - loss: 0.0859 - accuracy: 0.9728 - val_loss: 0.0994 - val_accuracy: 0.9794\n",
            "Epoch 98/100\n",
            "55/55 [==============================] - 1s 13ms/step - loss: 0.0668 - accuracy: 0.9825 - val_loss: 0.0995 - val_accuracy: 0.9782\n",
            "Epoch 99/100\n",
            "55/55 [==============================] - 1s 16ms/step - loss: 0.0676 - accuracy: 0.9822 - val_loss: 0.1116 - val_accuracy: 0.9679\n",
            "Epoch 100/100\n",
            "55/55 [==============================] - 1s 17ms/step - loss: 0.0778 - accuracy: 0.9771 - val_loss: 0.0979 - val_accuracy: 0.9771\n"
          ]
        }
      ],
      "source": [
        "#lost function and optimizer\n",
        "model.compile(loss='categorical_crossentropy', optimizer='adam', metrics=['accuracy'])\n",
        "\n",
        "history = model.fit(X_train, Y_train, epochs = 100, validation_data=(X_val, Y_val), batch_size = 64, verbose = 1)"
      ]
    },
    {
      "cell_type": "markdown",
      "metadata": {
        "id": "9-ThsnS95NZd"
      },
      "source": [
        "#### Evaluate the model"
      ]
    },
    {
      "cell_type": "code",
      "execution_count": null,
      "metadata": {
        "colab": {
          "base_uri": "https://localhost:8080/"
        },
        "id": "n8L_gHxsgV0j",
        "outputId": "b679a0b5-8872-4ce0-c920-4caac3a32f1b"
      },
      "outputs": [
        {
          "name": "stdout",
          "output_type": "stream",
          "text": [
            "18/18 [==============================] - 0s 9ms/step - loss: 0.1111 - accuracy: 0.9706\n",
            "Test Accuracy : 0.9706422090530396\n",
            "Test Loss : 0.11111879348754883\n"
          ]
        }
      ],
      "source": [
        "#Evaluate the model\n",
        "results = model.evaluate(X_test, Y_test, batch_size = 64, verbose = 1)\n",
        "arch2_test_acc = results[1]\n",
        "arch2_test_loss = results[0]\n",
        "print(\"Test Accuracy :\", results[1])\n",
        "print(\"Test Loss :\", results[0])"
      ]
    },
    {
      "cell_type": "markdown",
      "metadata": {
        "id": "tcPxi_Jf5QGY"
      },
      "source": [
        "#### Create a graph of accuracy and loss over time"
      ]
    },
    {
      "cell_type": "code",
      "execution_count": null,
      "metadata": {
        "colab": {
          "base_uri": "https://localhost:8080/"
        },
        "id": "o7MOBwYsgqeH",
        "outputId": "777a6013-f19d-4978-96be-5b5782b997d9"
      },
      "outputs": [
        {
          "data": {
            "text/plain": [
              "<matplotlib.legend.Legend at 0x7fb722068610>"
            ]
          },
          "execution_count": 30,
          "metadata": {},
          "output_type": "execute_result"
        }
      ],
      "source": [
        "history_dict = history.history\n",
        "\n",
        "import matplotlib.pyplot as plt\n",
        "\n",
        "# Get the historical values for accuracies and losses\n",
        "\n",
        "acc = history_dict['accuracy']\n",
        "val_acc = history_dict['val_accuracy']\n",
        "loss = history_dict['loss']\n",
        "val_loss = history_dict['val_loss']\n",
        "\n",
        "# Save the last values for accuracies and losses for comparison\n",
        "\n",
        "arch2_train_acc = acc[-1]\n",
        "arch2_val_acc = val_acc[-1]\n",
        "arch2_train_loss = loss[-1]\n",
        "arch2_val_loss = val_loss[-1]\n",
        "\n",
        "epochs = range(1, len(acc) + 1)\n",
        "\n",
        "axes[0, 1].plot(epochs, acc , 'r', label='Training Accuracy')\n",
        "axes[0, 1].plot(epochs,val_acc , 'm', label='Validation Accuracy')\n",
        "axes[0, 1].plot(epochs, loss, 'g', label='Training loss')\n",
        "axes[0, 1].plot(epochs, val_loss, 'b', label='Validation loss')\n",
        "axes[0, 1].set_title(\"Architecture 2\")\n",
        "axes[0, 1].set_xlabel('Epochs')\n",
        "axes[0, 1].set_ylabel('Loss')\n",
        "axes[0, 1].legend()"
      ]
    },
    {
      "cell_type": "markdown",
      "metadata": {
        "id": "ZikYAawOIYZQ"
      },
      "source": [
        "### Architecture 3: Conv1D(64) + Conv1D(64) + Dropout + Max Pooling + Flatten + Fully Connected + Fully Connected\n",
        "\n",
        "Source: https://github.com/CDAC-lab/ETFA-Workshop/blob/main/CNN%20and%20LSTM%20for%20Human%20Activity%20Recognition.ipynb"
      ]
    },
    {
      "cell_type": "markdown",
      "metadata": {
        "id": "xEpyhiIq5gjX"
      },
      "source": [
        "This architecture focuses on convolutional neural networks. The first two layers are 1D convolutions of 64 filters, then a dropout layer to prevent overfitting, a max pooling layer to reduce dimensionality, a flatten layer to use dense layers, and two fully connected layers to map the information from previous layers to the 4 outputs."
      ]
    },
    {
      "cell_type": "code",
      "execution_count": null,
      "metadata": {
        "colab": {
          "base_uri": "https://localhost:8080/"
        },
        "id": "XZBciPAVN9Zp",
        "outputId": "638db286-bc8d-4b8f-bc7b-8817c15da707"
      },
      "outputs": [
        {
          "name": "stdout",
          "output_type": "stream",
          "text": [
            "Model: \"sequential_2\"\n",
            "_________________________________________________________________\n",
            " Layer (type)                Output Shape              Param #   \n",
            "=================================================================\n",
            " conv1d (Conv1D)             (None, 97, 64)            9280      \n",
            "                                                                 \n",
            " conv1d_1 (Conv1D)           (None, 94, 64)            16448     \n",
            "                                                                 \n",
            " dropout_3 (Dropout)         (None, 94, 64)            0         \n",
            "                                                                 \n",
            " max_pooling1d (MaxPooling1D  (None, 47, 64)           0         \n",
            " )                                                               \n",
            "                                                                 \n",
            " flatten (Flatten)           (None, 3008)              0         \n",
            "                                                                 \n",
            " dense_3 (Dense)             (None, 100)               300900    \n",
            "                                                                 \n",
            " dense_4 (Dense)             (None, 7)                 707       \n",
            "                                                                 \n",
            "=================================================================\n",
            "Total params: 327,335\n",
            "Trainable params: 327,335\n",
            "Non-trainable params: 0\n",
            "_________________________________________________________________\n"
          ]
        }
      ],
      "source": [
        "# Define the model\n",
        "model = keras.Sequential()\n",
        "\n",
        "# Add a 1D Convolutional layer with 32 filters and a kernel size of 3\n",
        "model.add(Conv1D(filters=64, kernel_size=4, activation='relu', input_shape=(n_timesteps,n_features)))\n",
        "\n",
        "# Add a 1D Convolutional layer with 64 filters and a kernel size of 3\n",
        "model.add(Conv1D(filters=64, kernel_size=4, activation='relu', input_shape=(n_timesteps,n_features)))\n",
        "\n",
        "# Add a dropout layer with a rate of 0.5\n",
        "model.add(Dropout(rate=0.5))\n",
        "\n",
        "# Add a Max Pooling layer with a pool size of 2\n",
        "model.add(MaxPooling1D(pool_size=2))\n",
        "\n",
        "# Add a Flatten layer\n",
        "model.add(Flatten())\n",
        "\n",
        "# Add a fully connected layer\n",
        "model.add(Dense(units=100, activation='relu'))\n",
        "\n",
        "# Add an output layer\n",
        "model.add(Dense(units=n_outputs, activation='softmax'))\n",
        "\n",
        "model.summary()"
      ]
    },
    {
      "cell_type": "markdown",
      "metadata": {
        "id": "UUl4nml0581q"
      },
      "source": [
        "#### Loss function and training"
      ]
    },
    {
      "cell_type": "code",
      "execution_count": null,
      "metadata": {
        "colab": {
          "base_uri": "https://localhost:8080/"
        },
        "id": "07DSzkBLOsBD",
        "outputId": "23067ff4-8f9a-4567-c60f-bc767d995a93"
      },
      "outputs": [
        {
          "name": "stdout",
          "output_type": "stream",
          "text": [
            "Epoch 1/100\n",
            "55/55 [==============================] - 8s 13ms/step - loss: 1.3394 - accuracy: 0.4438 - val_loss: 0.9086 - val_accuracy: 0.6376\n",
            "Epoch 2/100\n",
            "55/55 [==============================] - 0s 5ms/step - loss: 0.7409 - accuracy: 0.7176 - val_loss: 0.5943 - val_accuracy: 0.7959\n",
            "Epoch 3/100\n",
            "55/55 [==============================] - 0s 5ms/step - loss: 0.5004 - accuracy: 0.8157 - val_loss: 0.4266 - val_accuracy: 0.8773\n",
            "Epoch 4/100\n",
            "55/55 [==============================] - 0s 5ms/step - loss: 0.3738 - accuracy: 0.8753 - val_loss: 0.3767 - val_accuracy: 0.8899\n",
            "Epoch 5/100\n",
            "55/55 [==============================] - 0s 6ms/step - loss: 0.3003 - accuracy: 0.9048 - val_loss: 0.2730 - val_accuracy: 0.9404\n",
            "Epoch 6/100\n",
            "55/55 [==============================] - 0s 5ms/step - loss: 0.2614 - accuracy: 0.9091 - val_loss: 0.2265 - val_accuracy: 0.9461\n",
            "Epoch 7/100\n",
            "55/55 [==============================] - 0s 5ms/step - loss: 0.2303 - accuracy: 0.9223 - val_loss: 0.2284 - val_accuracy: 0.9461\n",
            "Epoch 8/100\n",
            "55/55 [==============================] - 0s 5ms/step - loss: 0.2172 - accuracy: 0.9300 - val_loss: 0.2225 - val_accuracy: 0.9530\n",
            "Epoch 9/100\n",
            "55/55 [==============================] - 0s 6ms/step - loss: 0.1983 - accuracy: 0.9343 - val_loss: 0.1936 - val_accuracy: 0.9381\n",
            "Epoch 10/100\n",
            "55/55 [==============================] - 0s 6ms/step - loss: 0.1651 - accuracy: 0.9487 - val_loss: 0.1579 - val_accuracy: 0.9736\n",
            "Epoch 11/100\n",
            "55/55 [==============================] - 0s 5ms/step - loss: 0.1391 - accuracy: 0.9601 - val_loss: 0.1595 - val_accuracy: 0.9622\n",
            "Epoch 12/100\n",
            "55/55 [==============================] - 0s 5ms/step - loss: 0.1534 - accuracy: 0.9564 - val_loss: 0.1513 - val_accuracy: 0.9679\n",
            "Epoch 13/100\n",
            "55/55 [==============================] - 0s 6ms/step - loss: 0.1332 - accuracy: 0.9581 - val_loss: 0.1657 - val_accuracy: 0.9713\n",
            "Epoch 14/100\n",
            "55/55 [==============================] - 0s 6ms/step - loss: 0.1273 - accuracy: 0.9639 - val_loss: 0.1277 - val_accuracy: 0.9794\n",
            "Epoch 15/100\n",
            "55/55 [==============================] - 0s 6ms/step - loss: 0.1013 - accuracy: 0.9722 - val_loss: 0.1363 - val_accuracy: 0.9817\n",
            "Epoch 16/100\n",
            "55/55 [==============================] - 0s 5ms/step - loss: 0.1004 - accuracy: 0.9719 - val_loss: 0.1133 - val_accuracy: 0.9828\n",
            "Epoch 17/100\n",
            "55/55 [==============================] - 0s 6ms/step - loss: 0.0888 - accuracy: 0.9716 - val_loss: 0.1256 - val_accuracy: 0.9782\n",
            "Epoch 18/100\n",
            "55/55 [==============================] - 0s 6ms/step - loss: 0.0935 - accuracy: 0.9725 - val_loss: 0.1204 - val_accuracy: 0.9713\n",
            "Epoch 19/100\n",
            "55/55 [==============================] - 0s 6ms/step - loss: 0.0988 - accuracy: 0.9696 - val_loss: 0.1488 - val_accuracy: 0.9690\n",
            "Epoch 20/100\n",
            "55/55 [==============================] - 0s 6ms/step - loss: 0.0954 - accuracy: 0.9679 - val_loss: 0.1262 - val_accuracy: 0.9794\n",
            "Epoch 21/100\n",
            "55/55 [==============================] - 0s 5ms/step - loss: 0.0865 - accuracy: 0.9751 - val_loss: 0.1143 - val_accuracy: 0.9828\n",
            "Epoch 22/100\n",
            "55/55 [==============================] - 0s 6ms/step - loss: 0.0674 - accuracy: 0.9799 - val_loss: 0.0998 - val_accuracy: 0.9851\n",
            "Epoch 23/100\n",
            "55/55 [==============================] - 0s 6ms/step - loss: 0.0797 - accuracy: 0.9765 - val_loss: 0.1154 - val_accuracy: 0.9885\n",
            "Epoch 24/100\n",
            "55/55 [==============================] - 0s 7ms/step - loss: 0.0724 - accuracy: 0.9788 - val_loss: 0.1046 - val_accuracy: 0.9885\n",
            "Epoch 25/100\n",
            "55/55 [==============================] - 0s 7ms/step - loss: 0.0829 - accuracy: 0.9722 - val_loss: 0.1319 - val_accuracy: 0.9805\n",
            "Epoch 26/100\n",
            "55/55 [==============================] - 0s 7ms/step - loss: 0.0635 - accuracy: 0.9839 - val_loss: 0.0958 - val_accuracy: 0.9908\n",
            "Epoch 27/100\n",
            "55/55 [==============================] - 0s 7ms/step - loss: 0.0717 - accuracy: 0.9791 - val_loss: 0.1173 - val_accuracy: 0.9794\n",
            "Epoch 28/100\n",
            "55/55 [==============================] - 0s 8ms/step - loss: 0.0596 - accuracy: 0.9791 - val_loss: 0.1043 - val_accuracy: 0.9851\n",
            "Epoch 29/100\n",
            "55/55 [==============================] - 0s 7ms/step - loss: 0.0677 - accuracy: 0.9808 - val_loss: 0.1173 - val_accuracy: 0.9851\n",
            "Epoch 30/100\n",
            "55/55 [==============================] - 0s 7ms/step - loss: 0.0579 - accuracy: 0.9828 - val_loss: 0.0949 - val_accuracy: 0.9874\n",
            "Epoch 31/100\n",
            "55/55 [==============================] - 0s 8ms/step - loss: 0.0700 - accuracy: 0.9796 - val_loss: 0.0904 - val_accuracy: 0.9897\n",
            "Epoch 32/100\n",
            "55/55 [==============================] - 0s 7ms/step - loss: 0.0408 - accuracy: 0.9905 - val_loss: 0.0948 - val_accuracy: 0.9862\n",
            "Epoch 33/100\n",
            "55/55 [==============================] - 0s 6ms/step - loss: 0.0582 - accuracy: 0.9845 - val_loss: 0.0874 - val_accuracy: 0.9897\n",
            "Epoch 34/100\n",
            "55/55 [==============================] - 0s 5ms/step - loss: 0.0490 - accuracy: 0.9848 - val_loss: 0.1006 - val_accuracy: 0.9874\n",
            "Epoch 35/100\n",
            "55/55 [==============================] - 0s 6ms/step - loss: 0.0497 - accuracy: 0.9825 - val_loss: 0.0957 - val_accuracy: 0.9862\n",
            "Epoch 36/100\n",
            "55/55 [==============================] - 0s 6ms/step - loss: 0.0498 - accuracy: 0.9839 - val_loss: 0.0954 - val_accuracy: 0.9874\n",
            "Epoch 37/100\n",
            "55/55 [==============================] - 0s 6ms/step - loss: 0.0400 - accuracy: 0.9880 - val_loss: 0.0999 - val_accuracy: 0.9908\n",
            "Epoch 38/100\n",
            "55/55 [==============================] - 0s 5ms/step - loss: 0.0402 - accuracy: 0.9877 - val_loss: 0.0980 - val_accuracy: 0.9851\n",
            "Epoch 39/100\n",
            "55/55 [==============================] - 0s 6ms/step - loss: 0.0566 - accuracy: 0.9814 - val_loss: 0.1209 - val_accuracy: 0.9782\n",
            "Epoch 40/100\n",
            "55/55 [==============================] - 0s 6ms/step - loss: 0.0432 - accuracy: 0.9880 - val_loss: 0.0977 - val_accuracy: 0.9897\n",
            "Epoch 41/100\n",
            "55/55 [==============================] - 0s 5ms/step - loss: 0.0308 - accuracy: 0.9908 - val_loss: 0.1118 - val_accuracy: 0.9874\n",
            "Epoch 42/100\n",
            "55/55 [==============================] - 0s 6ms/step - loss: 0.0353 - accuracy: 0.9900 - val_loss: 0.0899 - val_accuracy: 0.9908\n",
            "Epoch 43/100\n",
            "55/55 [==============================] - 0s 6ms/step - loss: 0.0381 - accuracy: 0.9862 - val_loss: 0.1020 - val_accuracy: 0.9874\n",
            "Epoch 44/100\n",
            "55/55 [==============================] - 0s 6ms/step - loss: 0.0551 - accuracy: 0.9837 - val_loss: 0.1037 - val_accuracy: 0.9851\n",
            "Epoch 45/100\n",
            "55/55 [==============================] - 0s 5ms/step - loss: 0.0483 - accuracy: 0.9842 - val_loss: 0.0984 - val_accuracy: 0.9851\n",
            "Epoch 46/100\n",
            "55/55 [==============================] - 0s 5ms/step - loss: 0.0402 - accuracy: 0.9874 - val_loss: 0.1036 - val_accuracy: 0.9885\n",
            "Epoch 47/100\n",
            "55/55 [==============================] - 0s 5ms/step - loss: 0.0434 - accuracy: 0.9860 - val_loss: 0.0947 - val_accuracy: 0.9862\n",
            "Epoch 48/100\n",
            "55/55 [==============================] - 0s 6ms/step - loss: 0.0351 - accuracy: 0.9888 - val_loss: 0.1013 - val_accuracy: 0.9908\n",
            "Epoch 49/100\n",
            "55/55 [==============================] - 0s 6ms/step - loss: 0.0374 - accuracy: 0.9894 - val_loss: 0.1013 - val_accuracy: 0.9920\n",
            "Epoch 50/100\n",
            "55/55 [==============================] - 0s 5ms/step - loss: 0.0268 - accuracy: 0.9908 - val_loss: 0.0985 - val_accuracy: 0.9908\n",
            "Epoch 51/100\n",
            "55/55 [==============================] - 0s 6ms/step - loss: 0.0356 - accuracy: 0.9877 - val_loss: 0.1191 - val_accuracy: 0.9862\n",
            "Epoch 52/100\n",
            "55/55 [==============================] - 0s 6ms/step - loss: 0.0511 - accuracy: 0.9834 - val_loss: 0.1008 - val_accuracy: 0.9851\n",
            "Epoch 53/100\n",
            "55/55 [==============================] - 0s 6ms/step - loss: 0.0393 - accuracy: 0.9868 - val_loss: 0.1135 - val_accuracy: 0.9908\n",
            "Epoch 54/100\n",
            "55/55 [==============================] - 0s 6ms/step - loss: 0.0378 - accuracy: 0.9880 - val_loss: 0.1203 - val_accuracy: 0.9885\n",
            "Epoch 55/100\n",
            "55/55 [==============================] - 0s 5ms/step - loss: 0.0428 - accuracy: 0.9871 - val_loss: 0.1207 - val_accuracy: 0.9874\n",
            "Epoch 56/100\n",
            "55/55 [==============================] - 0s 6ms/step - loss: 0.0466 - accuracy: 0.9854 - val_loss: 0.1291 - val_accuracy: 0.9794\n",
            "Epoch 57/100\n",
            "55/55 [==============================] - 0s 6ms/step - loss: 0.0412 - accuracy: 0.9862 - val_loss: 0.1098 - val_accuracy: 0.9828\n",
            "Epoch 58/100\n",
            "55/55 [==============================] - 0s 6ms/step - loss: 0.0241 - accuracy: 0.9937 - val_loss: 0.0945 - val_accuracy: 0.9920\n",
            "Epoch 59/100\n",
            "55/55 [==============================] - 0s 6ms/step - loss: 0.0262 - accuracy: 0.9920 - val_loss: 0.1028 - val_accuracy: 0.9908\n",
            "Epoch 60/100\n",
            "55/55 [==============================] - 0s 6ms/step - loss: 0.0166 - accuracy: 0.9948 - val_loss: 0.0917 - val_accuracy: 0.9908\n",
            "Epoch 61/100\n",
            "55/55 [==============================] - 0s 6ms/step - loss: 0.0228 - accuracy: 0.9943 - val_loss: 0.1183 - val_accuracy: 0.9862\n",
            "Epoch 62/100\n",
            "55/55 [==============================] - 0s 5ms/step - loss: 0.0235 - accuracy: 0.9925 - val_loss: 0.0993 - val_accuracy: 0.9920\n",
            "Epoch 63/100\n",
            "55/55 [==============================] - 0s 6ms/step - loss: 0.0169 - accuracy: 0.9948 - val_loss: 0.1073 - val_accuracy: 0.9885\n",
            "Epoch 64/100\n",
            "55/55 [==============================] - 0s 8ms/step - loss: 0.0204 - accuracy: 0.9931 - val_loss: 0.1193 - val_accuracy: 0.9885\n",
            "Epoch 65/100\n",
            "55/55 [==============================] - 0s 8ms/step - loss: 0.0305 - accuracy: 0.9894 - val_loss: 0.1134 - val_accuracy: 0.9897\n",
            "Epoch 66/100\n",
            "55/55 [==============================] - 0s 7ms/step - loss: 0.0395 - accuracy: 0.9842 - val_loss: 0.1432 - val_accuracy: 0.9805\n",
            "Epoch 67/100\n",
            "55/55 [==============================] - 0s 7ms/step - loss: 0.0345 - accuracy: 0.9868 - val_loss: 0.0963 - val_accuracy: 0.9862\n",
            "Epoch 68/100\n",
            "55/55 [==============================] - 0s 7ms/step - loss: 0.0300 - accuracy: 0.9903 - val_loss: 0.1201 - val_accuracy: 0.9897\n",
            "Epoch 69/100\n",
            "55/55 [==============================] - 0s 7ms/step - loss: 0.0241 - accuracy: 0.9925 - val_loss: 0.1253 - val_accuracy: 0.9885\n",
            "Epoch 70/100\n",
            "55/55 [==============================] - 0s 7ms/step - loss: 0.0250 - accuracy: 0.9914 - val_loss: 0.1248 - val_accuracy: 0.9839\n",
            "Epoch 71/100\n",
            "55/55 [==============================] - 0s 8ms/step - loss: 0.0372 - accuracy: 0.9908 - val_loss: 0.1029 - val_accuracy: 0.9885\n",
            "Epoch 72/100\n",
            "55/55 [==============================] - 0s 6ms/step - loss: 0.0172 - accuracy: 0.9948 - val_loss: 0.0860 - val_accuracy: 0.9897\n",
            "Epoch 73/100\n",
            "55/55 [==============================] - 0s 6ms/step - loss: 0.0117 - accuracy: 0.9966 - val_loss: 0.1120 - val_accuracy: 0.9897\n",
            "Epoch 74/100\n",
            "55/55 [==============================] - 0s 6ms/step - loss: 0.0209 - accuracy: 0.9923 - val_loss: 0.1335 - val_accuracy: 0.9851\n",
            "Epoch 75/100\n",
            "55/55 [==============================] - 0s 6ms/step - loss: 0.0270 - accuracy: 0.9905 - val_loss: 0.1449 - val_accuracy: 0.9874\n",
            "Epoch 76/100\n",
            "55/55 [==============================] - 0s 6ms/step - loss: 0.0347 - accuracy: 0.9885 - val_loss: 0.1165 - val_accuracy: 0.9862\n",
            "Epoch 77/100\n",
            "55/55 [==============================] - 0s 6ms/step - loss: 0.0164 - accuracy: 0.9954 - val_loss: 0.1223 - val_accuracy: 0.9908\n",
            "Epoch 78/100\n",
            "55/55 [==============================] - 0s 6ms/step - loss: 0.0178 - accuracy: 0.9946 - val_loss: 0.1347 - val_accuracy: 0.9874\n",
            "Epoch 79/100\n",
            "55/55 [==============================] - 0s 6ms/step - loss: 0.0350 - accuracy: 0.9891 - val_loss: 0.1272 - val_accuracy: 0.9828\n",
            "Epoch 80/100\n",
            "55/55 [==============================] - 0s 6ms/step - loss: 0.0168 - accuracy: 0.9951 - val_loss: 0.1237 - val_accuracy: 0.9897\n",
            "Epoch 81/100\n",
            "55/55 [==============================] - 0s 5ms/step - loss: 0.0099 - accuracy: 0.9966 - val_loss: 0.1174 - val_accuracy: 0.9908\n",
            "Epoch 82/100\n",
            "55/55 [==============================] - 0s 5ms/step - loss: 0.0186 - accuracy: 0.9934 - val_loss: 0.1359 - val_accuracy: 0.9920\n",
            "Epoch 83/100\n",
            "55/55 [==============================] - 0s 6ms/step - loss: 0.0198 - accuracy: 0.9923 - val_loss: 0.1338 - val_accuracy: 0.9862\n",
            "Epoch 84/100\n",
            "55/55 [==============================] - 0s 5ms/step - loss: 0.0169 - accuracy: 0.9943 - val_loss: 0.1280 - val_accuracy: 0.9874\n",
            "Epoch 85/100\n",
            "55/55 [==============================] - 0s 6ms/step - loss: 0.0187 - accuracy: 0.9940 - val_loss: 0.1269 - val_accuracy: 0.9851\n",
            "Epoch 86/100\n",
            "55/55 [==============================] - 0s 6ms/step - loss: 0.0196 - accuracy: 0.9934 - val_loss: 0.1212 - val_accuracy: 0.9897\n",
            "Epoch 87/100\n",
            "55/55 [==============================] - 0s 7ms/step - loss: 0.0203 - accuracy: 0.9937 - val_loss: 0.1268 - val_accuracy: 0.9897\n",
            "Epoch 88/100\n",
            "55/55 [==============================] - 0s 5ms/step - loss: 0.0212 - accuracy: 0.9934 - val_loss: 0.1415 - val_accuracy: 0.9862\n",
            "Epoch 89/100\n",
            "55/55 [==============================] - 0s 5ms/step - loss: 0.0192 - accuracy: 0.9931 - val_loss: 0.1464 - val_accuracy: 0.9897\n",
            "Epoch 90/100\n",
            "55/55 [==============================] - 0s 6ms/step - loss: 0.0323 - accuracy: 0.9888 - val_loss: 0.1269 - val_accuracy: 0.9908\n",
            "Epoch 91/100\n",
            "55/55 [==============================] - 0s 6ms/step - loss: 0.0145 - accuracy: 0.9946 - val_loss: 0.1486 - val_accuracy: 0.9885\n",
            "Epoch 92/100\n",
            "55/55 [==============================] - 0s 5ms/step - loss: 0.0220 - accuracy: 0.9920 - val_loss: 0.1216 - val_accuracy: 0.9885\n",
            "Epoch 93/100\n",
            "55/55 [==============================] - 0s 6ms/step - loss: 0.0165 - accuracy: 0.9951 - val_loss: 0.1287 - val_accuracy: 0.9908\n",
            "Epoch 94/100\n",
            "55/55 [==============================] - 0s 6ms/step - loss: 0.0160 - accuracy: 0.9954 - val_loss: 0.1482 - val_accuracy: 0.9862\n",
            "Epoch 95/100\n",
            "55/55 [==============================] - 0s 6ms/step - loss: 0.0209 - accuracy: 0.9957 - val_loss: 0.1321 - val_accuracy: 0.9897\n",
            "Epoch 96/100\n",
            "55/55 [==============================] - 0s 6ms/step - loss: 0.0223 - accuracy: 0.9934 - val_loss: 0.1422 - val_accuracy: 0.9817\n",
            "Epoch 97/100\n",
            "55/55 [==============================] - 0s 6ms/step - loss: 0.0178 - accuracy: 0.9934 - val_loss: 0.1240 - val_accuracy: 0.9908\n",
            "Epoch 98/100\n",
            "55/55 [==============================] - 0s 5ms/step - loss: 0.0140 - accuracy: 0.9966 - val_loss: 0.1386 - val_accuracy: 0.9874\n",
            "Epoch 99/100\n",
            "55/55 [==============================] - 0s 5ms/step - loss: 0.0195 - accuracy: 0.9940 - val_loss: 0.1297 - val_accuracy: 0.9897\n",
            "Epoch 100/100\n",
            "55/55 [==============================] - 0s 6ms/step - loss: 0.0182 - accuracy: 0.9934 - val_loss: 0.1475 - val_accuracy: 0.9874\n"
          ]
        }
      ],
      "source": [
        "#lost function and optimizer\n",
        "model.compile(loss='categorical_crossentropy', optimizer='adam', metrics=['accuracy'])\n",
        "\n",
        "history = model.fit(X_train, Y_train, epochs = 100, validation_data=(X_val, Y_val), batch_size = 64, verbose = 1)"
      ]
    },
    {
      "cell_type": "markdown",
      "metadata": {
        "id": "oqVXBOaU6BJI"
      },
      "source": [
        "#### Evaluate the model"
      ]
    },
    {
      "cell_type": "code",
      "execution_count": null,
      "metadata": {
        "colab": {
          "base_uri": "https://localhost:8080/"
        },
        "id": "fHJsh8r1Ovy0",
        "outputId": "dc3e9c93-77b2-40b8-916e-a61543bd2e51"
      },
      "outputs": [
        {
          "name": "stdout",
          "output_type": "stream",
          "text": [
            "18/18 [==============================] - 0s 9ms/step - loss: 0.1140 - accuracy: 0.9862\n",
            "Test Accuracy : 0.9862385392189026\n",
            "Test Loss : 0.11398596316576004\n"
          ]
        }
      ],
      "source": [
        "#Evaluate the model\n",
        "results = model.evaluate(X_test, Y_test, batch_size = 64, verbose = 1)\n",
        "arch3_test_acc = results[1]\n",
        "arch3_test_loss = results[0]\n",
        "print(\"Test Accuracy :\", results[1])\n",
        "print(\"Test Loss :\", results[0])"
      ]
    },
    {
      "cell_type": "markdown",
      "metadata": {
        "id": "g8zCCj346DkH"
      },
      "source": [
        "#### Create a graph of accuracy and loss over time"
      ]
    },
    {
      "cell_type": "code",
      "execution_count": null,
      "metadata": {
        "colab": {
          "base_uri": "https://localhost:8080/"
        },
        "id": "pY1VHxH2Oy_I",
        "outputId": "99ea3d82-78e5-43a0-d0cc-df33a211994d"
      },
      "outputs": [
        {
          "data": {
            "text/plain": [
              "<matplotlib.legend.Legend at 0x7fb71abdb700>"
            ]
          },
          "execution_count": 34,
          "metadata": {},
          "output_type": "execute_result"
        }
      ],
      "source": [
        "#Create a graph of accuracy and loss over time\n",
        "history_dict = history.history\n",
        "\n",
        "import matplotlib.pyplot as plt\n",
        "\n",
        "# Get the historical values for accuracies and losses\n",
        "\n",
        "acc = history_dict['accuracy']\n",
        "val_acc = history_dict['val_accuracy']\n",
        "loss = history_dict['loss']\n",
        "val_loss = history_dict['val_loss']\n",
        "\n",
        "# Save the last values for accuracies and losses for comparison\n",
        "\n",
        "arch3_train_acc = acc[-1]\n",
        "arch3_val_acc = val_acc[-1]\n",
        "arch3_train_loss = loss[-1]\n",
        "arch3_val_loss = val_loss[-1]\n",
        "\n",
        "epochs = range(1, len(acc) + 1)\n",
        "\n",
        "axes[0, 2].plot(epochs, acc , 'r', label='Training Accuracy')\n",
        "axes[0, 2].plot(epochs,val_acc , 'm', label='Validation Accuracy')\n",
        "axes[0, 2].plot(epochs, loss, 'g', label='Training loss')\n",
        "axes[0, 2].plot(epochs, val_loss, 'b', label='Validation loss')\n",
        "axes[0, 2].set_title(\"Architecture 3\")\n",
        "axes[0, 2].set_xlabel('Epochs')\n",
        "axes[0, 2].set_ylabel('Loss')\n",
        "axes[0, 2].legend()"
      ]
    },
    {
      "cell_type": "markdown",
      "metadata": {
        "id": "sRYousUBIYZR"
      },
      "source": [
        "### Architecture 4: Conv1D(32) + Max Pooling + LSTM(128) + Dropout + Fully Connected + Fully Connected\n",
        "\n",
        "Source: None, the network was done empyrically"
      ]
    },
    {
      "cell_type": "markdown",
      "metadata": {
        "id": "a8alqUuL6ePX"
      },
      "source": [
        "This architecture uses a 1D convolutional layer of 32 filters, then a max pooling layer to reduce dimensionality, a LSTM layer of 128 units, a dropout layer to prevent overfitting, and two fully connected layers to map the information from previous layers to the 4 outputs."
      ]
    },
    {
      "cell_type": "code",
      "execution_count": null,
      "metadata": {
        "colab": {
          "base_uri": "https://localhost:8080/"
        },
        "id": "95knfHqWURfF",
        "outputId": "657f7355-23db-46fd-a1ea-1808c50bbf3f"
      },
      "outputs": [
        {
          "name": "stdout",
          "output_type": "stream",
          "text": [
            "Model: \"sequential_3\"\n",
            "_________________________________________________________________\n",
            " Layer (type)                Output Shape              Param #   \n",
            "=================================================================\n",
            " conv1d_2 (Conv1D)           (None, 98, 32)            3488      \n",
            "                                                                 \n",
            " max_pooling1d_1 (MaxPooling  (None, 49, 32)           0         \n",
            " 1D)                                                             \n",
            "                                                                 \n",
            " lstm_3 (LSTM)               (None, 128)               82432     \n",
            "                                                                 \n",
            " dropout_4 (Dropout)         (None, 128)               0         \n",
            "                                                                 \n",
            " dense_5 (Dense)             (None, 64)                8256      \n",
            "                                                                 \n",
            " dense_6 (Dense)             (None, 7)                 455       \n",
            "                                                                 \n",
            "=================================================================\n",
            "Total params: 94,631\n",
            "Trainable params: 94,631\n",
            "Non-trainable params: 0\n",
            "_________________________________________________________________\n"
          ]
        }
      ],
      "source": [
        "# Define the model\n",
        "model = keras.Sequential()\n",
        "\n",
        "# Add a 1D Convolutional layer with 32 filters and a kernel size of 3\n",
        "model.add(Conv1D(filters=32, kernel_size=3, activation='relu', input_shape=(n_timesteps, n_features)))\n",
        "\n",
        "# Add a Max Pooling layer with a pool size of 2\n",
        "model.add(MaxPooling1D(pool_size=2))\n",
        "\n",
        "# Add an LSTM layer with 128 units\n",
        "model.add(LSTM(units=128))\n",
        "\n",
        "# Add a dropout layer with a rate of 0.5\n",
        "model.add(Dropout(rate=0.5))\n",
        "\n",
        "# Add a fully connected layer\n",
        "model.add(Dense(units=64, activation='relu'))\n",
        "\n",
        "# Add an output layer\n",
        "model.add(Dense(units=n_outputs, activation='softmax'))\n",
        "\n",
        "model.summary()"
      ]
    },
    {
      "cell_type": "markdown",
      "metadata": {
        "id": "2iBoi6ek6-uY"
      },
      "source": [
        "#### Loss Function and training"
      ]
    },
    {
      "cell_type": "code",
      "execution_count": null,
      "metadata": {
        "colab": {
          "base_uri": "https://localhost:8080/"
        },
        "id": "x-rVJIOW_L7l",
        "outputId": "9bc121e6-619b-4f9e-a11c-04f4c42b560e"
      },
      "outputs": [
        {
          "name": "stdout",
          "output_type": "stream",
          "text": [
            "Epoch 1/100\n",
            "55/55 [==============================] - 5s 19ms/step - loss: 1.8107 - accuracy: 0.2130 - val_loss: 1.6654 - val_accuracy: 0.3234\n",
            "Epoch 2/100\n",
            "55/55 [==============================] - 0s 7ms/step - loss: 1.6019 - accuracy: 0.3010 - val_loss: 1.4423 - val_accuracy: 0.4060\n",
            "Epoch 3/100\n",
            "55/55 [==============================] - 0s 8ms/step - loss: 1.3450 - accuracy: 0.4166 - val_loss: 1.1585 - val_accuracy: 0.4817\n",
            "Epoch 4/100\n",
            "55/55 [==============================] - 0s 8ms/step - loss: 1.1947 - accuracy: 0.4722 - val_loss: 1.1334 - val_accuracy: 0.5287\n",
            "Epoch 5/100\n",
            "55/55 [==============================] - 0s 8ms/step - loss: 1.1111 - accuracy: 0.5195 - val_loss: 1.0233 - val_accuracy: 0.5654\n",
            "Epoch 6/100\n",
            "55/55 [==============================] - 0s 7ms/step - loss: 1.0447 - accuracy: 0.5539 - val_loss: 0.9496 - val_accuracy: 0.6021\n",
            "Epoch 7/100\n",
            "55/55 [==============================] - 0s 8ms/step - loss: 0.8986 - accuracy: 0.6261 - val_loss: 0.8689 - val_accuracy: 0.6502\n",
            "Epoch 8/100\n",
            "55/55 [==============================] - 0s 8ms/step - loss: 0.8582 - accuracy: 0.6491 - val_loss: 0.8219 - val_accuracy: 0.6124\n",
            "Epoch 9/100\n",
            "55/55 [==============================] - 0s 8ms/step - loss: 0.7836 - accuracy: 0.6855 - val_loss: 0.7243 - val_accuracy: 0.6915\n",
            "Epoch 10/100\n",
            "55/55 [==============================] - 0s 8ms/step - loss: 0.7078 - accuracy: 0.7231 - val_loss: 0.6644 - val_accuracy: 0.7271\n",
            "Epoch 11/100\n",
            "55/55 [==============================] - 0s 7ms/step - loss: 0.6415 - accuracy: 0.7549 - val_loss: 0.5053 - val_accuracy: 0.8200\n",
            "Epoch 12/100\n",
            "55/55 [==============================] - 0s 7ms/step - loss: 0.5697 - accuracy: 0.7775 - val_loss: 0.5111 - val_accuracy: 0.8211\n",
            "Epoch 13/100\n",
            "55/55 [==============================] - 0s 8ms/step - loss: 0.5453 - accuracy: 0.7973 - val_loss: 0.4695 - val_accuracy: 0.8257\n",
            "Epoch 14/100\n",
            "55/55 [==============================] - 0s 8ms/step - loss: 0.4480 - accuracy: 0.8300 - val_loss: 0.4019 - val_accuracy: 0.8360\n",
            "Epoch 15/100\n",
            "55/55 [==============================] - 0s 8ms/step - loss: 0.4244 - accuracy: 0.8351 - val_loss: 0.3839 - val_accuracy: 0.8498\n",
            "Epoch 16/100\n",
            "55/55 [==============================] - 0s 8ms/step - loss: 0.4225 - accuracy: 0.8438 - val_loss: 0.4037 - val_accuracy: 0.8291\n",
            "Epoch 17/100\n",
            "55/55 [==============================] - 0s 8ms/step - loss: 0.3553 - accuracy: 0.8744 - val_loss: 0.3507 - val_accuracy: 0.8544\n",
            "Epoch 18/100\n",
            "55/55 [==============================] - 0s 8ms/step - loss: 0.3653 - accuracy: 0.8592 - val_loss: 0.2874 - val_accuracy: 0.8933\n",
            "Epoch 19/100\n",
            "55/55 [==============================] - 0s 8ms/step - loss: 0.3161 - accuracy: 0.8859 - val_loss: 0.2405 - val_accuracy: 0.9220\n",
            "Epoch 20/100\n",
            "55/55 [==============================] - 1s 10ms/step - loss: 0.2792 - accuracy: 0.8954 - val_loss: 0.2365 - val_accuracy: 0.9278\n",
            "Epoch 21/100\n",
            "55/55 [==============================] - 1s 10ms/step - loss: 0.3042 - accuracy: 0.8999 - val_loss: 0.1906 - val_accuracy: 0.9404\n",
            "Epoch 22/100\n",
            "55/55 [==============================] - 1s 11ms/step - loss: 0.2581 - accuracy: 0.9045 - val_loss: 0.3206 - val_accuracy: 0.8888\n",
            "Epoch 23/100\n",
            "55/55 [==============================] - 1s 12ms/step - loss: 0.2574 - accuracy: 0.9094 - val_loss: 0.2100 - val_accuracy: 0.9186\n",
            "Epoch 24/100\n",
            "55/55 [==============================] - 1s 10ms/step - loss: 0.2076 - accuracy: 0.9266 - val_loss: 0.2378 - val_accuracy: 0.9300\n",
            "Epoch 25/100\n",
            "55/55 [==============================] - 1s 10ms/step - loss: 0.2139 - accuracy: 0.9280 - val_loss: 0.1992 - val_accuracy: 0.9335\n",
            "Epoch 26/100\n",
            "55/55 [==============================] - 0s 9ms/step - loss: 0.2005 - accuracy: 0.9300 - val_loss: 0.1762 - val_accuracy: 0.9484\n",
            "Epoch 27/100\n",
            "55/55 [==============================] - 0s 8ms/step - loss: 0.1755 - accuracy: 0.9404 - val_loss: 0.1375 - val_accuracy: 0.9576\n",
            "Epoch 28/100\n",
            "55/55 [==============================] - 0s 8ms/step - loss: 0.1512 - accuracy: 0.9547 - val_loss: 0.2894 - val_accuracy: 0.9128\n",
            "Epoch 29/100\n",
            "55/55 [==============================] - 0s 8ms/step - loss: 0.2161 - accuracy: 0.9275 - val_loss: 0.1420 - val_accuracy: 0.9576\n",
            "Epoch 30/100\n",
            "55/55 [==============================] - 0s 8ms/step - loss: 0.1715 - accuracy: 0.9464 - val_loss: 0.1957 - val_accuracy: 0.9346\n",
            "Epoch 31/100\n",
            "55/55 [==============================] - 0s 8ms/step - loss: 0.2240 - accuracy: 0.9266 - val_loss: 0.1441 - val_accuracy: 0.9553\n",
            "Epoch 32/100\n",
            "55/55 [==============================] - 0s 8ms/step - loss: 0.1505 - accuracy: 0.9510 - val_loss: 0.1339 - val_accuracy: 0.9644\n",
            "Epoch 33/100\n",
            "55/55 [==============================] - 0s 7ms/step - loss: 0.1073 - accuracy: 0.9702 - val_loss: 0.1148 - val_accuracy: 0.9771\n",
            "Epoch 34/100\n",
            "55/55 [==============================] - 0s 8ms/step - loss: 0.1408 - accuracy: 0.9533 - val_loss: 0.1492 - val_accuracy: 0.9553\n",
            "Epoch 35/100\n",
            "55/55 [==============================] - 0s 7ms/step - loss: 0.1235 - accuracy: 0.9644 - val_loss: 0.1198 - val_accuracy: 0.9702\n",
            "Epoch 36/100\n",
            "55/55 [==============================] - 0s 8ms/step - loss: 0.1065 - accuracy: 0.9676 - val_loss: 0.1411 - val_accuracy: 0.9633\n",
            "Epoch 37/100\n",
            "55/55 [==============================] - 0s 8ms/step - loss: 0.1123 - accuracy: 0.9644 - val_loss: 0.1640 - val_accuracy: 0.9484\n",
            "Epoch 38/100\n",
            "55/55 [==============================] - 0s 7ms/step - loss: 0.1161 - accuracy: 0.9619 - val_loss: 0.2168 - val_accuracy: 0.9323\n",
            "Epoch 39/100\n",
            "55/55 [==============================] - 0s 8ms/step - loss: 0.1422 - accuracy: 0.9550 - val_loss: 0.1165 - val_accuracy: 0.9690\n",
            "Epoch 40/100\n",
            "55/55 [==============================] - 0s 8ms/step - loss: 0.0773 - accuracy: 0.9785 - val_loss: 0.1126 - val_accuracy: 0.9702\n",
            "Epoch 41/100\n",
            "55/55 [==============================] - 0s 8ms/step - loss: 0.0747 - accuracy: 0.9774 - val_loss: 0.1079 - val_accuracy: 0.9748\n",
            "Epoch 42/100\n",
            "55/55 [==============================] - 0s 8ms/step - loss: 0.0860 - accuracy: 0.9733 - val_loss: 0.1455 - val_accuracy: 0.9541\n",
            "Epoch 43/100\n",
            "55/55 [==============================] - 0s 8ms/step - loss: 0.1405 - accuracy: 0.9544 - val_loss: 0.1371 - val_accuracy: 0.9564\n",
            "Epoch 44/100\n",
            "55/55 [==============================] - 0s 8ms/step - loss: 0.0801 - accuracy: 0.9785 - val_loss: 0.1392 - val_accuracy: 0.9610\n",
            "Epoch 45/100\n",
            "55/55 [==============================] - 0s 8ms/step - loss: 0.0755 - accuracy: 0.9794 - val_loss: 0.0858 - val_accuracy: 0.9817\n",
            "Epoch 46/100\n",
            "55/55 [==============================] - 0s 8ms/step - loss: 0.0761 - accuracy: 0.9788 - val_loss: 0.0932 - val_accuracy: 0.9782\n",
            "Epoch 47/100\n",
            "55/55 [==============================] - 0s 8ms/step - loss: 0.0916 - accuracy: 0.9728 - val_loss: 0.2521 - val_accuracy: 0.9186\n",
            "Epoch 48/100\n",
            "55/55 [==============================] - 0s 8ms/step - loss: 0.2205 - accuracy: 0.9260 - val_loss: 0.1091 - val_accuracy: 0.9725\n",
            "Epoch 49/100\n",
            "55/55 [==============================] - 1s 11ms/step - loss: 0.0970 - accuracy: 0.9705 - val_loss: 0.1051 - val_accuracy: 0.9713\n",
            "Epoch 50/100\n",
            "55/55 [==============================] - 1s 11ms/step - loss: 0.0813 - accuracy: 0.9745 - val_loss: 0.0882 - val_accuracy: 0.9839\n",
            "Epoch 51/100\n",
            "55/55 [==============================] - 1s 11ms/step - loss: 0.0831 - accuracy: 0.9745 - val_loss: 0.1146 - val_accuracy: 0.9713\n",
            "Epoch 52/100\n",
            "55/55 [==============================] - 1s 12ms/step - loss: 0.0721 - accuracy: 0.9796 - val_loss: 0.1195 - val_accuracy: 0.9622\n",
            "Epoch 53/100\n",
            "55/55 [==============================] - 1s 11ms/step - loss: 0.0659 - accuracy: 0.9779 - val_loss: 0.0965 - val_accuracy: 0.9794\n",
            "Epoch 54/100\n",
            "55/55 [==============================] - 0s 9ms/step - loss: 0.0488 - accuracy: 0.9854 - val_loss: 0.1042 - val_accuracy: 0.9771\n",
            "Epoch 55/100\n",
            "55/55 [==============================] - 0s 8ms/step - loss: 0.0714 - accuracy: 0.9791 - val_loss: 0.1020 - val_accuracy: 0.9771\n",
            "Epoch 56/100\n",
            "55/55 [==============================] - 0s 8ms/step - loss: 0.0599 - accuracy: 0.9825 - val_loss: 0.0776 - val_accuracy: 0.9805\n",
            "Epoch 57/100\n",
            "55/55 [==============================] - 0s 8ms/step - loss: 0.0488 - accuracy: 0.9860 - val_loss: 0.0869 - val_accuracy: 0.9794\n",
            "Epoch 58/100\n",
            "55/55 [==============================] - 0s 8ms/step - loss: 0.0479 - accuracy: 0.9862 - val_loss: 0.0831 - val_accuracy: 0.9828\n",
            "Epoch 59/100\n",
            "55/55 [==============================] - 0s 8ms/step - loss: 0.0494 - accuracy: 0.9860 - val_loss: 0.0979 - val_accuracy: 0.9805\n",
            "Epoch 60/100\n",
            "55/55 [==============================] - 0s 8ms/step - loss: 0.0445 - accuracy: 0.9882 - val_loss: 0.0890 - val_accuracy: 0.9817\n",
            "Epoch 61/100\n",
            "55/55 [==============================] - 0s 7ms/step - loss: 0.0962 - accuracy: 0.9710 - val_loss: 0.1858 - val_accuracy: 0.9438\n",
            "Epoch 62/100\n",
            "55/55 [==============================] - 0s 8ms/step - loss: 0.0885 - accuracy: 0.9759 - val_loss: 0.0933 - val_accuracy: 0.9805\n",
            "Epoch 63/100\n",
            "55/55 [==============================] - 0s 8ms/step - loss: 0.0538 - accuracy: 0.9854 - val_loss: 0.0853 - val_accuracy: 0.9851\n",
            "Epoch 64/100\n",
            "55/55 [==============================] - 0s 7ms/step - loss: 0.0591 - accuracy: 0.9837 - val_loss: 0.0895 - val_accuracy: 0.9794\n",
            "Epoch 65/100\n",
            "55/55 [==============================] - 0s 8ms/step - loss: 0.0490 - accuracy: 0.9854 - val_loss: 0.0994 - val_accuracy: 0.9759\n",
            "Epoch 66/100\n",
            "55/55 [==============================] - 0s 8ms/step - loss: 0.0364 - accuracy: 0.9908 - val_loss: 0.0766 - val_accuracy: 0.9862\n",
            "Epoch 67/100\n",
            "55/55 [==============================] - 0s 8ms/step - loss: 0.0501 - accuracy: 0.9848 - val_loss: 0.0883 - val_accuracy: 0.9817\n",
            "Epoch 68/100\n",
            "55/55 [==============================] - 0s 8ms/step - loss: 0.0561 - accuracy: 0.9825 - val_loss: 0.1352 - val_accuracy: 0.9667\n",
            "Epoch 69/100\n",
            "55/55 [==============================] - 0s 8ms/step - loss: 0.0467 - accuracy: 0.9874 - val_loss: 0.1018 - val_accuracy: 0.9805\n",
            "Epoch 70/100\n",
            "55/55 [==============================] - 0s 7ms/step - loss: 0.0642 - accuracy: 0.9794 - val_loss: 0.1799 - val_accuracy: 0.9495\n",
            "Epoch 71/100\n",
            "55/55 [==============================] - 0s 8ms/step - loss: 0.0732 - accuracy: 0.9779 - val_loss: 0.1716 - val_accuracy: 0.9553\n",
            "Epoch 72/100\n",
            "55/55 [==============================] - 0s 8ms/step - loss: 0.1054 - accuracy: 0.9693 - val_loss: 0.0993 - val_accuracy: 0.9805\n",
            "Epoch 73/100\n",
            "55/55 [==============================] - 0s 8ms/step - loss: 0.0856 - accuracy: 0.9739 - val_loss: 0.0923 - val_accuracy: 0.9736\n",
            "Epoch 74/100\n",
            "55/55 [==============================] - 0s 8ms/step - loss: 0.0905 - accuracy: 0.9736 - val_loss: 0.0968 - val_accuracy: 0.9759\n",
            "Epoch 75/100\n",
            "55/55 [==============================] - 1s 10ms/step - loss: 0.0610 - accuracy: 0.9819 - val_loss: 0.0957 - val_accuracy: 0.9748\n",
            "Epoch 76/100\n",
            "55/55 [==============================] - 0s 8ms/step - loss: 0.0350 - accuracy: 0.9925 - val_loss: 0.0885 - val_accuracy: 0.9805\n",
            "Epoch 77/100\n",
            "55/55 [==============================] - 1s 11ms/step - loss: 0.0265 - accuracy: 0.9917 - val_loss: 0.0878 - val_accuracy: 0.9851\n",
            "Epoch 78/100\n",
            "55/55 [==============================] - 1s 10ms/step - loss: 0.0325 - accuracy: 0.9900 - val_loss: 0.0728 - val_accuracy: 0.9862\n",
            "Epoch 79/100\n",
            "55/55 [==============================] - 1s 10ms/step - loss: 0.0253 - accuracy: 0.9946 - val_loss: 0.0727 - val_accuracy: 0.9897\n",
            "Epoch 80/100\n",
            "55/55 [==============================] - 1s 10ms/step - loss: 0.0308 - accuracy: 0.9900 - val_loss: 0.1633 - val_accuracy: 0.9702\n",
            "Epoch 81/100\n",
            "55/55 [==============================] - 1s 10ms/step - loss: 0.0966 - accuracy: 0.9719 - val_loss: 0.3870 - val_accuracy: 0.9060\n",
            "Epoch 82/100\n",
            "55/55 [==============================] - 1s 11ms/step - loss: 0.2056 - accuracy: 0.9381 - val_loss: 0.1124 - val_accuracy: 0.9713\n",
            "Epoch 83/100\n",
            "55/55 [==============================] - 0s 8ms/step - loss: 0.0809 - accuracy: 0.9748 - val_loss: 0.1199 - val_accuracy: 0.9748\n",
            "Epoch 84/100\n",
            "55/55 [==============================] - 0s 8ms/step - loss: 0.0387 - accuracy: 0.9877 - val_loss: 0.0817 - val_accuracy: 0.9874\n",
            "Epoch 85/100\n",
            "55/55 [==============================] - 0s 8ms/step - loss: 0.0283 - accuracy: 0.9928 - val_loss: 0.0867 - val_accuracy: 0.9839\n",
            "Epoch 86/100\n",
            "55/55 [==============================] - 0s 8ms/step - loss: 0.0362 - accuracy: 0.9897 - val_loss: 0.1177 - val_accuracy: 0.9771\n",
            "Epoch 87/100\n",
            "55/55 [==============================] - 0s 8ms/step - loss: 0.0381 - accuracy: 0.9877 - val_loss: 0.0878 - val_accuracy: 0.9839\n",
            "Epoch 88/100\n",
            "55/55 [==============================] - 0s 8ms/step - loss: 0.0290 - accuracy: 0.9923 - val_loss: 0.0954 - val_accuracy: 0.9759\n",
            "Epoch 89/100\n",
            "55/55 [==============================] - 0s 7ms/step - loss: 0.0938 - accuracy: 0.9708 - val_loss: 0.0904 - val_accuracy: 0.9771\n",
            "Epoch 90/100\n",
            "55/55 [==============================] - 0s 8ms/step - loss: 0.0572 - accuracy: 0.9819 - val_loss: 0.1248 - val_accuracy: 0.9713\n",
            "Epoch 91/100\n",
            "55/55 [==============================] - 0s 8ms/step - loss: 0.0337 - accuracy: 0.9903 - val_loss: 0.0735 - val_accuracy: 0.9874\n",
            "Epoch 92/100\n",
            "55/55 [==============================] - 0s 8ms/step - loss: 0.0299 - accuracy: 0.9882 - val_loss: 0.1270 - val_accuracy: 0.9794\n",
            "Epoch 93/100\n",
            "55/55 [==============================] - 0s 8ms/step - loss: 0.0237 - accuracy: 0.9931 - val_loss: 0.0765 - val_accuracy: 0.9885\n",
            "Epoch 94/100\n",
            "55/55 [==============================] - 0s 7ms/step - loss: 0.0216 - accuracy: 0.9934 - val_loss: 0.0925 - val_accuracy: 0.9885\n",
            "Epoch 95/100\n",
            "55/55 [==============================] - 0s 8ms/step - loss: 0.0358 - accuracy: 0.9891 - val_loss: 0.1046 - val_accuracy: 0.9782\n",
            "Epoch 96/100\n",
            "55/55 [==============================] - 0s 8ms/step - loss: 0.0371 - accuracy: 0.9880 - val_loss: 0.1473 - val_accuracy: 0.9656\n",
            "Epoch 97/100\n",
            "55/55 [==============================] - 0s 8ms/step - loss: 0.0721 - accuracy: 0.9794 - val_loss: 0.0857 - val_accuracy: 0.9805\n",
            "Epoch 98/100\n",
            "55/55 [==============================] - 0s 8ms/step - loss: 0.0355 - accuracy: 0.9903 - val_loss: 0.0994 - val_accuracy: 0.9794\n",
            "Epoch 99/100\n",
            "55/55 [==============================] - 0s 8ms/step - loss: 0.0304 - accuracy: 0.9911 - val_loss: 0.0788 - val_accuracy: 0.9862\n",
            "Epoch 100/100\n",
            "55/55 [==============================] - 0s 8ms/step - loss: 0.0359 - accuracy: 0.9894 - val_loss: 0.1387 - val_accuracy: 0.9644\n"
          ]
        }
      ],
      "source": [
        "#lost function and optimizer\n",
        "model.compile(loss='categorical_crossentropy', optimizer='adam', metrics=['accuracy'])\n",
        "\n",
        "history = model.fit(X_train, Y_train, epochs = 100, validation_data=(X_val, Y_val), batch_size = 64, verbose = 1)"
      ]
    },
    {
      "cell_type": "markdown",
      "metadata": {
        "id": "4W2P6JvV7MH_"
      },
      "source": [
        "#### Evaluate the model"
      ]
    },
    {
      "cell_type": "code",
      "execution_count": null,
      "metadata": {
        "colab": {
          "base_uri": "https://localhost:8080/"
        },
        "id": "_tWPDX_5J2p4",
        "outputId": "59a5e4ac-4c7c-48fa-99af-bb78da0c4e76"
      },
      "outputs": [
        {
          "name": "stdout",
          "output_type": "stream",
          "text": [
            "18/18 [==============================] - 0s 6ms/step - loss: 0.1288 - accuracy: 0.9706\n",
            "Test Accuracy : 0.9706422090530396\n",
            "Test Loss : 0.12879067659378052\n"
          ]
        }
      ],
      "source": [
        "#Evaluate the model\n",
        "results = model.evaluate(X_test, Y_test, batch_size = 64, verbose = 1)\n",
        "arch4_test_acc = results[1]\n",
        "arch4_test_loss = results[0]\n",
        "print(\"Test Accuracy :\", results[1])\n",
        "print(\"Test Loss :\", results[0])"
      ]
    },
    {
      "cell_type": "markdown",
      "metadata": {
        "id": "NFi9zUCa7R2P"
      },
      "source": [
        "#### Create a graph of accuracy and loss over time"
      ]
    },
    {
      "cell_type": "code",
      "execution_count": null,
      "metadata": {
        "colab": {
          "base_uri": "https://localhost:8080/"
        },
        "id": "53lIWOqEKF6q",
        "outputId": "01a290e8-647f-4448-e36d-c56d47a9c417"
      },
      "outputs": [
        {
          "data": {
            "text/plain": [
              "<matplotlib.legend.Legend at 0x7fb71fb4bbb0>"
            ]
          },
          "execution_count": 38,
          "metadata": {},
          "output_type": "execute_result"
        }
      ],
      "source": [
        "#Create a graph of accuracy and loss over time\n",
        "history_dict = history.history\n",
        "\n",
        "import matplotlib.pyplot as plt\n",
        "\n",
        "# Get the historical values for accuracies and losses\n",
        "\n",
        "acc = history_dict['accuracy']\n",
        "val_acc = history_dict['val_accuracy']\n",
        "loss = history_dict['loss']\n",
        "val_loss = history_dict['val_loss']\n",
        "\n",
        "# Save the last values for accuracies and losses for comparison\n",
        "\n",
        "arch4_train_acc = acc[-1]\n",
        "arch4_val_acc = val_acc[-1]\n",
        "arch4_train_loss = loss[-1]\n",
        "arch4_val_loss = val_loss[-1]\n",
        "\n",
        "epochs = range(1, len(acc) + 1)\n",
        "\n",
        "axes[0, 3].plot(epochs, acc , 'r', label='Training Accuracy')\n",
        "axes[0, 3].plot(epochs,val_acc , 'm', label='Validation Accuracy')\n",
        "axes[0, 3].plot(epochs, loss, 'g', label='Training loss')\n",
        "axes[0, 3].plot(epochs, val_loss, 'b', label='Validation loss')\n",
        "axes[0, 3].set_title(\"Architecture 4\")\n",
        "axes[0, 3].set_xlabel('Epochs')\n",
        "axes[0, 3].set_ylabel('Loss')\n",
        "axes[0, 3].legend()"
      ]
    },
    {
      "cell_type": "markdown",
      "metadata": {
        "id": "KtW6dPDkIYZR"
      },
      "source": [
        "### Architecture 5: Conv1D(32) + Conv1D(64) + Max Pooling + Bidirectional LSTM(128) + Dropout + Fully Connected + Fully Connected\n",
        "\n",
        "Source: One of the papers suggested using bidirectional LSTM as an improvement for HAR, the added convolutional layers are for testing"
      ]
    },
    {
      "cell_type": "markdown",
      "metadata": {
        "id": "ZZk6-Qi17jtA"
      },
      "source": [
        "This architecture uses two layers of 1D convolutions, one using 32 filters and the other using 64 filters, then a max pooling layer to reduce dimensionality, a bidirectional LSTM of 128 neurons, a dropout layer to prevent overfitting, and two fully connected layers to map the information from previous layers to the 4 outputs."
      ]
    },
    {
      "cell_type": "code",
      "execution_count": null,
      "metadata": {
        "colab": {
          "base_uri": "https://localhost:8080/"
        },
        "id": "pqUcc5BGNDWA",
        "outputId": "07a8744b-2714-422f-d4f6-aa259e07315a"
      },
      "outputs": [
        {
          "name": "stdout",
          "output_type": "stream",
          "text": [
            "Model: \"sequential_4\"\n",
            "_________________________________________________________________\n",
            " Layer (type)                Output Shape              Param #   \n",
            "=================================================================\n",
            " conv1d_3 (Conv1D)           (None, 98, 32)            3488      \n",
            "                                                                 \n",
            " conv1d_4 (Conv1D)           (None, 96, 64)            6208      \n",
            "                                                                 \n",
            " max_pooling1d_2 (MaxPooling  (None, 48, 64)           0         \n",
            " 1D)                                                             \n",
            "                                                                 \n",
            " bidirectional (Bidirectiona  (None, 256)              197632    \n",
            " l)                                                              \n",
            "                                                                 \n",
            " dropout_5 (Dropout)         (None, 256)               0         \n",
            "                                                                 \n",
            " dense_7 (Dense)             (None, 64)                16448     \n",
            "                                                                 \n",
            " dense_8 (Dense)             (None, 7)                 455       \n",
            "                                                                 \n",
            "=================================================================\n",
            "Total params: 224,231\n",
            "Trainable params: 224,231\n",
            "Non-trainable params: 0\n",
            "_________________________________________________________________\n"
          ]
        }
      ],
      "source": [
        "from keras.layers import Bidirectional, Attention\n",
        "\n",
        "# Define the model\n",
        "model = keras.Sequential()\n",
        "\n",
        "# Add a 1D Convolutional layer with 32 filters and a kernel size of 3\n",
        "model.add(Conv1D(filters=32, kernel_size=3, activation='relu', input_shape=(n_timesteps, n_features)))\n",
        "\n",
        "# Add a second 1D Convolutional layer with 64 filters and a kernel size of 3\n",
        "model.add(Conv1D(filters=64, kernel_size=3, activation='relu'))\n",
        "\n",
        "# Add a Max Pooling layer with a pool size of 2\n",
        "model.add(MaxPooling1D(pool_size=2))\n",
        "\n",
        "# Add a bidirectional LSTM layer with 128 units\n",
        "model.add(Bidirectional(LSTM(units=128)))\n",
        "\n",
        "# Add a dropout layer with a rate of 0.5\n",
        "model.add(Dropout(rate=0.5))\n",
        "\n",
        "# Add a fully connected layer\n",
        "model.add(Dense(units=64, activation='relu'))\n",
        "\n",
        "# Add an output layer\n",
        "model.add(Dense(units=n_outputs, activation='softmax'))\n",
        "\n",
        "model.summary()"
      ]
    },
    {
      "cell_type": "markdown",
      "metadata": {
        "id": "TTxE5eV48F1I"
      },
      "source": [
        "#### Loss function and training"
      ]
    },
    {
      "cell_type": "code",
      "execution_count": null,
      "metadata": {
        "colab": {
          "base_uri": "https://localhost:8080/"
        },
        "id": "syL8fmSNseT4",
        "outputId": "4bb3efcf-0d5b-48d0-a8bb-1f5f83de5dd0"
      },
      "outputs": [
        {
          "name": "stdout",
          "output_type": "stream",
          "text": [
            "Epoch 1/100\n",
            "55/55 [==============================] - 8s 41ms/step - loss: 1.8205 - accuracy: 0.2070 - val_loss: 1.6927 - val_accuracy: 0.2626\n",
            "Epoch 2/100\n",
            "55/55 [==============================] - 1s 12ms/step - loss: 1.5779 - accuracy: 0.3524 - val_loss: 1.2666 - val_accuracy: 0.4828\n",
            "Epoch 3/100\n",
            "55/55 [==============================] - 1s 10ms/step - loss: 1.1809 - accuracy: 0.5100 - val_loss: 1.0183 - val_accuracy: 0.5700\n",
            "Epoch 4/100\n",
            "55/55 [==============================] - 1s 10ms/step - loss: 0.9961 - accuracy: 0.5711 - val_loss: 0.8643 - val_accuracy: 0.6388\n",
            "Epoch 5/100\n",
            "55/55 [==============================] - 1s 10ms/step - loss: 0.8456 - accuracy: 0.6471 - val_loss: 0.8755 - val_accuracy: 0.6307\n",
            "Epoch 6/100\n",
            "55/55 [==============================] - 1s 10ms/step - loss: 0.7473 - accuracy: 0.6875 - val_loss: 0.9122 - val_accuracy: 0.6101\n",
            "Epoch 7/100\n",
            "55/55 [==============================] - 1s 10ms/step - loss: 0.7173 - accuracy: 0.7087 - val_loss: 0.6409 - val_accuracy: 0.7133\n",
            "Epoch 8/100\n",
            "55/55 [==============================] - 1s 10ms/step - loss: 0.5716 - accuracy: 0.7732 - val_loss: 0.6019 - val_accuracy: 0.7397\n",
            "Epoch 9/100\n",
            "55/55 [==============================] - 1s 10ms/step - loss: 0.5376 - accuracy: 0.7847 - val_loss: 0.4893 - val_accuracy: 0.8165\n",
            "Epoch 10/100\n",
            "55/55 [==============================] - 1s 10ms/step - loss: 0.4852 - accuracy: 0.8142 - val_loss: 0.5804 - val_accuracy: 0.7821\n",
            "Epoch 11/100\n",
            "55/55 [==============================] - 1s 10ms/step - loss: 0.4271 - accuracy: 0.8366 - val_loss: 0.4264 - val_accuracy: 0.8383\n",
            "Epoch 12/100\n",
            "55/55 [==============================] - 1s 10ms/step - loss: 0.3484 - accuracy: 0.8664 - val_loss: 0.3517 - val_accuracy: 0.8589\n",
            "Epoch 13/100\n",
            "55/55 [==============================] - 1s 10ms/step - loss: 0.3418 - accuracy: 0.8716 - val_loss: 0.3583 - val_accuracy: 0.8956\n",
            "Epoch 14/100\n",
            "55/55 [==============================] - 1s 10ms/step - loss: 0.3065 - accuracy: 0.8885 - val_loss: 0.3043 - val_accuracy: 0.9014\n",
            "Epoch 15/100\n",
            "55/55 [==============================] - 1s 11ms/step - loss: 0.2698 - accuracy: 0.9037 - val_loss: 0.2593 - val_accuracy: 0.9186\n",
            "Epoch 16/100\n",
            "55/55 [==============================] - 1s 10ms/step - loss: 0.2978 - accuracy: 0.8925 - val_loss: 0.4155 - val_accuracy: 0.8612\n",
            "Epoch 17/100\n",
            "55/55 [==============================] - 1s 10ms/step - loss: 0.2506 - accuracy: 0.9157 - val_loss: 0.2129 - val_accuracy: 0.9415\n",
            "Epoch 18/100\n",
            "55/55 [==============================] - 1s 10ms/step - loss: 0.2292 - accuracy: 0.9200 - val_loss: 0.1724 - val_accuracy: 0.9587\n",
            "Epoch 19/100\n",
            "55/55 [==============================] - 1s 10ms/step - loss: 0.1756 - accuracy: 0.9441 - val_loss: 0.2098 - val_accuracy: 0.9266\n",
            "Epoch 20/100\n",
            "55/55 [==============================] - 1s 14ms/step - loss: 0.1625 - accuracy: 0.9461 - val_loss: 0.1727 - val_accuracy: 0.9450\n",
            "Epoch 21/100\n",
            "55/55 [==============================] - 1s 15ms/step - loss: 0.1534 - accuracy: 0.9513 - val_loss: 0.1391 - val_accuracy: 0.9622\n",
            "Epoch 22/100\n",
            "55/55 [==============================] - 1s 14ms/step - loss: 0.1654 - accuracy: 0.9498 - val_loss: 0.1317 - val_accuracy: 0.9610\n",
            "Epoch 23/100\n",
            "55/55 [==============================] - 1s 16ms/step - loss: 0.1214 - accuracy: 0.9622 - val_loss: 0.1722 - val_accuracy: 0.9450\n",
            "Epoch 24/100\n",
            "55/55 [==============================] - 1s 11ms/step - loss: 0.1574 - accuracy: 0.9472 - val_loss: 0.1771 - val_accuracy: 0.9461\n",
            "Epoch 25/100\n",
            "55/55 [==============================] - 1s 11ms/step - loss: 0.0935 - accuracy: 0.9731 - val_loss: 0.0998 - val_accuracy: 0.9748\n",
            "Epoch 26/100\n",
            "55/55 [==============================] - 1s 10ms/step - loss: 0.0919 - accuracy: 0.9722 - val_loss: 0.1039 - val_accuracy: 0.9748\n",
            "Epoch 27/100\n",
            "55/55 [==============================] - 1s 11ms/step - loss: 0.0984 - accuracy: 0.9642 - val_loss: 0.1106 - val_accuracy: 0.9679\n",
            "Epoch 28/100\n",
            "55/55 [==============================] - 1s 10ms/step - loss: 0.0797 - accuracy: 0.9751 - val_loss: 0.1051 - val_accuracy: 0.9725\n",
            "Epoch 29/100\n",
            "55/55 [==============================] - 1s 10ms/step - loss: 0.0658 - accuracy: 0.9811 - val_loss: 0.1272 - val_accuracy: 0.9656\n",
            "Epoch 30/100\n",
            "55/55 [==============================] - 1s 10ms/step - loss: 0.0986 - accuracy: 0.9676 - val_loss: 0.1097 - val_accuracy: 0.9713\n",
            "Epoch 31/100\n",
            "55/55 [==============================] - 1s 10ms/step - loss: 0.0827 - accuracy: 0.9748 - val_loss: 0.1158 - val_accuracy: 0.9725\n",
            "Epoch 32/100\n",
            "55/55 [==============================] - 1s 11ms/step - loss: 0.0818 - accuracy: 0.9702 - val_loss: 0.1313 - val_accuracy: 0.9702\n",
            "Epoch 33/100\n",
            "55/55 [==============================] - 1s 10ms/step - loss: 0.0820 - accuracy: 0.9725 - val_loss: 0.1157 - val_accuracy: 0.9736\n",
            "Epoch 34/100\n",
            "55/55 [==============================] - 1s 10ms/step - loss: 0.1051 - accuracy: 0.9670 - val_loss: 0.1554 - val_accuracy: 0.9564\n",
            "Epoch 35/100\n",
            "55/55 [==============================] - 1s 10ms/step - loss: 0.0754 - accuracy: 0.9745 - val_loss: 0.1067 - val_accuracy: 0.9794\n",
            "Epoch 36/100\n",
            "55/55 [==============================] - 1s 10ms/step - loss: 0.0959 - accuracy: 0.9690 - val_loss: 0.0901 - val_accuracy: 0.9748\n",
            "Epoch 37/100\n",
            "55/55 [==============================] - 1s 11ms/step - loss: 0.0702 - accuracy: 0.9745 - val_loss: 0.0833 - val_accuracy: 0.9851\n",
            "Epoch 38/100\n",
            "55/55 [==============================] - 1s 10ms/step - loss: 0.0596 - accuracy: 0.9808 - val_loss: 0.1643 - val_accuracy: 0.9644\n",
            "Epoch 39/100\n",
            "55/55 [==============================] - 1s 12ms/step - loss: 0.0792 - accuracy: 0.9731 - val_loss: 0.0952 - val_accuracy: 0.9759\n",
            "Epoch 40/100\n",
            "55/55 [==============================] - 1s 10ms/step - loss: 0.0400 - accuracy: 0.9888 - val_loss: 0.0740 - val_accuracy: 0.9874\n",
            "Epoch 41/100\n",
            "55/55 [==============================] - 1s 13ms/step - loss: 0.0485 - accuracy: 0.9837 - val_loss: 0.0801 - val_accuracy: 0.9828\n",
            "Epoch 42/100\n",
            "55/55 [==============================] - 1s 16ms/step - loss: 0.1485 - accuracy: 0.9501 - val_loss: 0.1219 - val_accuracy: 0.9713\n",
            "Epoch 43/100\n",
            "55/55 [==============================] - 1s 14ms/step - loss: 0.0818 - accuracy: 0.9725 - val_loss: 0.0865 - val_accuracy: 0.9817\n",
            "Epoch 44/100\n",
            "55/55 [==============================] - 1s 14ms/step - loss: 0.0529 - accuracy: 0.9834 - val_loss: 0.0922 - val_accuracy: 0.9748\n",
            "Epoch 45/100\n",
            "55/55 [==============================] - 1s 13ms/step - loss: 0.0496 - accuracy: 0.9825 - val_loss: 0.0819 - val_accuracy: 0.9839\n",
            "Epoch 46/100\n",
            "55/55 [==============================] - 1s 10ms/step - loss: 0.0543 - accuracy: 0.9831 - val_loss: 0.0930 - val_accuracy: 0.9839\n",
            "Epoch 47/100\n",
            "55/55 [==============================] - 1s 11ms/step - loss: 0.0357 - accuracy: 0.9891 - val_loss: 0.1238 - val_accuracy: 0.9725\n",
            "Epoch 48/100\n",
            "55/55 [==============================] - 1s 11ms/step - loss: 0.0840 - accuracy: 0.9765 - val_loss: 0.1396 - val_accuracy: 0.9622\n",
            "Epoch 49/100\n",
            "55/55 [==============================] - 1s 10ms/step - loss: 0.0469 - accuracy: 0.9831 - val_loss: 0.0941 - val_accuracy: 0.9817\n",
            "Epoch 50/100\n",
            "55/55 [==============================] - 1s 10ms/step - loss: 0.0475 - accuracy: 0.9839 - val_loss: 0.0856 - val_accuracy: 0.9794\n",
            "Epoch 51/100\n",
            "55/55 [==============================] - 1s 10ms/step - loss: 0.0263 - accuracy: 0.9911 - val_loss: 0.0738 - val_accuracy: 0.9874\n",
            "Epoch 52/100\n",
            "55/55 [==============================] - 1s 10ms/step - loss: 0.0439 - accuracy: 0.9854 - val_loss: 0.1277 - val_accuracy: 0.9702\n",
            "Epoch 53/100\n",
            "55/55 [==============================] - 1s 10ms/step - loss: 0.0527 - accuracy: 0.9805 - val_loss: 0.0913 - val_accuracy: 0.9817\n",
            "Epoch 54/100\n",
            "55/55 [==============================] - 1s 10ms/step - loss: 0.0526 - accuracy: 0.9805 - val_loss: 0.0966 - val_accuracy: 0.9759\n",
            "Epoch 55/100\n",
            "55/55 [==============================] - 1s 10ms/step - loss: 0.0357 - accuracy: 0.9891 - val_loss: 0.0708 - val_accuracy: 0.9897\n",
            "Epoch 56/100\n",
            "55/55 [==============================] - 1s 10ms/step - loss: 0.0246 - accuracy: 0.9923 - val_loss: 0.0653 - val_accuracy: 0.9908\n",
            "Epoch 57/100\n",
            "55/55 [==============================] - 1s 11ms/step - loss: 0.0362 - accuracy: 0.9900 - val_loss: 0.0914 - val_accuracy: 0.9782\n",
            "Epoch 58/100\n",
            "55/55 [==============================] - 1s 10ms/step - loss: 0.0353 - accuracy: 0.9897 - val_loss: 0.0680 - val_accuracy: 0.9839\n",
            "Epoch 59/100\n",
            "55/55 [==============================] - 1s 11ms/step - loss: 0.0186 - accuracy: 0.9948 - val_loss: 0.0792 - val_accuracy: 0.9851\n",
            "Epoch 60/100\n",
            "55/55 [==============================] - 1s 12ms/step - loss: 0.0355 - accuracy: 0.9891 - val_loss: 0.0899 - val_accuracy: 0.9828\n",
            "Epoch 61/100\n",
            "55/55 [==============================] - 1s 10ms/step - loss: 0.0304 - accuracy: 0.9911 - val_loss: 0.0845 - val_accuracy: 0.9851\n",
            "Epoch 62/100\n",
            "55/55 [==============================] - 1s 13ms/step - loss: 0.0281 - accuracy: 0.9897 - val_loss: 0.0949 - val_accuracy: 0.9805\n",
            "Epoch 63/100\n",
            "55/55 [==============================] - 1s 15ms/step - loss: 0.0349 - accuracy: 0.9891 - val_loss: 0.0755 - val_accuracy: 0.9885\n",
            "Epoch 64/100\n",
            "55/55 [==============================] - 1s 14ms/step - loss: 0.0382 - accuracy: 0.9880 - val_loss: 0.1478 - val_accuracy: 0.9644\n",
            "Epoch 65/100\n",
            "55/55 [==============================] - 1s 15ms/step - loss: 0.0979 - accuracy: 0.9642 - val_loss: 0.0846 - val_accuracy: 0.9817\n",
            "Epoch 66/100\n",
            "55/55 [==============================] - 1s 14ms/step - loss: 0.0379 - accuracy: 0.9877 - val_loss: 0.0789 - val_accuracy: 0.9851\n",
            "Epoch 67/100\n",
            "55/55 [==============================] - 1s 11ms/step - loss: 0.0179 - accuracy: 0.9948 - val_loss: 0.0721 - val_accuracy: 0.9908\n",
            "Epoch 68/100\n",
            "55/55 [==============================] - 1s 10ms/step - loss: 0.0207 - accuracy: 0.9940 - val_loss: 0.0751 - val_accuracy: 0.9862\n",
            "Epoch 69/100\n",
            "55/55 [==============================] - 1s 11ms/step - loss: 0.0356 - accuracy: 0.9877 - val_loss: 0.0938 - val_accuracy: 0.9839\n",
            "Epoch 70/100\n",
            "55/55 [==============================] - 1s 11ms/step - loss: 0.0271 - accuracy: 0.9917 - val_loss: 0.1061 - val_accuracy: 0.9748\n",
            "Epoch 71/100\n",
            "55/55 [==============================] - 1s 10ms/step - loss: 0.0408 - accuracy: 0.9865 - val_loss: 0.1081 - val_accuracy: 0.9759\n",
            "Epoch 72/100\n",
            "55/55 [==============================] - 1s 10ms/step - loss: 0.0223 - accuracy: 0.9925 - val_loss: 0.0658 - val_accuracy: 0.9897\n",
            "Epoch 73/100\n",
            "55/55 [==============================] - 1s 11ms/step - loss: 0.0471 - accuracy: 0.9871 - val_loss: 0.0876 - val_accuracy: 0.9794\n",
            "Epoch 74/100\n",
            "55/55 [==============================] - 1s 11ms/step - loss: 0.0238 - accuracy: 0.9920 - val_loss: 0.0890 - val_accuracy: 0.9748\n",
            "Epoch 75/100\n",
            "55/55 [==============================] - 1s 11ms/step - loss: 0.0370 - accuracy: 0.9900 - val_loss: 0.1022 - val_accuracy: 0.9782\n",
            "Epoch 76/100\n",
            "55/55 [==============================] - 1s 11ms/step - loss: 0.0490 - accuracy: 0.9851 - val_loss: 0.1067 - val_accuracy: 0.9748\n",
            "Epoch 77/100\n",
            "55/55 [==============================] - 1s 10ms/step - loss: 0.1012 - accuracy: 0.9667 - val_loss: 0.1181 - val_accuracy: 0.9736\n",
            "Epoch 78/100\n",
            "55/55 [==============================] - 1s 11ms/step - loss: 0.0597 - accuracy: 0.9825 - val_loss: 0.1002 - val_accuracy: 0.9736\n",
            "Epoch 79/100\n",
            "55/55 [==============================] - 1s 10ms/step - loss: 0.0383 - accuracy: 0.9882 - val_loss: 0.0683 - val_accuracy: 0.9885\n",
            "Epoch 80/100\n",
            "55/55 [==============================] - 1s 10ms/step - loss: 0.0165 - accuracy: 0.9948 - val_loss: 0.0763 - val_accuracy: 0.9851\n",
            "Epoch 81/100\n",
            "55/55 [==============================] - 1s 11ms/step - loss: 0.0195 - accuracy: 0.9937 - val_loss: 0.0806 - val_accuracy: 0.9885\n",
            "Epoch 82/100\n",
            "55/55 [==============================] - 1s 11ms/step - loss: 0.0114 - accuracy: 0.9974 - val_loss: 0.0674 - val_accuracy: 0.9885\n",
            "Epoch 83/100\n",
            "55/55 [==============================] - 1s 13ms/step - loss: 0.0063 - accuracy: 0.9977 - val_loss: 0.0626 - val_accuracy: 0.9885\n",
            "Epoch 84/100\n",
            "55/55 [==============================] - 1s 15ms/step - loss: 0.0083 - accuracy: 0.9977 - val_loss: 0.0658 - val_accuracy: 0.9908\n",
            "Epoch 85/100\n",
            "55/55 [==============================] - 1s 15ms/step - loss: 0.0074 - accuracy: 0.9977 - val_loss: 0.0739 - val_accuracy: 0.9885\n",
            "Epoch 86/100\n",
            "55/55 [==============================] - 1s 14ms/step - loss: 0.0106 - accuracy: 0.9971 - val_loss: 0.0754 - val_accuracy: 0.9885\n",
            "Epoch 87/100\n",
            "55/55 [==============================] - 1s 14ms/step - loss: 0.0140 - accuracy: 0.9960 - val_loss: 0.0840 - val_accuracy: 0.9862\n",
            "Epoch 88/100\n",
            "55/55 [==============================] - 1s 11ms/step - loss: 0.0199 - accuracy: 0.9937 - val_loss: 0.0860 - val_accuracy: 0.9782\n",
            "Epoch 89/100\n",
            "55/55 [==============================] - 1s 10ms/step - loss: 0.0301 - accuracy: 0.9914 - val_loss: 0.1173 - val_accuracy: 0.9817\n",
            "Epoch 90/100\n",
            "55/55 [==============================] - 1s 11ms/step - loss: 0.1651 - accuracy: 0.9513 - val_loss: 0.1227 - val_accuracy: 0.9667\n",
            "Epoch 91/100\n",
            "55/55 [==============================] - 1s 10ms/step - loss: 0.0364 - accuracy: 0.9903 - val_loss: 0.0633 - val_accuracy: 0.9908\n",
            "Epoch 92/100\n",
            "55/55 [==============================] - 1s 11ms/step - loss: 0.0120 - accuracy: 0.9974 - val_loss: 0.0570 - val_accuracy: 0.9908\n",
            "Epoch 93/100\n",
            "55/55 [==============================] - 1s 10ms/step - loss: 0.0135 - accuracy: 0.9957 - val_loss: 0.0689 - val_accuracy: 0.9885\n",
            "Epoch 94/100\n",
            "55/55 [==============================] - 1s 10ms/step - loss: 0.0066 - accuracy: 0.9989 - val_loss: 0.0645 - val_accuracy: 0.9908\n",
            "Epoch 95/100\n",
            "55/55 [==============================] - 1s 10ms/step - loss: 0.0074 - accuracy: 0.9983 - val_loss: 0.0700 - val_accuracy: 0.9897\n",
            "Epoch 96/100\n",
            "55/55 [==============================] - 1s 10ms/step - loss: 0.0096 - accuracy: 0.9966 - val_loss: 0.0677 - val_accuracy: 0.9897\n",
            "Epoch 97/100\n",
            "55/55 [==============================] - 1s 12ms/step - loss: 0.0187 - accuracy: 0.9946 - val_loss: 0.1005 - val_accuracy: 0.9771\n",
            "Epoch 98/100\n",
            "55/55 [==============================] - 1s 11ms/step - loss: 0.0294 - accuracy: 0.9914 - val_loss: 0.0723 - val_accuracy: 0.9839\n",
            "Epoch 99/100\n",
            "55/55 [==============================] - 1s 10ms/step - loss: 0.0275 - accuracy: 0.9908 - val_loss: 0.1636 - val_accuracy: 0.9633\n",
            "Epoch 100/100\n",
            "55/55 [==============================] - 1s 10ms/step - loss: 0.0468 - accuracy: 0.9854 - val_loss: 0.0992 - val_accuracy: 0.9839\n"
          ]
        }
      ],
      "source": [
        "#lost function and optimizer\n",
        "model.compile(loss='categorical_crossentropy', optimizer='adam', metrics=['accuracy'])\n",
        "\n",
        "history = model.fit(X_train, Y_train, epochs = 100, validation_data=(X_val, Y_val), batch_size = 64, verbose = 1)"
      ]
    },
    {
      "cell_type": "markdown",
      "metadata": {
        "id": "S2yeCtTB8I42"
      },
      "source": [
        "#### Evaluate the model"
      ]
    },
    {
      "cell_type": "code",
      "execution_count": null,
      "metadata": {
        "colab": {
          "base_uri": "https://localhost:8080/"
        },
        "id": "Ti-3WA0OsjHY",
        "outputId": "05135449-5963-431f-c8db-1e9d249fc224"
      },
      "outputs": [
        {
          "name": "stdout",
          "output_type": "stream",
          "text": [
            "18/18 [==============================] - 0s 10ms/step - loss: 0.1341 - accuracy: 0.9771\n",
            "Test Accuracy : 0.9770641922950745\n",
            "Test Loss : 0.13409608602523804\n"
          ]
        }
      ],
      "source": [
        "#Evaluate the model\n",
        "results = model.evaluate(X_test, Y_test, batch_size = 64, verbose = 1)\n",
        "arch5_test_acc = results[1]\n",
        "arch5_test_loss = results[0]\n",
        "print(\"Test Accuracy :\", results[1])\n",
        "print(\"Test Loss :\", results[0])"
      ]
    },
    {
      "cell_type": "markdown",
      "metadata": {
        "id": "hryeI0tE8L-5"
      },
      "source": [
        "#### Create a graph of accuracy and loss over time\n"
      ]
    },
    {
      "cell_type": "code",
      "execution_count": null,
      "metadata": {
        "colab": {
          "base_uri": "https://localhost:8080/"
        },
        "id": "jDnjiCzfssxu",
        "outputId": "c8474ef3-ceda-41b3-df41-b35f2af63233"
      },
      "outputs": [
        {
          "data": {
            "text/plain": [
              "<matplotlib.legend.Legend at 0x7fb71a9db820>"
            ]
          },
          "execution_count": 42,
          "metadata": {},
          "output_type": "execute_result"
        }
      ],
      "source": [
        "#Create a graph of accuracy and loss over time\n",
        "history_dict = history.history\n",
        "\n",
        "import matplotlib.pyplot as plt\n",
        "\n",
        "# Get the historical values for accuracies and losses\n",
        "\n",
        "acc = history_dict['accuracy']\n",
        "val_acc = history_dict['val_accuracy']\n",
        "loss = history_dict['loss']\n",
        "val_loss = history_dict['val_loss']\n",
        "\n",
        "# Save the last values for accuracies and losses for comparison\n",
        "\n",
        "arch5_train_acc = acc[-1]\n",
        "arch5_val_acc = val_acc[-1]\n",
        "arch5_train_loss = loss[-1]\n",
        "arch5_val_loss = val_loss[-1]\n",
        "\n",
        "epochs = range(1, len(acc) + 1)\n",
        "\n",
        "axes[1, 0].plot(epochs, acc , 'r', label='Training Accuracy')\n",
        "axes[1, 0].plot(epochs,val_acc , 'm', label='Validation Accuracy')\n",
        "axes[1, 0].plot(epochs, loss, 'g', label='Training loss')\n",
        "axes[1, 0].plot(epochs, val_loss, 'b', label='Validation loss')\n",
        "axes[1, 0].set_title(\"Architecture 5\")\n",
        "axes[1, 0].set_xlabel('Epochs')\n",
        "axes[1, 0].set_ylabel('Loss')\n",
        "axes[1, 0].legend()"
      ]
    },
    {
      "cell_type": "markdown",
      "metadata": {
        "id": "2fCJSkqSIYZT"
      },
      "source": [
        "### Architecture 6: LSTM(128) + Dropout + Reshape + Conv1D(32) + Dropout + Flatten + Fully Connected + Fully Connected\n",
        "\n",
        "Source: Empyrical adaptation of the architechture of the model with convolutional layers at the start"
      ]
    },
    {
      "cell_type": "markdown",
      "metadata": {
        "id": "6UnZtnjO8kYY"
      },
      "source": [
        "The final architecture starts with a LSTM layer, followed by a dropout layer to avoid overfitting and a reshape layer in order to use a convolutional layer. The next layer is a 1D convolution with 32 filters, followed by another dropout layer, and a flatter layer in order to use dense layers. The last two layers are fully connected layers in order to map the information from previous layers to the 4 outputs."
      ]
    },
    {
      "cell_type": "code",
      "execution_count": null,
      "metadata": {
        "colab": {
          "base_uri": "https://localhost:8080/"
        },
        "id": "MVE8AokVx3K9",
        "outputId": "f88fd321-d083-40e4-8461-809858783862"
      },
      "outputs": [
        {
          "name": "stdout",
          "output_type": "stream",
          "text": [
            "Model: \"sequential_5\"\n",
            "_________________________________________________________________\n",
            " Layer (type)                Output Shape              Param #   \n",
            "=================================================================\n",
            " lstm_5 (LSTM)               (None, 128)               84480     \n",
            "                                                                 \n",
            " dropout_6 (Dropout)         (None, 128)               0         \n",
            "                                                                 \n",
            " reshape (Reshape)           (None, 1, 128)            0         \n",
            "                                                                 \n",
            " conv1d_5 (Conv1D)           (None, 1, 32)             12320     \n",
            "                                                                 \n",
            " dropout_7 (Dropout)         (None, 1, 32)             0         \n",
            "                                                                 \n",
            " flatten_1 (Flatten)         (None, 32)                0         \n",
            "                                                                 \n",
            " dense_9 (Dense)             (None, 64)                2112      \n",
            "                                                                 \n",
            " dense_10 (Dense)            (None, 7)                 455       \n",
            "                                                                 \n",
            "=================================================================\n",
            "Total params: 99,367\n",
            "Trainable params: 99,367\n",
            "Non-trainable params: 0\n",
            "_________________________________________________________________\n"
          ]
        }
      ],
      "source": [
        "# Define the model\n",
        "model = keras.Sequential()\n",
        "\n",
        "# Add an LSTM layer with 128 units\n",
        "model.add(LSTM(units=128, input_shape=(n_timesteps, n_features)))\n",
        "\n",
        "# Add a dropout layer with a rate of 0.5\n",
        "model.add(Dropout(rate=0.5))\n",
        "\n",
        "# Reshape the input data to the correct shape for the Conv1D layer\n",
        "model.add(Reshape((-1, 128)))\n",
        "\n",
        "# Add a 1D Convolutional layer with 32 filters and a kernel size of 3\n",
        "model.add(Conv1D(filters=32, kernel_size=3, activation='relu', padding='causal'))\n",
        "\n",
        "# Add a dropout layer with a rate of 0.5\n",
        "model.add(Dropout(rate=0.5))\n",
        "\n",
        "# Add a Flatten layer\n",
        "model.add(Flatten())\n",
        "\n",
        "# Add a fully connected layer\n",
        "model.add(Dense(units=64, activation='relu'))\n",
        "\n",
        "# Add an output layer\n",
        "model.add(Dense(units=n_outputs, activation='softmax'))\n",
        "\n",
        "model.summary()"
      ]
    },
    {
      "cell_type": "markdown",
      "metadata": {
        "id": "9pCkychg9C3f"
      },
      "source": [
        "#### Loss function and training"
      ]
    },
    {
      "cell_type": "code",
      "execution_count": null,
      "metadata": {
        "colab": {
          "base_uri": "https://localhost:8080/"
        },
        "id": "GZ9y1tca6Ldh",
        "outputId": "f487425e-52df-4549-86ef-62f12db39dd1"
      },
      "outputs": [
        {
          "name": "stdout",
          "output_type": "stream",
          "text": [
            "Epoch 1/100\n",
            "55/55 [==============================] - 4s 22ms/step - loss: 1.8585 - accuracy: 0.2021 - val_loss: 1.7156 - val_accuracy: 0.2683\n",
            "Epoch 2/100\n",
            "55/55 [==============================] - 1s 9ms/step - loss: 1.6633 - accuracy: 0.2901 - val_loss: 1.4771 - val_accuracy: 0.3062\n",
            "Epoch 3/100\n",
            "55/55 [==============================] - 1s 9ms/step - loss: 1.5295 - accuracy: 0.3065 - val_loss: 1.4082 - val_accuracy: 0.3417\n",
            "Epoch 4/100\n",
            "55/55 [==============================] - 0s 9ms/step - loss: 1.4407 - accuracy: 0.3383 - val_loss: 1.3343 - val_accuracy: 0.3452\n",
            "Epoch 5/100\n",
            "55/55 [==============================] - 1s 9ms/step - loss: 1.3517 - accuracy: 0.3675 - val_loss: 1.2493 - val_accuracy: 0.4163\n",
            "Epoch 6/100\n",
            "55/55 [==============================] - 0s 9ms/step - loss: 1.3906 - accuracy: 0.3644 - val_loss: 1.2134 - val_accuracy: 0.3991\n",
            "Epoch 7/100\n",
            "55/55 [==============================] - 0s 9ms/step - loss: 1.2361 - accuracy: 0.4197 - val_loss: 1.2419 - val_accuracy: 0.4392\n",
            "Epoch 8/100\n",
            "55/55 [==============================] - 0s 9ms/step - loss: 1.2249 - accuracy: 0.4286 - val_loss: 1.1418 - val_accuracy: 0.4977\n",
            "Epoch 9/100\n",
            "55/55 [==============================] - 1s 9ms/step - loss: 1.1621 - accuracy: 0.4412 - val_loss: 1.1206 - val_accuracy: 0.4725\n",
            "Epoch 10/100\n",
            "55/55 [==============================] - 1s 9ms/step - loss: 1.1372 - accuracy: 0.4753 - val_loss: 1.0538 - val_accuracy: 0.5573\n",
            "Epoch 11/100\n",
            "55/55 [==============================] - 1s 10ms/step - loss: 1.1101 - accuracy: 0.4831 - val_loss: 1.0483 - val_accuracy: 0.5608\n",
            "Epoch 12/100\n",
            "55/55 [==============================] - 0s 9ms/step - loss: 1.0789 - accuracy: 0.4957 - val_loss: 1.0019 - val_accuracy: 0.5986\n",
            "Epoch 13/100\n",
            "55/55 [==============================] - 0s 9ms/step - loss: 1.0575 - accuracy: 0.5204 - val_loss: 0.9757 - val_accuracy: 0.6101\n",
            "Epoch 14/100\n",
            "55/55 [==============================] - 1s 12ms/step - loss: 1.0486 - accuracy: 0.5350 - val_loss: 0.9761 - val_accuracy: 0.6101\n",
            "Epoch 15/100\n",
            "55/55 [==============================] - 1s 13ms/step - loss: 0.9962 - accuracy: 0.5605 - val_loss: 0.9772 - val_accuracy: 0.5803\n",
            "Epoch 16/100\n",
            "55/55 [==============================] - 1s 13ms/step - loss: 1.0018 - accuracy: 0.5648 - val_loss: 0.8849 - val_accuracy: 0.6044\n",
            "Epoch 17/100\n",
            "55/55 [==============================] - 1s 12ms/step - loss: 0.9219 - accuracy: 0.5981 - val_loss: 0.8483 - val_accuracy: 0.6502\n",
            "Epoch 18/100\n",
            "55/55 [==============================] - 1s 12ms/step - loss: 0.8927 - accuracy: 0.6239 - val_loss: 0.8196 - val_accuracy: 0.6606\n",
            "Epoch 19/100\n",
            "55/55 [==============================] - 1s 10ms/step - loss: 0.8827 - accuracy: 0.6253 - val_loss: 0.7643 - val_accuracy: 0.7133\n",
            "Epoch 20/100\n",
            "55/55 [==============================] - 0s 9ms/step - loss: 0.8138 - accuracy: 0.6717 - val_loss: 0.7636 - val_accuracy: 0.6950\n",
            "Epoch 21/100\n",
            "55/55 [==============================] - 0s 9ms/step - loss: 0.8139 - accuracy: 0.6657 - val_loss: 0.6658 - val_accuracy: 0.7511\n",
            "Epoch 22/100\n",
            "55/55 [==============================] - 0s 9ms/step - loss: 0.7845 - accuracy: 0.6826 - val_loss: 0.6187 - val_accuracy: 0.7810\n",
            "Epoch 23/100\n",
            "55/55 [==============================] - 1s 9ms/step - loss: 0.7939 - accuracy: 0.6929 - val_loss: 0.7043 - val_accuracy: 0.7282\n",
            "Epoch 24/100\n",
            "55/55 [==============================] - 0s 9ms/step - loss: 0.7173 - accuracy: 0.7236 - val_loss: 0.6903 - val_accuracy: 0.7248\n",
            "Epoch 25/100\n",
            "55/55 [==============================] - 0s 9ms/step - loss: 0.6828 - accuracy: 0.7205 - val_loss: 0.5184 - val_accuracy: 0.8154\n",
            "Epoch 26/100\n",
            "55/55 [==============================] - 0s 9ms/step - loss: 0.6252 - accuracy: 0.7686 - val_loss: 0.5263 - val_accuracy: 0.8165\n",
            "Epoch 27/100\n",
            "55/55 [==============================] - 1s 9ms/step - loss: 0.6643 - accuracy: 0.7434 - val_loss: 0.5824 - val_accuracy: 0.8085\n",
            "Epoch 28/100\n",
            "55/55 [==============================] - 0s 9ms/step - loss: 0.6247 - accuracy: 0.7597 - val_loss: 0.4996 - val_accuracy: 0.8257\n",
            "Epoch 29/100\n",
            "55/55 [==============================] - 0s 9ms/step - loss: 0.5825 - accuracy: 0.7790 - val_loss: 0.4834 - val_accuracy: 0.8303\n",
            "Epoch 30/100\n",
            "55/55 [==============================] - 0s 9ms/step - loss: 0.5300 - accuracy: 0.8010 - val_loss: 0.4427 - val_accuracy: 0.8372\n",
            "Epoch 31/100\n",
            "55/55 [==============================] - 1s 9ms/step - loss: 0.5248 - accuracy: 0.8059 - val_loss: 0.4529 - val_accuracy: 0.8268\n",
            "Epoch 32/100\n",
            "55/55 [==============================] - 1s 9ms/step - loss: 0.5353 - accuracy: 0.8045 - val_loss: 0.3704 - val_accuracy: 0.8647\n",
            "Epoch 33/100\n",
            "55/55 [==============================] - 0s 9ms/step - loss: 0.5128 - accuracy: 0.8131 - val_loss: 0.3478 - val_accuracy: 0.9002\n",
            "Epoch 34/100\n",
            "55/55 [==============================] - 0s 9ms/step - loss: 0.4699 - accuracy: 0.8340 - val_loss: 0.4960 - val_accuracy: 0.7924\n",
            "Epoch 35/100\n",
            "55/55 [==============================] - 0s 9ms/step - loss: 0.4510 - accuracy: 0.8415 - val_loss: 0.2866 - val_accuracy: 0.9128\n",
            "Epoch 36/100\n",
            "55/55 [==============================] - 0s 9ms/step - loss: 0.3438 - accuracy: 0.8836 - val_loss: 0.3399 - val_accuracy: 0.8819\n",
            "Epoch 37/100\n",
            "55/55 [==============================] - 0s 9ms/step - loss: 0.3980 - accuracy: 0.8601 - val_loss: 0.4666 - val_accuracy: 0.8211\n",
            "Epoch 38/100\n",
            "55/55 [==============================] - 1s 9ms/step - loss: 0.4111 - accuracy: 0.8578 - val_loss: 0.3195 - val_accuracy: 0.9014\n",
            "Epoch 39/100\n",
            "55/55 [==============================] - 1s 11ms/step - loss: 0.3257 - accuracy: 0.8905 - val_loss: 0.2492 - val_accuracy: 0.9243\n",
            "Epoch 40/100\n",
            "55/55 [==============================] - 1s 12ms/step - loss: 0.3015 - accuracy: 0.9074 - val_loss: 0.2515 - val_accuracy: 0.9232\n",
            "Epoch 41/100\n",
            "55/55 [==============================] - 1s 13ms/step - loss: 0.4005 - accuracy: 0.8704 - val_loss: 0.3101 - val_accuracy: 0.9014\n",
            "Epoch 42/100\n",
            "55/55 [==============================] - 1s 12ms/step - loss: 0.3074 - accuracy: 0.8997 - val_loss: 0.2530 - val_accuracy: 0.9197\n",
            "Epoch 43/100\n",
            "55/55 [==============================] - 1s 12ms/step - loss: 0.3001 - accuracy: 0.9068 - val_loss: 0.2256 - val_accuracy: 0.9323\n",
            "Epoch 44/100\n",
            "55/55 [==============================] - 1s 10ms/step - loss: 0.3011 - accuracy: 0.9011 - val_loss: 0.4041 - val_accuracy: 0.8693\n",
            "Epoch 45/100\n",
            "55/55 [==============================] - 0s 9ms/step - loss: 0.5133 - accuracy: 0.8263 - val_loss: 0.3339 - val_accuracy: 0.8842\n",
            "Epoch 46/100\n",
            "55/55 [==============================] - 1s 9ms/step - loss: 0.2944 - accuracy: 0.9042 - val_loss: 0.2311 - val_accuracy: 0.9278\n",
            "Epoch 47/100\n",
            "55/55 [==============================] - 0s 9ms/step - loss: 0.2880 - accuracy: 0.9083 - val_loss: 0.2172 - val_accuracy: 0.9381\n",
            "Epoch 48/100\n",
            "55/55 [==============================] - 0s 9ms/step - loss: 0.2773 - accuracy: 0.9094 - val_loss: 0.2162 - val_accuracy: 0.9427\n",
            "Epoch 49/100\n",
            "55/55 [==============================] - 0s 9ms/step - loss: 0.2244 - accuracy: 0.9323 - val_loss: 0.2009 - val_accuracy: 0.9369\n",
            "Epoch 50/100\n",
            "55/55 [==============================] - 1s 9ms/step - loss: 0.2411 - accuracy: 0.9192 - val_loss: 0.2339 - val_accuracy: 0.9266\n",
            "Epoch 51/100\n",
            "55/55 [==============================] - 0s 9ms/step - loss: 0.2845 - accuracy: 0.9097 - val_loss: 0.1982 - val_accuracy: 0.9323\n",
            "Epoch 52/100\n",
            "55/55 [==============================] - 0s 9ms/step - loss: 0.2273 - accuracy: 0.9318 - val_loss: 0.2079 - val_accuracy: 0.9369\n",
            "Epoch 53/100\n",
            "55/55 [==============================] - 0s 9ms/step - loss: 0.2341 - accuracy: 0.9255 - val_loss: 0.1660 - val_accuracy: 0.9518\n",
            "Epoch 54/100\n",
            "55/55 [==============================] - 1s 9ms/step - loss: 0.1908 - accuracy: 0.9384 - val_loss: 0.1567 - val_accuracy: 0.9530\n",
            "Epoch 55/100\n",
            "55/55 [==============================] - 0s 9ms/step - loss: 0.1691 - accuracy: 0.9495 - val_loss: 0.1548 - val_accuracy: 0.9610\n",
            "Epoch 56/100\n",
            "55/55 [==============================] - 0s 9ms/step - loss: 0.2815 - accuracy: 0.9123 - val_loss: 0.3327 - val_accuracy: 0.9037\n",
            "Epoch 57/100\n",
            "55/55 [==============================] - 1s 10ms/step - loss: 0.3042 - accuracy: 0.9106 - val_loss: 0.2252 - val_accuracy: 0.9335\n",
            "Epoch 58/100\n",
            "55/55 [==============================] - 1s 9ms/step - loss: 0.2471 - accuracy: 0.9212 - val_loss: 0.1384 - val_accuracy: 0.9713\n",
            "Epoch 59/100\n",
            "55/55 [==============================] - 0s 9ms/step - loss: 0.1676 - accuracy: 0.9504 - val_loss: 0.1636 - val_accuracy: 0.9576\n",
            "Epoch 60/100\n",
            "55/55 [==============================] - 0s 9ms/step - loss: 0.1661 - accuracy: 0.9521 - val_loss: 0.1762 - val_accuracy: 0.9530\n",
            "Epoch 61/100\n",
            "55/55 [==============================] - 0s 9ms/step - loss: 0.1780 - accuracy: 0.9464 - val_loss: 0.1544 - val_accuracy: 0.9553\n",
            "Epoch 62/100\n",
            "55/55 [==============================] - 0s 9ms/step - loss: 0.2258 - accuracy: 0.9321 - val_loss: 0.1418 - val_accuracy: 0.9564\n",
            "Epoch 63/100\n",
            "55/55 [==============================] - 1s 10ms/step - loss: 0.1720 - accuracy: 0.9458 - val_loss: 0.1979 - val_accuracy: 0.9438\n",
            "Epoch 64/100\n",
            "55/55 [==============================] - 1s 14ms/step - loss: 0.1613 - accuracy: 0.9524 - val_loss: 0.1253 - val_accuracy: 0.9690\n",
            "Epoch 65/100\n",
            "55/55 [==============================] - 1s 13ms/step - loss: 0.2167 - accuracy: 0.9355 - val_loss: 0.1612 - val_accuracy: 0.9541\n",
            "Epoch 66/100\n",
            "55/55 [==============================] - 1s 12ms/step - loss: 0.2248 - accuracy: 0.9346 - val_loss: 0.1524 - val_accuracy: 0.9507\n",
            "Epoch 67/100\n",
            "55/55 [==============================] - 1s 12ms/step - loss: 0.1546 - accuracy: 0.9596 - val_loss: 0.1128 - val_accuracy: 0.9679\n",
            "Epoch 68/100\n",
            "55/55 [==============================] - 1s 10ms/step - loss: 0.1347 - accuracy: 0.9636 - val_loss: 0.1327 - val_accuracy: 0.9702\n",
            "Epoch 69/100\n",
            "55/55 [==============================] - 0s 9ms/step - loss: 0.1315 - accuracy: 0.9616 - val_loss: 0.1092 - val_accuracy: 0.9748\n",
            "Epoch 70/100\n",
            "55/55 [==============================] - 0s 9ms/step - loss: 0.1991 - accuracy: 0.9409 - val_loss: 0.1864 - val_accuracy: 0.9484\n",
            "Epoch 71/100\n",
            "55/55 [==============================] - 0s 9ms/step - loss: 0.2113 - accuracy: 0.9372 - val_loss: 0.1268 - val_accuracy: 0.9702\n",
            "Epoch 72/100\n",
            "55/55 [==============================] - 0s 9ms/step - loss: 0.1637 - accuracy: 0.9527 - val_loss: 0.1425 - val_accuracy: 0.9644\n",
            "Epoch 73/100\n",
            "55/55 [==============================] - 0s 9ms/step - loss: 0.1513 - accuracy: 0.9541 - val_loss: 0.1169 - val_accuracy: 0.9690\n",
            "Epoch 74/100\n",
            "55/55 [==============================] - 0s 9ms/step - loss: 0.1310 - accuracy: 0.9601 - val_loss: 0.1606 - val_accuracy: 0.9599\n",
            "Epoch 75/100\n",
            "55/55 [==============================] - 0s 9ms/step - loss: 0.1428 - accuracy: 0.9553 - val_loss: 0.1310 - val_accuracy: 0.9690\n",
            "Epoch 76/100\n",
            "55/55 [==============================] - 0s 9ms/step - loss: 0.1302 - accuracy: 0.9604 - val_loss: 0.1407 - val_accuracy: 0.9667\n",
            "Epoch 77/100\n",
            "55/55 [==============================] - 0s 9ms/step - loss: 0.1647 - accuracy: 0.9493 - val_loss: 0.2320 - val_accuracy: 0.9427\n",
            "Epoch 78/100\n",
            "55/55 [==============================] - 1s 9ms/step - loss: 0.1881 - accuracy: 0.9455 - val_loss: 0.1517 - val_accuracy: 0.9553\n",
            "Epoch 79/100\n",
            "55/55 [==============================] - 1s 9ms/step - loss: 0.1544 - accuracy: 0.9576 - val_loss: 0.1427 - val_accuracy: 0.9633\n",
            "Epoch 80/100\n",
            "55/55 [==============================] - 0s 9ms/step - loss: 0.2028 - accuracy: 0.9404 - val_loss: 0.1192 - val_accuracy: 0.9702\n",
            "Epoch 81/100\n",
            "55/55 [==============================] - 0s 9ms/step - loss: 0.1424 - accuracy: 0.9579 - val_loss: 0.1062 - val_accuracy: 0.9713\n",
            "Epoch 82/100\n",
            "55/55 [==============================] - 0s 9ms/step - loss: 0.1056 - accuracy: 0.9644 - val_loss: 0.1057 - val_accuracy: 0.9702\n",
            "Epoch 83/100\n",
            "55/55 [==============================] - 1s 9ms/step - loss: 0.1251 - accuracy: 0.9650 - val_loss: 0.0849 - val_accuracy: 0.9782\n",
            "Epoch 84/100\n",
            "55/55 [==============================] - 0s 9ms/step - loss: 0.1434 - accuracy: 0.9567 - val_loss: 0.1247 - val_accuracy: 0.9702\n",
            "Epoch 85/100\n",
            "55/55 [==============================] - 1s 9ms/step - loss: 0.1244 - accuracy: 0.9627 - val_loss: 0.0915 - val_accuracy: 0.9782\n",
            "Epoch 86/100\n",
            "55/55 [==============================] - 0s 9ms/step - loss: 0.0899 - accuracy: 0.9713 - val_loss: 0.1064 - val_accuracy: 0.9748\n",
            "Epoch 87/100\n",
            "55/55 [==============================] - 0s 9ms/step - loss: 0.0957 - accuracy: 0.9751 - val_loss: 0.1702 - val_accuracy: 0.9679\n",
            "Epoch 88/100\n",
            "55/55 [==============================] - 1s 12ms/step - loss: 0.1630 - accuracy: 0.9561 - val_loss: 0.1265 - val_accuracy: 0.9644\n",
            "Epoch 89/100\n",
            "55/55 [==============================] - 1s 12ms/step - loss: 0.0937 - accuracy: 0.9736 - val_loss: 0.0876 - val_accuracy: 0.9805\n",
            "Epoch 90/100\n",
            "55/55 [==============================] - 1s 12ms/step - loss: 0.1348 - accuracy: 0.9587 - val_loss: 0.1791 - val_accuracy: 0.9507\n",
            "Epoch 91/100\n",
            "55/55 [==============================] - 1s 13ms/step - loss: 0.1600 - accuracy: 0.9550 - val_loss: 0.1053 - val_accuracy: 0.9771\n",
            "Epoch 92/100\n",
            "55/55 [==============================] - 1s 12ms/step - loss: 0.1319 - accuracy: 0.9610 - val_loss: 0.0988 - val_accuracy: 0.9736\n",
            "Epoch 93/100\n",
            "55/55 [==============================] - 1s 10ms/step - loss: 0.1568 - accuracy: 0.9541 - val_loss: 0.1655 - val_accuracy: 0.9587\n",
            "Epoch 94/100\n",
            "55/55 [==============================] - 0s 9ms/step - loss: 0.1543 - accuracy: 0.9536 - val_loss: 0.0977 - val_accuracy: 0.9771\n",
            "Epoch 95/100\n",
            "55/55 [==============================] - 0s 9ms/step - loss: 0.1008 - accuracy: 0.9696 - val_loss: 0.0870 - val_accuracy: 0.9771\n",
            "Epoch 96/100\n",
            "55/55 [==============================] - 1s 10ms/step - loss: 0.1143 - accuracy: 0.9682 - val_loss: 0.0978 - val_accuracy: 0.9771\n",
            "Epoch 97/100\n",
            "55/55 [==============================] - 0s 9ms/step - loss: 0.1280 - accuracy: 0.9650 - val_loss: 0.0981 - val_accuracy: 0.9725\n",
            "Epoch 98/100\n",
            "55/55 [==============================] - 0s 9ms/step - loss: 0.1272 - accuracy: 0.9596 - val_loss: 0.1327 - val_accuracy: 0.9656\n",
            "Epoch 99/100\n",
            "55/55 [==============================] - 0s 9ms/step - loss: 0.1315 - accuracy: 0.9639 - val_loss: 0.1134 - val_accuracy: 0.9748\n",
            "Epoch 100/100\n",
            "55/55 [==============================] - 1s 9ms/step - loss: 0.0984 - accuracy: 0.9708 - val_loss: 0.0889 - val_accuracy: 0.9782\n"
          ]
        }
      ],
      "source": [
        "#lost function and optimizer\n",
        "model.compile(loss='categorical_crossentropy', optimizer='adam', metrics=['accuracy'])\n",
        "\n",
        "history = model.fit(X_train, Y_train, epochs = 100, validation_data=(X_val, Y_val), batch_size = 64, verbose = 1)"
      ]
    },
    {
      "cell_type": "markdown",
      "metadata": {
        "id": "Zm9-TQ4q9FYW"
      },
      "source": [
        "#### Evaluate the model"
      ]
    },
    {
      "cell_type": "code",
      "execution_count": null,
      "metadata": {
        "colab": {
          "base_uri": "https://localhost:8080/"
        },
        "id": "gGF-_Uj71_D3",
        "outputId": "223475c9-352c-43a4-b128-d94ffcf22abe"
      },
      "outputs": [
        {
          "name": "stdout",
          "output_type": "stream",
          "text": [
            "18/18 [==============================] - 0s 5ms/step - loss: 0.1133 - accuracy: 0.9697\n",
            "Test Accuracy : 0.9697247743606567\n",
            "Test Loss : 0.113278329372406\n"
          ]
        }
      ],
      "source": [
        "#Evaluate the model\n",
        "results = model.evaluate(X_test, Y_test, batch_size = 64, verbose = 1)\n",
        "arch6_test_acc = results[1]\n",
        "arch6_test_loss = results[0]\n",
        "print(\"Test Accuracy :\", results[1])\n",
        "print(\"Test Loss :\", results[0])"
      ]
    },
    {
      "cell_type": "markdown",
      "metadata": {
        "id": "GRCg2w6p9HLP"
      },
      "source": [
        "#### Create a graph of accuracy and loss over time"
      ]
    },
    {
      "cell_type": "code",
      "execution_count": null,
      "metadata": {
        "colab": {
          "base_uri": "https://localhost:8080/"
        },
        "id": "oFvEGyCf2CUV",
        "outputId": "4981a02a-ccc6-4bf6-aac5-52cd092f633e"
      },
      "outputs": [
        {
          "data": {
            "text/plain": [
              "<matplotlib.legend.Legend at 0x7fb71921ceb0>"
            ]
          },
          "execution_count": 46,
          "metadata": {},
          "output_type": "execute_result"
        }
      ],
      "source": [
        "#Create a graph of accuracy and loss over time\n",
        "history_dict = history.history\n",
        "\n",
        "import matplotlib.pyplot as plt\n",
        "\n",
        "# Get the historical values for accuracies and losses\n",
        "\n",
        "acc = history_dict['accuracy']\n",
        "val_acc = history_dict['val_accuracy']\n",
        "loss = history_dict['loss']\n",
        "val_loss = history_dict['val_loss']\n",
        "\n",
        "# Save the last values for accuracies and losses for comparison\n",
        "\n",
        "arch6_train_acc = acc[-1]\n",
        "arch6_val_acc = val_acc[-1]\n",
        "arch6_train_loss = loss[-1]\n",
        "arch6_val_loss = val_loss[-1]\n",
        "\n",
        "epochs = range(1, len(acc) + 1)\n",
        "\n",
        "axes[1, 1].plot(epochs, acc , 'r', label='Training Accuracy')\n",
        "axes[1, 1].plot(epochs,val_acc , 'm', label='Validation Accuracy')\n",
        "axes[1, 1].plot(epochs, loss, 'g', label='Training loss')\n",
        "axes[1, 1].plot(epochs, val_loss, 'b', label='Validation loss')\n",
        "axes[1, 1].set_title(\"Architecture 6\")\n",
        "axes[1, 1].set_xlabel('Epochs')\n",
        "axes[1, 1].set_ylabel('Loss')\n",
        "axes[1, 1].legend()"
      ]
    },
    {
      "cell_type": "markdown",
      "metadata": {
        "id": "9ZSlrlrGwpLQ"
      },
      "source": [
        "### Architecture 7: LSTM(64) + Dropout + Fully Connected + Fully Connected + Fully Connected\n",
        "\n",
        "Source: "
      ]
    },
    {
      "cell_type": "markdown",
      "metadata": {
        "id": "tmTVdWeKwpLR"
      },
      "source": [
        "The final architecture is a very simple one, starting with a LSTM layer, followed by a dropout layer to avoid overfitting and three fully connected layers in order to map the information from previous layers to the 4 outputs."
      ]
    },
    {
      "cell_type": "code",
      "execution_count": null,
      "metadata": {
        "id": "Avzaf9_FwlFg"
      },
      "outputs": [],
      "source": [
        "#Second try a modeling\n",
        "model = keras.Sequential()\n",
        "model.add(LSTM(64,input_shape=(n_timesteps,n_features)))\n",
        "model.add(Dropout(0.5))\n",
        "model.add(Dense(64,activation='relu'))\n",
        "model.add(Dense(64,activation='relu'))\n",
        "model.add(Dense(n_outputs, activation='softmax'))\n"
      ]
    },
    {
      "cell_type": "markdown",
      "metadata": {
        "id": "wl6xjQtGxy7B"
      },
      "source": [
        "#### Loss function and training"
      ]
    },
    {
      "cell_type": "code",
      "execution_count": null,
      "metadata": {
        "colab": {
          "base_uri": "https://localhost:8080/"
        },
        "id": "79zu1jfNxy7K",
        "outputId": "7574b266-b5ad-43a8-8220-a48c4e38d647"
      },
      "outputs": [
        {
          "name": "stdout",
          "output_type": "stream",
          "text": [
            "Epoch 1/100\n",
            "55/55 [==============================] - 4s 19ms/step - loss: 1.7672 - accuracy: 0.2580 - val_loss: 1.5814 - val_accuracy: 0.3234\n",
            "Epoch 2/100\n",
            "55/55 [==============================] - 0s 8ms/step - loss: 1.5355 - accuracy: 0.3165 - val_loss: 1.4483 - val_accuracy: 0.3165\n",
            "Epoch 3/100\n",
            "55/55 [==============================] - 0s 8ms/step - loss: 1.4673 - accuracy: 0.3308 - val_loss: 1.4026 - val_accuracy: 0.3635\n",
            "Epoch 4/100\n",
            "55/55 [==============================] - 0s 8ms/step - loss: 1.3942 - accuracy: 0.3503 - val_loss: 1.3505 - val_accuracy: 0.3704\n",
            "Epoch 5/100\n",
            "55/55 [==============================] - 1s 11ms/step - loss: 1.3310 - accuracy: 0.3822 - val_loss: 1.2155 - val_accuracy: 0.4908\n",
            "Epoch 6/100\n",
            "55/55 [==============================] - 1s 13ms/step - loss: 1.2470 - accuracy: 0.4214 - val_loss: 1.1980 - val_accuracy: 0.4186\n",
            "Epoch 7/100\n",
            "55/55 [==============================] - 1s 12ms/step - loss: 1.1850 - accuracy: 0.4570 - val_loss: 1.1186 - val_accuracy: 0.4725\n",
            "Epoch 8/100\n",
            "55/55 [==============================] - 1s 12ms/step - loss: 1.2140 - accuracy: 0.4401 - val_loss: 1.1077 - val_accuracy: 0.4931\n",
            "Epoch 9/100\n",
            "55/55 [==============================] - 1s 11ms/step - loss: 1.1265 - accuracy: 0.4802 - val_loss: 1.0672 - val_accuracy: 0.5138\n",
            "Epoch 10/100\n",
            "55/55 [==============================] - 0s 9ms/step - loss: 1.0777 - accuracy: 0.5138 - val_loss: 1.0348 - val_accuracy: 0.5275\n",
            "Epoch 11/100\n",
            "55/55 [==============================] - 0s 8ms/step - loss: 1.0962 - accuracy: 0.5023 - val_loss: 1.0236 - val_accuracy: 0.5287\n",
            "Epoch 12/100\n",
            "55/55 [==============================] - 0s 8ms/step - loss: 1.0492 - accuracy: 0.5229 - val_loss: 1.0186 - val_accuracy: 0.5310\n",
            "Epoch 13/100\n",
            "55/55 [==============================] - 0s 8ms/step - loss: 1.0130 - accuracy: 0.5502 - val_loss: 0.9406 - val_accuracy: 0.5998\n",
            "Epoch 14/100\n",
            "55/55 [==============================] - 0s 8ms/step - loss: 0.9723 - accuracy: 0.5708 - val_loss: 0.9133 - val_accuracy: 0.6078\n",
            "Epoch 15/100\n",
            "55/55 [==============================] - 0s 8ms/step - loss: 0.9280 - accuracy: 0.5981 - val_loss: 0.8855 - val_accuracy: 0.6078\n",
            "Epoch 16/100\n",
            "55/55 [==============================] - 0s 8ms/step - loss: 0.9322 - accuracy: 0.6009 - val_loss: 0.8385 - val_accuracy: 0.6388\n",
            "Epoch 17/100\n",
            "55/55 [==============================] - 0s 8ms/step - loss: 0.8726 - accuracy: 0.6293 - val_loss: 0.8117 - val_accuracy: 0.6399\n",
            "Epoch 18/100\n",
            "55/55 [==============================] - 0s 8ms/step - loss: 0.8840 - accuracy: 0.6190 - val_loss: 0.9306 - val_accuracy: 0.6032\n",
            "Epoch 19/100\n",
            "55/55 [==============================] - 0s 9ms/step - loss: 0.8225 - accuracy: 0.6439 - val_loss: 0.7619 - val_accuracy: 0.6640\n",
            "Epoch 20/100\n",
            "55/55 [==============================] - 0s 8ms/step - loss: 0.7573 - accuracy: 0.6795 - val_loss: 0.6756 - val_accuracy: 0.7202\n",
            "Epoch 21/100\n",
            "55/55 [==============================] - 0s 8ms/step - loss: 0.7762 - accuracy: 0.6674 - val_loss: 0.6685 - val_accuracy: 0.7271\n",
            "Epoch 22/100\n",
            "55/55 [==============================] - 0s 8ms/step - loss: 0.7410 - accuracy: 0.6895 - val_loss: 0.6876 - val_accuracy: 0.6984\n",
            "Epoch 23/100\n",
            "55/55 [==============================] - 0s 8ms/step - loss: 0.7245 - accuracy: 0.7041 - val_loss: 0.6800 - val_accuracy: 0.6961\n",
            "Epoch 24/100\n",
            "55/55 [==============================] - 0s 8ms/step - loss: 0.6826 - accuracy: 0.7136 - val_loss: 0.6527 - val_accuracy: 0.7339\n",
            "Epoch 25/100\n",
            "55/55 [==============================] - 0s 8ms/step - loss: 0.6780 - accuracy: 0.7188 - val_loss: 0.6000 - val_accuracy: 0.7500\n",
            "Epoch 26/100\n",
            "55/55 [==============================] - 0s 8ms/step - loss: 0.6397 - accuracy: 0.7322 - val_loss: 0.5799 - val_accuracy: 0.7500\n",
            "Epoch 27/100\n",
            "55/55 [==============================] - 0s 8ms/step - loss: 0.6129 - accuracy: 0.7509 - val_loss: 0.5581 - val_accuracy: 0.7649\n",
            "Epoch 28/100\n",
            "55/55 [==============================] - 0s 8ms/step - loss: 0.5886 - accuracy: 0.7649 - val_loss: 0.5550 - val_accuracy: 0.7638\n",
            "Epoch 29/100\n",
            "55/55 [==============================] - 0s 8ms/step - loss: 0.5489 - accuracy: 0.7807 - val_loss: 0.5044 - val_accuracy: 0.7959\n",
            "Epoch 30/100\n",
            "55/55 [==============================] - 0s 8ms/step - loss: 0.5517 - accuracy: 0.7758 - val_loss: 0.5512 - val_accuracy: 0.7695\n",
            "Epoch 31/100\n",
            "55/55 [==============================] - 0s 8ms/step - loss: 0.5257 - accuracy: 0.7833 - val_loss: 0.5086 - val_accuracy: 0.7913\n",
            "Epoch 32/100\n",
            "55/55 [==============================] - 1s 9ms/step - loss: 0.5469 - accuracy: 0.7781 - val_loss: 0.4647 - val_accuracy: 0.8131\n",
            "Epoch 33/100\n",
            "55/55 [==============================] - 1s 11ms/step - loss: 0.4868 - accuracy: 0.8151 - val_loss: 0.5549 - val_accuracy: 0.7775\n",
            "Epoch 34/100\n",
            "55/55 [==============================] - 1s 13ms/step - loss: 0.4756 - accuracy: 0.8154 - val_loss: 0.4130 - val_accuracy: 0.8337\n",
            "Epoch 35/100\n",
            "55/55 [==============================] - 1s 12ms/step - loss: 0.4537 - accuracy: 0.8254 - val_loss: 0.4325 - val_accuracy: 0.8257\n",
            "Epoch 36/100\n",
            "55/55 [==============================] - 1s 11ms/step - loss: 0.4364 - accuracy: 0.8360 - val_loss: 0.3837 - val_accuracy: 0.8532\n",
            "Epoch 37/100\n",
            "55/55 [==============================] - 1s 11ms/step - loss: 0.4366 - accuracy: 0.8291 - val_loss: 0.4040 - val_accuracy: 0.8532\n",
            "Epoch 38/100\n",
            "55/55 [==============================] - 0s 8ms/step - loss: 0.4138 - accuracy: 0.8374 - val_loss: 0.4270 - val_accuracy: 0.8142\n",
            "Epoch 39/100\n",
            "55/55 [==============================] - 0s 8ms/step - loss: 0.4396 - accuracy: 0.8280 - val_loss: 0.3607 - val_accuracy: 0.8567\n",
            "Epoch 40/100\n",
            "55/55 [==============================] - 0s 8ms/step - loss: 0.3945 - accuracy: 0.8501 - val_loss: 0.3671 - val_accuracy: 0.8555\n",
            "Epoch 41/100\n",
            "55/55 [==============================] - 0s 8ms/step - loss: 0.3895 - accuracy: 0.8512 - val_loss: 0.3066 - val_accuracy: 0.8773\n",
            "Epoch 42/100\n",
            "55/55 [==============================] - 0s 8ms/step - loss: 0.3349 - accuracy: 0.8698 - val_loss: 0.3681 - val_accuracy: 0.8658\n",
            "Epoch 43/100\n",
            "55/55 [==============================] - 0s 8ms/step - loss: 0.3491 - accuracy: 0.8696 - val_loss: 0.3421 - val_accuracy: 0.8704\n",
            "Epoch 44/100\n",
            "55/55 [==============================] - 0s 8ms/step - loss: 0.3787 - accuracy: 0.8618 - val_loss: 0.4261 - val_accuracy: 0.8417\n",
            "Epoch 45/100\n",
            "55/55 [==============================] - 0s 8ms/step - loss: 0.3625 - accuracy: 0.8627 - val_loss: 0.2994 - val_accuracy: 0.8853\n",
            "Epoch 46/100\n",
            "55/55 [==============================] - 0s 8ms/step - loss: 0.3326 - accuracy: 0.8759 - val_loss: 0.3214 - val_accuracy: 0.8773\n",
            "Epoch 47/100\n",
            "55/55 [==============================] - 0s 8ms/step - loss: 0.3133 - accuracy: 0.8870 - val_loss: 0.2843 - val_accuracy: 0.8933\n",
            "Epoch 48/100\n",
            "55/55 [==============================] - 0s 8ms/step - loss: 0.3026 - accuracy: 0.8908 - val_loss: 0.2874 - val_accuracy: 0.8968\n",
            "Epoch 49/100\n",
            "55/55 [==============================] - 0s 8ms/step - loss: 0.3296 - accuracy: 0.8776 - val_loss: 0.3425 - val_accuracy: 0.8773\n",
            "Epoch 50/100\n",
            "55/55 [==============================] - 0s 8ms/step - loss: 0.3742 - accuracy: 0.8607 - val_loss: 0.3463 - val_accuracy: 0.8681\n",
            "Epoch 51/100\n",
            "55/55 [==============================] - 0s 8ms/step - loss: 0.3276 - accuracy: 0.8827 - val_loss: 0.2554 - val_accuracy: 0.9014\n",
            "Epoch 52/100\n",
            "55/55 [==============================] - 0s 8ms/step - loss: 0.2883 - accuracy: 0.8916 - val_loss: 0.2379 - val_accuracy: 0.9174\n",
            "Epoch 53/100\n",
            "55/55 [==============================] - 0s 8ms/step - loss: 0.2566 - accuracy: 0.9106 - val_loss: 0.2508 - val_accuracy: 0.9025\n",
            "Epoch 54/100\n",
            "55/55 [==============================] - 0s 8ms/step - loss: 0.2850 - accuracy: 0.8994 - val_loss: 0.2468 - val_accuracy: 0.9151\n",
            "Epoch 55/100\n",
            "55/55 [==============================] - 0s 9ms/step - loss: 0.2450 - accuracy: 0.9106 - val_loss: 0.2001 - val_accuracy: 0.9358\n",
            "Epoch 56/100\n",
            "55/55 [==============================] - 0s 8ms/step - loss: 0.2347 - accuracy: 0.9137 - val_loss: 0.2558 - val_accuracy: 0.9094\n",
            "Epoch 57/100\n",
            "55/55 [==============================] - 0s 8ms/step - loss: 0.3520 - accuracy: 0.8773 - val_loss: 0.2829 - val_accuracy: 0.8979\n",
            "Epoch 58/100\n",
            "55/55 [==============================] - 0s 8ms/step - loss: 0.2675 - accuracy: 0.9054 - val_loss: 0.2023 - val_accuracy: 0.9404\n",
            "Epoch 59/100\n",
            "55/55 [==============================] - 1s 10ms/step - loss: 0.2183 - accuracy: 0.9237 - val_loss: 0.2200 - val_accuracy: 0.9255\n",
            "Epoch 60/100\n",
            "55/55 [==============================] - 1s 12ms/step - loss: 0.2878 - accuracy: 0.9014 - val_loss: 0.2055 - val_accuracy: 0.9300\n",
            "Epoch 61/100\n",
            "55/55 [==============================] - 1s 11ms/step - loss: 0.2223 - accuracy: 0.9194 - val_loss: 0.2401 - val_accuracy: 0.9163\n",
            "Epoch 62/100\n",
            "55/55 [==============================] - 1s 12ms/step - loss: 0.2234 - accuracy: 0.9183 - val_loss: 0.2324 - val_accuracy: 0.9071\n",
            "Epoch 63/100\n",
            "55/55 [==============================] - 1s 11ms/step - loss: 0.2302 - accuracy: 0.9131 - val_loss: 0.1986 - val_accuracy: 0.9300\n",
            "Epoch 64/100\n",
            "55/55 [==============================] - 1s 11ms/step - loss: 0.2524 - accuracy: 0.9097 - val_loss: 0.2575 - val_accuracy: 0.9014\n",
            "Epoch 65/100\n",
            "55/55 [==============================] - 0s 9ms/step - loss: 0.2586 - accuracy: 0.9071 - val_loss: 0.2038 - val_accuracy: 0.9255\n",
            "Epoch 66/100\n",
            "55/55 [==============================] - 0s 8ms/step - loss: 0.2195 - accuracy: 0.9194 - val_loss: 0.1964 - val_accuracy: 0.9358\n",
            "Epoch 67/100\n",
            "55/55 [==============================] - 0s 8ms/step - loss: 0.1958 - accuracy: 0.9278 - val_loss: 0.1882 - val_accuracy: 0.9300\n",
            "Epoch 68/100\n",
            "55/55 [==============================] - 0s 8ms/step - loss: 0.1930 - accuracy: 0.9286 - val_loss: 0.1610 - val_accuracy: 0.9450\n",
            "Epoch 69/100\n",
            "55/55 [==============================] - 0s 8ms/step - loss: 0.1979 - accuracy: 0.9278 - val_loss: 0.2639 - val_accuracy: 0.9071\n",
            "Epoch 70/100\n",
            "55/55 [==============================] - 0s 8ms/step - loss: 0.2308 - accuracy: 0.9177 - val_loss: 0.1652 - val_accuracy: 0.9461\n",
            "Epoch 71/100\n",
            "55/55 [==============================] - 0s 8ms/step - loss: 0.2227 - accuracy: 0.9192 - val_loss: 0.2195 - val_accuracy: 0.9289\n",
            "Epoch 72/100\n",
            "55/55 [==============================] - 0s 8ms/step - loss: 0.2072 - accuracy: 0.9232 - val_loss: 0.1784 - val_accuracy: 0.9484\n",
            "Epoch 73/100\n",
            "55/55 [==============================] - 0s 9ms/step - loss: 0.2365 - accuracy: 0.9194 - val_loss: 0.2035 - val_accuracy: 0.9346\n",
            "Epoch 74/100\n",
            "55/55 [==============================] - 0s 8ms/step - loss: 0.1987 - accuracy: 0.9275 - val_loss: 0.1885 - val_accuracy: 0.9358\n",
            "Epoch 75/100\n",
            "55/55 [==============================] - 0s 9ms/step - loss: 0.1757 - accuracy: 0.9381 - val_loss: 0.2243 - val_accuracy: 0.9174\n",
            "Epoch 76/100\n",
            "55/55 [==============================] - 0s 8ms/step - loss: 0.2193 - accuracy: 0.9212 - val_loss: 0.1898 - val_accuracy: 0.9415\n",
            "Epoch 77/100\n",
            "55/55 [==============================] - 0s 8ms/step - loss: 0.1871 - accuracy: 0.9358 - val_loss: 0.1824 - val_accuracy: 0.9381\n",
            "Epoch 78/100\n",
            "55/55 [==============================] - 0s 8ms/step - loss: 0.2005 - accuracy: 0.9309 - val_loss: 0.2207 - val_accuracy: 0.9335\n",
            "Epoch 79/100\n",
            "55/55 [==============================] - 0s 8ms/step - loss: 0.1907 - accuracy: 0.9306 - val_loss: 0.1577 - val_accuracy: 0.9541\n",
            "Epoch 80/100\n",
            "55/55 [==============================] - 0s 8ms/step - loss: 0.1781 - accuracy: 0.9358 - val_loss: 0.1677 - val_accuracy: 0.9484\n",
            "Epoch 81/100\n",
            "55/55 [==============================] - 0s 8ms/step - loss: 0.1801 - accuracy: 0.9375 - val_loss: 0.2280 - val_accuracy: 0.9381\n",
            "Epoch 82/100\n",
            "55/55 [==============================] - 0s 8ms/step - loss: 0.2792 - accuracy: 0.9022 - val_loss: 0.2521 - val_accuracy: 0.9174\n",
            "Epoch 83/100\n",
            "55/55 [==============================] - 0s 8ms/step - loss: 0.1899 - accuracy: 0.9295 - val_loss: 0.1504 - val_accuracy: 0.9599\n",
            "Epoch 84/100\n",
            "55/55 [==============================] - 0s 8ms/step - loss: 0.1705 - accuracy: 0.9415 - val_loss: 0.1586 - val_accuracy: 0.9553\n",
            "Epoch 85/100\n",
            "55/55 [==============================] - 0s 8ms/step - loss: 0.1836 - accuracy: 0.9346 - val_loss: 0.1502 - val_accuracy: 0.9530\n",
            "Epoch 86/100\n",
            "55/55 [==============================] - 0s 8ms/step - loss: 0.1493 - accuracy: 0.9470 - val_loss: 0.1481 - val_accuracy: 0.9564\n",
            "Epoch 87/100\n",
            "55/55 [==============================] - 1s 11ms/step - loss: 0.1545 - accuracy: 0.9450 - val_loss: 0.1648 - val_accuracy: 0.9518\n",
            "Epoch 88/100\n",
            "55/55 [==============================] - 1s 12ms/step - loss: 0.1960 - accuracy: 0.9318 - val_loss: 0.2072 - val_accuracy: 0.9346\n",
            "Epoch 89/100\n",
            "55/55 [==============================] - 1s 11ms/step - loss: 0.2896 - accuracy: 0.9008 - val_loss: 0.1590 - val_accuracy: 0.9541\n",
            "Epoch 90/100\n",
            "55/55 [==============================] - 1s 13ms/step - loss: 0.1837 - accuracy: 0.9326 - val_loss: 0.1957 - val_accuracy: 0.9335\n",
            "Epoch 91/100\n",
            "55/55 [==============================] - 1s 12ms/step - loss: 0.1538 - accuracy: 0.9501 - val_loss: 0.1498 - val_accuracy: 0.9587\n",
            "Epoch 92/100\n",
            "55/55 [==============================] - 1s 10ms/step - loss: 0.1344 - accuracy: 0.9558 - val_loss: 0.1553 - val_accuracy: 0.9587\n",
            "Epoch 93/100\n",
            "55/55 [==============================] - 0s 8ms/step - loss: 0.1398 - accuracy: 0.9547 - val_loss: 0.1352 - val_accuracy: 0.9713\n",
            "Epoch 94/100\n",
            "55/55 [==============================] - 0s 8ms/step - loss: 0.1335 - accuracy: 0.9558 - val_loss: 0.1272 - val_accuracy: 0.9587\n",
            "Epoch 95/100\n",
            "55/55 [==============================] - 0s 8ms/step - loss: 0.1413 - accuracy: 0.9490 - val_loss: 0.1469 - val_accuracy: 0.9553\n",
            "Epoch 96/100\n",
            "55/55 [==============================] - 0s 8ms/step - loss: 0.1678 - accuracy: 0.9441 - val_loss: 0.1482 - val_accuracy: 0.9587\n",
            "Epoch 97/100\n",
            "55/55 [==============================] - 0s 8ms/step - loss: 0.1314 - accuracy: 0.9576 - val_loss: 0.1316 - val_accuracy: 0.9656\n",
            "Epoch 98/100\n",
            "55/55 [==============================] - 0s 8ms/step - loss: 0.1123 - accuracy: 0.9581 - val_loss: 0.1933 - val_accuracy: 0.9358\n",
            "Epoch 99/100\n",
            "55/55 [==============================] - 0s 8ms/step - loss: 0.2389 - accuracy: 0.9200 - val_loss: 0.2400 - val_accuracy: 0.9346\n",
            "Epoch 100/100\n",
            "55/55 [==============================] - 0s 8ms/step - loss: 0.1959 - accuracy: 0.9332 - val_loss: 0.1363 - val_accuracy: 0.9622\n"
          ]
        }
      ],
      "source": [
        "#lost function and optimizer\n",
        "model.compile(loss='categorical_crossentropy', optimizer='adam', metrics=['accuracy'])\n",
        "\n",
        "history = model.fit(X_train, Y_train, epochs = 100, validation_data=(X_val, Y_val), batch_size = 64, verbose = 1)"
      ]
    },
    {
      "cell_type": "markdown",
      "metadata": {
        "id": "byGFqXHTxy7K"
      },
      "source": [
        "#### Evaluate the model"
      ]
    },
    {
      "cell_type": "code",
      "execution_count": null,
      "metadata": {
        "colab": {
          "base_uri": "https://localhost:8080/"
        },
        "id": "SmnLzPWCxy7K",
        "outputId": "8774c375-cd03-4b3c-95e7-54e343b3f32b"
      },
      "outputs": [
        {
          "name": "stdout",
          "output_type": "stream",
          "text": [
            "18/18 [==============================] - 0s 4ms/step - loss: 0.1262 - accuracy: 0.9624\n",
            "Test Accuracy : 0.9623852968215942\n",
            "Test Loss : 0.12620021402835846\n"
          ]
        }
      ],
      "source": [
        "#Evaluate the model\n",
        "results = model.evaluate(X_test, Y_test, batch_size = 64, verbose = 1)\n",
        "arch7_test_acc = results[1]\n",
        "arch7_test_loss = results[0]\n",
        "print(\"Test Accuracy :\", results[1])\n",
        "print(\"Test Loss :\", results[0])"
      ]
    },
    {
      "cell_type": "markdown",
      "metadata": {
        "id": "pC5gB8Zixy7L"
      },
      "source": [
        "#### Create a graph of accuracy and loss over time"
      ]
    },
    {
      "cell_type": "code",
      "execution_count": null,
      "metadata": {
        "colab": {
          "base_uri": "https://localhost:8080/"
        },
        "id": "McWEWCOWxy7L",
        "outputId": "d349946b-118e-41cb-9f87-2aa96f108b12"
      },
      "outputs": [
        {
          "data": {
            "text/plain": [
              "<matplotlib.legend.Legend at 0x7fb7210fde50>"
            ]
          },
          "execution_count": 50,
          "metadata": {},
          "output_type": "execute_result"
        }
      ],
      "source": [
        "history_dict = history.history\n",
        "\n",
        "import matplotlib.pyplot as plt\n",
        "\n",
        "# Get the historical values for accuracies and losses\n",
        "\n",
        "acc = history_dict['accuracy']\n",
        "val_acc = history_dict['val_accuracy']\n",
        "loss = history_dict['loss']\n",
        "val_loss = history_dict['val_loss']\n",
        "\n",
        "# Save the last values for accuracies and losses for comparison\n",
        "\n",
        "arch7_train_acc = acc[-1]\n",
        "arch7_val_acc = val_acc[-1]\n",
        "arch7_train_loss = loss[-1]\n",
        "arch7_val_loss = val_loss[-1]\n",
        "\n",
        "epochs = range(1, len(acc) + 1)\n",
        "\n",
        "axes[1, 2].plot(epochs, acc , 'r', label='Training Accuracy')\n",
        "axes[1, 2].plot(epochs,val_acc , 'm', label='Validation Accuracy')\n",
        "axes[1, 2].plot(epochs, loss, 'g', label='Training loss')\n",
        "axes[1, 2].plot(epochs, val_loss, 'b', label='Validation loss')\n",
        "axes[1, 2].set_title(\"Architecture 7\")\n",
        "axes[1, 2].set_xlabel('Epochs')\n",
        "axes[1, 2].set_ylabel('Loss')\n",
        "axes[1, 2].legend()"
      ]
    },
    {
      "cell_type": "markdown",
      "metadata": {
        "id": "H3jVfg452dX4"
      },
      "source": [
        "## Table Comparison of accuracies of the 6 architechtures\n",
        "\n",
        "After training and testing all the architectures and obtaining their accuracy and loss values, the obtained results are presented in a table to compare the performance of each architecture in the dataset."
      ]
    },
    {
      "cell_type": "code",
      "execution_count": null,
      "metadata": {
        "colab": {
          "base_uri": "https://localhost:8080/",
          "height": 269
        },
        "id": "JjdYHbTr3Uoi",
        "outputId": "94e7ec6c-9cbd-4062-9efc-f4db6171d130"
      },
      "outputs": [
        {
          "data": {
            "text/html": [
              "<style type=\"text/css\">\n",
              "#T_fa41c_row1_col2, #T_fa41c_row1_col6, #T_fa41c_row2_col1, #T_fa41c_row2_col3, #T_fa41c_row2_col5, #T_fa41c_row5_col4 {\n",
              "  font-weight: bold;\n",
              "}\n",
              "</style>\n",
              "<table id=\"T_fa41c_\" class=\"dataframe\">\n",
              "  <thead>\n",
              "    <tr>\n",
              "      <th class=\"blank level0\" >&nbsp;</th>\n",
              "      <th class=\"col_heading level0 col0\" >Architectures</th>\n",
              "      <th class=\"col_heading level0 col1\" >Training Accuracy</th>\n",
              "      <th class=\"col_heading level0 col2\" >Training Loss</th>\n",
              "      <th class=\"col_heading level0 col3\" >Validation Accuracy</th>\n",
              "      <th class=\"col_heading level0 col4\" >Validation Loss</th>\n",
              "      <th class=\"col_heading level0 col5\" >Test Accuracy</th>\n",
              "      <th class=\"col_heading level0 col6\" >Test Loss</th>\n",
              "    </tr>\n",
              "  </thead>\n",
              "  <tbody>\n",
              "    <tr>\n",
              "      <th id=\"T_fa41c_level0_row0\" class=\"row_heading level0 row0\" >0</th>\n",
              "      <td id=\"T_fa41c_row0_col0\" class=\"data row0 col0\" >Architecture 1</td>\n",
              "      <td id=\"T_fa41c_row0_col1\" class=\"data row0 col1\" >0.975057</td>\n",
              "      <td id=\"T_fa41c_row0_col2\" class=\"data row0 col2\" >0.140108</td>\n",
              "      <td id=\"T_fa41c_row0_col3\" class=\"data row0 col3\" >0.965596</td>\n",
              "      <td id=\"T_fa41c_row0_col4\" class=\"data row0 col4\" >0.118480</td>\n",
              "      <td id=\"T_fa41c_row0_col5\" class=\"data row0 col5\" >0.966972</td>\n",
              "      <td id=\"T_fa41c_row0_col6\" class=\"data row0 col6\" >0.140108</td>\n",
              "    </tr>\n",
              "    <tr>\n",
              "      <th id=\"T_fa41c_level0_row1\" class=\"row_heading level0 row1\" >1</th>\n",
              "      <td id=\"T_fa41c_row1_col0\" class=\"data row1 col0\" >Architecture 2</td>\n",
              "      <td id=\"T_fa41c_row1_col1\" class=\"data row1 col1\" >0.977064</td>\n",
              "      <td id=\"T_fa41c_row1_col2\" class=\"data row1 col2\" >0.111119</td>\n",
              "      <td id=\"T_fa41c_row1_col3\" class=\"data row1 col3\" >0.977064</td>\n",
              "      <td id=\"T_fa41c_row1_col4\" class=\"data row1 col4\" >0.097878</td>\n",
              "      <td id=\"T_fa41c_row1_col5\" class=\"data row1 col5\" >0.970642</td>\n",
              "      <td id=\"T_fa41c_row1_col6\" class=\"data row1 col6\" >0.111119</td>\n",
              "    </tr>\n",
              "    <tr>\n",
              "      <th id=\"T_fa41c_level0_row2\" class=\"row_heading level0 row2\" >2</th>\n",
              "      <td id=\"T_fa41c_row2_col0\" class=\"data row2 col0\" >Architecture 3</td>\n",
              "      <td id=\"T_fa41c_row2_col1\" class=\"data row2 col1\" >0.993406</td>\n",
              "      <td id=\"T_fa41c_row2_col2\" class=\"data row2 col2\" >0.113986</td>\n",
              "      <td id=\"T_fa41c_row2_col3\" class=\"data row2 col3\" >0.987385</td>\n",
              "      <td id=\"T_fa41c_row2_col4\" class=\"data row2 col4\" >0.147500</td>\n",
              "      <td id=\"T_fa41c_row2_col5\" class=\"data row2 col5\" >0.986239</td>\n",
              "      <td id=\"T_fa41c_row2_col6\" class=\"data row2 col6\" >0.113986</td>\n",
              "    </tr>\n",
              "    <tr>\n",
              "      <th id=\"T_fa41c_level0_row3\" class=\"row_heading level0 row3\" >3</th>\n",
              "      <td id=\"T_fa41c_row3_col0\" class=\"data row3 col0\" >Architecture 4</td>\n",
              "      <td id=\"T_fa41c_row3_col1\" class=\"data row3 col1\" >0.989392</td>\n",
              "      <td id=\"T_fa41c_row3_col2\" class=\"data row3 col2\" >0.128791</td>\n",
              "      <td id=\"T_fa41c_row3_col3\" class=\"data row3 col3\" >0.964450</td>\n",
              "      <td id=\"T_fa41c_row3_col4\" class=\"data row3 col4\" >0.138741</td>\n",
              "      <td id=\"T_fa41c_row3_col5\" class=\"data row3 col5\" >0.970642</td>\n",
              "      <td id=\"T_fa41c_row3_col6\" class=\"data row3 col6\" >0.128791</td>\n",
              "    </tr>\n",
              "    <tr>\n",
              "      <th id=\"T_fa41c_level0_row4\" class=\"row_heading level0 row4\" >4</th>\n",
              "      <td id=\"T_fa41c_row4_col0\" class=\"data row4 col0\" >Architecture 5</td>\n",
              "      <td id=\"T_fa41c_row4_col1\" class=\"data row4 col1\" >0.985378</td>\n",
              "      <td id=\"T_fa41c_row4_col2\" class=\"data row4 col2\" >0.134096</td>\n",
              "      <td id=\"T_fa41c_row4_col3\" class=\"data row4 col3\" >0.983945</td>\n",
              "      <td id=\"T_fa41c_row4_col4\" class=\"data row4 col4\" >0.099228</td>\n",
              "      <td id=\"T_fa41c_row4_col5\" class=\"data row4 col5\" >0.977064</td>\n",
              "      <td id=\"T_fa41c_row4_col6\" class=\"data row4 col6\" >0.134096</td>\n",
              "    </tr>\n",
              "    <tr>\n",
              "      <th id=\"T_fa41c_level0_row5\" class=\"row_heading level0 row5\" >5</th>\n",
              "      <td id=\"T_fa41c_row5_col0\" class=\"data row5 col0\" >Architecture 6</td>\n",
              "      <td id=\"T_fa41c_row5_col1\" class=\"data row5 col1\" >0.970757</td>\n",
              "      <td id=\"T_fa41c_row5_col2\" class=\"data row5 col2\" >0.113278</td>\n",
              "      <td id=\"T_fa41c_row5_col3\" class=\"data row5 col3\" >0.978211</td>\n",
              "      <td id=\"T_fa41c_row5_col4\" class=\"data row5 col4\" >0.088913</td>\n",
              "      <td id=\"T_fa41c_row5_col5\" class=\"data row5 col5\" >0.969725</td>\n",
              "      <td id=\"T_fa41c_row5_col6\" class=\"data row5 col6\" >0.113278</td>\n",
              "    </tr>\n",
              "    <tr>\n",
              "      <th id=\"T_fa41c_level0_row6\" class=\"row_heading level0 row6\" >6</th>\n",
              "      <td id=\"T_fa41c_row6_col0\" class=\"data row6 col0\" >Architecture 7</td>\n",
              "      <td id=\"T_fa41c_row6_col1\" class=\"data row6 col1\" >0.933200</td>\n",
              "      <td id=\"T_fa41c_row6_col2\" class=\"data row6 col2\" >0.195949</td>\n",
              "      <td id=\"T_fa41c_row6_col3\" class=\"data row6 col3\" >0.962156</td>\n",
              "      <td id=\"T_fa41c_row6_col4\" class=\"data row6 col4\" >0.136260</td>\n",
              "      <td id=\"T_fa41c_row6_col5\" class=\"data row6 col5\" >0.962385</td>\n",
              "      <td id=\"T_fa41c_row6_col6\" class=\"data row6 col6\" >0.113278</td>\n",
              "    </tr>\n",
              "  </tbody>\n",
              "</table>\n"
            ],
            "text/plain": [
              "<pandas.io.formats.style.Styler at 0x7fb7211047f0>"
            ]
          },
          "execution_count": 51,
          "metadata": {},
          "output_type": "execute_result"
        }
      ],
      "source": [
        "# Architectures labels\n",
        "archs = [\"Architecture 1\", \"Architecture 2\", \"Architecture 3\", \"Architecture 4\", \"Architecture 5\", \"Architecture 6\", \"Architecture 7\"]\n",
        "# Training accuracies of the architectures\n",
        "train_accs = [arch1_train_acc, arch2_train_acc, arch3_train_acc, arch4_train_acc, arch5_train_acc, arch6_train_acc, arch7_train_acc]\n",
        "# Training losses of the architectures\n",
        "train_losses = [arch1_test_loss, arch2_test_loss, arch3_test_loss, arch4_test_loss, arch5_test_loss, arch6_test_loss, arch7_train_loss]\n",
        "# Validation accuracies of the architectures\n",
        "val_accs = [arch1_val_acc, arch2_val_acc, arch3_val_acc, arch4_val_acc, arch5_val_acc, arch6_val_acc, arch7_val_acc]\n",
        "# Validation losses of the architectures\n",
        "val_losses = [arch1_val_loss, arch2_val_loss, arch3_val_loss, arch4_val_loss, arch5_val_loss, arch6_val_loss, arch7_val_loss]\n",
        "# Testing accuracies of the architectures\n",
        "test_accs = [arch1_test_acc, arch2_test_acc, arch3_test_acc, arch4_test_acc, arch5_test_acc, arch6_test_acc, arch7_test_acc]\n",
        "# Testing losses of the architectures\n",
        "test_loss = [arch1_test_loss, arch2_test_loss, arch3_test_loss, arch4_test_loss, arch5_test_loss, arch6_test_loss, arch6_test_loss]\n",
        "\n",
        "df = pd.DataFrame(list(zip(archs, train_accs, train_losses, val_accs, val_losses, test_accs, test_loss)), \n",
        "                  columns =['Architectures', 'Training Accuracy', 'Training Loss', 'Validation Accuracy', 'Validation Loss', 'Test Accuracy', 'Test Loss'])\n",
        "df\n",
        "\n",
        "# Defining custom function which returns \n",
        "# the list for df.style.apply() method\n",
        "def highlight_max(s):\n",
        "    is_max = s == s.max()\n",
        "    return ['font-weight: %s' % 'bold' if cell else '' for cell in is_max]\n",
        "\n",
        "\n",
        "# Defining custom function which returns \n",
        "# the list for df.style.apply() method\n",
        "def highlight_min(s):\n",
        "    is_min = s == s.min()\n",
        "    return ['font-weight: %s' % 'bold' if cell else '' for cell in is_min]\n",
        "  \n",
        "df.style.apply(highlight_max, subset = ['Training Accuracy', 'Validation Accuracy', 'Test Accuracy']).apply(highlight_min, subset = ['Training Loss', 'Validation Loss', 'Test Loss'])"
      ]
    },
    {
      "cell_type": "markdown",
      "metadata": {
        "id": "1J7I2gxZ8lCN"
      },
      "source": [
        "## Plot of the Performance of Every Architecture"
      ]
    },
    {
      "cell_type": "code",
      "execution_count": null,
      "metadata": {
        "colab": {
          "base_uri": "https://localhost:8080/",
          "height": 621
        },
        "id": "8KqRInGZqfFO",
        "outputId": "a89508ac-d4bb-4ce2-d73a-5946f01f267b"
      },
      "outputs": [
        {
          "data": {
            "image/png": "[encoded data removed]",
            "text/plain": [
              "<Figure size 1800x720 with 8 Axes>"
            ]
          },
          "metadata": {},
          "output_type": "display_data"
        }
      ],
      "source": [
        "from IPython.display import display\n",
        "axes[1, 3].axis('off')\n",
        "display(fig)"
      ]
    },
    {
      "cell_type": "markdown",
      "metadata": {
        "id": "-XuLf8VN8sKa"
      },
      "source": [
        "## Plot of Best Architecture"
      ]
    },
    {
      "cell_type": "code",
      "execution_count": null,
      "metadata": {
        "colab": {
          "base_uri": "https://localhost:8080/",
          "height": 350
        },
        "id": "dmwfEE4UGwzr",
        "outputId": "6cbd3ce3-3adb-4bd5-b80f-aaf760001cb9"
      },
      "outputs": [
        {
          "data": {
            "image/png": "[encoded data removed]",
            "text/plain": [
              "<Figure size 1800x720 with 8 Axes>"
            ]
          },
          "metadata": {},
          "output_type": "display_data"
        }
      ],
      "source": [
        "best = 3\n",
        "\n",
        "if (best <= 4):\n",
        "  best_x = 0\n",
        "  best_y = best - 1\n",
        "else:\n",
        "  best_x = 1\n",
        "  best_y = (best - 1) - 4\n",
        "\n",
        "# Set the spacing between subplots to zero\n",
        "fig.subplots_adjust(wspace=0, hspace=0)\n",
        "\n",
        "# Hide the other subplots\n",
        "for i in range(2):\n",
        "    for j in range(4):\n",
        "        if i != best_x or j != best_y:\n",
        "            axes[i, j].set_visible(False)\n",
        "\n",
        "display(axes[best_x, best_y].figure)"
      ]
    }
  ],
  "metadata": {
    "accelerator": "GPU",
    "colab": {
      "provenance": []
    },
    "gpuClass": "standard",
    "kernelspec": {
      "display_name": "Python 3",
      "name": "python3"
    },
    "language_info": {
      "name": "python"
    }
  },
  "nbformat": 4,
  "nbformat_minor": 0
}
