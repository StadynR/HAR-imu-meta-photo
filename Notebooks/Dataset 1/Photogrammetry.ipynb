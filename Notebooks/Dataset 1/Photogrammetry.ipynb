{
  "cells": [
    {
      "cell_type": "markdown",
      "metadata": {
        "id": "snPkCL8RmUsi"
      },
      "source": [
        "[![Open In Colab](https://colab.research.google.com/assets/colab-badge.svg)](https://colab.research.google.com/github/StadynR/HAR-imu-photogrammetry/blob/main/Notebooks/Dataset%201/Photogrammetry.ipynb)\n"
      ]
    },
    {
      "cell_type": "markdown",
      "metadata": {
        "id": "HL5s36gHyqIN"
      },
      "source": [
        "# Dataset 1 - Photogrammetry\n",
        "\n",
        "This notebook contains code and explanations for the training and testing of 7 different AI architectures for the task of Human Action Recognition using time series data obtained from photogrammetry data (body markers)."
      ]
    },
    {
      "cell_type": "markdown",
      "metadata": {
        "id": "H8jX8ZM6p7eI"
      },
      "source": [
        "## Access to Google Drive and load dataset\n",
        "\n",
        "You need to create a shortcut in your Drive home to this folder: https://drive.google.com/drive/folders/1k2sAkmRyyctE1uOc19mrixyt2N47-7pt?usp=share_link"
      ]
    },
    {
      "cell_type": "code",
      "execution_count": 1,
      "metadata": {
        "colab": {
          "base_uri": "https://localhost:8080/",
          "height": 345
        },
        "id": "-KH1DO0fy53b",
        "outputId": "877614f2-ebb6-44c2-b0b9-59736a8adac4"
      },
      "outputs": [
        {
          "output_type": "error",
          "ename": "MessageError",
          "evalue": "ignored",
          "traceback": [
            "\u001b[0;31m---------------------------------------------------------------------------\u001b[0m",
            "\u001b[0;31mMessageError\u001b[0m                              Traceback (most recent call last)",
            "\u001b[0;32m<ipython-input-1-17deaa040e1f>\u001b[0m in \u001b[0;36m<cell line: 3>\u001b[0;34m()\u001b[0m\n\u001b[1;32m      1\u001b[0m \u001b[0;31m#Drive mount\u001b[0m\u001b[0;34m\u001b[0m\u001b[0;34m\u001b[0m\u001b[0m\n\u001b[1;32m      2\u001b[0m \u001b[0;32mfrom\u001b[0m \u001b[0mgoogle\u001b[0m\u001b[0;34m.\u001b[0m\u001b[0mcolab\u001b[0m \u001b[0;32mimport\u001b[0m \u001b[0mdrive\u001b[0m\u001b[0;34m\u001b[0m\u001b[0;34m\u001b[0m\u001b[0m\n\u001b[0;32m----> 3\u001b[0;31m \u001b[0mdrive\u001b[0m\u001b[0;34m.\u001b[0m\u001b[0mmount\u001b[0m\u001b[0;34m(\u001b[0m\u001b[0;34m'/content/drive'\u001b[0m\u001b[0;34m)\u001b[0m\u001b[0;34m\u001b[0m\u001b[0;34m\u001b[0m\u001b[0m\n\u001b[0m",
            "\u001b[0;32m/usr/local/lib/python3.10/dist-packages/google/colab/drive.py\u001b[0m in \u001b[0;36mmount\u001b[0;34m(mountpoint, force_remount, timeout_ms, readonly)\u001b[0m\n\u001b[1;32m    101\u001b[0m \u001b[0;32mdef\u001b[0m \u001b[0mmount\u001b[0m\u001b[0;34m(\u001b[0m\u001b[0mmountpoint\u001b[0m\u001b[0;34m,\u001b[0m \u001b[0mforce_remount\u001b[0m\u001b[0;34m=\u001b[0m\u001b[0;32mFalse\u001b[0m\u001b[0;34m,\u001b[0m \u001b[0mtimeout_ms\u001b[0m\u001b[0;34m=\u001b[0m\u001b[0;36m120000\u001b[0m\u001b[0;34m,\u001b[0m \u001b[0mreadonly\u001b[0m\u001b[0;34m=\u001b[0m\u001b[0;32mFalse\u001b[0m\u001b[0;34m)\u001b[0m\u001b[0;34m:\u001b[0m\u001b[0;34m\u001b[0m\u001b[0;34m\u001b[0m\u001b[0m\n\u001b[1;32m    102\u001b[0m   \u001b[0;34m\"\"\"Mount your Google Drive at the specified mountpoint path.\"\"\"\u001b[0m\u001b[0;34m\u001b[0m\u001b[0;34m\u001b[0m\u001b[0m\n\u001b[0;32m--> 103\u001b[0;31m   return _mount(\n\u001b[0m\u001b[1;32m    104\u001b[0m       \u001b[0mmountpoint\u001b[0m\u001b[0;34m,\u001b[0m\u001b[0;34m\u001b[0m\u001b[0;34m\u001b[0m\u001b[0m\n\u001b[1;32m    105\u001b[0m       \u001b[0mforce_remount\u001b[0m\u001b[0;34m=\u001b[0m\u001b[0mforce_remount\u001b[0m\u001b[0;34m,\u001b[0m\u001b[0;34m\u001b[0m\u001b[0;34m\u001b[0m\u001b[0m\n",
            "\u001b[0;32m/usr/local/lib/python3.10/dist-packages/google/colab/drive.py\u001b[0m in \u001b[0;36m_mount\u001b[0;34m(mountpoint, force_remount, timeout_ms, ephemeral, readonly)\u001b[0m\n\u001b[1;32m    130\u001b[0m   )\n\u001b[1;32m    131\u001b[0m   \u001b[0;32mif\u001b[0m \u001b[0mephemeral\u001b[0m\u001b[0;34m:\u001b[0m\u001b[0;34m\u001b[0m\u001b[0;34m\u001b[0m\u001b[0m\n\u001b[0;32m--> 132\u001b[0;31m     _message.blocking_request(\n\u001b[0m\u001b[1;32m    133\u001b[0m         \u001b[0;34m'request_auth'\u001b[0m\u001b[0;34m,\u001b[0m \u001b[0mrequest\u001b[0m\u001b[0;34m=\u001b[0m\u001b[0;34m{\u001b[0m\u001b[0;34m'authType'\u001b[0m\u001b[0;34m:\u001b[0m \u001b[0;34m'dfs_ephemeral'\u001b[0m\u001b[0;34m}\u001b[0m\u001b[0;34m,\u001b[0m \u001b[0mtimeout_sec\u001b[0m\u001b[0;34m=\u001b[0m\u001b[0;32mNone\u001b[0m\u001b[0;34m\u001b[0m\u001b[0;34m\u001b[0m\u001b[0m\n\u001b[1;32m    134\u001b[0m     )\n",
            "\u001b[0;32m/usr/local/lib/python3.10/dist-packages/google/colab/_message.py\u001b[0m in \u001b[0;36mblocking_request\u001b[0;34m(request_type, request, timeout_sec, parent)\u001b[0m\n\u001b[1;32m    174\u001b[0m       \u001b[0mrequest_type\u001b[0m\u001b[0;34m,\u001b[0m \u001b[0mrequest\u001b[0m\u001b[0;34m,\u001b[0m \u001b[0mparent\u001b[0m\u001b[0;34m=\u001b[0m\u001b[0mparent\u001b[0m\u001b[0;34m,\u001b[0m \u001b[0mexpect_reply\u001b[0m\u001b[0;34m=\u001b[0m\u001b[0;32mTrue\u001b[0m\u001b[0;34m\u001b[0m\u001b[0;34m\u001b[0m\u001b[0m\n\u001b[1;32m    175\u001b[0m   )\n\u001b[0;32m--> 176\u001b[0;31m   \u001b[0;32mreturn\u001b[0m \u001b[0mread_reply_from_input\u001b[0m\u001b[0;34m(\u001b[0m\u001b[0mrequest_id\u001b[0m\u001b[0;34m,\u001b[0m \u001b[0mtimeout_sec\u001b[0m\u001b[0;34m)\u001b[0m\u001b[0;34m\u001b[0m\u001b[0;34m\u001b[0m\u001b[0m\n\u001b[0m",
            "\u001b[0;32m/usr/local/lib/python3.10/dist-packages/google/colab/_message.py\u001b[0m in \u001b[0;36mread_reply_from_input\u001b[0;34m(message_id, timeout_sec)\u001b[0m\n\u001b[1;32m    101\u001b[0m     ):\n\u001b[1;32m    102\u001b[0m       \u001b[0;32mif\u001b[0m \u001b[0;34m'error'\u001b[0m \u001b[0;32min\u001b[0m \u001b[0mreply\u001b[0m\u001b[0;34m:\u001b[0m\u001b[0;34m\u001b[0m\u001b[0;34m\u001b[0m\u001b[0m\n\u001b[0;32m--> 103\u001b[0;31m         \u001b[0;32mraise\u001b[0m \u001b[0mMessageError\u001b[0m\u001b[0;34m(\u001b[0m\u001b[0mreply\u001b[0m\u001b[0;34m[\u001b[0m\u001b[0;34m'error'\u001b[0m\u001b[0;34m]\u001b[0m\u001b[0;34m)\u001b[0m\u001b[0;34m\u001b[0m\u001b[0;34m\u001b[0m\u001b[0m\n\u001b[0m\u001b[1;32m    104\u001b[0m       \u001b[0;32mreturn\u001b[0m \u001b[0mreply\u001b[0m\u001b[0;34m.\u001b[0m\u001b[0mget\u001b[0m\u001b[0;34m(\u001b[0m\u001b[0;34m'data'\u001b[0m\u001b[0;34m,\u001b[0m \u001b[0;32mNone\u001b[0m\u001b[0;34m)\u001b[0m\u001b[0;34m\u001b[0m\u001b[0;34m\u001b[0m\u001b[0m\n\u001b[1;32m    105\u001b[0m \u001b[0;34m\u001b[0m\u001b[0m\n",
            "\u001b[0;31mMessageError\u001b[0m: Error: credential propagation was unsuccessful"
          ]
        }
      ],
      "source": [
        "#Drive mount\n",
        "from google.colab import drive\n",
        "drive.mount('/content/drive')"
      ]
    },
    {
      "cell_type": "code",
      "execution_count": null,
      "metadata": {
        "id": "u8PQogp0yltI"
      },
      "outputs": [],
      "source": [
        "#Read document\n",
        "import pandas as pd\n",
        "df=pd.read_excel('/content/drive/MyDrive/Datasets/Dataset 1/United Photogrammetry Movements.xlsx',sheet_name='Hoja1')\n",
        "df\n"
      ]
    },
    {
      "cell_type": "markdown",
      "metadata": {
        "id": "L2VoazdSqCS_"
      },
      "source": [
        "## Dataset Information"
      ]
    },
    {
      "cell_type": "code",
      "execution_count": null,
      "metadata": {
        "id": "HYsCf4ev0_9m"
      },
      "outputs": [],
      "source": [
        "#Data info\n",
        "df.info()\n",
        "df.shape"
      ]
    },
    {
      "cell_type": "markdown",
      "metadata": {
        "id": "CJ_fSlPyqVyU"
      },
      "source": [
        "### Dataset information plot"
      ]
    },
    {
      "cell_type": "code",
      "execution_count": null,
      "metadata": {
        "id": "Qtayunmg1dX1"
      },
      "outputs": [],
      "source": [
        "#Number of readings per activity\n",
        "countOfActivities = df['labbel'].value_counts()\n",
        "countOfActivities.plot(kind='bar',title='Number of readings by Activity Type',figsize=(14,8),grid=True);"
      ]
    },
    {
      "cell_type": "code",
      "execution_count": null,
      "metadata": {
        "id": "AOVAqlZq10Is"
      },
      "outputs": [],
      "source": [
        "#Visualization\n",
        "def plot_activity(activity,df,start=0,stop=20):\n",
        "  # extractRowsOfActivity = (df['labbel'] == activity)  # Output will be true/false.\n",
        "  data = df[:] # data has only rows that are for the requested activity.\n",
        "  # data = data[['FLx','Fly','FLz','FMx','FMy','FMz','FUx','FUy','FUz','ALx','ALy','ALz','AMx','AMy','AMz','AUx','AUy','AUz','EEx','EEy','EEz','EIx','EIy','EIz','Sx','Sy','Sz','Hx','Hy','Hz','WEx','WEy','WEz','WIx','WIy','WIz']] # data has only the accelerometer columns of one IMU.\n",
        "  data = data[['FLx','Fly','FLz','FMx','FMy','FMz','FUx','FUy','FUz','ALx','ALy','ALz','AMx','AMy','AMz']] # data has only the accelerometer columns of one IMU.\n",
        "  data = data[start:stop]\n",
        "\n",
        "  ax = data.plot(subplots=True,figsize=(16,12)) # Plot accelerometer for the activity.\n",
        "  ax = ax.flat\n",
        "  fig = ax[0].get_figure()\n",
        "  for x in ax:\n",
        "    x.legend(loc=\"upper left\")\n",
        "    x.set_yticks([])\n",
        "  plt.show()"
      ]
    },
    {
      "cell_type": "code",
      "execution_count": null,
      "metadata": {
        "id": "wNzof2ls3Z5_"
      },
      "outputs": [],
      "source": [
        "plot_activity('extension',df)"
      ]
    },
    {
      "cell_type": "code",
      "execution_count": null,
      "metadata": {
        "id": "ClgAHo_58Dmb"
      },
      "outputs": [],
      "source": [
        "plot_activity('extension',df,0,100000)"
      ]
    },
    {
      "cell_type": "markdown",
      "metadata": {
        "id": "1Mol3Zm0qbnq"
      },
      "source": [
        "## Preprocessing\n",
        "\n",
        "- Normalizing the measurements to be between 0 and 1.\n",
        "- Transforming the measurements to be in a 3-D array of [samples, timesteps,features].\n",
        "- One hot encoding the activity names.\n",
        "- Breaking the 3-D array into a training and test dataset."
      ]
    },
    {
      "cell_type": "markdown",
      "metadata": {
        "id": "S0ukz8gYsgdW"
      },
      "source": [
        "### Data Normalization"
      ]
    },
    {
      "cell_type": "code",
      "execution_count": null,
      "metadata": {
        "colab": {
          "base_uri": "https://localhost:8080/",
          "height": 411
        },
        "id": "9o3VGvSY4Lya",
        "outputId": "d78a8c8d-ad9d-4659-c8c3-c14613abb22b"
      },
      "outputs": [
        {
          "data": {
            "text/html": [
              "\n",
              "  <div id=\"df-1b608e31-3063-448a-b9e5-3760eec4b14b\">\n",
              "    <div class=\"colab-df-container\">\n",
              "      <div>\n",
              "<style scoped>\n",
              "    .dataframe tbody tr th:only-of-type {\n",
              "        vertical-align: middle;\n",
              "    }\n",
              "\n",
              "    .dataframe tbody tr th {\n",
              "        vertical-align: top;\n",
              "    }\n",
              "\n",
              "    .dataframe thead th {\n",
              "        text-align: right;\n",
              "    }\n",
              "</style>\n",
              "<table border=\"1\" class=\"dataframe\">\n",
              "  <thead>\n",
              "    <tr style=\"text-align: right;\">\n",
              "      <th></th>\n",
              "      <th>Tiempo (s.)</th>\n",
              "      <th>antebrazo_inf_x</th>\n",
              "      <th>antebrazo_inf_y</th>\n",
              "      <th>antebrazo_inf_z</th>\n",
              "      <th>antebrazo_med_x</th>\n",
              "      <th>antebrazo_med_y</th>\n",
              "      <th>antebrazo_med_z</th>\n",
              "      <th>antebrazo_sup_x</th>\n",
              "      <th>antebrazo_sup_y</th>\n",
              "      <th>antebrazo_sup_z</th>\n",
              "      <th>...</th>\n",
              "      <th>hombro_ref_z_mms</th>\n",
              "      <th>mano_x_mms</th>\n",
              "      <th>mano_y_mms</th>\n",
              "      <th>mano_z_mms</th>\n",
              "      <th>muneca_ext_x_mms</th>\n",
              "      <th>muneca_ext_y_mms</th>\n",
              "      <th>muneca_ext_z_mms</th>\n",
              "      <th>muneca_int_x_mms</th>\n",
              "      <th>muneca_int_y_mms</th>\n",
              "      <th>muneca_int_z_mms</th>\n",
              "    </tr>\n",
              "  </thead>\n",
              "  <tbody>\n",
              "    <tr>\n",
              "      <th>count</th>\n",
              "      <td>313649.00</td>\n",
              "      <td>313649.00</td>\n",
              "      <td>313649.00</td>\n",
              "      <td>313649.00</td>\n",
              "      <td>313649.00</td>\n",
              "      <td>313649.00</td>\n",
              "      <td>313649.00</td>\n",
              "      <td>313649.00</td>\n",
              "      <td>313649.00</td>\n",
              "      <td>313649.00</td>\n",
              "      <td>...</td>\n",
              "      <td>313649.00</td>\n",
              "      <td>313649.00</td>\n",
              "      <td>313649.00</td>\n",
              "      <td>313649.00</td>\n",
              "      <td>313649.00</td>\n",
              "      <td>313649.00</td>\n",
              "      <td>313649.00</td>\n",
              "      <td>313649.00</td>\n",
              "      <td>313649.00</td>\n",
              "      <td>313649.00</td>\n",
              "    </tr>\n",
              "    <tr>\n",
              "      <th>mean</th>\n",
              "      <td>42.22</td>\n",
              "      <td>0.72</td>\n",
              "      <td>0.93</td>\n",
              "      <td>1.11</td>\n",
              "      <td>0.75</td>\n",
              "      <td>0.98</td>\n",
              "      <td>1.14</td>\n",
              "      <td>0.72</td>\n",
              "      <td>1.01</td>\n",
              "      <td>1.10</td>\n",
              "      <td>...</td>\n",
              "      <td>0.57</td>\n",
              "      <td>0.48</td>\n",
              "      <td>0.56</td>\n",
              "      <td>0.50</td>\n",
              "      <td>0.46</td>\n",
              "      <td>0.50</td>\n",
              "      <td>0.51</td>\n",
              "      <td>0.49</td>\n",
              "      <td>0.51</td>\n",
              "      <td>0.50</td>\n",
              "    </tr>\n",
              "    <tr>\n",
              "      <th>std</th>\n",
              "      <td>25.74</td>\n",
              "      <td>0.07</td>\n",
              "      <td>0.10</td>\n",
              "      <td>0.14</td>\n",
              "      <td>0.07</td>\n",
              "      <td>0.10</td>\n",
              "      <td>0.10</td>\n",
              "      <td>0.07</td>\n",
              "      <td>0.11</td>\n",
              "      <td>0.06</td>\n",
              "      <td>...</td>\n",
              "      <td>0.16</td>\n",
              "      <td>0.22</td>\n",
              "      <td>0.23</td>\n",
              "      <td>0.33</td>\n",
              "      <td>0.23</td>\n",
              "      <td>0.22</td>\n",
              "      <td>0.32</td>\n",
              "      <td>0.24</td>\n",
              "      <td>0.24</td>\n",
              "      <td>0.32</td>\n",
              "    </tr>\n",
              "    <tr>\n",
              "      <th>min</th>\n",
              "      <td>0.00</td>\n",
              "      <td>0.57</td>\n",
              "      <td>0.73</td>\n",
              "      <td>0.89</td>\n",
              "      <td>0.63</td>\n",
              "      <td>0.80</td>\n",
              "      <td>0.97</td>\n",
              "      <td>0.59</td>\n",
              "      <td>0.82</td>\n",
              "      <td>0.99</td>\n",
              "      <td>...</td>\n",
              "      <td>0.00</td>\n",
              "      <td>0.00</td>\n",
              "      <td>0.00</td>\n",
              "      <td>0.00</td>\n",
              "      <td>0.00</td>\n",
              "      <td>0.00</td>\n",
              "      <td>0.00</td>\n",
              "      <td>0.00</td>\n",
              "      <td>0.00</td>\n",
              "      <td>0.00</td>\n",
              "    </tr>\n",
              "    <tr>\n",
              "      <th>25%</th>\n",
              "      <td>19.73</td>\n",
              "      <td>0.66</td>\n",
              "      <td>0.83</td>\n",
              "      <td>0.93</td>\n",
              "      <td>0.70</td>\n",
              "      <td>0.90</td>\n",
              "      <td>1.01</td>\n",
              "      <td>0.65</td>\n",
              "      <td>0.91</td>\n",
              "      <td>1.04</td>\n",
              "      <td>...</td>\n",
              "      <td>0.43</td>\n",
              "      <td>0.34</td>\n",
              "      <td>0.36</td>\n",
              "      <td>0.06</td>\n",
              "      <td>0.31</td>\n",
              "      <td>0.32</td>\n",
              "      <td>0.08</td>\n",
              "      <td>0.31</td>\n",
              "      <td>0.27</td>\n",
              "      <td>0.08</td>\n",
              "    </tr>\n",
              "    <tr>\n",
              "      <th>50%</th>\n",
              "      <td>40.90</td>\n",
              "      <td>0.71</td>\n",
              "      <td>0.96</td>\n",
              "      <td>1.14</td>\n",
              "      <td>0.74</td>\n",
              "      <td>0.96</td>\n",
              "      <td>1.17</td>\n",
              "      <td>0.72</td>\n",
              "      <td>1.02</td>\n",
              "      <td>1.11</td>\n",
              "      <td>...</td>\n",
              "      <td>0.60</td>\n",
              "      <td>0.49</td>\n",
              "      <td>0.61</td>\n",
              "      <td>0.56</td>\n",
              "      <td>0.41</td>\n",
              "      <td>0.53</td>\n",
              "      <td>0.59</td>\n",
              "      <td>0.52</td>\n",
              "      <td>0.59</td>\n",
              "      <td>0.57</td>\n",
              "    </tr>\n",
              "    <tr>\n",
              "      <th>75%</th>\n",
              "      <td>63.88</td>\n",
              "      <td>0.77</td>\n",
              "      <td>1.01</td>\n",
              "      <td>1.23</td>\n",
              "      <td>0.80</td>\n",
              "      <td>1.04</td>\n",
              "      <td>1.22</td>\n",
              "      <td>0.79</td>\n",
              "      <td>1.09</td>\n",
              "      <td>1.15</td>\n",
              "      <td>...</td>\n",
              "      <td>0.69</td>\n",
              "      <td>0.62</td>\n",
              "      <td>0.73</td>\n",
              "      <td>0.82</td>\n",
              "      <td>0.61</td>\n",
              "      <td>0.67</td>\n",
              "      <td>0.81</td>\n",
              "      <td>0.70</td>\n",
              "      <td>0.70</td>\n",
              "      <td>0.78</td>\n",
              "    </tr>\n",
              "    <tr>\n",
              "      <th>max</th>\n",
              "      <td>90.00</td>\n",
              "      <td>0.86</td>\n",
              "      <td>1.14</td>\n",
              "      <td>1.33</td>\n",
              "      <td>0.89</td>\n",
              "      <td>1.21</td>\n",
              "      <td>1.30</td>\n",
              "      <td>0.85</td>\n",
              "      <td>1.25</td>\n",
              "      <td>1.22</td>\n",
              "      <td>...</td>\n",
              "      <td>1.00</td>\n",
              "      <td>1.00</td>\n",
              "      <td>1.00</td>\n",
              "      <td>1.00</td>\n",
              "      <td>1.00</td>\n",
              "      <td>1.00</td>\n",
              "      <td>1.00</td>\n",
              "      <td>1.00</td>\n",
              "      <td>1.00</td>\n",
              "      <td>1.00</td>\n",
              "    </tr>\n",
              "  </tbody>\n",
              "</table>\n",
              "<p>8 rows × 73 columns</p>\n",
              "</div>\n",
              "      <button class=\"colab-df-convert\" onclick=\"convertToInteractive('df-1b608e31-3063-448a-b9e5-3760eec4b14b')\"\n",
              "              title=\"Convert this dataframe to an interactive table.\"\n",
              "              style=\"display:none;\">\n",
              "        \n",
              "  <svg xmlns=\"http://www.w3.org/2000/svg\" height=\"24px\"viewBox=\"0 0 24 24\"\n",
              "       width=\"24px\">\n",
              "    <path d=\"M0 0h24v24H0V0z\" fill=\"none\"/>\n",
              "    <path d=\"M18.56 5.44l.94 2.06.94-2.06 2.06-.94-2.06-.94-.94-2.06-.94 2.06-2.06.94zm-11 1L8.5 8.5l.94-2.06 2.06-.94-2.06-.94L8.5 2.5l-.94 2.06-2.06.94zm10 10l.94 2.06.94-2.06 2.06-.94-2.06-.94-.94-2.06-.94 2.06-2.06.94z\"/><path d=\"M17.41 7.96l-1.37-1.37c-.4-.4-.92-.59-1.43-.59-.52 0-1.04.2-1.43.59L10.3 9.45l-7.72 7.72c-.78.78-.78 2.05 0 2.83L4 21.41c.39.39.9.59 1.41.59.51 0 1.02-.2 1.41-.59l7.78-7.78 2.81-2.81c.8-.78.8-2.07 0-2.86zM5.41 20L4 18.59l7.72-7.72 1.47 1.35L5.41 20z\"/>\n",
              "  </svg>\n",
              "      </button>\n",
              "      \n",
              "  <style>\n",
              "    .colab-df-container {\n",
              "      display:flex;\n",
              "      flex-wrap:wrap;\n",
              "      gap: 12px;\n",
              "    }\n",
              "\n",
              "    .colab-df-convert {\n",
              "      background-color: #E8F0FE;\n",
              "      border: none;\n",
              "      border-radius: 50%;\n",
              "      cursor: pointer;\n",
              "      display: none;\n",
              "      fill: #1967D2;\n",
              "      height: 32px;\n",
              "      padding: 0 0 0 0;\n",
              "      width: 32px;\n",
              "    }\n",
              "\n",
              "    .colab-df-convert:hover {\n",
              "      background-color: #E2EBFA;\n",
              "      box-shadow: 0px 1px 2px rgba(60, 64, 67, 0.3), 0px 1px 3px 1px rgba(60, 64, 67, 0.15);\n",
              "      fill: #174EA6;\n",
              "    }\n",
              "\n",
              "    [theme=dark] .colab-df-convert {\n",
              "      background-color: #3B4455;\n",
              "      fill: #D2E3FC;\n",
              "    }\n",
              "\n",
              "    [theme=dark] .colab-df-convert:hover {\n",
              "      background-color: #434B5C;\n",
              "      box-shadow: 0px 1px 3px 1px rgba(0, 0, 0, 0.15);\n",
              "      filter: drop-shadow(0px 1px 2px rgba(0, 0, 0, 0.3));\n",
              "      fill: #FFFFFF;\n",
              "    }\n",
              "  </style>\n",
              "\n",
              "      <script>\n",
              "        const buttonEl =\n",
              "          document.querySelector('#df-1b608e31-3063-448a-b9e5-3760eec4b14b button.colab-df-convert');\n",
              "        buttonEl.style.display =\n",
              "          google.colab.kernel.accessAllowed ? 'block' : 'none';\n",
              "\n",
              "        async function convertToInteractive(key) {\n",
              "          const element = document.querySelector('#df-1b608e31-3063-448a-b9e5-3760eec4b14b');\n",
              "          const dataTable =\n",
              "            await google.colab.kernel.invokeFunction('convertToInteractive',\n",
              "                                                     [key], {});\n",
              "          if (!dataTable) return;\n",
              "\n",
              "          const docLinkHtml = 'Like what you see? Visit the ' +\n",
              "            '<a target=\"_blank\" href=https://colab.research.google.com/notebooks/data_table.ipynb>data table notebook</a>'\n",
              "            + ' to learn more about interactive tables.';\n",
              "          element.innerHTML = '';\n",
              "          dataTable['output_type'] = 'display_data';\n",
              "          await google.colab.output.renderOutput(dataTable, element);\n",
              "          const docLink = document.createElement('div');\n",
              "          docLink.innerHTML = docLinkHtml;\n",
              "          element.appendChild(docLink);\n",
              "        }\n",
              "      </script>\n",
              "    </div>\n",
              "  </div>\n",
              "  "
            ],
            "text/plain": [
              "       Tiempo (s.)  antebrazo_inf_x  antebrazo_inf_y  antebrazo_inf_z  \\\n",
              "count    313649.00        313649.00        313649.00        313649.00   \n",
              "mean         42.22             0.72             0.93             1.11   \n",
              "std          25.74             0.07             0.10             0.14   \n",
              "min           0.00             0.57             0.73             0.89   \n",
              "25%          19.73             0.66             0.83             0.93   \n",
              "50%          40.90             0.71             0.96             1.14   \n",
              "75%          63.88             0.77             1.01             1.23   \n",
              "max          90.00             0.86             1.14             1.33   \n",
              "\n",
              "       antebrazo_med_x  antebrazo_med_y  antebrazo_med_z  antebrazo_sup_x  \\\n",
              "count        313649.00        313649.00        313649.00        313649.00   \n",
              "mean              0.75             0.98             1.14             0.72   \n",
              "std               0.07             0.10             0.10             0.07   \n",
              "min               0.63             0.80             0.97             0.59   \n",
              "25%               0.70             0.90             1.01             0.65   \n",
              "50%               0.74             0.96             1.17             0.72   \n",
              "75%               0.80             1.04             1.22             0.79   \n",
              "max               0.89             1.21             1.30             0.85   \n",
              "\n",
              "       antebrazo_sup_y  antebrazo_sup_z  ...  hombro_ref_z_mms  mano_x_mms  \\\n",
              "count        313649.00        313649.00  ...         313649.00   313649.00   \n",
              "mean              1.01             1.10  ...              0.57        0.48   \n",
              "std               0.11             0.06  ...              0.16        0.22   \n",
              "min               0.82             0.99  ...              0.00        0.00   \n",
              "25%               0.91             1.04  ...              0.43        0.34   \n",
              "50%               1.02             1.11  ...              0.60        0.49   \n",
              "75%               1.09             1.15  ...              0.69        0.62   \n",
              "max               1.25             1.22  ...              1.00        1.00   \n",
              "\n",
              "       mano_y_mms  mano_z_mms  muneca_ext_x_mms  muneca_ext_y_mms  \\\n",
              "count   313649.00   313649.00         313649.00         313649.00   \n",
              "mean         0.56        0.50              0.46              0.50   \n",
              "std          0.23        0.33              0.23              0.22   \n",
              "min          0.00        0.00              0.00              0.00   \n",
              "25%          0.36        0.06              0.31              0.32   \n",
              "50%          0.61        0.56              0.41              0.53   \n",
              "75%          0.73        0.82              0.61              0.67   \n",
              "max          1.00        1.00              1.00              1.00   \n",
              "\n",
              "       muneca_ext_z_mms  muneca_int_x_mms  muneca_int_y_mms  muneca_int_z_mms  \n",
              "count         313649.00         313649.00         313649.00         313649.00  \n",
              "mean               0.51              0.49              0.51              0.50  \n",
              "std                0.32              0.24              0.24              0.32  \n",
              "min                0.00              0.00              0.00              0.00  \n",
              "25%                0.08              0.31              0.27              0.08  \n",
              "50%                0.59              0.52              0.59              0.57  \n",
              "75%                0.81              0.70              0.70              0.78  \n",
              "max                1.00              1.00              1.00              1.00  \n",
              "\n",
              "[8 rows x 73 columns]"
            ]
          },
          "execution_count": 8,
          "metadata": {},
          "output_type": "execute_result"
        }
      ],
      "source": [
        "#NORMALIZATION\n",
        "from sklearn.preprocessing import MinMaxScaler\n",
        "mms = MinMaxScaler()\n",
        "df['antebrazo_inf_x_mms'] = mms.fit_transform(df[['antebrazo_inf_x']])\n",
        "df['antebrazo_inf_y_mms'] = mms.fit_transform(df[['antebrazo_inf_y']])\n",
        "df['antebrazo_inf_z_mms'] = mms.fit_transform(df[['antebrazo_inf_z']])\n",
        "\n",
        "df['antebrazo_med_x_mms'] = mms.fit_transform(df[['antebrazo_med_x']])\n",
        "df['antebrazo_med_y_mms'] = mms.fit_transform(df[['antebrazo_med_y']])\n",
        "df['antebrazo_med_z_mms'] = mms.fit_transform(df[['antebrazo_med_z']])\n",
        "\n",
        "df['antebrazo_sup_x_mms'] = mms.fit_transform(df[['antebrazo_sup_x']])\n",
        "df['antebrazo_sup_y_mms'] = mms.fit_transform(df[['antebrazo_sup_y']])\n",
        "df['antebrazo_sup_z_mms'] = mms.fit_transform(df[['antebrazo_sup_z']])\n",
        "\n",
        "df['brazo_inf_x_mms'] = mms.fit_transform(df[['brazo_inf_x']])\n",
        "df['brazo_inf_y_mms'] = mms.fit_transform(df[['brazo_inf_y']])\n",
        "df['brazo_inf_z_mms'] = mms.fit_transform(df[['brazo_inf_z']])\n",
        "\n",
        "df['brazo_med_x_mms'] = mms.fit_transform(df[['brazo_med_x']])\n",
        "df['brazo_med_y_mms'] = mms.fit_transform(df[['brazo_med_y']])\n",
        "df['brazo_med_z_mms'] = mms.fit_transform(df[['brazo_med_z']])\n",
        "\n",
        "df['brazo_sup_x_mms'] = mms.fit_transform(df[['brazo_sup_x']])\n",
        "df['brazo_sup_y_mms'] = mms.fit_transform(df[['brazo_sup_y']])\n",
        "df['brazo_sup_z_mms'] = mms.fit_transform(df[['brazo_sup_z']])\n",
        "\n",
        "df['codo_ext_x_mms'] = mms.fit_transform(df[['codo_ext_x']])\n",
        "df['codo_ext_y_mms'] = mms.fit_transform(df[['codo_ext_y']])\n",
        "df['codo_ext_z_mms'] = mms.fit_transform(df[['codo_ext_z']])\n",
        "\n",
        "df['codo_int_x_mms'] = mms.fit_transform(df[['codo_int_x']])\n",
        "df['codo_int_y_mms'] = mms.fit_transform(df[['codo_int_y']])\n",
        "df['codo_int_z_mms'] = mms.fit_transform(df[['codo_int_z']])\n",
        "\n",
        "df['hombro_ref_x_mms'] = mms.fit_transform(df[['hombro_ref_x']])\n",
        "df['hombro_ref_y_mms'] = mms.fit_transform(df[['hombro_ref_y']])\n",
        "df['hombro_ref_z_mms'] = mms.fit_transform(df[['hombro_ref_z']])\n",
        "\n",
        "df['mano_x_mms'] = mms.fit_transform(df[['mano_x']])\n",
        "df['mano_y_mms'] = mms.fit_transform(df[['mano_y']])\n",
        "df['mano_z_mms'] = mms.fit_transform(df[['mano_z']])\n",
        "\n",
        "df['muneca_ext_x_mms'] = mms.fit_transform(df[['muneca_ext_x']])\n",
        "df['muneca_ext_y_mms'] = mms.fit_transform(df[['muneca_ext_y']])\n",
        "df['muneca_ext_z_mms'] = mms.fit_transform(df[['muneca_ext_z']])\n",
        "\n",
        "df['muneca_int_x_mms'] = mms.fit_transform(df[['muneca_int_x']])\n",
        "df['muneca_int_y_mms'] = mms.fit_transform(df[['muneca_int_y']])\n",
        "df['muneca_int_z_mms'] = mms.fit_transform(df[['muneca_int_z']])\n",
        "\n",
        "df.describe().round(2)"
      ]
    },
    {
      "cell_type": "markdown",
      "metadata": {
        "id": "OnWx0M5js87G"
      },
      "source": [
        "### Transformation of dimensions as a 3D array\n",
        "\n",
        "Considering the size of the dataset, a number of samples of 200 was considered enough to have good training and test sets"
      ]
    },
    {
      "cell_type": "code",
      "execution_count": null,
      "metadata": {
        "colab": {
          "base_uri": "https://localhost:8080/"
        },
        "id": "1oXw-Uie9FZm",
        "outputId": "eaa3b866-8a50-4d23-d06e-f2319d9f18f4"
      },
      "outputs": [
        {
          "name": "stderr",
          "output_type": "stream",
          "text": [
            "<ipython-input-9-1d179a2cbb4e>:56: FutureWarning: Unlike other reduction functions (e.g. `skew`, `kurtosis`), the default behavior of `mode` typically preserves the axis it acts along. In SciPy 1.11.0, this behavior will change: the default value of `keepdims` will become False, the `axis` over which the statistic is taken will be eliminated, and the value None will no longer be accepted. Set `keepdims` to True or False to avoid this warning.\n",
            "  label = stats.mode(df['labbel'][i:i+nSamplesInEach])\n",
            "<ipython-input-9-1d179a2cbb4e>:56: DeprecationWarning: Support for non-numeric arrays has been deprecated as of SciPy 1.9.0 and will be removed in 1.11.0. `pandas.DataFrame.mode` can be used instead, see https://pandas.pydata.org/docs/reference/api/pandas.DataFrame.mode.html.\n",
            "  label = stats.mode(df['labbel'][i:i+nSamplesInEach])\n"
          ]
        },
        {
          "data": {
            "text/plain": [
              "(1568, 36, 200)"
            ]
          },
          "execution_count": 9,
          "metadata": {},
          "output_type": "execute_result"
        }
      ],
      "source": [
        "import numpy as np\n",
        "from scipy import stats\n",
        "nSamplesInEach = 200\n",
        "nFeatures = 36\n",
        "samples = []\n",
        "labels = []\n",
        "for i in range(0,len(df)-nSamplesInEach,nSamplesInEach):\n",
        "  aix = df['antebrazo_inf_x_mms'].values[i:i+nSamplesInEach]\n",
        "  aiy = df['antebrazo_inf_y_mms'].values[i:i+nSamplesInEach]\n",
        "  aiz = df['antebrazo_inf_z_mms'].values[i:i+nSamplesInEach]\n",
        "\n",
        "  amx = df['antebrazo_med_x_mms'].values[i:i+nSamplesInEach]\n",
        "  amy = df['antebrazo_med_y_mms'].values[i:i+nSamplesInEach]\n",
        "  amz = df['antebrazo_med_z_mms'].values[i:i+nSamplesInEach]\n",
        "\n",
        "  asx = df['antebrazo_sup_x_mms'].values[i:i+nSamplesInEach]\n",
        "  asy = df['antebrazo_sup_y_mms'].values[i:i+nSamplesInEach]\n",
        "  asz = df['antebrazo_sup_z_mms'].values[i:i+nSamplesInEach]\n",
        "\n",
        "  bix = df['brazo_inf_x_mms'].values[i:i+nSamplesInEach]\n",
        "  biy = df['brazo_inf_y_mms'].values[i:i+nSamplesInEach]\n",
        "  biz = df['brazo_inf_z_mms'].values[i:i+nSamplesInEach]\n",
        "\n",
        "  bmx = df['brazo_med_x_mms'].values[i:i+nSamplesInEach]\n",
        "  bmy = df['brazo_med_y_mms'].values[i:i+nSamplesInEach]\n",
        "  bmz = df['brazo_med_z_mms'].values[i:i+nSamplesInEach]\n",
        "\n",
        "  bsx = df['brazo_sup_x_mms'].values[i:i+nSamplesInEach]\n",
        "  bsy = df['brazo_sup_y_mms'].values[i:i+nSamplesInEach]\n",
        "  bsz = df['brazo_sup_z_mms'].values[i:i+nSamplesInEach]\n",
        "\n",
        "  cex = df['codo_ext_x_mms'].values[i:i+nSamplesInEach]\n",
        "  cey = df['codo_ext_y_mms'].values[i:i+nSamplesInEach]\n",
        "  cez = df['codo_ext_z_mms'].values[i:i+nSamplesInEach]\n",
        "\n",
        "  cix = df['codo_int_x_mms'].values[i:i+nSamplesInEach]\n",
        "  ciy = df['codo_int_y_mms'].values[i:i+nSamplesInEach]\n",
        "  ciz = df['codo_int_z_mms'].values[i:i+nSamplesInEach]\n",
        "\n",
        "  hx = df['hombro_ref_x_mms'].values[i:i+nSamplesInEach]\n",
        "  hy = df['hombro_ref_y_mms'].values[i:i+nSamplesInEach]\n",
        "  hz = df['hombro_ref_z_mms'].values[i:i+nSamplesInEach]\n",
        "\n",
        "  mx = df['mano_x_mms'].values[i:i+nSamplesInEach]\n",
        "  my = df['mano_y_mms'].values[i:i+nSamplesInEach]\n",
        "  mz = df['mano_z_mms'].values[i:i+nSamplesInEach]\n",
        "\n",
        "  mex = df['muneca_ext_x_mms'].values[i:i+nSamplesInEach]\n",
        "  mey = df['muneca_ext_y_mms'].values[i:i+nSamplesInEach]\n",
        "  mez = df['muneca_ext_z_mms'].values[i:i+nSamplesInEach]\n",
        "\n",
        "  mix = df['muneca_int_x_mms'].values[i:i+nSamplesInEach]\n",
        "  miy = df['muneca_int_y_mms'].values[i:i+nSamplesInEach]\n",
        "  miz = df['muneca_int_z_mms'].values[i:i+nSamplesInEach]\n",
        "\n",
        "  label = stats.mode(df['labbel'][i:i+nSamplesInEach])\n",
        "  label = label[0][0]\n",
        "\n",
        "  samples.append([aix, aiy, aiz, amx, amy, amz, asx, asy, asz, bix, biy, biz, bmx, bmy, bmz, bsx, bsy, bsz, cex, cey, cez, cix, ciy, ciz, hx, hy, hz, mx, my, mz, mex, mey, mez, mix, miy, miz])\n",
        "  labels.append(label)\n",
        "\n",
        "# Dimensions of resulting tensor\n",
        "np.array(samples).shape"
      ]
    },
    {
      "cell_type": "markdown",
      "metadata": {
        "id": "IGf2MHB6vCcM"
      },
      "source": [
        "### Reshape\n",
        "\n",
        "This is necessary so that the dimensions of the tensor are in the correct order, that is, to change the shape from (samples, features, timesteps) to (samples, timesteps, features)."
      ]
    },
    {
      "cell_type": "code",
      "execution_count": null,
      "metadata": {
        "colab": {
          "base_uri": "https://localhost:8080/"
        },
        "id": "MzFDbedY-wA9",
        "outputId": "ad25af72-25e4-4eba-a409-70bc54a476b8"
      },
      "outputs": [
        {
          "data": {
            "text/plain": [
              "(1568, 200, 36)"
            ]
          },
          "execution_count": 10,
          "metadata": {},
          "output_type": "execute_result"
        }
      ],
      "source": [
        "reshaped_s = np.array(samples).reshape(-1,nSamplesInEach,nFeatures)\n",
        "np.array(reshaped_s).shape"
      ]
    },
    {
      "cell_type": "code",
      "execution_count": null,
      "metadata": {
        "colab": {
          "base_uri": "https://localhost:8080/"
        },
        "id": "TaNfAMNcn-qx",
        "outputId": "19803de1-0ed7-48d5-c6dd-72e290fb9216"
      },
      "outputs": [
        {
          "name": "stdout",
          "output_type": "stream",
          "text": [
            "1568\n"
          ]
        }
      ],
      "source": [
        "# Length of dataset after preprocessing\n",
        "print(len(reshaped_s))"
      ]
    },
    {
      "cell_type": "markdown",
      "metadata": {
        "id": "SUWPHVKCvYx0"
      },
      "source": [
        "### Label Encoding\n",
        "\n",
        "To make training easier, the labels are encoded to binary values, which are easier to process and map in a neural network."
      ]
    },
    {
      "cell_type": "code",
      "execution_count": null,
      "metadata": {
        "colab": {
          "base_uri": "https://localhost:8080/"
        },
        "id": "Ze4AqFLn_D_s",
        "outputId": "4d5485b7-cef6-4a91-8d97-3dfe25472d1d"
      },
      "outputs": [
        {
          "name": "stdout",
          "output_type": "stream",
          "text": [
            "['extension', 'flexion', 'pronacion', 'supinacion']\n"
          ]
        },
        {
          "data": {
            "text/plain": [
              "['extension',\n",
              " 'extension',\n",
              " 'extension',\n",
              " 'extension',\n",
              " 'extension',\n",
              " 'extension',\n",
              " 'extension',\n",
              " 'extension',\n",
              " 'extension',\n",
              " 'extension']"
            ]
          },
          "execution_count": 12,
          "metadata": {},
          "output_type": "execute_result"
        }
      ],
      "source": [
        "#Labels\n",
        "orig_labels = list(dict.fromkeys(labels)) # Get unique labels\n",
        "print(orig_labels)\n",
        "labels[:10]"
      ]
    },
    {
      "cell_type": "code",
      "execution_count": null,
      "metadata": {
        "colab": {
          "base_uri": "https://localhost:8080/"
        },
        "id": "7XZQ_MYKAX4Y",
        "outputId": "c42c97a0-29be-4189-a16f-4195c6dbdad9"
      },
      "outputs": [
        {
          "data": {
            "text/plain": [
              "array([[1, 0, 0, 0],\n",
              "       [1, 0, 0, 0],\n",
              "       [1, 0, 0, 0],\n",
              "       [1, 0, 0, 0],\n",
              "       [1, 0, 0, 0],\n",
              "       [1, 0, 0, 0],\n",
              "       [1, 0, 0, 0],\n",
              "       [1, 0, 0, 0],\n",
              "       [1, 0, 0, 0],\n",
              "       [1, 0, 0, 0]], dtype=uint8)"
            ]
          },
          "execution_count": 13,
          "metadata": {},
          "output_type": "execute_result"
        }
      ],
      "source": [
        "labels = np.array(pd.get_dummies(labels))\n",
        "labels[:10]"
      ]
    },
    {
      "cell_type": "code",
      "execution_count": null,
      "metadata": {
        "colab": {
          "base_uri": "https://localhost:8080/"
        },
        "id": "bZ25WYUhm8eF",
        "outputId": "943551fc-50f2-4931-e94f-bdba39595a59"
      },
      "outputs": [
        {
          "name": "stdout",
          "output_type": "stream",
          "text": [
            "[[1 0 0 0]\n",
            " [0 1 0 0]\n",
            " [0 0 1 0]\n",
            " [0 0 0 1]]\n"
          ]
        }
      ],
      "source": [
        "# Identify unique encoded labels\n",
        "_, idx = np.unique(labels, axis=0, return_index=True)\n",
        "encoded_labels = labels[np.sort(idx)]\n",
        "print(encoded_labels)"
      ]
    },
    {
      "cell_type": "code",
      "execution_count": null,
      "metadata": {
        "colab": {
          "base_uri": "https://localhost:8080/"
        },
        "id": "MRIHpOXZAc8y",
        "outputId": "17910032-b25e-4eba-df68-ec4e09c817ec"
      },
      "outputs": [
        {
          "data": {
            "text/plain": [
              "(1568, 4)"
            ]
          },
          "execution_count": 15,
          "metadata": {},
          "output_type": "execute_result"
        }
      ],
      "source": [
        "# Shape of the label list\n",
        "labels.shape"
      ]
    },
    {
      "cell_type": "markdown",
      "metadata": {
        "id": "hekaGMStvwcW"
      },
      "source": [
        "## Creation of training, testing and validation splits\n",
        "\n"
      ]
    },
    {
      "cell_type": "code",
      "execution_count": null,
      "metadata": {
        "colab": {
          "base_uri": "https://localhost:8080/"
        },
        "id": "MWMYJ8niAktf",
        "outputId": "e70ae982-dcdb-45f9-afa2-c59cf0a416e4"
      },
      "outputs": [
        {
          "data": {
            "text/plain": [
              "1132"
            ]
          },
          "execution_count": 16,
          "metadata": {},
          "output_type": "execute_result"
        }
      ],
      "source": [
        "#Training and Test Data\n",
        "#Split into Train and Test Data sets\n",
        "#We'll use 80% of the measurements for training, 15% of that will go to validation.\n",
        "#15% of the set will be destined to testing\n",
        "\n",
        "from sklearn.model_selection import train_test_split\n",
        "X, X_test, Y, Y_test = train_test_split(reshaped_s, labels, test_size=.15,random_state=4)\n",
        "X_train, X_val, Y_train, Y_val = train_test_split(X, Y, test_size=.15,random_state=4)\n",
        "len(X_train)"
      ]
    },
    {
      "cell_type": "code",
      "execution_count": null,
      "metadata": {
        "colab": {
          "base_uri": "https://localhost:8080/"
        },
        "id": "E1EJ_MF5oM7W",
        "outputId": "51be0e00-5372-4f1d-b54c-415bd1248b43"
      },
      "outputs": [
        {
          "data": {
            "text/plain": [
              "200"
            ]
          },
          "execution_count": 17,
          "metadata": {},
          "output_type": "execute_result"
        }
      ],
      "source": [
        "len(X_val)"
      ]
    },
    {
      "cell_type": "code",
      "execution_count": null,
      "metadata": {
        "colab": {
          "base_uri": "https://localhost:8080/"
        },
        "id": "jcOGCteZA7Fp",
        "outputId": "dc7547a8-4f47-4a8b-c80e-079a46c00232"
      },
      "outputs": [
        {
          "data": {
            "text/plain": [
              "236"
            ]
          },
          "execution_count": 18,
          "metadata": {},
          "output_type": "execute_result"
        }
      ],
      "source": [
        "len(X_test)"
      ]
    },
    {
      "cell_type": "markdown",
      "metadata": {
        "id": "HHCSYTOtpQIe"
      },
      "source": [
        "### Samples per Class\n",
        "\n",
        "Count of samples for each class for training and testing"
      ]
    },
    {
      "cell_type": "code",
      "execution_count": null,
      "metadata": {
        "colab": {
          "base_uri": "https://localhost:8080/",
          "height": 206
        },
        "id": "ppj7HurAjiy-",
        "outputId": "d0135876-64be-47e2-c8e2-3b6e4e1e4b52"
      },
      "outputs": [
        {
          "data": {
            "text/html": [
              "\n",
              "  <div id=\"df-22892186-4559-4c42-b4f6-eba53d3706c8\">\n",
              "    <div class=\"colab-df-container\">\n",
              "      <div>\n",
              "<style scoped>\n",
              "    .dataframe tbody tr th:only-of-type {\n",
              "        vertical-align: middle;\n",
              "    }\n",
              "\n",
              "    .dataframe tbody tr th {\n",
              "        vertical-align: top;\n",
              "    }\n",
              "\n",
              "    .dataframe thead th {\n",
              "        text-align: right;\n",
              "    }\n",
              "</style>\n",
              "<table border=\"1\" class=\"dataframe\">\n",
              "  <thead>\n",
              "    <tr style=\"text-align: right;\">\n",
              "      <th></th>\n",
              "      <th>Class</th>\n",
              "      <th>Training</th>\n",
              "      <th>Validation</th>\n",
              "      <th>Testing</th>\n",
              "      <th>Total</th>\n",
              "    </tr>\n",
              "  </thead>\n",
              "  <tbody>\n",
              "    <tr>\n",
              "      <th>0</th>\n",
              "      <td>extension</td>\n",
              "      <td>335.0</td>\n",
              "      <td>54.0</td>\n",
              "      <td>63.0</td>\n",
              "      <td>452.0</td>\n",
              "    </tr>\n",
              "    <tr>\n",
              "      <th>1</th>\n",
              "      <td>flexion</td>\n",
              "      <td>325.0</td>\n",
              "      <td>51.0</td>\n",
              "      <td>72.0</td>\n",
              "      <td>448.0</td>\n",
              "    </tr>\n",
              "    <tr>\n",
              "      <th>2</th>\n",
              "      <td>pronacion</td>\n",
              "      <td>238.0</td>\n",
              "      <td>39.0</td>\n",
              "      <td>52.0</td>\n",
              "      <td>329.0</td>\n",
              "    </tr>\n",
              "    <tr>\n",
              "      <th>3</th>\n",
              "      <td>supinacion</td>\n",
              "      <td>234.0</td>\n",
              "      <td>56.0</td>\n",
              "      <td>49.0</td>\n",
              "      <td>339.0</td>\n",
              "    </tr>\n",
              "    <tr>\n",
              "      <th>Total</th>\n",
              "      <td>NaN</td>\n",
              "      <td>1132.0</td>\n",
              "      <td>200.0</td>\n",
              "      <td>236.0</td>\n",
              "      <td>1568.0</td>\n",
              "    </tr>\n",
              "  </tbody>\n",
              "</table>\n",
              "</div>\n",
              "      <button class=\"colab-df-convert\" onclick=\"convertToInteractive('df-22892186-4559-4c42-b4f6-eba53d3706c8')\"\n",
              "              title=\"Convert this dataframe to an interactive table.\"\n",
              "              style=\"display:none;\">\n",
              "        \n",
              "  <svg xmlns=\"http://www.w3.org/2000/svg\" height=\"24px\"viewBox=\"0 0 24 24\"\n",
              "       width=\"24px\">\n",
              "    <path d=\"M0 0h24v24H0V0z\" fill=\"none\"/>\n",
              "    <path d=\"M18.56 5.44l.94 2.06.94-2.06 2.06-.94-2.06-.94-.94-2.06-.94 2.06-2.06.94zm-11 1L8.5 8.5l.94-2.06 2.06-.94-2.06-.94L8.5 2.5l-.94 2.06-2.06.94zm10 10l.94 2.06.94-2.06 2.06-.94-2.06-.94-.94-2.06-.94 2.06-2.06.94z\"/><path d=\"M17.41 7.96l-1.37-1.37c-.4-.4-.92-.59-1.43-.59-.52 0-1.04.2-1.43.59L10.3 9.45l-7.72 7.72c-.78.78-.78 2.05 0 2.83L4 21.41c.39.39.9.59 1.41.59.51 0 1.02-.2 1.41-.59l7.78-7.78 2.81-2.81c.8-.78.8-2.07 0-2.86zM5.41 20L4 18.59l7.72-7.72 1.47 1.35L5.41 20z\"/>\n",
              "  </svg>\n",
              "      </button>\n",
              "      \n",
              "  <style>\n",
              "    .colab-df-container {\n",
              "      display:flex;\n",
              "      flex-wrap:wrap;\n",
              "      gap: 12px;\n",
              "    }\n",
              "\n",
              "    .colab-df-convert {\n",
              "      background-color: #E8F0FE;\n",
              "      border: none;\n",
              "      border-radius: 50%;\n",
              "      cursor: pointer;\n",
              "      display: none;\n",
              "      fill: #1967D2;\n",
              "      height: 32px;\n",
              "      padding: 0 0 0 0;\n",
              "      width: 32px;\n",
              "    }\n",
              "\n",
              "    .colab-df-convert:hover {\n",
              "      background-color: #E2EBFA;\n",
              "      box-shadow: 0px 1px 2px rgba(60, 64, 67, 0.3), 0px 1px 3px 1px rgba(60, 64, 67, 0.15);\n",
              "      fill: #174EA6;\n",
              "    }\n",
              "\n",
              "    [theme=dark] .colab-df-convert {\n",
              "      background-color: #3B4455;\n",
              "      fill: #D2E3FC;\n",
              "    }\n",
              "\n",
              "    [theme=dark] .colab-df-convert:hover {\n",
              "      background-color: #434B5C;\n",
              "      box-shadow: 0px 1px 3px 1px rgba(0, 0, 0, 0.15);\n",
              "      filter: drop-shadow(0px 1px 2px rgba(0, 0, 0, 0.3));\n",
              "      fill: #FFFFFF;\n",
              "    }\n",
              "  </style>\n",
              "\n",
              "      <script>\n",
              "        const buttonEl =\n",
              "          document.querySelector('#df-22892186-4559-4c42-b4f6-eba53d3706c8 button.colab-df-convert');\n",
              "        buttonEl.style.display =\n",
              "          google.colab.kernel.accessAllowed ? 'block' : 'none';\n",
              "\n",
              "        async function convertToInteractive(key) {\n",
              "          const element = document.querySelector('#df-22892186-4559-4c42-b4f6-eba53d3706c8');\n",
              "          const dataTable =\n",
              "            await google.colab.kernel.invokeFunction('convertToInteractive',\n",
              "                                                     [key], {});\n",
              "          if (!dataTable) return;\n",
              "\n",
              "          const docLinkHtml = 'Like what you see? Visit the ' +\n",
              "            '<a target=\"_blank\" href=https://colab.research.google.com/notebooks/data_table.ipynb>data table notebook</a>'\n",
              "            + ' to learn more about interactive tables.';\n",
              "          element.innerHTML = '';\n",
              "          dataTable['output_type'] = 'display_data';\n",
              "          await google.colab.output.renderOutput(dataTable, element);\n",
              "          const docLink = document.createElement('div');\n",
              "          docLink.innerHTML = docLinkHtml;\n",
              "          element.appendChild(docLink);\n",
              "        }\n",
              "      </script>\n",
              "    </div>\n",
              "  </div>\n",
              "  "
            ],
            "text/plain": [
              "            Class  Training  Validation  Testing   Total\n",
              "0       extension     335.0        54.0     63.0   452.0\n",
              "1         flexion     325.0        51.0     72.0   448.0\n",
              "2       pronacion     238.0        39.0     52.0   329.0\n",
              "3      supinacion     234.0        56.0     49.0   339.0\n",
              "Total         NaN    1132.0       200.0    236.0  1568.0"
            ]
          },
          "execution_count": 19,
          "metadata": {},
          "output_type": "execute_result"
        }
      ],
      "source": [
        "# Count how many elements\n",
        "def class_count(split, classes):\n",
        "  counts = []\n",
        "  for i in classes:\n",
        "    count = np.where((split == i).all(axis=1))[0].size  # count the number of times the row i in classes is present in the split array.\n",
        "    counts.append(count)\n",
        "  return counts\n",
        "\n",
        "train_counts = class_count(Y_train, encoded_labels)\n",
        "val_counts = class_count(Y_val, encoded_labels)\n",
        "test_counts = class_count(Y_test, encoded_labels)\n",
        "\n",
        "df = pd.DataFrame(list(zip(orig_labels, train_counts, val_counts, test_counts)),\n",
        "                  columns =['Class', 'Training','Validation', 'Testing'])\n",
        "\n",
        "df.loc['Total'] = df.sum(numeric_only=True)\n",
        "df.loc[:,'Total'] = df.sum(numeric_only=True, axis=1)\n",
        "df"
      ]
    },
    {
      "cell_type": "code",
      "execution_count": null,
      "metadata": {
        "colab": {
          "base_uri": "https://localhost:8080/"
        },
        "id": "HjbChKS6h66M",
        "outputId": "b7f178de-081e-4926-f87b-bcccbed92719"
      },
      "outputs": [
        {
          "name": "stdout",
          "output_type": "stream",
          "text": [
            "n_timesteps: 200, n_features: 36, n_outputs: 4\n"
          ]
        }
      ],
      "source": [
        "#Build the model\n",
        "# Get the input shape -> (samples, time steps, features)\n",
        "n_timesteps, n_features, n_outputs = X_train.shape[1], X_train.shape[2], Y_train.shape[1]\n",
        "print('n_timesteps: {}, n_features: {}, n_outputs: {}'.format(n_timesteps,n_features,n_outputs))"
      ]
    },
    {
      "cell_type": "markdown",
      "metadata": {
        "id": "Adca4Fet3EBB"
      },
      "source": [
        "## Architectures"
      ]
    },
    {
      "cell_type": "markdown",
      "metadata": {
        "id": "Ft_xKdogB0VX"
      },
      "source": [
        "### Architecture 1: LSTM(128) + Dropout + Fully Connected + Fully Connected\n",
        "\n",
        "Source: https://www.analyticsvidhya.com/blog/2021/07/implementing-lstm-for-human-activity-recognition-using-smartphone-accelerometer-data/"
      ]
    },
    {
      "cell_type": "code",
      "execution_count": null,
      "metadata": {
        "id": "XmQDIP0efRTG"
      },
      "outputs": [],
      "source": [
        "import keras\n",
        "from keras.models import Sequential\n",
        "from keras.layers import Dense, Dropout, LSTM, Conv1D, MaxPooling1D, Flatten, Reshape"
      ]
    },
    {
      "cell_type": "markdown",
      "metadata": {
        "id": "82d_ZzPv3apZ"
      },
      "source": [
        "This simple architecture uses a LSTM layer of 128 neurons to process the time series data, then a dropout layer to prevent overfitting, and two fully connected layers to map the information from previous layers to the 4 outputs."
      ]
    },
    {
      "cell_type": "code",
      "execution_count": null,
      "metadata": {
        "colab": {
          "base_uri": "https://localhost:8080/"
        },
        "id": "kD2WorQmfUB-",
        "outputId": "9a8d6347-590e-4d13-ceb4-ef94f8909aa8"
      },
      "outputs": [
        {
          "name": "stdout",
          "output_type": "stream",
          "text": [
            "Model: \"sequential\"\n",
            "_________________________________________________________________\n",
            " Layer (type)                Output Shape              Param #   \n",
            "=================================================================\n",
            " lstm (LSTM)                 (None, 128)               84480     \n",
            "                                                                 \n",
            " dropout (Dropout)           (None, 128)               0         \n",
            "                                                                 \n",
            " dense (Dense)               (None, 64)                8256      \n",
            "                                                                 \n",
            " dense_1 (Dense)             (None, 4)                 260       \n",
            "                                                                 \n",
            "=================================================================\n",
            "Total params: 92,996\n",
            "Trainable params: 92,996\n",
            "Non-trainable params: 0\n",
            "_________________________________________________________________\n"
          ]
        }
      ],
      "source": [
        "model = Sequential()\n",
        "# RNN layer\n",
        "model.add(LSTM(units = 128, input_shape = (X_train.shape[1], X_train.shape[2])))\n",
        "# Dropout layer\n",
        "model.add(Dropout(0.5))\n",
        "# Dense layer with ReLu\n",
        "model.add(Dense(units = 64, activation='relu'))\n",
        "# Softmax layer\n",
        "model.add(Dense(n_outputs, activation = 'softmax'))\n",
        "\n",
        "model.summary()"
      ]
    },
    {
      "cell_type": "markdown",
      "metadata": {
        "id": "7mr3ELl0B0VX"
      },
      "source": [
        "#### Loss function and optimizer\n",
        "\n",
        "**Loss function:** Categorical Cross Entropy\n",
        "\n",
        "**Optimizer:** Adam"
      ]
    },
    {
      "cell_type": "code",
      "execution_count": null,
      "metadata": {
        "id": "j40CQvaOAizB"
      },
      "outputs": [],
      "source": [
        "model.compile(loss='categorical_crossentropy', optimizer='adam', metrics=['accuracy'])"
      ]
    },
    {
      "cell_type": "markdown",
      "metadata": {
        "id": "Z6wT6uyiB0VY"
      },
      "source": [
        "#### Train the model\n",
        "\n",
        "Train the model for 50 epochs in mini-batches of 32 samples. This is 50 iterations over all samples in the `x_train` and `y_train` tensors. While training, monitor the model's loss and accuracy on the samples from the validation set:"
      ]
    },
    {
      "cell_type": "code",
      "execution_count": null,
      "metadata": {
        "colab": {
          "base_uri": "https://localhost:8080/"
        },
        "id": "QQQRdi5eAntm",
        "outputId": "972b4afd-5477-492a-a971-b35d97218d3a"
      },
      "outputs": [
        {
          "name": "stdout",
          "output_type": "stream",
          "text": [
            "Epoch 1/50\n",
            "36/36 [==============================] - 6s 29ms/step - loss: 1.0137 - accuracy: 0.5989 - val_loss: 0.6794 - val_accuracy: 0.7100\n",
            "Epoch 2/50\n",
            "36/36 [==============================] - 0s 12ms/step - loss: 0.6357 - accuracy: 0.7182 - val_loss: 0.6932 - val_accuracy: 0.7150\n",
            "Epoch 3/50\n",
            "36/36 [==============================] - 1s 15ms/step - loss: 0.5805 - accuracy: 0.7403 - val_loss: 0.6231 - val_accuracy: 0.7350\n",
            "Epoch 4/50\n",
            "36/36 [==============================] - 1s 16ms/step - loss: 0.5382 - accuracy: 0.7465 - val_loss: 0.5606 - val_accuracy: 0.7900\n",
            "Epoch 5/50\n",
            "36/36 [==============================] - 1s 16ms/step - loss: 0.5070 - accuracy: 0.7818 - val_loss: 0.4785 - val_accuracy: 0.8750\n",
            "Epoch 6/50\n",
            "36/36 [==============================] - 1s 16ms/step - loss: 0.4420 - accuracy: 0.8445 - val_loss: 0.3636 - val_accuracy: 0.8700\n",
            "Epoch 7/50\n",
            "36/36 [==============================] - 1s 17ms/step - loss: 0.4363 - accuracy: 0.8445 - val_loss: 0.4081 - val_accuracy: 0.8750\n",
            "Epoch 8/50\n",
            "36/36 [==============================] - 1s 17ms/step - loss: 0.4210 - accuracy: 0.8392 - val_loss: 0.4031 - val_accuracy: 0.8150\n",
            "Epoch 9/50\n",
            "36/36 [==============================] - 1s 16ms/step - loss: 0.4254 - accuracy: 0.8322 - val_loss: 0.4423 - val_accuracy: 0.8350\n",
            "Epoch 10/50\n",
            "36/36 [==============================] - 0s 11ms/step - loss: 0.4017 - accuracy: 0.8498 - val_loss: 0.3481 - val_accuracy: 0.8800\n",
            "Epoch 11/50\n",
            "36/36 [==============================] - 0s 11ms/step - loss: 0.3750 - accuracy: 0.8648 - val_loss: 0.3559 - val_accuracy: 0.8550\n",
            "Epoch 12/50\n",
            "36/36 [==============================] - 0s 11ms/step - loss: 0.4368 - accuracy: 0.8463 - val_loss: 0.4699 - val_accuracy: 0.8350\n",
            "Epoch 13/50\n",
            "36/36 [==============================] - 0s 12ms/step - loss: 0.4234 - accuracy: 0.8366 - val_loss: 0.3784 - val_accuracy: 0.8750\n",
            "Epoch 14/50\n",
            "36/36 [==============================] - 0s 12ms/step - loss: 0.3872 - accuracy: 0.8542 - val_loss: 0.3495 - val_accuracy: 0.8900\n",
            "Epoch 15/50\n",
            "36/36 [==============================] - 0s 11ms/step - loss: 0.3428 - accuracy: 0.8693 - val_loss: 0.3404 - val_accuracy: 0.8850\n",
            "Epoch 16/50\n",
            "36/36 [==============================] - 0s 12ms/step - loss: 0.3316 - accuracy: 0.8763 - val_loss: 0.3112 - val_accuracy: 0.8900\n",
            "Epoch 17/50\n",
            "36/36 [==============================] - 0s 12ms/step - loss: 0.3119 - accuracy: 0.8728 - val_loss: 0.3847 - val_accuracy: 0.8500\n",
            "Epoch 18/50\n",
            "36/36 [==============================] - 1s 16ms/step - loss: 0.3523 - accuracy: 0.8551 - val_loss: 0.3136 - val_accuracy: 0.8950\n",
            "Epoch 19/50\n",
            "36/36 [==============================] - 1s 17ms/step - loss: 0.3160 - accuracy: 0.8719 - val_loss: 0.2926 - val_accuracy: 0.8900\n",
            "Epoch 20/50\n",
            "36/36 [==============================] - 1s 17ms/step - loss: 0.3083 - accuracy: 0.8816 - val_loss: 0.3242 - val_accuracy: 0.8800\n",
            "Epoch 21/50\n",
            "36/36 [==============================] - 1s 17ms/step - loss: 0.3379 - accuracy: 0.8587 - val_loss: 0.3059 - val_accuracy: 0.8850\n",
            "Epoch 22/50\n",
            "36/36 [==============================] - 1s 16ms/step - loss: 0.3311 - accuracy: 0.8587 - val_loss: 0.3587 - val_accuracy: 0.8800\n",
            "Epoch 23/50\n",
            "36/36 [==============================] - 1s 16ms/step - loss: 0.3248 - accuracy: 0.8719 - val_loss: 0.3324 - val_accuracy: 0.8800\n",
            "Epoch 24/50\n",
            "36/36 [==============================] - 1s 15ms/step - loss: 0.3015 - accuracy: 0.8816 - val_loss: 0.3015 - val_accuracy: 0.8850\n",
            "Epoch 25/50\n",
            "36/36 [==============================] - 0s 12ms/step - loss: 0.2893 - accuracy: 0.8852 - val_loss: 0.4113 - val_accuracy: 0.8300\n",
            "Epoch 26/50\n",
            "36/36 [==============================] - 0s 12ms/step - loss: 0.3059 - accuracy: 0.8860 - val_loss: 0.3186 - val_accuracy: 0.8850\n",
            "Epoch 27/50\n",
            "36/36 [==============================] - 0s 12ms/step - loss: 0.3035 - accuracy: 0.8790 - val_loss: 0.3263 - val_accuracy: 0.8700\n",
            "Epoch 28/50\n",
            "36/36 [==============================] - 0s 12ms/step - loss: 0.3147 - accuracy: 0.8772 - val_loss: 0.3003 - val_accuracy: 0.8900\n",
            "Epoch 29/50\n",
            "36/36 [==============================] - 0s 12ms/step - loss: 0.2810 - accuracy: 0.8825 - val_loss: 0.2828 - val_accuracy: 0.8850\n",
            "Epoch 30/50\n",
            "36/36 [==============================] - 0s 13ms/step - loss: 0.2952 - accuracy: 0.8807 - val_loss: 0.3120 - val_accuracy: 0.8850\n",
            "Epoch 31/50\n",
            "36/36 [==============================] - 0s 12ms/step - loss: 0.3129 - accuracy: 0.8746 - val_loss: 0.3004 - val_accuracy: 0.8850\n",
            "Epoch 32/50\n",
            "36/36 [==============================] - 0s 12ms/step - loss: 0.2948 - accuracy: 0.8799 - val_loss: 0.3256 - val_accuracy: 0.8700\n",
            "Epoch 33/50\n",
            "36/36 [==============================] - 0s 12ms/step - loss: 0.2792 - accuracy: 0.8878 - val_loss: 0.2960 - val_accuracy: 0.8800\n",
            "Epoch 34/50\n",
            "36/36 [==============================] - 0s 12ms/step - loss: 0.2946 - accuracy: 0.8710 - val_loss: 0.3053 - val_accuracy: 0.8700\n",
            "Epoch 35/50\n",
            "36/36 [==============================] - 0s 12ms/step - loss: 0.2916 - accuracy: 0.8781 - val_loss: 0.3140 - val_accuracy: 0.8750\n",
            "Epoch 36/50\n",
            "36/36 [==============================] - 0s 11ms/step - loss: 0.2723 - accuracy: 0.8843 - val_loss: 0.3065 - val_accuracy: 0.8700\n",
            "Epoch 37/50\n",
            "36/36 [==============================] - 0s 12ms/step - loss: 0.2745 - accuracy: 0.8860 - val_loss: 0.3035 - val_accuracy: 0.8750\n",
            "Epoch 38/50\n",
            "36/36 [==============================] - 0s 11ms/step - loss: 0.2968 - accuracy: 0.8746 - val_loss: 0.3298 - val_accuracy: 0.8700\n",
            "Epoch 39/50\n",
            "36/36 [==============================] - 0s 12ms/step - loss: 0.2634 - accuracy: 0.8922 - val_loss: 0.3058 - val_accuracy: 0.8800\n",
            "Epoch 40/50\n",
            "36/36 [==============================] - 0s 11ms/step - loss: 0.2736 - accuracy: 0.8843 - val_loss: 0.3050 - val_accuracy: 0.8750\n",
            "Epoch 41/50\n",
            "36/36 [==============================] - 0s 12ms/step - loss: 0.2645 - accuracy: 0.8922 - val_loss: 0.3065 - val_accuracy: 0.8800\n",
            "Epoch 42/50\n",
            "36/36 [==============================] - 0s 11ms/step - loss: 0.2940 - accuracy: 0.8754 - val_loss: 0.3202 - val_accuracy: 0.8850\n",
            "Epoch 43/50\n",
            "36/36 [==============================] - 0s 11ms/step - loss: 0.2955 - accuracy: 0.8799 - val_loss: 0.2888 - val_accuracy: 0.8750\n",
            "Epoch 44/50\n",
            "36/36 [==============================] - 0s 12ms/step - loss: 0.2764 - accuracy: 0.9002 - val_loss: 0.3032 - val_accuracy: 0.8800\n",
            "Epoch 45/50\n",
            "36/36 [==============================] - 0s 11ms/step - loss: 0.2710 - accuracy: 0.8993 - val_loss: 0.3094 - val_accuracy: 0.8600\n",
            "Epoch 46/50\n",
            "36/36 [==============================] - 0s 12ms/step - loss: 0.2646 - accuracy: 0.8869 - val_loss: 0.3097 - val_accuracy: 0.8800\n",
            "Epoch 47/50\n",
            "36/36 [==============================] - 0s 13ms/step - loss: 0.2686 - accuracy: 0.8887 - val_loss: 0.2828 - val_accuracy: 0.8800\n",
            "Epoch 48/50\n",
            "36/36 [==============================] - 1s 17ms/step - loss: 0.2818 - accuracy: 0.8878 - val_loss: 0.3185 - val_accuracy: 0.8850\n",
            "Epoch 49/50\n",
            "36/36 [==============================] - 1s 16ms/step - loss: 0.2677 - accuracy: 0.8860 - val_loss: 0.3087 - val_accuracy: 0.8600\n",
            "Epoch 50/50\n",
            "36/36 [==============================] - 1s 16ms/step - loss: 0.2771 - accuracy: 0.8852 - val_loss: 0.3034 - val_accuracy: 0.8800\n"
          ]
        }
      ],
      "source": [
        "history = model.fit(X_train, Y_train, epochs = 50, validation_data=(X_val, Y_val), batch_size = 32, verbose = 1)"
      ]
    },
    {
      "cell_type": "markdown",
      "metadata": {
        "id": "HePNnAjDB0VY"
      },
      "source": [
        "#### Evaluate the model"
      ]
    },
    {
      "cell_type": "code",
      "execution_count": null,
      "metadata": {
        "colab": {
          "base_uri": "https://localhost:8080/"
        },
        "id": "FeqMFdq5A2Eb",
        "outputId": "9289fddd-25bf-41b0-dfba-0d44ce28097c"
      },
      "outputs": [
        {
          "name": "stdout",
          "output_type": "stream",
          "text": [
            "8/8 [==============================] - 0s 11ms/step - loss: 0.3852 - accuracy: 0.8517\n",
            "Test Accuracy : 0.8516949415206909\n",
            "Test Loss : 0.3851655423641205\n"
          ]
        }
      ],
      "source": [
        "results = model.evaluate(X_test, Y_test, batch_size = 32, verbose = 1)\n",
        "arch1_test_acc = results[1]\n",
        "arch1_test_loss = results[0]\n",
        "print(\"Test Accuracy :\", results[1])\n",
        "print(\"Test Loss :\", results[0])"
      ]
    },
    {
      "cell_type": "markdown",
      "metadata": {
        "id": "W1HhnidZB0VZ"
      },
      "source": [
        "#### Create a graph of accuracy and loss over time"
      ]
    },
    {
      "cell_type": "code",
      "execution_count": null,
      "metadata": {
        "colab": {
          "base_uri": "https://localhost:8080/",
          "height": 624
        },
        "id": "BITPWxTyBKru",
        "outputId": "acbf1291-d8dd-469c-d74a-396f62a23d81"
      },
      "outputs": [
        {
          "data": {
            "text/plain": [
              "<matplotlib.legend.Legend at 0x7f85236c62b0>"
            ]
          },
          "execution_count": 26,
          "metadata": {},
          "output_type": "execute_result"
        },
        {
          "data": {
            "image/png": "[encoded data removed]",
            "text/plain": [
              "<Figure size 1800x720 with 8 Axes>"
            ]
          },
          "metadata": {
            "needs_background": "light"
          },
          "output_type": "display_data"
        }
      ],
      "source": [
        "history_dict = history.history\n",
        "\n",
        "import matplotlib.pyplot as plt\n",
        "\n",
        "# Get the historical values for accuracies and losses\n",
        "\n",
        "acc = history_dict['accuracy']\n",
        "val_acc = history_dict['val_accuracy']\n",
        "loss = history_dict['loss']\n",
        "val_loss = history_dict['val_loss']\n",
        "\n",
        "# Save the last values for accuracies and losses for comparison\n",
        "\n",
        "arch1_train_acc = acc[-1]\n",
        "arch1_val_acc = val_acc[-1]\n",
        "arch1_train_loss = loss[-1]\n",
        "arch1_val_loss = val_loss[-1]\n",
        "\n",
        "epochs = range(1, len(acc) + 1)\n",
        "\n",
        "\n",
        "# Create 7 subplots in a grid with 3 rows and 3 columns\n",
        "fig, axes = plt.subplots(nrows=2, ncols=4, figsize=(25, 10))\n",
        "\n",
        "axes[0, 0].plot(epochs, acc , 'r', label='Training Accuracy')\n",
        "axes[0, 0].plot(epochs,val_acc , 'm', label='Validation Accuracy')\n",
        "axes[0, 0].plot(epochs, loss, 'g', label='Training loss')\n",
        "axes[0, 0].plot(epochs, val_loss, 'b', label='Validation loss')\n",
        "axes[0, 0].set_title(\"Architecture 1\")\n",
        "axes[0, 0].set_xlabel('Epochs')\n",
        "axes[0, 0].set_ylabel('Loss')\n",
        "axes[0, 0].legend()"
      ]
    },
    {
      "cell_type": "markdown",
      "metadata": {
        "id": "A5LAX6XuB0VZ"
      },
      "source": [
        "### Architecture 2: LSTM(128) + Dropout + LSTM(64) + Dropout + Fully Connected\n",
        "\n",
        "Source: https://github.com/srvds/Human-Activity-Recognition"
      ]
    },
    {
      "cell_type": "markdown",
      "metadata": {
        "id": "nRXr20-n4pBX"
      },
      "source": [
        "This architecture uses a LSTM layer of 128 neurons to process the time series data, then a dropout layer to prevent overfitting, another LSTM and another dropout layer for improving the previous architecture, and a fully connected layer to map the information from previous layers to the 4 outputs."
      ]
    },
    {
      "cell_type": "code",
      "execution_count": null,
      "metadata": {
        "colab": {
          "base_uri": "https://localhost:8080/"
        },
        "id": "AJIMTVGwfkqL",
        "outputId": "8ef41cd0-4c8e-4fde-f4fd-dd197868a956"
      },
      "outputs": [
        {
          "name": "stdout",
          "output_type": "stream",
          "text": [
            "Model: \"sequential_1\"\n",
            "_________________________________________________________________\n",
            " Layer (type)                Output Shape              Param #   \n",
            "=================================================================\n",
            " lstm_1 (LSTM)               (None, 200, 128)          84480     \n",
            "                                                                 \n",
            " dropout_1 (Dropout)         (None, 200, 128)          0         \n",
            "                                                                 \n",
            " lstm_2 (LSTM)               (None, 64)                49408     \n",
            "                                                                 \n",
            " dropout_2 (Dropout)         (None, 64)                0         \n",
            "                                                                 \n",
            " dense_2 (Dense)             (None, 4)                 260       \n",
            "                                                                 \n",
            "=================================================================\n",
            "Total params: 134,148\n",
            "Trainable params: 134,148\n",
            "Non-trainable params: 0\n",
            "_________________________________________________________________\n"
          ]
        }
      ],
      "source": [
        "# Initiliazing the sequential model\n",
        "model = keras.Sequential()\n",
        "# Configuring the parameters\n",
        "model.add(LSTM(128, return_sequences=True, input_shape=(X_train.shape[1], X_train.shape[2])))\n",
        "# Adding a dropout layer\n",
        "model.add(Dropout(0.5))\n",
        "# Add a LSTM layer\n",
        "model.add(LSTM(64))\n",
        "# Adding a dropout layer\n",
        "model.add(Dropout(0.5))\n",
        "# Adding a dense output layer with sigmoid activation\n",
        "model.add(Dense(n_outputs, activation='sigmoid'))\n",
        "model.summary()"
      ]
    },
    {
      "cell_type": "markdown",
      "metadata": {
        "id": "kbhGdeMm5G-s"
      },
      "source": [
        "#### Loss function and training"
      ]
    },
    {
      "cell_type": "code",
      "execution_count": null,
      "metadata": {
        "colab": {
          "base_uri": "https://localhost:8080/"
        },
        "id": "4FKgBgKvfxF0",
        "outputId": "c6ae828f-27c6-4a39-a44f-9ebb68ec94ec"
      },
      "outputs": [
        {
          "name": "stdout",
          "output_type": "stream",
          "text": [
            "Epoch 1/50\n",
            "36/36 [==============================] - 5s 42ms/step - loss: 1.0987 - accuracy: 0.5451 - val_loss: 0.7444 - val_accuracy: 0.6200\n",
            "Epoch 2/50\n",
            "36/36 [==============================] - 1s 17ms/step - loss: 0.6895 - accuracy: 0.6943 - val_loss: 0.6102 - val_accuracy: 0.6550\n",
            "Epoch 3/50\n",
            "36/36 [==============================] - 1s 17ms/step - loss: 0.6027 - accuracy: 0.7385 - val_loss: 0.5917 - val_accuracy: 0.7850\n",
            "Epoch 4/50\n",
            "36/36 [==============================] - 1s 17ms/step - loss: 0.5589 - accuracy: 0.7624 - val_loss: 0.5942 - val_accuracy: 0.7450\n",
            "Epoch 5/50\n",
            "36/36 [==============================] - 1s 17ms/step - loss: 0.5407 - accuracy: 0.7712 - val_loss: 0.5503 - val_accuracy: 0.7500\n",
            "Epoch 6/50\n",
            "36/36 [==============================] - 1s 17ms/step - loss: 0.4687 - accuracy: 0.8057 - val_loss: 0.4099 - val_accuracy: 0.8750\n",
            "Epoch 7/50\n",
            "36/36 [==============================] - 1s 17ms/step - loss: 0.4383 - accuracy: 0.8322 - val_loss: 0.5220 - val_accuracy: 0.8250\n",
            "Epoch 8/50\n",
            "36/36 [==============================] - 1s 17ms/step - loss: 0.4398 - accuracy: 0.8251 - val_loss: 0.4656 - val_accuracy: 0.8350\n",
            "Epoch 9/50\n",
            "36/36 [==============================] - 1s 24ms/step - loss: 0.3827 - accuracy: 0.8481 - val_loss: 0.3599 - val_accuracy: 0.8850\n",
            "Epoch 10/50\n",
            "36/36 [==============================] - 1s 26ms/step - loss: 0.3814 - accuracy: 0.8578 - val_loss: 0.4086 - val_accuracy: 0.8550\n",
            "Epoch 11/50\n",
            "36/36 [==============================] - 1s 23ms/step - loss: 0.3807 - accuracy: 0.8640 - val_loss: 0.3499 - val_accuracy: 0.8850\n",
            "Epoch 12/50\n",
            "36/36 [==============================] - 1s 26ms/step - loss: 0.3476 - accuracy: 0.8657 - val_loss: 0.3518 - val_accuracy: 0.8750\n",
            "Epoch 13/50\n",
            "36/36 [==============================] - 1s 19ms/step - loss: 0.4930 - accuracy: 0.8163 - val_loss: 0.5638 - val_accuracy: 0.7550\n",
            "Epoch 14/50\n",
            "36/36 [==============================] - 1s 17ms/step - loss: 0.4800 - accuracy: 0.8039 - val_loss: 0.3977 - val_accuracy: 0.8500\n",
            "Epoch 15/50\n",
            "36/36 [==============================] - 1s 17ms/step - loss: 0.4096 - accuracy: 0.8375 - val_loss: 0.3743 - val_accuracy: 0.8450\n",
            "Epoch 16/50\n",
            "36/36 [==============================] - 1s 18ms/step - loss: 0.3697 - accuracy: 0.8613 - val_loss: 0.3488 - val_accuracy: 0.8850\n",
            "Epoch 17/50\n",
            "36/36 [==============================] - 1s 17ms/step - loss: 0.3645 - accuracy: 0.8560 - val_loss: 0.3324 - val_accuracy: 0.8750\n",
            "Epoch 18/50\n",
            "36/36 [==============================] - 1s 17ms/step - loss: 0.3635 - accuracy: 0.8613 - val_loss: 0.3388 - val_accuracy: 0.8550\n",
            "Epoch 19/50\n",
            "36/36 [==============================] - 1s 18ms/step - loss: 0.3378 - accuracy: 0.8675 - val_loss: 0.3411 - val_accuracy: 0.8800\n",
            "Epoch 20/50\n",
            "36/36 [==============================] - 1s 19ms/step - loss: 0.3532 - accuracy: 0.8613 - val_loss: 0.3560 - val_accuracy: 0.8700\n",
            "Epoch 21/50\n",
            "36/36 [==============================] - 1s 18ms/step - loss: 0.3449 - accuracy: 0.8666 - val_loss: 0.3312 - val_accuracy: 0.8850\n",
            "Epoch 22/50\n",
            "36/36 [==============================] - 1s 18ms/step - loss: 0.3298 - accuracy: 0.8746 - val_loss: 0.3550 - val_accuracy: 0.8750\n",
            "Epoch 23/50\n",
            "36/36 [==============================] - 1s 19ms/step - loss: 0.3360 - accuracy: 0.8657 - val_loss: 0.3454 - val_accuracy: 0.8850\n",
            "Epoch 24/50\n",
            "36/36 [==============================] - 1s 18ms/step - loss: 0.3286 - accuracy: 0.8790 - val_loss: 0.3397 - val_accuracy: 0.8700\n",
            "Epoch 25/50\n",
            "36/36 [==============================] - 1s 19ms/step - loss: 0.3145 - accuracy: 0.8763 - val_loss: 0.4036 - val_accuracy: 0.8600\n",
            "Epoch 26/50\n",
            "36/36 [==============================] - 1s 18ms/step - loss: 0.3155 - accuracy: 0.8754 - val_loss: 0.3818 - val_accuracy: 0.8450\n",
            "Epoch 27/50\n",
            "36/36 [==============================] - 1s 18ms/step - loss: 0.3035 - accuracy: 0.8913 - val_loss: 0.3133 - val_accuracy: 0.8850\n",
            "Epoch 28/50\n",
            "36/36 [==============================] - 1s 23ms/step - loss: 0.2936 - accuracy: 0.8887 - val_loss: 0.3177 - val_accuracy: 0.8850\n",
            "Epoch 29/50\n",
            "36/36 [==============================] - 1s 26ms/step - loss: 0.3119 - accuracy: 0.8825 - val_loss: 0.3214 - val_accuracy: 0.8750\n",
            "Epoch 30/50\n",
            "36/36 [==============================] - 1s 28ms/step - loss: 0.3465 - accuracy: 0.8746 - val_loss: 0.3211 - val_accuracy: 0.8900\n",
            "Epoch 31/50\n",
            "36/36 [==============================] - 1s 27ms/step - loss: 0.3018 - accuracy: 0.8843 - val_loss: 0.2998 - val_accuracy: 0.8950\n",
            "Epoch 32/50\n",
            "36/36 [==============================] - 1s 32ms/step - loss: 0.2819 - accuracy: 0.8843 - val_loss: 0.3183 - val_accuracy: 0.8800\n",
            "Epoch 33/50\n",
            "36/36 [==============================] - 1s 30ms/step - loss: 0.3020 - accuracy: 0.8754 - val_loss: 0.3157 - val_accuracy: 0.8900\n",
            "Epoch 34/50\n",
            "36/36 [==============================] - 1s 26ms/step - loss: 0.2860 - accuracy: 0.8931 - val_loss: 0.3103 - val_accuracy: 0.8800\n",
            "Epoch 35/50\n",
            "36/36 [==============================] - 1s 22ms/step - loss: 0.2721 - accuracy: 0.8993 - val_loss: 0.3266 - val_accuracy: 0.8750\n",
            "Epoch 36/50\n",
            "36/36 [==============================] - 1s 18ms/step - loss: 0.2986 - accuracy: 0.8834 - val_loss: 0.3123 - val_accuracy: 0.8850\n",
            "Epoch 37/50\n",
            "36/36 [==============================] - 1s 18ms/step - loss: 0.2845 - accuracy: 0.8958 - val_loss: 0.3517 - val_accuracy: 0.8700\n",
            "Epoch 38/50\n",
            "36/36 [==============================] - 1s 18ms/step - loss: 0.2954 - accuracy: 0.8878 - val_loss: 0.3678 - val_accuracy: 0.8650\n",
            "Epoch 39/50\n",
            "36/36 [==============================] - 1s 18ms/step - loss: 0.2988 - accuracy: 0.8852 - val_loss: 0.3107 - val_accuracy: 0.8700\n",
            "Epoch 40/50\n",
            "36/36 [==============================] - 1s 18ms/step - loss: 0.2688 - accuracy: 0.8940 - val_loss: 0.3063 - val_accuracy: 0.8650\n",
            "Epoch 41/50\n",
            "36/36 [==============================] - 1s 17ms/step - loss: 0.2775 - accuracy: 0.9002 - val_loss: 0.3009 - val_accuracy: 0.8800\n",
            "Epoch 42/50\n",
            "36/36 [==============================] - 1s 18ms/step - loss: 0.2769 - accuracy: 0.8887 - val_loss: 0.3114 - val_accuracy: 0.8850\n",
            "Epoch 43/50\n",
            "36/36 [==============================] - 1s 18ms/step - loss: 0.2679 - accuracy: 0.8940 - val_loss: 0.3114 - val_accuracy: 0.8800\n",
            "Epoch 44/50\n",
            "36/36 [==============================] - 1s 17ms/step - loss: 0.2792 - accuracy: 0.8913 - val_loss: 0.3142 - val_accuracy: 0.8750\n",
            "Epoch 45/50\n",
            "36/36 [==============================] - 1s 18ms/step - loss: 0.2812 - accuracy: 0.8852 - val_loss: 0.3157 - val_accuracy: 0.8800\n",
            "Epoch 46/50\n",
            "36/36 [==============================] - 1s 17ms/step - loss: 0.2777 - accuracy: 0.8843 - val_loss: 0.3456 - val_accuracy: 0.8800\n",
            "Epoch 47/50\n",
            "36/36 [==============================] - 1s 17ms/step - loss: 0.2725 - accuracy: 0.9011 - val_loss: 0.3609 - val_accuracy: 0.8550\n",
            "Epoch 48/50\n",
            "36/36 [==============================] - 1s 24ms/step - loss: 0.2802 - accuracy: 0.8860 - val_loss: 0.3225 - val_accuracy: 0.8750\n",
            "Epoch 49/50\n",
            "36/36 [==============================] - 1s 27ms/step - loss: 0.2764 - accuracy: 0.8913 - val_loss: 0.3179 - val_accuracy: 0.8850\n",
            "Epoch 50/50\n",
            "36/36 [==============================] - 1s 27ms/step - loss: 0.2631 - accuracy: 0.9002 - val_loss: 0.3103 - val_accuracy: 0.8800\n"
          ]
        }
      ],
      "source": [
        "#lost function and optimizer\n",
        "model.compile(loss='categorical_crossentropy', optimizer='adam', metrics=['accuracy'])\n",
        "\n",
        "history = model.fit(X_train, Y_train, epochs = 50, validation_data=(X_val, Y_val), batch_size = 32, verbose = 1)"
      ]
    },
    {
      "cell_type": "markdown",
      "metadata": {
        "id": "9-ThsnS95NZd"
      },
      "source": [
        "#### Evaluate the model"
      ]
    },
    {
      "cell_type": "code",
      "execution_count": null,
      "metadata": {
        "colab": {
          "base_uri": "https://localhost:8080/"
        },
        "id": "n8L_gHxsgV0j",
        "outputId": "93728fe8-345a-4e8f-f71a-cdec339f282a"
      },
      "outputs": [
        {
          "name": "stdout",
          "output_type": "stream",
          "text": [
            "8/8 [==============================] - 0s 11ms/step - loss: 0.3600 - accuracy: 0.8517\n",
            "Test Accuracy : 0.8516949415206909\n",
            "Test Loss : 0.360019713640213\n"
          ]
        }
      ],
      "source": [
        "#Evaluate the model\n",
        "results = model.evaluate(X_test, Y_test, batch_size = 32, verbose = 1)\n",
        "arch2_test_acc = results[1]\n",
        "arch2_test_loss = results[0]\n",
        "print(\"Test Accuracy :\", results[1])\n",
        "print(\"Test Loss :\", results[0])"
      ]
    },
    {
      "cell_type": "markdown",
      "metadata": {
        "id": "tcPxi_Jf5QGY"
      },
      "source": [
        "#### Create a graph of accuracy and loss over time"
      ]
    },
    {
      "cell_type": "code",
      "execution_count": null,
      "metadata": {
        "colab": {
          "base_uri": "https://localhost:8080/"
        },
        "id": "o7MOBwYsgqeH",
        "outputId": "9f5d8989-8930-4662-eaf9-cf0d36df778a"
      },
      "outputs": [
        {
          "data": {
            "text/plain": [
              "<matplotlib.legend.Legend at 0x7f85234810d0>"
            ]
          },
          "execution_count": 30,
          "metadata": {},
          "output_type": "execute_result"
        }
      ],
      "source": [
        "history_dict = history.history\n",
        "\n",
        "import matplotlib.pyplot as plt\n",
        "\n",
        "# Get the historical values for accuracies and losses\n",
        "\n",
        "acc = history_dict['accuracy']\n",
        "val_acc = history_dict['val_accuracy']\n",
        "loss = history_dict['loss']\n",
        "val_loss = history_dict['val_loss']\n",
        "\n",
        "# Save the last values for accuracies and losses for comparison\n",
        "\n",
        "arch2_train_acc = acc[-1]\n",
        "arch2_val_acc = val_acc[-1]\n",
        "arch2_train_loss = loss[-1]\n",
        "arch2_val_loss = val_loss[-1]\n",
        "\n",
        "epochs = range(1, len(acc) + 1)\n",
        "\n",
        "axes[0, 1].plot(epochs, acc , 'r', label='Training Accuracy')\n",
        "axes[0, 1].plot(epochs,val_acc , 'm', label='Validation Accuracy')\n",
        "axes[0, 1].plot(epochs, loss, 'g', label='Training loss')\n",
        "axes[0, 1].plot(epochs, val_loss, 'b', label='Validation loss')\n",
        "axes[0, 1].set_title(\"Architecture 2\")\n",
        "axes[0, 1].set_xlabel('Epochs')\n",
        "axes[0, 1].set_ylabel('Loss')\n",
        "axes[0, 1].legend()"
      ]
    },
    {
      "cell_type": "code",
      "execution_count": null,
      "metadata": {
        "colab": {
          "base_uri": "https://localhost:8080/"
        },
        "id": "lYXDs16sSzrD",
        "outputId": "75381be8-8ae4-46ba-dfb8-f139c90f8dc7"
      },
      "outputs": [
        {
          "data": {
            "text/plain": [
              "<matplotlib.legend.Legend at 0x7f8522a0afd0>"
            ]
          },
          "execution_count": 31,
          "metadata": {},
          "output_type": "execute_result"
        }
      ],
      "source": [
        "axes[0, 1].plot(epochs, acc , 'r', label='Training Accuracy')\n",
        "axes[0, 1].plot(epochs,val_acc , 'm', label='Validation Accuracy')\n",
        "axes[0, 1].plot(epochs, loss, 'g', label='Training loss')\n",
        "axes[0, 1].plot(epochs, val_loss, 'b', label='Validation loss')\n",
        "axes[0, 1].set_title(\"Architecture 2\")\n",
        "axes[0, 1].set_xlabel('Epochs')\n",
        "axes[0, 1].set_ylabel('Loss')\n",
        "axes[0, 1].legend()"
      ]
    },
    {
      "cell_type": "markdown",
      "metadata": {
        "id": "i8HDY-M8B0Va"
      },
      "source": [
        "### Architecture 3: Conv1D(64) + Conv1D(64) + Dropout + Max Pooling + Flatten + Fully Connected + Fully Connected\n",
        "\n",
        "Source: https://github.com/CDAC-lab/ETFA-Workshop/blob/main/CNN%20and%20LSTM%20for%20Human%20Activity%20Recognition.ipynb"
      ]
    },
    {
      "cell_type": "markdown",
      "metadata": {
        "id": "xEpyhiIq5gjX"
      },
      "source": [
        "This architecture focuses on convolutional neural networks. The first two layers are 1D convolutions of 64 filters, then a dropout layer to prevent overfitting, a max pooling layer to reduce dimensionality, a flatten layer to use dense layers, and two fully connected layers to map the information from previous layers to the 4 outputs."
      ]
    },
    {
      "cell_type": "code",
      "execution_count": null,
      "metadata": {
        "colab": {
          "base_uri": "https://localhost:8080/"
        },
        "id": "XZBciPAVN9Zp",
        "outputId": "8f92bf92-ffef-48a5-b30c-8287ce6117da"
      },
      "outputs": [
        {
          "name": "stdout",
          "output_type": "stream",
          "text": [
            "Model: \"sequential_2\"\n",
            "_________________________________________________________________\n",
            " Layer (type)                Output Shape              Param #   \n",
            "=================================================================\n",
            " conv1d (Conv1D)             (None, 197, 64)           9280      \n",
            "                                                                 \n",
            " conv1d_1 (Conv1D)           (None, 194, 64)           16448     \n",
            "                                                                 \n",
            " dropout_3 (Dropout)         (None, 194, 64)           0         \n",
            "                                                                 \n",
            " max_pooling1d (MaxPooling1D  (None, 97, 64)           0         \n",
            " )                                                               \n",
            "                                                                 \n",
            " flatten (Flatten)           (None, 6208)              0         \n",
            "                                                                 \n",
            " dense_3 (Dense)             (None, 100)               620900    \n",
            "                                                                 \n",
            " dense_4 (Dense)             (None, 4)                 404       \n",
            "                                                                 \n",
            "=================================================================\n",
            "Total params: 647,032\n",
            "Trainable params: 647,032\n",
            "Non-trainable params: 0\n",
            "_________________________________________________________________\n"
          ]
        }
      ],
      "source": [
        "# Define the model\n",
        "model = keras.Sequential()\n",
        "\n",
        "# Add a 1D Convolutional layer with 32 filters and a kernel size of 3\n",
        "model.add(Conv1D(filters=64, kernel_size=4, activation='relu', input_shape=(n_timesteps,n_features)))\n",
        "\n",
        "# Add a 1D Convolutional layer with 64 filters and a kernel size of 3\n",
        "model.add(Conv1D(filters=64, kernel_size=4, activation='relu', input_shape=(n_timesteps,n_features)))\n",
        "\n",
        "# Add a dropout layer with a rate of 0.5\n",
        "model.add(Dropout(rate=0.5))\n",
        "\n",
        "# Add a Max Pooling layer with a pool size of 2\n",
        "model.add(MaxPooling1D(pool_size=2))\n",
        "\n",
        "# Add a Flatten layer\n",
        "model.add(Flatten())\n",
        "\n",
        "# Add a fully connected layer\n",
        "model.add(Dense(units=100, activation='relu'))\n",
        "\n",
        "# Add an output layer\n",
        "model.add(Dense(units=n_outputs, activation='softmax'))\n",
        "\n",
        "model.summary()"
      ]
    },
    {
      "cell_type": "markdown",
      "metadata": {
        "id": "UUl4nml0581q"
      },
      "source": [
        "#### Loss function and training"
      ]
    },
    {
      "cell_type": "code",
      "execution_count": null,
      "metadata": {
        "colab": {
          "base_uri": "https://localhost:8080/"
        },
        "id": "07DSzkBLOsBD",
        "outputId": "6f85df34-5dff-4e7a-b30d-de1aa410ad98"
      },
      "outputs": [
        {
          "name": "stdout",
          "output_type": "stream",
          "text": [
            "Epoch 1/50\n",
            "36/36 [==============================] - 4s 26ms/step - loss: 0.6464 - accuracy: 0.7323 - val_loss: 0.4980 - val_accuracy: 0.8100\n",
            "Epoch 2/50\n",
            "36/36 [==============================] - 0s 6ms/step - loss: 0.4193 - accuracy: 0.8339 - val_loss: 0.4147 - val_accuracy: 0.8650\n",
            "Epoch 3/50\n",
            "36/36 [==============================] - 0s 6ms/step - loss: 0.3462 - accuracy: 0.8631 - val_loss: 0.3735 - val_accuracy: 0.8750\n",
            "Epoch 4/50\n",
            "36/36 [==============================] - 0s 6ms/step - loss: 0.3331 - accuracy: 0.8657 - val_loss: 0.3594 - val_accuracy: 0.8600\n",
            "Epoch 5/50\n",
            "36/36 [==============================] - 0s 7ms/step - loss: 0.3409 - accuracy: 0.8560 - val_loss: 0.3836 - val_accuracy: 0.8400\n",
            "Epoch 6/50\n",
            "36/36 [==============================] - 0s 7ms/step - loss: 0.3266 - accuracy: 0.8746 - val_loss: 0.3443 - val_accuracy: 0.8900\n",
            "Epoch 7/50\n",
            "36/36 [==============================] - 0s 6ms/step - loss: 0.3053 - accuracy: 0.8728 - val_loss: 0.3724 - val_accuracy: 0.8650\n",
            "Epoch 8/50\n",
            "36/36 [==============================] - 0s 6ms/step - loss: 0.3019 - accuracy: 0.8675 - val_loss: 0.3521 - val_accuracy: 0.8650\n",
            "Epoch 9/50\n",
            "36/36 [==============================] - 0s 6ms/step - loss: 0.2858 - accuracy: 0.8913 - val_loss: 0.3402 - val_accuracy: 0.8900\n",
            "Epoch 10/50\n",
            "36/36 [==============================] - 0s 6ms/step - loss: 0.2967 - accuracy: 0.8816 - val_loss: 0.3360 - val_accuracy: 0.8850\n",
            "Epoch 11/50\n",
            "36/36 [==============================] - 0s 6ms/step - loss: 0.2630 - accuracy: 0.8913 - val_loss: 0.3322 - val_accuracy: 0.8750\n",
            "Epoch 12/50\n",
            "36/36 [==============================] - 0s 6ms/step - loss: 0.2576 - accuracy: 0.8949 - val_loss: 0.3419 - val_accuracy: 0.8650\n",
            "Epoch 13/50\n",
            "36/36 [==============================] - 0s 6ms/step - loss: 0.2376 - accuracy: 0.9055 - val_loss: 0.3055 - val_accuracy: 0.8550\n",
            "Epoch 14/50\n",
            "36/36 [==============================] - 0s 6ms/step - loss: 0.2634 - accuracy: 0.8940 - val_loss: 0.3224 - val_accuracy: 0.8750\n",
            "Epoch 15/50\n",
            "36/36 [==============================] - 0s 6ms/step - loss: 0.2442 - accuracy: 0.8975 - val_loss: 0.3029 - val_accuracy: 0.8650\n",
            "Epoch 16/50\n",
            "36/36 [==============================] - 0s 6ms/step - loss: 0.2586 - accuracy: 0.8905 - val_loss: 0.3155 - val_accuracy: 0.8800\n",
            "Epoch 17/50\n",
            "36/36 [==============================] - 0s 6ms/step - loss: 0.2429 - accuracy: 0.8949 - val_loss: 0.3391 - val_accuracy: 0.8700\n",
            "Epoch 18/50\n",
            "36/36 [==============================] - 0s 5ms/step - loss: 0.2400 - accuracy: 0.8949 - val_loss: 0.2961 - val_accuracy: 0.8750\n",
            "Epoch 19/50\n",
            "36/36 [==============================] - 0s 6ms/step - loss: 0.2658 - accuracy: 0.8852 - val_loss: 0.2968 - val_accuracy: 0.8850\n",
            "Epoch 20/50\n",
            "36/36 [==============================] - 0s 6ms/step - loss: 0.2291 - accuracy: 0.9046 - val_loss: 0.3377 - val_accuracy: 0.8800\n",
            "Epoch 21/50\n",
            "36/36 [==============================] - 0s 6ms/step - loss: 0.2285 - accuracy: 0.9090 - val_loss: 0.2861 - val_accuracy: 0.8850\n",
            "Epoch 22/50\n",
            "36/36 [==============================] - 0s 8ms/step - loss: 0.2148 - accuracy: 0.9099 - val_loss: 0.3258 - val_accuracy: 0.8550\n",
            "Epoch 23/50\n",
            "36/36 [==============================] - 0s 6ms/step - loss: 0.2183 - accuracy: 0.9055 - val_loss: 0.3275 - val_accuracy: 0.8950\n",
            "Epoch 24/50\n",
            "36/36 [==============================] - 0s 7ms/step - loss: 0.2376 - accuracy: 0.8966 - val_loss: 0.3022 - val_accuracy: 0.8750\n",
            "Epoch 25/50\n",
            "36/36 [==============================] - 0s 6ms/step - loss: 0.2226 - accuracy: 0.9028 - val_loss: 0.3094 - val_accuracy: 0.8750\n",
            "Epoch 26/50\n",
            "36/36 [==============================] - 0s 6ms/step - loss: 0.2070 - accuracy: 0.9196 - val_loss: 0.3227 - val_accuracy: 0.8850\n",
            "Epoch 27/50\n",
            "36/36 [==============================] - 0s 8ms/step - loss: 0.2180 - accuracy: 0.9046 - val_loss: 0.2852 - val_accuracy: 0.8950\n",
            "Epoch 28/50\n",
            "36/36 [==============================] - 0s 6ms/step - loss: 0.2008 - accuracy: 0.9099 - val_loss: 0.3072 - val_accuracy: 0.8750\n",
            "Epoch 29/50\n",
            "36/36 [==============================] - 0s 10ms/step - loss: 0.2138 - accuracy: 0.9143 - val_loss: 0.3242 - val_accuracy: 0.8450\n",
            "Epoch 30/50\n",
            "36/36 [==============================] - 0s 9ms/step - loss: 0.2079 - accuracy: 0.9046 - val_loss: 0.3046 - val_accuracy: 0.8650\n",
            "Epoch 31/50\n",
            "36/36 [==============================] - 0s 8ms/step - loss: 0.2005 - accuracy: 0.9117 - val_loss: 0.3299 - val_accuracy: 0.8650\n",
            "Epoch 32/50\n",
            "36/36 [==============================] - 0s 8ms/step - loss: 0.2164 - accuracy: 0.9081 - val_loss: 0.3046 - val_accuracy: 0.8750\n",
            "Epoch 33/50\n",
            "36/36 [==============================] - 0s 9ms/step - loss: 0.2110 - accuracy: 0.9152 - val_loss: 0.3071 - val_accuracy: 0.8700\n",
            "Epoch 34/50\n",
            "36/36 [==============================] - 0s 8ms/step - loss: 0.2041 - accuracy: 0.9090 - val_loss: 0.2994 - val_accuracy: 0.8750\n",
            "Epoch 35/50\n",
            "36/36 [==============================] - 0s 9ms/step - loss: 0.2241 - accuracy: 0.9002 - val_loss: 0.3420 - val_accuracy: 0.8750\n",
            "Epoch 36/50\n",
            "36/36 [==============================] - 0s 10ms/step - loss: 0.2108 - accuracy: 0.9099 - val_loss: 0.2842 - val_accuracy: 0.8800\n",
            "Epoch 37/50\n",
            "36/36 [==============================] - 0s 8ms/step - loss: 0.1913 - accuracy: 0.9187 - val_loss: 0.3054 - val_accuracy: 0.8750\n",
            "Epoch 38/50\n",
            "36/36 [==============================] - 0s 8ms/step - loss: 0.1841 - accuracy: 0.9196 - val_loss: 0.2916 - val_accuracy: 0.8700\n",
            "Epoch 39/50\n",
            "36/36 [==============================] - 0s 9ms/step - loss: 0.1782 - accuracy: 0.9223 - val_loss: 0.3153 - val_accuracy: 0.8750\n",
            "Epoch 40/50\n",
            "36/36 [==============================] - 0s 9ms/step - loss: 0.2089 - accuracy: 0.9046 - val_loss: 0.2973 - val_accuracy: 0.8850\n",
            "Epoch 41/50\n",
            "36/36 [==============================] - 0s 6ms/step - loss: 0.1925 - accuracy: 0.9143 - val_loss: 0.2802 - val_accuracy: 0.8850\n",
            "Epoch 42/50\n",
            "36/36 [==============================] - 0s 6ms/step - loss: 0.2057 - accuracy: 0.9125 - val_loss: 0.2763 - val_accuracy: 0.8800\n",
            "Epoch 43/50\n",
            "36/36 [==============================] - 0s 6ms/step - loss: 0.1983 - accuracy: 0.9134 - val_loss: 0.3514 - val_accuracy: 0.8750\n",
            "Epoch 44/50\n",
            "36/36 [==============================] - 0s 6ms/step - loss: 0.2072 - accuracy: 0.9134 - val_loss: 0.3048 - val_accuracy: 0.8900\n",
            "Epoch 45/50\n",
            "36/36 [==============================] - 0s 7ms/step - loss: 0.2006 - accuracy: 0.9170 - val_loss: 0.3173 - val_accuracy: 0.8750\n",
            "Epoch 46/50\n",
            "36/36 [==============================] - 0s 7ms/step - loss: 0.1783 - accuracy: 0.9196 - val_loss: 0.3010 - val_accuracy: 0.8900\n",
            "Epoch 47/50\n",
            "36/36 [==============================] - 0s 6ms/step - loss: 0.1837 - accuracy: 0.9196 - val_loss: 0.2824 - val_accuracy: 0.8850\n",
            "Epoch 48/50\n",
            "36/36 [==============================] - 0s 6ms/step - loss: 0.1850 - accuracy: 0.9170 - val_loss: 0.3020 - val_accuracy: 0.8750\n",
            "Epoch 49/50\n",
            "36/36 [==============================] - 0s 7ms/step - loss: 0.1869 - accuracy: 0.9161 - val_loss: 0.2834 - val_accuracy: 0.8850\n",
            "Epoch 50/50\n",
            "36/36 [==============================] - 0s 6ms/step - loss: 0.1722 - accuracy: 0.9240 - val_loss: 0.2765 - val_accuracy: 0.8750\n"
          ]
        }
      ],
      "source": [
        "#lost function and optimizer\n",
        "model.compile(loss='categorical_crossentropy', optimizer='adam', metrics=['accuracy'])\n",
        "\n",
        "history = model.fit(X_train, Y_train, epochs = 50, validation_data=(X_val, Y_val), batch_size = 32, verbose = 1)"
      ]
    },
    {
      "cell_type": "markdown",
      "metadata": {
        "id": "oqVXBOaU6BJI"
      },
      "source": [
        "#### Evaluate the model"
      ]
    },
    {
      "cell_type": "code",
      "execution_count": null,
      "metadata": {
        "colab": {
          "base_uri": "https://localhost:8080/"
        },
        "id": "fHJsh8r1Ovy0",
        "outputId": "bd10fcc6-33cf-43a2-8704-bb0a0c5e3a69"
      },
      "outputs": [
        {
          "name": "stdout",
          "output_type": "stream",
          "text": [
            "8/8 [==============================] - 0s 4ms/step - loss: 0.2663 - accuracy: 0.8941\n",
            "Test Accuracy : 0.8940678238868713\n",
            "Test Loss : 0.2663029730319977\n"
          ]
        }
      ],
      "source": [
        "#Evaluate the model\n",
        "results = model.evaluate(X_test, Y_test, batch_size = 32, verbose = 1)\n",
        "arch3_test_acc = results[1]\n",
        "arch3_test_loss = results[0]\n",
        "print(\"Test Accuracy :\", results[1])\n",
        "print(\"Test Loss :\", results[0])"
      ]
    },
    {
      "cell_type": "markdown",
      "metadata": {
        "id": "g8zCCj346DkH"
      },
      "source": [
        "#### Create a graph of accuracy and loss over time"
      ]
    },
    {
      "cell_type": "code",
      "execution_count": null,
      "metadata": {
        "colab": {
          "base_uri": "https://localhost:8080/"
        },
        "id": "pY1VHxH2Oy_I",
        "outputId": "3304d48e-10d2-4448-f685-71651d7f79fe"
      },
      "outputs": [
        {
          "data": {
            "text/plain": [
              "<matplotlib.legend.Legend at 0x7f8522735b80>"
            ]
          },
          "execution_count": 35,
          "metadata": {},
          "output_type": "execute_result"
        }
      ],
      "source": [
        "history_dict = history.history\n",
        "\n",
        "import matplotlib.pyplot as plt\n",
        "\n",
        "# Get the historical values for accuracies and losses\n",
        "\n",
        "acc = history_dict['accuracy']\n",
        "val_acc = history_dict['val_accuracy']\n",
        "loss = history_dict['loss']\n",
        "val_loss = history_dict['val_loss']\n",
        "\n",
        "# Save the last values for accuracies and losses for comparison\n",
        "\n",
        "arch3_train_acc = acc[-1]\n",
        "arch3_val_acc = val_acc[-1]\n",
        "arch3_train_loss = loss[-1]\n",
        "arch3_val_loss = val_loss[-1]\n",
        "\n",
        "epochs = range(1, len(acc) + 1)\n",
        "\n",
        "axes[0, 2].plot(epochs, acc , 'r', label='Training Accuracy')\n",
        "axes[0, 2].plot(epochs,val_acc , 'm', label='Validation Accuracy')\n",
        "axes[0, 2].plot(epochs, loss, 'g', label='Training loss')\n",
        "axes[0, 2].plot(epochs, val_loss, 'b', label='Validation loss')\n",
        "axes[0, 2].set_title(\"Architecture 3\")\n",
        "axes[0, 2].set_xlabel('Epochs')\n",
        "axes[0, 2].set_ylabel('Loss')\n",
        "axes[0, 2].legend()"
      ]
    },
    {
      "cell_type": "markdown",
      "metadata": {
        "id": "o-x7qB8pB0Vb"
      },
      "source": [
        "### Architecture 4: Conv1D(32) + Max Pooling + LSTM(128) + Dropout + Fully Connected + Fully Connected\n",
        "\n",
        "Source: None, the network was done empyrically"
      ]
    },
    {
      "cell_type": "markdown",
      "metadata": {
        "id": "a8alqUuL6ePX"
      },
      "source": [
        "This architecture uses a 1D convolutional layer of 32 filters, then a max pooling layer to reduce dimensionality, a LSTM layer of 128 units, a dropout layer to prevent overfitting, and two fully connected layers to map the information from previous layers to the 4 outputs."
      ]
    },
    {
      "cell_type": "code",
      "execution_count": null,
      "metadata": {
        "colab": {
          "base_uri": "https://localhost:8080/"
        },
        "id": "95knfHqWURfF",
        "outputId": "39f2680f-108c-4bf5-cff8-7bec0ccf576c"
      },
      "outputs": [
        {
          "name": "stdout",
          "output_type": "stream",
          "text": [
            "Model: \"sequential_3\"\n",
            "_________________________________________________________________\n",
            " Layer (type)                Output Shape              Param #   \n",
            "=================================================================\n",
            " conv1d_2 (Conv1D)           (None, 198, 32)           3488      \n",
            "                                                                 \n",
            " max_pooling1d_1 (MaxPooling  (None, 99, 32)           0         \n",
            " 1D)                                                             \n",
            "                                                                 \n",
            " lstm_3 (LSTM)               (None, 128)               82432     \n",
            "                                                                 \n",
            " dropout_4 (Dropout)         (None, 128)               0         \n",
            "                                                                 \n",
            " dense_5 (Dense)             (None, 64)                8256      \n",
            "                                                                 \n",
            " dense_6 (Dense)             (None, 4)                 260       \n",
            "                                                                 \n",
            "=================================================================\n",
            "Total params: 94,436\n",
            "Trainable params: 94,436\n",
            "Non-trainable params: 0\n",
            "_________________________________________________________________\n"
          ]
        }
      ],
      "source": [
        "# Define the model\n",
        "model = keras.Sequential()\n",
        "\n",
        "# Add a 1D Convolutional layer with 32 filters and a kernel size of 3\n",
        "model.add(Conv1D(filters=32, kernel_size=3, activation='relu', input_shape=(n_timesteps, n_features)))\n",
        "\n",
        "# Add a Max Pooling layer with a pool size of 2\n",
        "model.add(MaxPooling1D(pool_size=2))\n",
        "\n",
        "# Add an LSTM layer with 128 units\n",
        "model.add(LSTM(units=128))\n",
        "\n",
        "# Add a dropout layer with a rate of 0.5\n",
        "model.add(Dropout(rate=0.5))\n",
        "\n",
        "# Add a fully connected layer\n",
        "model.add(Dense(units=64, activation='relu'))\n",
        "\n",
        "# Add an output layer\n",
        "model.add(Dense(units=n_outputs, activation='softmax'))\n",
        "\n",
        "model.summary()"
      ]
    },
    {
      "cell_type": "markdown",
      "metadata": {
        "id": "2iBoi6ek6-uY"
      },
      "source": [
        "#### Loss Function and training"
      ]
    },
    {
      "cell_type": "code",
      "execution_count": null,
      "metadata": {
        "colab": {
          "base_uri": "https://localhost:8080/"
        },
        "id": "x-rVJIOW_L7l",
        "outputId": "46b94943-92ea-41ea-b99a-84a13e726800"
      },
      "outputs": [
        {
          "name": "stdout",
          "output_type": "stream",
          "text": [
            "Epoch 1/50\n",
            "36/36 [==============================] - 4s 30ms/step - loss: 1.2094 - accuracy: 0.5009 - val_loss: 0.8203 - val_accuracy: 0.7100\n",
            "Epoch 2/50\n",
            "36/36 [==============================] - 0s 10ms/step - loss: 0.7125 - accuracy: 0.6979 - val_loss: 0.6930 - val_accuracy: 0.7050\n",
            "Epoch 3/50\n",
            "36/36 [==============================] - 0s 11ms/step - loss: 0.6529 - accuracy: 0.7032 - val_loss: 0.6282 - val_accuracy: 0.7650\n",
            "Epoch 4/50\n",
            "36/36 [==============================] - 0s 10ms/step - loss: 0.5757 - accuracy: 0.7562 - val_loss: 0.5885 - val_accuracy: 0.7450\n",
            "Epoch 5/50\n",
            "36/36 [==============================] - 0s 11ms/step - loss: 0.5772 - accuracy: 0.7527 - val_loss: 0.6738 - val_accuracy: 0.6450\n",
            "Epoch 6/50\n",
            "36/36 [==============================] - 0s 10ms/step - loss: 0.5185 - accuracy: 0.7942 - val_loss: 0.4499 - val_accuracy: 0.8750\n",
            "Epoch 7/50\n",
            "36/36 [==============================] - 0s 10ms/step - loss: 0.4795 - accuracy: 0.8269 - val_loss: 0.4829 - val_accuracy: 0.8350\n",
            "Epoch 8/50\n",
            "36/36 [==============================] - 0s 10ms/step - loss: 0.4289 - accuracy: 0.8366 - val_loss: 0.3897 - val_accuracy: 0.8800\n",
            "Epoch 9/50\n",
            "36/36 [==============================] - 0s 10ms/step - loss: 0.4074 - accuracy: 0.8472 - val_loss: 0.3850 - val_accuracy: 0.8700\n",
            "Epoch 10/50\n",
            "36/36 [==============================] - 0s 13ms/step - loss: 0.3840 - accuracy: 0.8454 - val_loss: 0.3708 - val_accuracy: 0.8750\n",
            "Epoch 11/50\n",
            "36/36 [==============================] - 1s 15ms/step - loss: 0.3789 - accuracy: 0.8463 - val_loss: 0.4031 - val_accuracy: 0.8700\n",
            "Epoch 12/50\n",
            "36/36 [==============================] - 1s 14ms/step - loss: 0.3747 - accuracy: 0.8551 - val_loss: 0.3538 - val_accuracy: 0.8800\n",
            "Epoch 13/50\n",
            "36/36 [==============================] - 1s 14ms/step - loss: 0.3759 - accuracy: 0.8525 - val_loss: 0.3743 - val_accuracy: 0.8750\n",
            "Epoch 14/50\n",
            "36/36 [==============================] - 0s 14ms/step - loss: 0.3612 - accuracy: 0.8516 - val_loss: 0.3405 - val_accuracy: 0.8900\n",
            "Epoch 15/50\n",
            "36/36 [==============================] - 1s 14ms/step - loss: 0.3456 - accuracy: 0.8587 - val_loss: 0.3279 - val_accuracy: 0.8800\n",
            "Epoch 16/50\n",
            "36/36 [==============================] - 0s 14ms/step - loss: 0.3487 - accuracy: 0.8587 - val_loss: 0.3619 - val_accuracy: 0.8750\n",
            "Epoch 17/50\n",
            "36/36 [==============================] - 0s 12ms/step - loss: 0.3810 - accuracy: 0.8489 - val_loss: 0.3588 - val_accuracy: 0.8750\n",
            "Epoch 18/50\n",
            "36/36 [==============================] - 0s 11ms/step - loss: 0.3431 - accuracy: 0.8701 - val_loss: 0.3383 - val_accuracy: 0.8550\n",
            "Epoch 19/50\n",
            "36/36 [==============================] - 0s 10ms/step - loss: 0.3528 - accuracy: 0.8613 - val_loss: 0.4141 - val_accuracy: 0.7950\n",
            "Epoch 20/50\n",
            "36/36 [==============================] - 0s 10ms/step - loss: 0.3400 - accuracy: 0.8666 - val_loss: 0.3431 - val_accuracy: 0.8650\n",
            "Epoch 21/50\n",
            "36/36 [==============================] - 0s 10ms/step - loss: 0.3147 - accuracy: 0.8657 - val_loss: 0.3374 - val_accuracy: 0.8500\n",
            "Epoch 22/50\n",
            "36/36 [==============================] - 0s 11ms/step - loss: 0.3300 - accuracy: 0.8693 - val_loss: 0.3300 - val_accuracy: 0.8650\n",
            "Epoch 23/50\n",
            "36/36 [==============================] - 0s 10ms/step - loss: 0.3021 - accuracy: 0.8781 - val_loss: 0.3140 - val_accuracy: 0.8750\n",
            "Epoch 24/50\n",
            "36/36 [==============================] - 0s 9ms/step - loss: 0.2954 - accuracy: 0.8737 - val_loss: 0.3310 - val_accuracy: 0.8850\n",
            "Epoch 25/50\n",
            "36/36 [==============================] - 0s 10ms/step - loss: 0.3270 - accuracy: 0.8746 - val_loss: 0.3182 - val_accuracy: 0.8800\n",
            "Epoch 26/50\n",
            "36/36 [==============================] - 0s 10ms/step - loss: 0.2963 - accuracy: 0.8825 - val_loss: 0.3172 - val_accuracy: 0.8650\n",
            "Epoch 27/50\n",
            "36/36 [==============================] - 0s 9ms/step - loss: 0.2966 - accuracy: 0.8790 - val_loss: 0.3101 - val_accuracy: 0.8850\n",
            "Epoch 28/50\n",
            "36/36 [==============================] - 0s 10ms/step - loss: 0.2905 - accuracy: 0.8781 - val_loss: 0.3142 - val_accuracy: 0.8800\n",
            "Epoch 29/50\n",
            "36/36 [==============================] - 0s 10ms/step - loss: 0.2882 - accuracy: 0.8887 - val_loss: 0.3087 - val_accuracy: 0.8800\n",
            "Epoch 30/50\n",
            "36/36 [==============================] - 0s 10ms/step - loss: 0.2845 - accuracy: 0.8790 - val_loss: 0.3260 - val_accuracy: 0.8600\n",
            "Epoch 31/50\n",
            "36/36 [==============================] - 0s 10ms/step - loss: 0.2916 - accuracy: 0.8852 - val_loss: 0.3652 - val_accuracy: 0.8650\n",
            "Epoch 32/50\n",
            "36/36 [==============================] - 0s 11ms/step - loss: 0.3222 - accuracy: 0.8684 - val_loss: 0.3117 - val_accuracy: 0.8750\n",
            "Epoch 33/50\n",
            "36/36 [==============================] - 0s 10ms/step - loss: 0.2907 - accuracy: 0.8799 - val_loss: 0.3165 - val_accuracy: 0.8750\n",
            "Epoch 34/50\n",
            "36/36 [==============================] - 0s 10ms/step - loss: 0.3089 - accuracy: 0.8622 - val_loss: 0.3305 - val_accuracy: 0.8750\n",
            "Epoch 35/50\n",
            "36/36 [==============================] - 0s 11ms/step - loss: 0.2947 - accuracy: 0.8887 - val_loss: 0.3206 - val_accuracy: 0.8700\n",
            "Epoch 36/50\n",
            "36/36 [==============================] - 0s 14ms/step - loss: 0.2964 - accuracy: 0.8825 - val_loss: 0.3087 - val_accuracy: 0.8850\n",
            "Epoch 37/50\n",
            "36/36 [==============================] - 0s 13ms/step - loss: 0.2705 - accuracy: 0.8940 - val_loss: 0.3080 - val_accuracy: 0.8800\n",
            "Epoch 38/50\n",
            "36/36 [==============================] - 0s 13ms/step - loss: 0.2737 - accuracy: 0.8949 - val_loss: 0.3438 - val_accuracy: 0.8600\n",
            "Epoch 39/50\n",
            "36/36 [==============================] - 1s 16ms/step - loss: 0.2707 - accuracy: 0.8790 - val_loss: 0.3320 - val_accuracy: 0.8750\n",
            "Epoch 40/50\n",
            "36/36 [==============================] - 1s 14ms/step - loss: 0.2921 - accuracy: 0.8728 - val_loss: 0.3425 - val_accuracy: 0.8450\n",
            "Epoch 41/50\n",
            "36/36 [==============================] - 0s 14ms/step - loss: 0.2737 - accuracy: 0.8852 - val_loss: 0.3213 - val_accuracy: 0.8750\n",
            "Epoch 42/50\n",
            "36/36 [==============================] - 1s 17ms/step - loss: 0.2670 - accuracy: 0.8913 - val_loss: 0.3203 - val_accuracy: 0.8650\n",
            "Epoch 43/50\n",
            "36/36 [==============================] - 1s 18ms/step - loss: 0.2659 - accuracy: 0.9028 - val_loss: 0.3155 - val_accuracy: 0.8850\n",
            "Epoch 44/50\n",
            "36/36 [==============================] - 1s 15ms/step - loss: 0.2749 - accuracy: 0.8860 - val_loss: 0.2948 - val_accuracy: 0.8950\n",
            "Epoch 45/50\n",
            "36/36 [==============================] - 1s 15ms/step - loss: 0.2708 - accuracy: 0.8887 - val_loss: 0.3460 - val_accuracy: 0.8650\n",
            "Epoch 46/50\n",
            "36/36 [==============================] - 1s 15ms/step - loss: 0.2532 - accuracy: 0.8958 - val_loss: 0.3021 - val_accuracy: 0.8750\n",
            "Epoch 47/50\n",
            "36/36 [==============================] - 1s 14ms/step - loss: 0.2945 - accuracy: 0.8781 - val_loss: 0.2869 - val_accuracy: 0.8850\n",
            "Epoch 48/50\n",
            "36/36 [==============================] - 1s 14ms/step - loss: 0.2742 - accuracy: 0.8807 - val_loss: 0.2999 - val_accuracy: 0.8850\n",
            "Epoch 49/50\n",
            "36/36 [==============================] - 1s 15ms/step - loss: 0.2451 - accuracy: 0.9002 - val_loss: 0.2946 - val_accuracy: 0.8800\n",
            "Epoch 50/50\n",
            "36/36 [==============================] - 0s 11ms/step - loss: 0.2690 - accuracy: 0.8843 - val_loss: 0.3341 - val_accuracy: 0.8700\n"
          ]
        }
      ],
      "source": [
        "#lost function and optimizer\n",
        "model.compile(loss='categorical_crossentropy', optimizer='adam', metrics=['accuracy'])\n",
        "\n",
        "history = model.fit(X_train, Y_train, epochs = 50, validation_data=(X_val, Y_val), batch_size = 32, verbose = 1)"
      ]
    },
    {
      "cell_type": "markdown",
      "metadata": {
        "id": "4W2P6JvV7MH_"
      },
      "source": [
        "#### Evaluate the model"
      ]
    },
    {
      "cell_type": "code",
      "execution_count": null,
      "metadata": {
        "colab": {
          "base_uri": "https://localhost:8080/"
        },
        "id": "_tWPDX_5J2p4",
        "outputId": "2d0fedf3-83ee-40d1-ed10-e69d11755611"
      },
      "outputs": [
        {
          "name": "stdout",
          "output_type": "stream",
          "text": [
            "8/8 [==============================] - 0s 6ms/step - loss: 0.3957 - accuracy: 0.8517\n",
            "Test Accuracy : 0.8516949415206909\n",
            "Test Loss : 0.39568522572517395\n"
          ]
        }
      ],
      "source": [
        "#Evaluate the model\n",
        "results = model.evaluate(X_test, Y_test, batch_size = 32, verbose = 1)\n",
        "arch4_test_acc = results[1]\n",
        "arch4_test_loss = results[0]\n",
        "print(\"Test Accuracy :\", results[1])\n",
        "print(\"Test Loss :\", results[0])"
      ]
    },
    {
      "cell_type": "markdown",
      "metadata": {
        "id": "NFi9zUCa7R2P"
      },
      "source": [
        "#### Create a graph of accuracy and loss over time"
      ]
    },
    {
      "cell_type": "code",
      "execution_count": null,
      "metadata": {
        "colab": {
          "base_uri": "https://localhost:8080/"
        },
        "id": "53lIWOqEKF6q",
        "outputId": "ef655a15-7761-4e24-959c-a9c04aafac1d"
      },
      "outputs": [
        {
          "data": {
            "text/plain": [
              "<matplotlib.legend.Legend at 0x7f8521f9adf0>"
            ]
          },
          "execution_count": 39,
          "metadata": {},
          "output_type": "execute_result"
        }
      ],
      "source": [
        "#Create a graph of accuracy and loss over time\n",
        "history_dict = history.history\n",
        "\n",
        "import matplotlib.pyplot as plt\n",
        "\n",
        "# Get the historical values for accuracies and losses\n",
        "\n",
        "acc = history_dict['accuracy']\n",
        "val_acc = history_dict['val_accuracy']\n",
        "loss = history_dict['loss']\n",
        "val_loss = history_dict['val_loss']\n",
        "\n",
        "# Save the last values for accuracies and losses for comparison\n",
        "\n",
        "arch4_train_acc = acc[-1]\n",
        "arch4_val_acc = val_acc[-1]\n",
        "arch4_train_loss = loss[-1]\n",
        "arch4_val_loss = val_loss[-1]\n",
        "\n",
        "epochs = range(1, len(acc) + 1)\n",
        "\n",
        "axes[0, 3].plot(epochs, acc , 'r', label='Training Accuracy')\n",
        "axes[0, 3].plot(epochs,val_acc , 'm', label='Validation Accuracy')\n",
        "axes[0, 3].plot(epochs, loss, 'g', label='Training loss')\n",
        "axes[0, 3].plot(epochs, val_loss, 'b', label='Validation loss')\n",
        "axes[0, 3].set_title(\"Architecture 4\")\n",
        "axes[0, 3].set_xlabel('Epochs')\n",
        "axes[0, 3].set_ylabel('Loss')\n",
        "axes[0, 3].legend()"
      ]
    },
    {
      "cell_type": "markdown",
      "metadata": {
        "id": "eZhdyOBbB0Vc"
      },
      "source": [
        "### Architecture 5: Conv1D(32) + Conv1D(64) + Max Pooling + Bidirectional LSTM(128) + Dropout + Fully Connected + Fully Connected\n",
        "\n",
        "Source: One of the papers suggested using bidirectional LSTM as an improvement for HAR, the added convolutional layers are for testing"
      ]
    },
    {
      "cell_type": "markdown",
      "metadata": {
        "id": "ZZk6-Qi17jtA"
      },
      "source": [
        "This architecture uses two layers of 1D convolutions, one using 32 filters and the other using 64 filters, then a max pooling layer to reduce dimensionality, a bidirectional LSTM of 128 neurons, a dropout layer to prevent overfitting, and two fully connected layers to map the information from previous layers to the 4 outputs."
      ]
    },
    {
      "cell_type": "code",
      "execution_count": null,
      "metadata": {
        "colab": {
          "base_uri": "https://localhost:8080/"
        },
        "id": "pqUcc5BGNDWA",
        "outputId": "ef2639ba-b671-4a28-eb19-5ecbed7dd249"
      },
      "outputs": [
        {
          "name": "stdout",
          "output_type": "stream",
          "text": [
            "Model: \"sequential_4\"\n",
            "_________________________________________________________________\n",
            " Layer (type)                Output Shape              Param #   \n",
            "=================================================================\n",
            " conv1d_3 (Conv1D)           (None, 198, 32)           3488      \n",
            "                                                                 \n",
            " conv1d_4 (Conv1D)           (None, 196, 64)           6208      \n",
            "                                                                 \n",
            " max_pooling1d_2 (MaxPooling  (None, 98, 64)           0         \n",
            " 1D)                                                             \n",
            "                                                                 \n",
            " bidirectional (Bidirectiona  (None, 256)              197632    \n",
            " l)                                                              \n",
            "                                                                 \n",
            " dropout_5 (Dropout)         (None, 256)               0         \n",
            "                                                                 \n",
            " dense_7 (Dense)             (None, 64)                16448     \n",
            "                                                                 \n",
            " dense_8 (Dense)             (None, 4)                 260       \n",
            "                                                                 \n",
            "=================================================================\n",
            "Total params: 224,036\n",
            "Trainable params: 224,036\n",
            "Non-trainable params: 0\n",
            "_________________________________________________________________\n"
          ]
        }
      ],
      "source": [
        "from keras.layers import Bidirectional, Attention\n",
        "\n",
        "# Define the model\n",
        "model = keras.Sequential()\n",
        "\n",
        "# Add a 1D Convolutional layer with 32 filters and a kernel size of 3\n",
        "model.add(Conv1D(filters=32, kernel_size=3, activation='relu', input_shape=(n_timesteps, n_features)))\n",
        "\n",
        "# Add a second 1D Convolutional layer with 64 filters and a kernel size of 3\n",
        "model.add(Conv1D(filters=64, kernel_size=3, activation='relu'))\n",
        "\n",
        "# Add a Max Pooling layer with a pool size of 2\n",
        "model.add(MaxPooling1D(pool_size=2))\n",
        "\n",
        "# Add a bidirectional LSTM layer with 128 units\n",
        "model.add(Bidirectional(LSTM(units=128)))\n",
        "\n",
        "# Add a dropout layer with a rate of 0.5\n",
        "model.add(Dropout(rate=0.5))\n",
        "\n",
        "# Add a fully connected layer\n",
        "model.add(Dense(units=64, activation='relu'))\n",
        "\n",
        "# Add an output layer\n",
        "model.add(Dense(units=n_outputs, activation='softmax'))\n",
        "\n",
        "model.summary()"
      ]
    },
    {
      "cell_type": "markdown",
      "metadata": {
        "id": "TTxE5eV48F1I"
      },
      "source": [
        "#### Loss function and training"
      ]
    },
    {
      "cell_type": "code",
      "execution_count": null,
      "metadata": {
        "colab": {
          "base_uri": "https://localhost:8080/"
        },
        "id": "syL8fmSNseT4",
        "outputId": "cbd0b348-ea20-4e98-b5f3-e9a60551dab0"
      },
      "outputs": [
        {
          "name": "stdout",
          "output_type": "stream",
          "text": [
            "Epoch 1/50\n",
            "36/36 [==============================] - 7s 53ms/step - loss: 1.0887 - accuracy: 0.5557 - val_loss: 0.8543 - val_accuracy: 0.5600\n",
            "Epoch 2/50\n",
            "36/36 [==============================] - 1s 14ms/step - loss: 0.7217 - accuracy: 0.6634 - val_loss: 0.6490 - val_accuracy: 0.7050\n",
            "Epoch 3/50\n",
            "36/36 [==============================] - 1s 14ms/step - loss: 0.6086 - accuracy: 0.7191 - val_loss: 0.6004 - val_accuracy: 0.6850\n",
            "Epoch 4/50\n",
            "36/36 [==============================] - 1s 15ms/step - loss: 0.5575 - accuracy: 0.7350 - val_loss: 0.5760 - val_accuracy: 0.7250\n",
            "Epoch 5/50\n",
            "36/36 [==============================] - 1s 15ms/step - loss: 0.4795 - accuracy: 0.8083 - val_loss: 0.4890 - val_accuracy: 0.8350\n",
            "Epoch 6/50\n",
            "36/36 [==============================] - 1s 14ms/step - loss: 0.4196 - accuracy: 0.8516 - val_loss: 0.3795 - val_accuracy: 0.8700\n",
            "Epoch 7/50\n",
            "36/36 [==============================] - 1s 15ms/step - loss: 0.4329 - accuracy: 0.8286 - val_loss: 0.3869 - val_accuracy: 0.8600\n",
            "Epoch 8/50\n",
            "36/36 [==============================] - 1s 14ms/step - loss: 0.4028 - accuracy: 0.8463 - val_loss: 0.3746 - val_accuracy: 0.8700\n",
            "Epoch 9/50\n",
            "36/36 [==============================] - 0s 14ms/step - loss: 0.4040 - accuracy: 0.8401 - val_loss: 0.3801 - val_accuracy: 0.8700\n",
            "Epoch 10/50\n",
            "36/36 [==============================] - 1s 14ms/step - loss: 0.3709 - accuracy: 0.8507 - val_loss: 0.3870 - val_accuracy: 0.8700\n",
            "Epoch 11/50\n",
            "36/36 [==============================] - 0s 13ms/step - loss: 0.3357 - accuracy: 0.8834 - val_loss: 0.3534 - val_accuracy: 0.8500\n",
            "Epoch 12/50\n",
            "36/36 [==============================] - 1s 14ms/step - loss: 0.3708 - accuracy: 0.8481 - val_loss: 0.3749 - val_accuracy: 0.8700\n",
            "Epoch 13/50\n",
            "36/36 [==============================] - 1s 14ms/step - loss: 0.3666 - accuracy: 0.8587 - val_loss: 0.4048 - val_accuracy: 0.8650\n",
            "Epoch 14/50\n",
            "36/36 [==============================] - 1s 14ms/step - loss: 0.3572 - accuracy: 0.8560 - val_loss: 0.3167 - val_accuracy: 0.8750\n",
            "Epoch 15/50\n",
            "36/36 [==============================] - 1s 14ms/step - loss: 0.3324 - accuracy: 0.8666 - val_loss: 0.3367 - val_accuracy: 0.8750\n",
            "Epoch 16/50\n",
            "36/36 [==============================] - 1s 14ms/step - loss: 0.3131 - accuracy: 0.8754 - val_loss: 0.3349 - val_accuracy: 0.8750\n",
            "Epoch 17/50\n",
            "36/36 [==============================] - 1s 14ms/step - loss: 0.3150 - accuracy: 0.8640 - val_loss: 0.3118 - val_accuracy: 0.8750\n",
            "Epoch 18/50\n",
            "36/36 [==============================] - 0s 13ms/step - loss: 0.3037 - accuracy: 0.8852 - val_loss: 0.3580 - val_accuracy: 0.8750\n",
            "Epoch 19/50\n",
            "36/36 [==============================] - 0s 14ms/step - loss: 0.3365 - accuracy: 0.8657 - val_loss: 0.3179 - val_accuracy: 0.8800\n",
            "Epoch 20/50\n",
            "36/36 [==============================] - 1s 16ms/step - loss: 0.2979 - accuracy: 0.8878 - val_loss: 0.3251 - val_accuracy: 0.8650\n",
            "Epoch 21/50\n",
            "36/36 [==============================] - 1s 19ms/step - loss: 0.4625 - accuracy: 0.8269 - val_loss: 0.4408 - val_accuracy: 0.8550\n",
            "Epoch 22/50\n",
            "36/36 [==============================] - 1s 21ms/step - loss: 0.4369 - accuracy: 0.8348 - val_loss: 0.3893 - val_accuracy: 0.8600\n",
            "Epoch 23/50\n",
            "36/36 [==============================] - 1s 20ms/step - loss: 0.3945 - accuracy: 0.8560 - val_loss: 0.3750 - val_accuracy: 0.8650\n",
            "Epoch 24/50\n",
            "36/36 [==============================] - 1s 20ms/step - loss: 0.3931 - accuracy: 0.8560 - val_loss: 0.3923 - val_accuracy: 0.8500\n",
            "Epoch 25/50\n",
            "36/36 [==============================] - 1s 19ms/step - loss: 0.3524 - accuracy: 0.8657 - val_loss: 0.3603 - val_accuracy: 0.8750\n",
            "Epoch 26/50\n",
            "36/36 [==============================] - 1s 14ms/step - loss: 0.3370 - accuracy: 0.8604 - val_loss: 0.3332 - val_accuracy: 0.8800\n",
            "Epoch 27/50\n",
            "36/36 [==============================] - 1s 14ms/step - loss: 0.3166 - accuracy: 0.8799 - val_loss: 0.3165 - val_accuracy: 0.8800\n",
            "Epoch 28/50\n",
            "36/36 [==============================] - 0s 14ms/step - loss: 0.3101 - accuracy: 0.8763 - val_loss: 0.3384 - val_accuracy: 0.8850\n",
            "Epoch 29/50\n",
            "36/36 [==============================] - 1s 15ms/step - loss: 0.3170 - accuracy: 0.8648 - val_loss: 0.3481 - val_accuracy: 0.8850\n",
            "Epoch 30/50\n",
            "36/36 [==============================] - 1s 14ms/step - loss: 0.3091 - accuracy: 0.8807 - val_loss: 0.3435 - val_accuracy: 0.8700\n",
            "Epoch 31/50\n",
            "36/36 [==============================] - 1s 15ms/step - loss: 0.2967 - accuracy: 0.8622 - val_loss: 0.3610 - val_accuracy: 0.8650\n",
            "Epoch 32/50\n",
            "36/36 [==============================] - 0s 14ms/step - loss: 0.3137 - accuracy: 0.8763 - val_loss: 0.3591 - val_accuracy: 0.8700\n",
            "Epoch 33/50\n",
            "36/36 [==============================] - 1s 14ms/step - loss: 0.2945 - accuracy: 0.8834 - val_loss: 0.3448 - val_accuracy: 0.8650\n",
            "Epoch 34/50\n",
            "36/36 [==============================] - 1s 16ms/step - loss: 0.3112 - accuracy: 0.8834 - val_loss: 0.3293 - val_accuracy: 0.8700\n",
            "Epoch 35/50\n",
            "36/36 [==============================] - 1s 19ms/step - loss: 0.2798 - accuracy: 0.8869 - val_loss: 0.3362 - val_accuracy: 0.8800\n",
            "Epoch 36/50\n",
            "36/36 [==============================] - 1s 19ms/step - loss: 0.2891 - accuracy: 0.8825 - val_loss: 0.3045 - val_accuracy: 0.8800\n",
            "Epoch 37/50\n",
            "36/36 [==============================] - 1s 19ms/step - loss: 0.2997 - accuracy: 0.8825 - val_loss: 0.3132 - val_accuracy: 0.8900\n",
            "Epoch 38/50\n",
            "36/36 [==============================] - 1s 19ms/step - loss: 0.2817 - accuracy: 0.8913 - val_loss: 0.3096 - val_accuracy: 0.8900\n",
            "Epoch 39/50\n",
            "36/36 [==============================] - 1s 21ms/step - loss: 0.3193 - accuracy: 0.8710 - val_loss: 0.5620 - val_accuracy: 0.7600\n",
            "Epoch 40/50\n",
            "36/36 [==============================] - 1s 15ms/step - loss: 0.3296 - accuracy: 0.8578 - val_loss: 0.3663 - val_accuracy: 0.8550\n",
            "Epoch 41/50\n",
            "36/36 [==============================] - 1s 14ms/step - loss: 0.2902 - accuracy: 0.8807 - val_loss: 0.3379 - val_accuracy: 0.8700\n",
            "Epoch 42/50\n",
            "36/36 [==============================] - 1s 15ms/step - loss: 0.3645 - accuracy: 0.8534 - val_loss: 0.3355 - val_accuracy: 0.8800\n",
            "Epoch 43/50\n",
            "36/36 [==============================] - 1s 20ms/step - loss: 0.3036 - accuracy: 0.8869 - val_loss: 0.3089 - val_accuracy: 0.8800\n",
            "Epoch 44/50\n",
            "36/36 [==============================] - 1s 21ms/step - loss: 0.2752 - accuracy: 0.8878 - val_loss: 0.3384 - val_accuracy: 0.8800\n",
            "Epoch 45/50\n",
            "36/36 [==============================] - 1s 20ms/step - loss: 0.2810 - accuracy: 0.8958 - val_loss: 0.3168 - val_accuracy: 0.8600\n",
            "Epoch 46/50\n",
            "36/36 [==============================] - 1s 20ms/step - loss: 0.2934 - accuracy: 0.8763 - val_loss: 0.3423 - val_accuracy: 0.8750\n",
            "Epoch 47/50\n",
            "36/36 [==============================] - 1s 21ms/step - loss: 0.2726 - accuracy: 0.8843 - val_loss: 0.3114 - val_accuracy: 0.8750\n",
            "Epoch 48/50\n",
            "36/36 [==============================] - 1s 15ms/step - loss: 0.2696 - accuracy: 0.8913 - val_loss: 0.3441 - val_accuracy: 0.8650\n",
            "Epoch 49/50\n",
            "36/36 [==============================] - 1s 14ms/step - loss: 0.2687 - accuracy: 0.8913 - val_loss: 0.3266 - val_accuracy: 0.8450\n",
            "Epoch 50/50\n",
            "36/36 [==============================] - 1s 14ms/step - loss: 0.2524 - accuracy: 0.8887 - val_loss: 0.3099 - val_accuracy: 0.8850\n"
          ]
        }
      ],
      "source": [
        "#lost function and optimizer\n",
        "model.compile(loss='categorical_crossentropy', optimizer='adam', metrics=['accuracy'])\n",
        "\n",
        "history = model.fit(X_train, Y_train, epochs = 50, validation_data=(X_val, Y_val), batch_size = 32, verbose = 1)"
      ]
    },
    {
      "cell_type": "markdown",
      "metadata": {
        "id": "S2yeCtTB8I42"
      },
      "source": [
        "#### Evaluate the model"
      ]
    },
    {
      "cell_type": "code",
      "execution_count": null,
      "metadata": {
        "colab": {
          "base_uri": "https://localhost:8080/"
        },
        "id": "Ti-3WA0OsjHY",
        "outputId": "a7a15fda-8dd2-4211-8005-8e692010ea8f"
      },
      "outputs": [
        {
          "name": "stdout",
          "output_type": "stream",
          "text": [
            "8/8 [==============================] - 0s 6ms/step - loss: 0.3226 - accuracy: 0.8898\n",
            "Test Accuracy : 0.8898305296897888\n",
            "Test Loss : 0.3225589096546173\n"
          ]
        }
      ],
      "source": [
        "#Evaluate the model\n",
        "results = model.evaluate(X_test, Y_test, batch_size = 32, verbose = 1)\n",
        "arch5_test_acc = results[1]\n",
        "arch5_test_loss = results[0]\n",
        "print(\"Test Accuracy :\", results[1])\n",
        "print(\"Test Loss :\", results[0])"
      ]
    },
    {
      "cell_type": "markdown",
      "metadata": {
        "id": "hryeI0tE8L-5"
      },
      "source": [
        "#### Create a graph of accuracy and loss over time\n"
      ]
    },
    {
      "cell_type": "code",
      "execution_count": null,
      "metadata": {
        "colab": {
          "base_uri": "https://localhost:8080/"
        },
        "id": "jDnjiCzfssxu",
        "outputId": "70e0ba41-b858-4026-e93b-59deb24a5c7d"
      },
      "outputs": [
        {
          "data": {
            "text/plain": [
              "<matplotlib.legend.Legend at 0x7f8521df7d60>"
            ]
          },
          "execution_count": 43,
          "metadata": {},
          "output_type": "execute_result"
        }
      ],
      "source": [
        "#Create a graph of accuracy and loss over time\n",
        "history_dict = history.history\n",
        "\n",
        "import matplotlib.pyplot as plt\n",
        "\n",
        "# Get the historical values for accuracies and losses\n",
        "\n",
        "acc = history_dict['accuracy']\n",
        "val_acc = history_dict['val_accuracy']\n",
        "loss = history_dict['loss']\n",
        "val_loss = history_dict['val_loss']\n",
        "\n",
        "# Save the last values for accuracies and losses for comparison\n",
        "\n",
        "arch5_train_acc = acc[-1]\n",
        "arch5_val_acc = val_acc[-1]\n",
        "arch5_train_loss = loss[-1]\n",
        "arch5_val_loss = val_loss[-1]\n",
        "\n",
        "epochs = range(1, len(acc) + 1)\n",
        "\n",
        "axes[1, 0].plot(epochs, acc , 'r', label='Training Accuracy')\n",
        "axes[1, 0].plot(epochs,val_acc , 'm', label='Validation Accuracy')\n",
        "axes[1, 0].plot(epochs, loss, 'g', label='Training loss')\n",
        "axes[1, 0].plot(epochs, val_loss, 'b', label='Validation loss')\n",
        "axes[1, 0].set_title(\"Architecture 5\")\n",
        "axes[1, 0].set_xlabel('Epochs')\n",
        "axes[1, 0].set_ylabel('Loss')\n",
        "axes[1, 0].legend()"
      ]
    },
    {
      "cell_type": "markdown",
      "metadata": {
        "id": "OWURZ4WAB0Ve"
      },
      "source": [
        "### Architecture 6: LSTM(128) + Dropout + Reshape + Conv1D(32) + Dropout + Flatten + Fully Connected + Fully Connected\n",
        "\n",
        "Source: Empyrical adaptation of the architechture of the model with convolutional layers at the start"
      ]
    },
    {
      "cell_type": "markdown",
      "metadata": {
        "id": "6UnZtnjO8kYY"
      },
      "source": [
        "The final architecture starts with a LSTM layer, followed by a dropout layer to avoid overfitting and a reshape layer in order to use a convolutional layer. The next layer is a 1D convolution with 32 filters, followed by another dropout layer, and a flatter layer in order to use dense layers. The last two layers are fully connected layers in order to map the information from previous layers to the 4 outputs."
      ]
    },
    {
      "cell_type": "code",
      "execution_count": null,
      "metadata": {
        "colab": {
          "base_uri": "https://localhost:8080/"
        },
        "id": "MVE8AokVx3K9",
        "outputId": "4272dfbd-3c51-45c5-e8e3-b413fa2b82c5"
      },
      "outputs": [
        {
          "name": "stdout",
          "output_type": "stream",
          "text": [
            "Model: \"sequential_5\"\n",
            "_________________________________________________________________\n",
            " Layer (type)                Output Shape              Param #   \n",
            "=================================================================\n",
            " lstm_5 (LSTM)               (None, 128)               84480     \n",
            "                                                                 \n",
            " dropout_6 (Dropout)         (None, 128)               0         \n",
            "                                                                 \n",
            " reshape (Reshape)           (None, 1, 128)            0         \n",
            "                                                                 \n",
            " conv1d_5 (Conv1D)           (None, 1, 32)             12320     \n",
            "                                                                 \n",
            " dropout_7 (Dropout)         (None, 1, 32)             0         \n",
            "                                                                 \n",
            " flatten_1 (Flatten)         (None, 32)                0         \n",
            "                                                                 \n",
            " dense_9 (Dense)             (None, 64)                2112      \n",
            "                                                                 \n",
            " dense_10 (Dense)            (None, 4)                 260       \n",
            "                                                                 \n",
            "=================================================================\n",
            "Total params: 99,172\n",
            "Trainable params: 99,172\n",
            "Non-trainable params: 0\n",
            "_________________________________________________________________\n"
          ]
        }
      ],
      "source": [
        "# Define the model\n",
        "model = keras.Sequential()\n",
        "\n",
        "# Add an LSTM layer with 128 units\n",
        "model.add(LSTM(units=128, input_shape=(n_timesteps, n_features)))\n",
        "\n",
        "# Add a dropout layer with a rate of 0.5\n",
        "model.add(Dropout(rate=0.5))\n",
        "\n",
        "# Reshape the input data to the correct shape for the Conv1D layer\n",
        "model.add(Reshape((-1, 128)))\n",
        "\n",
        "# Add a 1D Convolutional layer with 32 filters and a kernel size of 3\n",
        "model.add(Conv1D(filters=32, kernel_size=3, activation='relu', padding='causal'))\n",
        "\n",
        "# Add a dropout layer with a rate of 0.5\n",
        "model.add(Dropout(rate=0.5))\n",
        "\n",
        "# Add a Flatten layer\n",
        "model.add(Flatten())\n",
        "\n",
        "# Add a fully connected layer\n",
        "model.add(Dense(units=64, activation='relu'))\n",
        "\n",
        "# Add an output layer\n",
        "model.add(Dense(units=n_outputs, activation='softmax'))\n",
        "\n",
        "model.summary()"
      ]
    },
    {
      "cell_type": "markdown",
      "metadata": {
        "id": "9pCkychg9C3f"
      },
      "source": [
        "#### Loss function and training"
      ]
    },
    {
      "cell_type": "code",
      "execution_count": null,
      "metadata": {
        "colab": {
          "base_uri": "https://localhost:8080/"
        },
        "id": "GZ9y1tca6Ldh",
        "outputId": "dd860cf6-04fa-4bac-c9fb-8bb266281b4b"
      },
      "outputs": [
        {
          "name": "stdout",
          "output_type": "stream",
          "text": [
            "Epoch 1/50\n",
            "36/36 [==============================] - 4s 33ms/step - loss: 1.2330 - accuracy: 0.4249 - val_loss: 0.9695 - val_accuracy: 0.5050\n",
            "Epoch 2/50\n",
            "36/36 [==============================] - 0s 13ms/step - loss: 0.8451 - accuracy: 0.6608 - val_loss: 0.7509 - val_accuracy: 0.6400\n",
            "Epoch 3/50\n",
            "36/36 [==============================] - 0s 13ms/step - loss: 0.7689 - accuracy: 0.6776 - val_loss: 0.6462 - val_accuracy: 0.7250\n",
            "Epoch 4/50\n",
            "36/36 [==============================] - 0s 14ms/step - loss: 0.6863 - accuracy: 0.7058 - val_loss: 0.6374 - val_accuracy: 0.7100\n",
            "Epoch 5/50\n",
            "36/36 [==============================] - 0s 14ms/step - loss: 0.6531 - accuracy: 0.7147 - val_loss: 0.6232 - val_accuracy: 0.7550\n",
            "Epoch 6/50\n",
            "36/36 [==============================] - 0s 13ms/step - loss: 0.6325 - accuracy: 0.7217 - val_loss: 0.5856 - val_accuracy: 0.7450\n",
            "Epoch 7/50\n",
            "36/36 [==============================] - 0s 12ms/step - loss: 0.5916 - accuracy: 0.7350 - val_loss: 0.6011 - val_accuracy: 0.7250\n",
            "Epoch 8/50\n",
            "36/36 [==============================] - 0s 12ms/step - loss: 0.5579 - accuracy: 0.7544 - val_loss: 0.5495 - val_accuracy: 0.7350\n",
            "Epoch 9/50\n",
            "36/36 [==============================] - 0s 13ms/step - loss: 0.6453 - accuracy: 0.7500 - val_loss: 0.6658 - val_accuracy: 0.7200\n",
            "Epoch 10/50\n",
            "36/36 [==============================] - 0s 13ms/step - loss: 0.6608 - accuracy: 0.7138 - val_loss: 0.6047 - val_accuracy: 0.7300\n",
            "Epoch 11/50\n",
            "36/36 [==============================] - 1s 17ms/step - loss: 0.6090 - accuracy: 0.7173 - val_loss: 0.5576 - val_accuracy: 0.7650\n",
            "Epoch 12/50\n",
            "36/36 [==============================] - 1s 16ms/step - loss: 0.6019 - accuracy: 0.7518 - val_loss: 0.5711 - val_accuracy: 0.7700\n",
            "Epoch 13/50\n",
            "36/36 [==============================] - 1s 17ms/step - loss: 0.5561 - accuracy: 0.7482 - val_loss: 0.5488 - val_accuracy: 0.7300\n",
            "Epoch 14/50\n",
            "36/36 [==============================] - 1s 16ms/step - loss: 0.5325 - accuracy: 0.7500 - val_loss: 0.5194 - val_accuracy: 0.7450\n",
            "Epoch 15/50\n",
            "36/36 [==============================] - 1s 17ms/step - loss: 0.5395 - accuracy: 0.7597 - val_loss: 0.5199 - val_accuracy: 0.7400\n",
            "Epoch 16/50\n",
            "36/36 [==============================] - 1s 17ms/step - loss: 0.5175 - accuracy: 0.7659 - val_loss: 0.5099 - val_accuracy: 0.7400\n",
            "Epoch 17/50\n",
            "36/36 [==============================] - 0s 12ms/step - loss: 0.5457 - accuracy: 0.7606 - val_loss: 0.5521 - val_accuracy: 0.7700\n",
            "Epoch 18/50\n",
            "36/36 [==============================] - 0s 13ms/step - loss: 0.5122 - accuracy: 0.7783 - val_loss: 0.5148 - val_accuracy: 0.7400\n",
            "Epoch 19/50\n",
            "36/36 [==============================] - 0s 12ms/step - loss: 0.7853 - accuracy: 0.7253 - val_loss: 0.9324 - val_accuracy: 0.5650\n",
            "Epoch 20/50\n",
            "36/36 [==============================] - 0s 12ms/step - loss: 0.8720 - accuracy: 0.6104 - val_loss: 0.8001 - val_accuracy: 0.6200\n",
            "Epoch 21/50\n",
            "36/36 [==============================] - 0s 12ms/step - loss: 0.7529 - accuracy: 0.6935 - val_loss: 0.7176 - val_accuracy: 0.7450\n",
            "Epoch 22/50\n",
            "36/36 [==============================] - 0s 12ms/step - loss: 0.7018 - accuracy: 0.6917 - val_loss: 0.7038 - val_accuracy: 0.6300\n",
            "Epoch 23/50\n",
            "36/36 [==============================] - 0s 12ms/step - loss: 0.6680 - accuracy: 0.7244 - val_loss: 0.6717 - val_accuracy: 0.7600\n",
            "Epoch 24/50\n",
            "36/36 [==============================] - 0s 13ms/step - loss: 0.6454 - accuracy: 0.7164 - val_loss: 0.6690 - val_accuracy: 0.7200\n",
            "Epoch 25/50\n",
            "36/36 [==============================] - 0s 12ms/step - loss: 0.6595 - accuracy: 0.7138 - val_loss: 0.6602 - val_accuracy: 0.7100\n",
            "Epoch 26/50\n",
            "36/36 [==============================] - 0s 13ms/step - loss: 0.6534 - accuracy: 0.7226 - val_loss: 0.6675 - val_accuracy: 0.7300\n",
            "Epoch 27/50\n",
            "36/36 [==============================] - 0s 12ms/step - loss: 0.6444 - accuracy: 0.7173 - val_loss: 0.6588 - val_accuracy: 0.7750\n",
            "Epoch 28/50\n",
            "36/36 [==============================] - 0s 13ms/step - loss: 0.6181 - accuracy: 0.7341 - val_loss: 0.6381 - val_accuracy: 0.7750\n",
            "Epoch 29/50\n",
            "36/36 [==============================] - 0s 13ms/step - loss: 0.6088 - accuracy: 0.7500 - val_loss: 0.7040 - val_accuracy: 0.6150\n",
            "Epoch 30/50\n",
            "36/36 [==============================] - 0s 13ms/step - loss: 0.6048 - accuracy: 0.7306 - val_loss: 0.6453 - val_accuracy: 0.7700\n",
            "Epoch 31/50\n",
            "36/36 [==============================] - 0s 12ms/step - loss: 0.5927 - accuracy: 0.7270 - val_loss: 0.6322 - val_accuracy: 0.7300\n",
            "Epoch 32/50\n",
            "36/36 [==============================] - 0s 12ms/step - loss: 0.5779 - accuracy: 0.7420 - val_loss: 0.6254 - val_accuracy: 0.7200\n",
            "Epoch 33/50\n",
            "36/36 [==============================] - 0s 12ms/step - loss: 0.5790 - accuracy: 0.7438 - val_loss: 0.6518 - val_accuracy: 0.6950\n",
            "Epoch 34/50\n",
            "36/36 [==============================] - 0s 13ms/step - loss: 0.5837 - accuracy: 0.7447 - val_loss: 0.7585 - val_accuracy: 0.7250\n",
            "Epoch 35/50\n",
            "36/36 [==============================] - 0s 13ms/step - loss: 0.8144 - accuracy: 0.6572 - val_loss: 0.6159 - val_accuracy: 0.7250\n",
            "Epoch 36/50\n",
            "36/36 [==============================] - 0s 13ms/step - loss: 0.5973 - accuracy: 0.7527 - val_loss: 0.5796 - val_accuracy: 0.7450\n",
            "Epoch 37/50\n",
            "36/36 [==============================] - 0s 13ms/step - loss: 0.5733 - accuracy: 0.7412 - val_loss: 0.5860 - val_accuracy: 0.7300\n",
            "Epoch 38/50\n",
            "36/36 [==============================] - 0s 13ms/step - loss: 0.5734 - accuracy: 0.7288 - val_loss: 0.5788 - val_accuracy: 0.8200\n",
            "Epoch 39/50\n",
            "36/36 [==============================] - 1s 18ms/step - loss: 0.5640 - accuracy: 0.7394 - val_loss: 0.5726 - val_accuracy: 0.8300\n",
            "Epoch 40/50\n",
            "36/36 [==============================] - 1s 17ms/step - loss: 0.5530 - accuracy: 0.7580 - val_loss: 0.5822 - val_accuracy: 0.6650\n",
            "Epoch 41/50\n",
            "36/36 [==============================] - 1s 16ms/step - loss: 0.5586 - accuracy: 0.7279 - val_loss: 0.5764 - val_accuracy: 0.7450\n",
            "Epoch 42/50\n",
            "36/36 [==============================] - 1s 17ms/step - loss: 0.5379 - accuracy: 0.7597 - val_loss: 0.5654 - val_accuracy: 0.7400\n",
            "Epoch 43/50\n",
            "36/36 [==============================] - 1s 19ms/step - loss: 0.5399 - accuracy: 0.7615 - val_loss: 0.5767 - val_accuracy: 0.7350\n",
            "Epoch 44/50\n",
            "36/36 [==============================] - 1s 16ms/step - loss: 0.5397 - accuracy: 0.7535 - val_loss: 0.5609 - val_accuracy: 0.7650\n",
            "Epoch 45/50\n",
            "36/36 [==============================] - 0s 12ms/step - loss: 0.5357 - accuracy: 0.7465 - val_loss: 0.5640 - val_accuracy: 0.7400\n",
            "Epoch 46/50\n",
            "36/36 [==============================] - 0s 12ms/step - loss: 0.5236 - accuracy: 0.7562 - val_loss: 0.5579 - val_accuracy: 0.7450\n",
            "Epoch 47/50\n",
            "36/36 [==============================] - 0s 13ms/step - loss: 0.5380 - accuracy: 0.7456 - val_loss: 0.5593 - val_accuracy: 0.7450\n",
            "Epoch 48/50\n",
            "36/36 [==============================] - 0s 12ms/step - loss: 0.5342 - accuracy: 0.7447 - val_loss: 0.5498 - val_accuracy: 0.7450\n",
            "Epoch 49/50\n",
            "36/36 [==============================] - 0s 13ms/step - loss: 0.5465 - accuracy: 0.7465 - val_loss: 0.5559 - val_accuracy: 0.7600\n",
            "Epoch 50/50\n",
            "36/36 [==============================] - 0s 12ms/step - loss: 0.5239 - accuracy: 0.7535 - val_loss: 0.5578 - val_accuracy: 0.7400\n"
          ]
        }
      ],
      "source": [
        "#lost function and optimizer\n",
        "model.compile(loss='categorical_crossentropy', optimizer='adam', metrics=['accuracy'])\n",
        "\n",
        "history = model.fit(X_train, Y_train, epochs = 50, validation_data=(X_val, Y_val), batch_size = 32, verbose = 1)"
      ]
    },
    {
      "cell_type": "markdown",
      "metadata": {
        "id": "Zm9-TQ4q9FYW"
      },
      "source": [
        "#### Evaluate the model"
      ]
    },
    {
      "cell_type": "code",
      "execution_count": null,
      "metadata": {
        "colab": {
          "base_uri": "https://localhost:8080/"
        },
        "id": "gGF-_Uj71_D3",
        "outputId": "c58deb12-4ffc-4141-8b3c-0f29d47a1d8d"
      },
      "outputs": [
        {
          "name": "stdout",
          "output_type": "stream",
          "text": [
            "8/8 [==============================] - 0s 6ms/step - loss: 0.6258 - accuracy: 0.7288\n",
            "Test Accuracy : 0.7288135886192322\n",
            "Test Loss : 0.6257636547088623\n"
          ]
        }
      ],
      "source": [
        "#Evaluate the model\n",
        "results = model.evaluate(X_test, Y_test, batch_size = 32, verbose = 1)\n",
        "arch6_test_acc = results[1]\n",
        "arch6_test_loss = results[0]\n",
        "print(\"Test Accuracy :\", results[1])\n",
        "print(\"Test Loss :\", results[0])"
      ]
    },
    {
      "cell_type": "markdown",
      "metadata": {
        "id": "GRCg2w6p9HLP"
      },
      "source": [
        "#### Create a graph of accuracy and loss over time"
      ]
    },
    {
      "cell_type": "code",
      "execution_count": null,
      "metadata": {
        "colab": {
          "base_uri": "https://localhost:8080/"
        },
        "id": "oFvEGyCf2CUV",
        "outputId": "b58037f2-5393-4dc7-f9cf-45f35bb70d84"
      },
      "outputs": [
        {
          "data": {
            "text/plain": [
              "<matplotlib.legend.Legend at 0x7f8521451370>"
            ]
          },
          "execution_count": 47,
          "metadata": {},
          "output_type": "execute_result"
        }
      ],
      "source": [
        "#Create a graph of accuracy and loss over time\n",
        "history_dict = history.history\n",
        "\n",
        "import matplotlib.pyplot as plt\n",
        "\n",
        "# Get the historical values for accuracies and losses\n",
        "\n",
        "acc = history_dict['accuracy']\n",
        "val_acc = history_dict['val_accuracy']\n",
        "loss = history_dict['loss']\n",
        "val_loss = history_dict['val_loss']\n",
        "\n",
        "# Save the last values for accuracies and losses for comparison\n",
        "\n",
        "arch6_train_acc = acc[-1]\n",
        "arch6_val_acc = val_acc[-1]\n",
        "arch6_train_loss = loss[-1]\n",
        "arch6_val_loss = val_loss[-1]\n",
        "\n",
        "epochs = range(1, len(acc) + 1)\n",
        "\n",
        "axes[1, 1].plot(epochs, acc , 'r', label='Training Accuracy')\n",
        "axes[1, 1].plot(epochs,val_acc , 'm', label='Validation Accuracy')\n",
        "axes[1, 1].plot(epochs, loss, 'g', label='Training loss')\n",
        "axes[1, 1].plot(epochs, val_loss, 'b', label='Validation loss')\n",
        "axes[1, 1].set_title(\"Architecture 6\")\n",
        "axes[1, 1].set_xlabel('Epochs')\n",
        "axes[1, 1].set_ylabel('Loss')\n",
        "axes[1, 1].legend()"
      ]
    },
    {
      "cell_type": "markdown",
      "metadata": {
        "id": "9ZSlrlrGwpLQ"
      },
      "source": [
        "### Architecture 7: LSTM(64) + Dropout + Fully Connected + Fully Connected + Fully Connected\n",
        "\n",
        "Source:"
      ]
    },
    {
      "cell_type": "markdown",
      "metadata": {
        "id": "tmTVdWeKwpLR"
      },
      "source": [
        "The final architecture is a very simple one, starting with a LSTM layer, followed by a dropout layer to avoid overfitting and three fully connected layers in order to map the information from previous layers to the 4 outputs."
      ]
    },
    {
      "cell_type": "code",
      "execution_count": null,
      "metadata": {
        "id": "Avzaf9_FwlFg"
      },
      "outputs": [],
      "source": [
        "#Second try a modeling\n",
        "model = keras.Sequential()\n",
        "model.add(LSTM(64,input_shape=(n_timesteps,n_features)))\n",
        "model.add(Dropout(0.5))\n",
        "model.add(Dense(64,activation='relu'))\n",
        "model.add(Dense(64,activation='relu'))\n",
        "model.add(Dense(n_outputs, activation='softmax'))\n"
      ]
    },
    {
      "cell_type": "markdown",
      "metadata": {
        "id": "wl6xjQtGxy7B"
      },
      "source": [
        "#### Loss function and training"
      ]
    },
    {
      "cell_type": "code",
      "execution_count": null,
      "metadata": {
        "colab": {
          "base_uri": "https://localhost:8080/"
        },
        "id": "79zu1jfNxy7K",
        "outputId": "0ce0c283-7d47-4804-9f72-37c693a41a68"
      },
      "outputs": [
        {
          "name": "stdout",
          "output_type": "stream",
          "text": [
            "Epoch 1/50\n",
            "36/36 [==============================] - 4s 41ms/step - loss: 1.1353 - accuracy: 0.5115 - val_loss: 0.8516 - val_accuracy: 0.5850\n",
            "Epoch 2/50\n",
            "36/36 [==============================] - 0s 12ms/step - loss: 0.6851 - accuracy: 0.7120 - val_loss: 0.6024 - val_accuracy: 0.8500\n",
            "Epoch 3/50\n",
            "36/36 [==============================] - 0s 13ms/step - loss: 0.6233 - accuracy: 0.7403 - val_loss: 0.6138 - val_accuracy: 0.7650\n",
            "Epoch 4/50\n",
            "36/36 [==============================] - 0s 13ms/step - loss: 0.5454 - accuracy: 0.7853 - val_loss: 0.4792 - val_accuracy: 0.8550\n",
            "Epoch 5/50\n",
            "36/36 [==============================] - 0s 12ms/step - loss: 0.5469 - accuracy: 0.8039 - val_loss: 0.4941 - val_accuracy: 0.8100\n",
            "Epoch 6/50\n",
            "36/36 [==============================] - 0s 12ms/step - loss: 0.4616 - accuracy: 0.8366 - val_loss: 0.4135 - val_accuracy: 0.8750\n",
            "Epoch 7/50\n",
            "36/36 [==============================] - 0s 12ms/step - loss: 0.4392 - accuracy: 0.8348 - val_loss: 0.4337 - val_accuracy: 0.8650\n",
            "Epoch 8/50\n",
            "36/36 [==============================] - 1s 16ms/step - loss: 0.4425 - accuracy: 0.8313 - val_loss: 0.3683 - val_accuracy: 0.8800\n",
            "Epoch 9/50\n",
            "36/36 [==============================] - 1s 15ms/step - loss: 0.3983 - accuracy: 0.8595 - val_loss: 0.3939 - val_accuracy: 0.8650\n",
            "Epoch 10/50\n",
            "36/36 [==============================] - 1s 16ms/step - loss: 0.3848 - accuracy: 0.8613 - val_loss: 0.3854 - val_accuracy: 0.8550\n",
            "Epoch 11/50\n",
            "36/36 [==============================] - 1s 16ms/step - loss: 0.5700 - accuracy: 0.7703 - val_loss: 0.6014 - val_accuracy: 0.7450\n",
            "Epoch 12/50\n",
            "36/36 [==============================] - 1s 16ms/step - loss: 0.4963 - accuracy: 0.7862 - val_loss: 0.4820 - val_accuracy: 0.8150\n",
            "Epoch 13/50\n",
            "36/36 [==============================] - 1s 16ms/step - loss: 0.4430 - accuracy: 0.8207 - val_loss: 0.3955 - val_accuracy: 0.8750\n",
            "Epoch 14/50\n",
            "36/36 [==============================] - 1s 14ms/step - loss: 0.4495 - accuracy: 0.8216 - val_loss: 0.5658 - val_accuracy: 0.6300\n",
            "Epoch 15/50\n",
            "36/36 [==============================] - 0s 11ms/step - loss: 0.5136 - accuracy: 0.7473 - val_loss: 0.4979 - val_accuracy: 0.7800\n",
            "Epoch 16/50\n",
            "36/36 [==============================] - 0s 12ms/step - loss: 0.4704 - accuracy: 0.7986 - val_loss: 0.4474 - val_accuracy: 0.8300\n",
            "Epoch 17/50\n",
            "36/36 [==============================] - 1s 15ms/step - loss: 0.4117 - accuracy: 0.8357 - val_loss: 0.3817 - val_accuracy: 0.8850\n",
            "Epoch 18/50\n",
            "36/36 [==============================] - 1s 17ms/step - loss: 0.4021 - accuracy: 0.8569 - val_loss: 0.3716 - val_accuracy: 0.8800\n",
            "Epoch 19/50\n",
            "36/36 [==============================] - 1s 16ms/step - loss: 0.4193 - accuracy: 0.8419 - val_loss: 0.3883 - val_accuracy: 0.8800\n",
            "Epoch 20/50\n",
            "36/36 [==============================] - 1s 16ms/step - loss: 0.3717 - accuracy: 0.8622 - val_loss: 0.3426 - val_accuracy: 0.8750\n",
            "Epoch 21/50\n",
            "36/36 [==============================] - 1s 16ms/step - loss: 0.3456 - accuracy: 0.8763 - val_loss: 0.3644 - val_accuracy: 0.8600\n",
            "Epoch 22/50\n",
            "36/36 [==============================] - 1s 16ms/step - loss: 0.3353 - accuracy: 0.8746 - val_loss: 0.3750 - val_accuracy: 0.8500\n",
            "Epoch 23/50\n",
            "36/36 [==============================] - 1s 15ms/step - loss: 0.3598 - accuracy: 0.8622 - val_loss: 0.3388 - val_accuracy: 0.8750\n",
            "Epoch 24/50\n",
            "36/36 [==============================] - 0s 12ms/step - loss: 0.3629 - accuracy: 0.8604 - val_loss: 0.3263 - val_accuracy: 0.8850\n",
            "Epoch 25/50\n",
            "36/36 [==============================] - 0s 12ms/step - loss: 0.3410 - accuracy: 0.8701 - val_loss: 0.3325 - val_accuracy: 0.8900\n",
            "Epoch 26/50\n",
            "36/36 [==============================] - 0s 11ms/step - loss: 0.3333 - accuracy: 0.8693 - val_loss: 0.3440 - val_accuracy: 0.8900\n",
            "Epoch 27/50\n",
            "36/36 [==============================] - 0s 12ms/step - loss: 0.3323 - accuracy: 0.8701 - val_loss: 0.3398 - val_accuracy: 0.8850\n",
            "Epoch 28/50\n",
            "36/36 [==============================] - 0s 11ms/step - loss: 0.3309 - accuracy: 0.8754 - val_loss: 0.3333 - val_accuracy: 0.8900\n",
            "Epoch 29/50\n",
            "36/36 [==============================] - 0s 11ms/step - loss: 0.3055 - accuracy: 0.8860 - val_loss: 0.3487 - val_accuracy: 0.8850\n",
            "Epoch 30/50\n",
            "36/36 [==============================] - 0s 11ms/step - loss: 0.3101 - accuracy: 0.8754 - val_loss: 0.3138 - val_accuracy: 0.8850\n",
            "Epoch 31/50\n",
            "36/36 [==============================] - 0s 12ms/step - loss: 0.3224 - accuracy: 0.8746 - val_loss: 0.3380 - val_accuracy: 0.8800\n",
            "Epoch 32/50\n",
            "36/36 [==============================] - 0s 11ms/step - loss: 0.3162 - accuracy: 0.8816 - val_loss: 0.3214 - val_accuracy: 0.8750\n",
            "Epoch 33/50\n",
            "36/36 [==============================] - 0s 11ms/step - loss: 0.3494 - accuracy: 0.8657 - val_loss: 0.4916 - val_accuracy: 0.7500\n",
            "Epoch 34/50\n",
            "36/36 [==============================] - 0s 12ms/step - loss: 0.3729 - accuracy: 0.8684 - val_loss: 0.3416 - val_accuracy: 0.8650\n",
            "Epoch 35/50\n",
            "36/36 [==============================] - 0s 13ms/step - loss: 0.3367 - accuracy: 0.8666 - val_loss: 0.3235 - val_accuracy: 0.8950\n",
            "Epoch 36/50\n",
            "36/36 [==============================] - 1s 15ms/step - loss: 0.3370 - accuracy: 0.8701 - val_loss: 0.3185 - val_accuracy: 0.8750\n",
            "Epoch 37/50\n",
            "36/36 [==============================] - 1s 15ms/step - loss: 0.3211 - accuracy: 0.8799 - val_loss: 0.3208 - val_accuracy: 0.8700\n",
            "Epoch 38/50\n",
            "36/36 [==============================] - 1s 14ms/step - loss: 0.3296 - accuracy: 0.8710 - val_loss: 0.3406 - val_accuracy: 0.8800\n",
            "Epoch 39/50\n",
            "36/36 [==============================] - 1s 16ms/step - loss: 0.3030 - accuracy: 0.8869 - val_loss: 0.3531 - val_accuracy: 0.8450\n",
            "Epoch 40/50\n",
            "36/36 [==============================] - 1s 16ms/step - loss: 0.3044 - accuracy: 0.8790 - val_loss: 0.2962 - val_accuracy: 0.8900\n",
            "Epoch 41/50\n",
            "36/36 [==============================] - 1s 18ms/step - loss: 0.3129 - accuracy: 0.8648 - val_loss: 0.3343 - val_accuracy: 0.8950\n",
            "Epoch 42/50\n",
            "36/36 [==============================] - 0s 12ms/step - loss: 0.3039 - accuracy: 0.8843 - val_loss: 0.2916 - val_accuracy: 0.8850\n",
            "Epoch 43/50\n",
            "36/36 [==============================] - 0s 11ms/step - loss: 0.2914 - accuracy: 0.8816 - val_loss: 0.3338 - val_accuracy: 0.8750\n",
            "Epoch 44/50\n",
            "36/36 [==============================] - 0s 12ms/step - loss: 0.2962 - accuracy: 0.8763 - val_loss: 0.3206 - val_accuracy: 0.8550\n",
            "Epoch 45/50\n",
            "36/36 [==============================] - 0s 12ms/step - loss: 0.3028 - accuracy: 0.8701 - val_loss: 0.3068 - val_accuracy: 0.8800\n",
            "Epoch 46/50\n",
            "36/36 [==============================] - 0s 11ms/step - loss: 0.2967 - accuracy: 0.8710 - val_loss: 0.3012 - val_accuracy: 0.8800\n",
            "Epoch 47/50\n",
            "36/36 [==============================] - 0s 12ms/step - loss: 0.2870 - accuracy: 0.8869 - val_loss: 0.2936 - val_accuracy: 0.8850\n",
            "Epoch 48/50\n",
            "36/36 [==============================] - 0s 12ms/step - loss: 0.2842 - accuracy: 0.8869 - val_loss: 0.3248 - val_accuracy: 0.8600\n",
            "Epoch 49/50\n",
            "36/36 [==============================] - 0s 12ms/step - loss: 0.2802 - accuracy: 0.8860 - val_loss: 0.3480 - val_accuracy: 0.8400\n",
            "Epoch 50/50\n",
            "36/36 [==============================] - 0s 12ms/step - loss: 0.2854 - accuracy: 0.8816 - val_loss: 0.3141 - val_accuracy: 0.8850\n"
          ]
        }
      ],
      "source": [
        "#lost function and optimizer\n",
        "model.compile(loss='categorical_crossentropy', optimizer='adam', metrics=['accuracy'])\n",
        "\n",
        "history = model.fit(X_train, Y_train, epochs = 50, validation_data=(X_val, Y_val), batch_size = 32, verbose = 1)"
      ]
    },
    {
      "cell_type": "markdown",
      "metadata": {
        "id": "byGFqXHTxy7K"
      },
      "source": [
        "#### Evaluate the model"
      ]
    },
    {
      "cell_type": "code",
      "execution_count": null,
      "metadata": {
        "colab": {
          "base_uri": "https://localhost:8080/"
        },
        "id": "SmnLzPWCxy7K",
        "outputId": "fdaa5fe2-daa4-4157-a27a-98f620a6e17b"
      },
      "outputs": [
        {
          "name": "stdout",
          "output_type": "stream",
          "text": [
            "8/8 [==============================] - 0s 9ms/step - loss: 0.3542 - accuracy: 0.8475\n",
            "Test Accuracy : 0.8474576473236084\n",
            "Test Loss : 0.3541734218597412\n"
          ]
        }
      ],
      "source": [
        "#Evaluate the model\n",
        "results = model.evaluate(X_test, Y_test, batch_size = 32, verbose = 1)\n",
        "arch7_test_acc = results[1]\n",
        "arch7_test_loss = results[0]\n",
        "print(\"Test Accuracy :\", results[1])\n",
        "print(\"Test Loss :\", results[0])"
      ]
    },
    {
      "cell_type": "markdown",
      "metadata": {
        "id": "pC5gB8Zixy7L"
      },
      "source": [
        "#### Create a graph of accuracy and loss over time"
      ]
    },
    {
      "cell_type": "code",
      "execution_count": null,
      "metadata": {
        "colab": {
          "base_uri": "https://localhost:8080/"
        },
        "id": "McWEWCOWxy7L",
        "outputId": "1e417b4e-7419-48c7-c33a-1a2883dd7ba8"
      },
      "outputs": [
        {
          "data": {
            "text/plain": [
              "<matplotlib.legend.Legend at 0x7f8522e1f880>"
            ]
          },
          "execution_count": 51,
          "metadata": {},
          "output_type": "execute_result"
        }
      ],
      "source": [
        "history_dict = history.history\n",
        "\n",
        "import matplotlib.pyplot as plt\n",
        "\n",
        "# Get the historical values for accuracies and losses\n",
        "\n",
        "acc = history_dict['accuracy']\n",
        "val_acc = history_dict['val_accuracy']\n",
        "loss = history_dict['loss']\n",
        "val_loss = history_dict['val_loss']\n",
        "\n",
        "# Save the last values for accuracies and losses for comparison\n",
        "\n",
        "arch7_train_acc = acc[-1]\n",
        "arch7_val_acc = val_acc[-1]\n",
        "arch7_train_loss = loss[-1]\n",
        "arch7_val_loss = val_loss[-1]\n",
        "\n",
        "epochs = range(1, len(acc) + 1)\n",
        "\n",
        "axes[1, 2].plot(epochs, acc , 'r', label='Training Accuracy')\n",
        "axes[1, 2].plot(epochs,val_acc , 'm', label='Validation Accuracy')\n",
        "axes[1, 2].plot(epochs, loss, 'g', label='Training loss')\n",
        "axes[1, 2].plot(epochs, val_loss, 'b', label='Validation loss')\n",
        "axes[1, 2].set_title(\"Architecture 7\")\n",
        "axes[1, 2].set_xlabel('Epochs')\n",
        "axes[1, 2].set_ylabel('Loss')\n",
        "axes[1, 2].legend()"
      ]
    },
    {
      "cell_type": "markdown",
      "metadata": {
        "id": "H3jVfg452dX4"
      },
      "source": [
        "## Table Comparison of accuracies of the 6 architechtures\n",
        "\n",
        "After training and testing all the architectures and obtaining their accuracy and loss values, the obtained results are presented in a table to compare the performance of each architecture in the dataset."
      ]
    },
    {
      "cell_type": "code",
      "execution_count": null,
      "metadata": {
        "colab": {
          "base_uri": "https://localhost:8080/",
          "height": 269
        },
        "id": "JjdYHbTr3Uoi",
        "outputId": "bfd46971-b7fb-49cb-c992-ba1e21c47405"
      },
      "outputs": [
        {
          "data": {
            "text/html": [
              "<style type=\"text/css\">\n",
              "#T_b27ab_row2_col1, #T_b27ab_row2_col2, #T_b27ab_row2_col4, #T_b27ab_row2_col5, #T_b27ab_row2_col6, #T_b27ab_row4_col3, #T_b27ab_row6_col3 {\n",
              "  font-weight: bold;\n",
              "}\n",
              "</style>\n",
              "<table id=\"T_b27ab\" class=\"dataframe\">\n",
              "  <thead>\n",
              "    <tr>\n",
              "      <th class=\"blank level0\" >&nbsp;</th>\n",
              "      <th id=\"T_b27ab_level0_col0\" class=\"col_heading level0 col0\" >Architectures</th>\n",
              "      <th id=\"T_b27ab_level0_col1\" class=\"col_heading level0 col1\" >Training Accuracy</th>\n",
              "      <th id=\"T_b27ab_level0_col2\" class=\"col_heading level0 col2\" >Training Loss</th>\n",
              "      <th id=\"T_b27ab_level0_col3\" class=\"col_heading level0 col3\" >Validation Accuracy</th>\n",
              "      <th id=\"T_b27ab_level0_col4\" class=\"col_heading level0 col4\" >Validation Loss</th>\n",
              "      <th id=\"T_b27ab_level0_col5\" class=\"col_heading level0 col5\" >Test Accuracy</th>\n",
              "      <th id=\"T_b27ab_level0_col6\" class=\"col_heading level0 col6\" >Test Loss</th>\n",
              "    </tr>\n",
              "  </thead>\n",
              "  <tbody>\n",
              "    <tr>\n",
              "      <th id=\"T_b27ab_level0_row0\" class=\"row_heading level0 row0\" >0</th>\n",
              "      <td id=\"T_b27ab_row0_col0\" class=\"data row0 col0\" >Architecture 1</td>\n",
              "      <td id=\"T_b27ab_row0_col1\" class=\"data row0 col1\" >0.885159</td>\n",
              "      <td id=\"T_b27ab_row0_col2\" class=\"data row0 col2\" >0.385166</td>\n",
              "      <td id=\"T_b27ab_row0_col3\" class=\"data row0 col3\" >0.880000</td>\n",
              "      <td id=\"T_b27ab_row0_col4\" class=\"data row0 col4\" >0.303392</td>\n",
              "      <td id=\"T_b27ab_row0_col5\" class=\"data row0 col5\" >0.851695</td>\n",
              "      <td id=\"T_b27ab_row0_col6\" class=\"data row0 col6\" >0.385166</td>\n",
              "    </tr>\n",
              "    <tr>\n",
              "      <th id=\"T_b27ab_level0_row1\" class=\"row_heading level0 row1\" >1</th>\n",
              "      <td id=\"T_b27ab_row1_col0\" class=\"data row1 col0\" >Architecture 2</td>\n",
              "      <td id=\"T_b27ab_row1_col1\" class=\"data row1 col1\" >0.900177</td>\n",
              "      <td id=\"T_b27ab_row1_col2\" class=\"data row1 col2\" >0.360020</td>\n",
              "      <td id=\"T_b27ab_row1_col3\" class=\"data row1 col3\" >0.880000</td>\n",
              "      <td id=\"T_b27ab_row1_col4\" class=\"data row1 col4\" >0.310255</td>\n",
              "      <td id=\"T_b27ab_row1_col5\" class=\"data row1 col5\" >0.851695</td>\n",
              "      <td id=\"T_b27ab_row1_col6\" class=\"data row1 col6\" >0.360020</td>\n",
              "    </tr>\n",
              "    <tr>\n",
              "      <th id=\"T_b27ab_level0_row2\" class=\"row_heading level0 row2\" >2</th>\n",
              "      <td id=\"T_b27ab_row2_col0\" class=\"data row2 col0\" >Architecture 3</td>\n",
              "      <td id=\"T_b27ab_row2_col1\" class=\"data row2 col1\" >0.924028</td>\n",
              "      <td id=\"T_b27ab_row2_col2\" class=\"data row2 col2\" >0.266303</td>\n",
              "      <td id=\"T_b27ab_row2_col3\" class=\"data row2 col3\" >0.875000</td>\n",
              "      <td id=\"T_b27ab_row2_col4\" class=\"data row2 col4\" >0.276480</td>\n",
              "      <td id=\"T_b27ab_row2_col5\" class=\"data row2 col5\" >0.894068</td>\n",
              "      <td id=\"T_b27ab_row2_col6\" class=\"data row2 col6\" >0.266303</td>\n",
              "    </tr>\n",
              "    <tr>\n",
              "      <th id=\"T_b27ab_level0_row3\" class=\"row_heading level0 row3\" >3</th>\n",
              "      <td id=\"T_b27ab_row3_col0\" class=\"data row3 col0\" >Architecture 4</td>\n",
              "      <td id=\"T_b27ab_row3_col1\" class=\"data row3 col1\" >0.884276</td>\n",
              "      <td id=\"T_b27ab_row3_col2\" class=\"data row3 col2\" >0.395685</td>\n",
              "      <td id=\"T_b27ab_row3_col3\" class=\"data row3 col3\" >0.870000</td>\n",
              "      <td id=\"T_b27ab_row3_col4\" class=\"data row3 col4\" >0.334098</td>\n",
              "      <td id=\"T_b27ab_row3_col5\" class=\"data row3 col5\" >0.851695</td>\n",
              "      <td id=\"T_b27ab_row3_col6\" class=\"data row3 col6\" >0.395685</td>\n",
              "    </tr>\n",
              "    <tr>\n",
              "      <th id=\"T_b27ab_level0_row4\" class=\"row_heading level0 row4\" >4</th>\n",
              "      <td id=\"T_b27ab_row4_col0\" class=\"data row4 col0\" >Architecture 5</td>\n",
              "      <td id=\"T_b27ab_row4_col1\" class=\"data row4 col1\" >0.888693</td>\n",
              "      <td id=\"T_b27ab_row4_col2\" class=\"data row4 col2\" >0.322559</td>\n",
              "      <td id=\"T_b27ab_row4_col3\" class=\"data row4 col3\" >0.885000</td>\n",
              "      <td id=\"T_b27ab_row4_col4\" class=\"data row4 col4\" >0.309887</td>\n",
              "      <td id=\"T_b27ab_row4_col5\" class=\"data row4 col5\" >0.889831</td>\n",
              "      <td id=\"T_b27ab_row4_col6\" class=\"data row4 col6\" >0.322559</td>\n",
              "    </tr>\n",
              "    <tr>\n",
              "      <th id=\"T_b27ab_level0_row5\" class=\"row_heading level0 row5\" >5</th>\n",
              "      <td id=\"T_b27ab_row5_col0\" class=\"data row5 col0\" >Architecture 6</td>\n",
              "      <td id=\"T_b27ab_row5_col1\" class=\"data row5 col1\" >0.753534</td>\n",
              "      <td id=\"T_b27ab_row5_col2\" class=\"data row5 col2\" >0.625764</td>\n",
              "      <td id=\"T_b27ab_row5_col3\" class=\"data row5 col3\" >0.740000</td>\n",
              "      <td id=\"T_b27ab_row5_col4\" class=\"data row5 col4\" >0.557787</td>\n",
              "      <td id=\"T_b27ab_row5_col5\" class=\"data row5 col5\" >0.728814</td>\n",
              "      <td id=\"T_b27ab_row5_col6\" class=\"data row5 col6\" >0.625764</td>\n",
              "    </tr>\n",
              "    <tr>\n",
              "      <th id=\"T_b27ab_level0_row6\" class=\"row_heading level0 row6\" >6</th>\n",
              "      <td id=\"T_b27ab_row6_col0\" class=\"data row6 col0\" >Architecture 7</td>\n",
              "      <td id=\"T_b27ab_row6_col1\" class=\"data row6 col1\" >0.881625</td>\n",
              "      <td id=\"T_b27ab_row6_col2\" class=\"data row6 col2\" >0.285416</td>\n",
              "      <td id=\"T_b27ab_row6_col3\" class=\"data row6 col3\" >0.885000</td>\n",
              "      <td id=\"T_b27ab_row6_col4\" class=\"data row6 col4\" >0.314092</td>\n",
              "      <td id=\"T_b27ab_row6_col5\" class=\"data row6 col5\" >0.847458</td>\n",
              "      <td id=\"T_b27ab_row6_col6\" class=\"data row6 col6\" >0.625764</td>\n",
              "    </tr>\n",
              "  </tbody>\n",
              "</table>\n"
            ],
            "text/plain": [
              "<pandas.io.formats.style.Styler at 0x7f852304c2b0>"
            ]
          },
          "execution_count": 52,
          "metadata": {},
          "output_type": "execute_result"
        }
      ],
      "source": [
        "# Architectures labels\n",
        "archs = [\"Architecture 1\", \"Architecture 2\", \"Architecture 3\", \"Architecture 4\", \"Architecture 5\", \"Architecture 6\", \"Architecture 7\"]\n",
        "# Training accuracies of the architectures\n",
        "train_accs = [arch1_train_acc, arch2_train_acc, arch3_train_acc, arch4_train_acc, arch5_train_acc, arch6_train_acc, arch7_train_acc]\n",
        "# Training losses of the architectures\n",
        "train_losses = [arch1_test_loss, arch2_test_loss, arch3_test_loss, arch4_test_loss, arch5_test_loss, arch6_test_loss, arch7_train_loss]\n",
        "# Validation accuracies of the architectures\n",
        "val_accs = [arch1_val_acc, arch2_val_acc, arch3_val_acc, arch4_val_acc, arch5_val_acc, arch6_val_acc, arch7_val_acc]\n",
        "# Validation losses of the architectures\n",
        "val_losses = [arch1_val_loss, arch2_val_loss, arch3_val_loss, arch4_val_loss, arch5_val_loss, arch6_val_loss, arch7_val_loss]\n",
        "# Testing accuracies of the architectures\n",
        "test_accs = [arch1_test_acc, arch2_test_acc, arch3_test_acc, arch4_test_acc, arch5_test_acc, arch6_test_acc, arch7_test_acc]\n",
        "# Testing losses of the architectures\n",
        "test_loss = [arch1_test_loss, arch2_test_loss, arch3_test_loss, arch4_test_loss, arch5_test_loss, arch6_test_loss, arch6_test_loss]\n",
        "\n",
        "df = pd.DataFrame(list(zip(archs, train_accs, train_losses, val_accs, val_losses, test_accs, test_loss)),\n",
        "                  columns =['Architectures', 'Training Accuracy', 'Training Loss', 'Validation Accuracy', 'Validation Loss', 'Test Accuracy', 'Test Loss'])\n",
        "df\n",
        "\n",
        "# Defining custom function which returns\n",
        "# the list for df.style.apply() method\n",
        "def highlight_max(s):\n",
        "    is_max = s == s.max()\n",
        "    return ['font-weight: %s' % 'bold' if cell else '' for cell in is_max]\n",
        "\n",
        "\n",
        "# Defining custom function which returns\n",
        "# the list for df.style.apply() method\n",
        "def highlight_min(s):\n",
        "    is_min = s == s.min()\n",
        "    return ['font-weight: %s' % 'bold' if cell else '' for cell in is_min]\n",
        "\n",
        "df.style.apply(highlight_max, subset = ['Training Accuracy', 'Validation Accuracy', 'Test Accuracy']).apply(highlight_min, subset = ['Training Loss', 'Validation Loss', 'Test Loss'])"
      ]
    },
    {
      "cell_type": "markdown",
      "metadata": {
        "id": "1J7I2gxZ8lCN"
      },
      "source": [
        "## Plot of the Performance of Every Architecture"
      ]
    },
    {
      "cell_type": "code",
      "execution_count": null,
      "metadata": {
        "colab": {
          "base_uri": "https://localhost:8080/",
          "height": 621
        },
        "id": "8buxDzlAYXaI",
        "outputId": "05f6d3a7-286c-4d52-f10b-d6581e9fce87"
      },
      "outputs": [
        {
          "data": {
            "image/png": "[encoded data removed]",
            "text/plain": [
              "<Figure size 1800x720 with 8 Axes>"
            ]
          },
          "metadata": {},
          "output_type": "display_data"
        }
      ],
      "source": [
        "from IPython.display import display\n",
        "axes[1, 3].axis('off')\n",
        "display(fig)"
      ]
    },
    {
      "cell_type": "markdown",
      "metadata": {
        "id": "-XuLf8VN8sKa"
      },
      "source": [
        "## Plot of Best Architecture"
      ]
    },
    {
      "cell_type": "code",
      "execution_count": null,
      "metadata": {
        "colab": {
          "base_uri": "https://localhost:8080/",
          "height": 350
        },
        "id": "IgqqNCm9geZT",
        "outputId": "19aa5944-cb55-4763-b02a-54d3b3a03520"
      },
      "outputs": [
        {
          "data": {
            "image/png": "[encoded data removed]",
            "text/plain": [
              "<Figure size 1800x720 with 8 Axes>"
            ]
          },
          "metadata": {},
          "output_type": "display_data"
        }
      ],
      "source": [
        "best = 3\n",
        "\n",
        "if (best <= 4):\n",
        "  best_x = 0\n",
        "  best_y = best - 1\n",
        "else:\n",
        "  best_x = 1\n",
        "  best_y = (best - 1) - 4\n",
        "\n",
        "# Set the spacing between subplots to zero\n",
        "fig.subplots_adjust(wspace=0, hspace=0)\n",
        "\n",
        "# Hide the other subplots\n",
        "for i in range(2):\n",
        "    for j in range(4):\n",
        "        if i != best_x or j != best_y:\n",
        "            axes[i, j].set_visible(False)\n",
        "\n",
        "display(axes[best_x, best_y].figure)"
      ]
    }
  ],
  "metadata": {
    "accelerator": "GPU",
    "colab": {
      "provenance": []
    },
    "gpuClass": "standard",
    "kernelspec": {
      "display_name": "Python 3",
      "name": "python3"
    },
    "language_info": {
      "name": "python"
    }
  },
  "nbformat": 4,
  "nbformat_minor": 0
}