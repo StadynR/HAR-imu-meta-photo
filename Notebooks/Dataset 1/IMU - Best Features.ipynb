{
  "cells": [
    {
      "cell_type": "markdown",
      "metadata": {
        "id": "qAJCMQ4R22HB"
      },
      "source": [
        "[![Open In Colab](https://colab.research.google.com/assets/colab-badge.svg)](https://colab.research.google.com/github/StadynR/HAR-imu-photogrammetry/blob/main/Notebooks/Dataset%201/IMU%20-%20Best%20Features.ipynb)"
      ]
    },
    {
      "cell_type": "markdown",
      "metadata": {
        "id": "HL5s36gHyqIN"
      },
      "source": [
        "# Dataset 1 - IMU (Best Features)\n",
        "\n",
        "This notebook contains code and explanations for the training and testing of 7 different AI architectures for the task of Human Action Recognition using time series data obtained from motion sensors (accelerometers, gyroscopes)."
      ]
    },
    {
      "cell_type": "markdown",
      "metadata": {
        "id": "H8jX8ZM6p7eI"
      },
      "source": [
        "## Access to Google Drive and load dataset\n",
        "\n",
        "You need to create a shortcut in your Drive home to this folder: https://drive.google.com/drive/folders/1k2sAkmRyyctE1uOc19mrixyt2N47-7pt?usp=share_link"
      ]
    },
    {
      "cell_type": "code",
      "execution_count": 1,
      "metadata": {
        "colab": {
          "base_uri": "https://localhost:8080/",
          "height": 345
        },
        "id": "-KH1DO0fy53b",
        "outputId": "5ed49d37-cd1a-4113-8c9e-e5bc4c3d7a88"
      },
      "outputs": [
        {
          "output_type": "error",
          "ename": "MessageError",
          "evalue": "ignored",
          "traceback": [
            "\u001b[0;31m---------------------------------------------------------------------------\u001b[0m",
            "\u001b[0;31mMessageError\u001b[0m                              Traceback (most recent call last)",
            "\u001b[0;32m<ipython-input-1-17deaa040e1f>\u001b[0m in \u001b[0;36m<cell line: 3>\u001b[0;34m()\u001b[0m\n\u001b[1;32m      1\u001b[0m \u001b[0;31m#Drive mount\u001b[0m\u001b[0;34m\u001b[0m\u001b[0;34m\u001b[0m\u001b[0m\n\u001b[1;32m      2\u001b[0m \u001b[0;32mfrom\u001b[0m \u001b[0mgoogle\u001b[0m\u001b[0;34m.\u001b[0m\u001b[0mcolab\u001b[0m \u001b[0;32mimport\u001b[0m \u001b[0mdrive\u001b[0m\u001b[0;34m\u001b[0m\u001b[0;34m\u001b[0m\u001b[0m\n\u001b[0;32m----> 3\u001b[0;31m \u001b[0mdrive\u001b[0m\u001b[0;34m.\u001b[0m\u001b[0mmount\u001b[0m\u001b[0;34m(\u001b[0m\u001b[0;34m'/content/drive'\u001b[0m\u001b[0;34m)\u001b[0m\u001b[0;34m\u001b[0m\u001b[0;34m\u001b[0m\u001b[0m\n\u001b[0m",
            "\u001b[0;32m/usr/local/lib/python3.10/dist-packages/google/colab/drive.py\u001b[0m in \u001b[0;36mmount\u001b[0;34m(mountpoint, force_remount, timeout_ms, readonly)\u001b[0m\n\u001b[1;32m    101\u001b[0m \u001b[0;32mdef\u001b[0m \u001b[0mmount\u001b[0m\u001b[0;34m(\u001b[0m\u001b[0mmountpoint\u001b[0m\u001b[0;34m,\u001b[0m \u001b[0mforce_remount\u001b[0m\u001b[0;34m=\u001b[0m\u001b[0;32mFalse\u001b[0m\u001b[0;34m,\u001b[0m \u001b[0mtimeout_ms\u001b[0m\u001b[0;34m=\u001b[0m\u001b[0;36m120000\u001b[0m\u001b[0;34m,\u001b[0m \u001b[0mreadonly\u001b[0m\u001b[0;34m=\u001b[0m\u001b[0;32mFalse\u001b[0m\u001b[0;34m)\u001b[0m\u001b[0;34m:\u001b[0m\u001b[0;34m\u001b[0m\u001b[0;34m\u001b[0m\u001b[0m\n\u001b[1;32m    102\u001b[0m   \u001b[0;34m\"\"\"Mount your Google Drive at the specified mountpoint path.\"\"\"\u001b[0m\u001b[0;34m\u001b[0m\u001b[0;34m\u001b[0m\u001b[0m\n\u001b[0;32m--> 103\u001b[0;31m   return _mount(\n\u001b[0m\u001b[1;32m    104\u001b[0m       \u001b[0mmountpoint\u001b[0m\u001b[0;34m,\u001b[0m\u001b[0;34m\u001b[0m\u001b[0;34m\u001b[0m\u001b[0m\n\u001b[1;32m    105\u001b[0m       \u001b[0mforce_remount\u001b[0m\u001b[0;34m=\u001b[0m\u001b[0mforce_remount\u001b[0m\u001b[0;34m,\u001b[0m\u001b[0;34m\u001b[0m\u001b[0;34m\u001b[0m\u001b[0m\n",
            "\u001b[0;32m/usr/local/lib/python3.10/dist-packages/google/colab/drive.py\u001b[0m in \u001b[0;36m_mount\u001b[0;34m(mountpoint, force_remount, timeout_ms, ephemeral, readonly)\u001b[0m\n\u001b[1;32m    130\u001b[0m   )\n\u001b[1;32m    131\u001b[0m   \u001b[0;32mif\u001b[0m \u001b[0mephemeral\u001b[0m\u001b[0;34m:\u001b[0m\u001b[0;34m\u001b[0m\u001b[0;34m\u001b[0m\u001b[0m\n\u001b[0;32m--> 132\u001b[0;31m     _message.blocking_request(\n\u001b[0m\u001b[1;32m    133\u001b[0m         \u001b[0;34m'request_auth'\u001b[0m\u001b[0;34m,\u001b[0m \u001b[0mrequest\u001b[0m\u001b[0;34m=\u001b[0m\u001b[0;34m{\u001b[0m\u001b[0;34m'authType'\u001b[0m\u001b[0;34m:\u001b[0m \u001b[0;34m'dfs_ephemeral'\u001b[0m\u001b[0;34m}\u001b[0m\u001b[0;34m,\u001b[0m \u001b[0mtimeout_sec\u001b[0m\u001b[0;34m=\u001b[0m\u001b[0;32mNone\u001b[0m\u001b[0;34m\u001b[0m\u001b[0;34m\u001b[0m\u001b[0m\n\u001b[1;32m    134\u001b[0m     )\n",
            "\u001b[0;32m/usr/local/lib/python3.10/dist-packages/google/colab/_message.py\u001b[0m in \u001b[0;36mblocking_request\u001b[0;34m(request_type, request, timeout_sec, parent)\u001b[0m\n\u001b[1;32m    174\u001b[0m       \u001b[0mrequest_type\u001b[0m\u001b[0;34m,\u001b[0m \u001b[0mrequest\u001b[0m\u001b[0;34m,\u001b[0m \u001b[0mparent\u001b[0m\u001b[0;34m=\u001b[0m\u001b[0mparent\u001b[0m\u001b[0;34m,\u001b[0m \u001b[0mexpect_reply\u001b[0m\u001b[0;34m=\u001b[0m\u001b[0;32mTrue\u001b[0m\u001b[0;34m\u001b[0m\u001b[0;34m\u001b[0m\u001b[0m\n\u001b[1;32m    175\u001b[0m   )\n\u001b[0;32m--> 176\u001b[0;31m   \u001b[0;32mreturn\u001b[0m \u001b[0mread_reply_from_input\u001b[0m\u001b[0;34m(\u001b[0m\u001b[0mrequest_id\u001b[0m\u001b[0;34m,\u001b[0m \u001b[0mtimeout_sec\u001b[0m\u001b[0;34m)\u001b[0m\u001b[0;34m\u001b[0m\u001b[0;34m\u001b[0m\u001b[0m\n\u001b[0m",
            "\u001b[0;32m/usr/local/lib/python3.10/dist-packages/google/colab/_message.py\u001b[0m in \u001b[0;36mread_reply_from_input\u001b[0;34m(message_id, timeout_sec)\u001b[0m\n\u001b[1;32m    101\u001b[0m     ):\n\u001b[1;32m    102\u001b[0m       \u001b[0;32mif\u001b[0m \u001b[0;34m'error'\u001b[0m \u001b[0;32min\u001b[0m \u001b[0mreply\u001b[0m\u001b[0;34m:\u001b[0m\u001b[0;34m\u001b[0m\u001b[0;34m\u001b[0m\u001b[0m\n\u001b[0;32m--> 103\u001b[0;31m         \u001b[0;32mraise\u001b[0m \u001b[0mMessageError\u001b[0m\u001b[0;34m(\u001b[0m\u001b[0mreply\u001b[0m\u001b[0;34m[\u001b[0m\u001b[0;34m'error'\u001b[0m\u001b[0;34m]\u001b[0m\u001b[0;34m)\u001b[0m\u001b[0;34m\u001b[0m\u001b[0;34m\u001b[0m\u001b[0m\n\u001b[0m\u001b[1;32m    104\u001b[0m       \u001b[0;32mreturn\u001b[0m \u001b[0mreply\u001b[0m\u001b[0;34m.\u001b[0m\u001b[0mget\u001b[0m\u001b[0;34m(\u001b[0m\u001b[0;34m'data'\u001b[0m\u001b[0;34m,\u001b[0m \u001b[0;32mNone\u001b[0m\u001b[0;34m)\u001b[0m\u001b[0;34m\u001b[0m\u001b[0;34m\u001b[0m\u001b[0m\n\u001b[1;32m    105\u001b[0m \u001b[0;34m\u001b[0m\u001b[0m\n",
            "\u001b[0;31mMessageError\u001b[0m: Error: credential propagation was unsuccessful"
          ]
        }
      ],
      "source": [
        "#Drive mount\n",
        "from google.colab import drive\n",
        "drive.mount('/content/drive')"
      ]
    },
    {
      "cell_type": "code",
      "execution_count": null,
      "metadata": {
        "id": "u8PQogp0yltI"
      },
      "outputs": [],
      "source": [
        "#Read document\n",
        "import pandas as pd\n",
        "df=pd.read_csv('/content/drive/MyDrive/Datasets/Dataset 1/United IMU Movements.csv')\n",
        "df"
      ]
    },
    {
      "cell_type": "markdown",
      "metadata": {
        "id": "L2VoazdSqCS_"
      },
      "source": [
        "## Dataset Information"
      ]
    },
    {
      "cell_type": "code",
      "execution_count": null,
      "metadata": {
        "id": "HYsCf4ev0_9m"
      },
      "outputs": [],
      "source": [
        "# Data information (rows and columns)\n",
        "df.info()\n",
        "df.shape"
      ]
    },
    {
      "cell_type": "code",
      "execution_count": null,
      "metadata": {
        "id": "Qtayunmg1dX1"
      },
      "outputs": [],
      "source": [
        "# Count of instances of every activity\n",
        "countOfActivities = df['Movimiento'].value_counts()\n",
        "countOfActivities.plot(kind='bar',title='Number of readings by Activity Type',figsize=(14,8),grid=True);"
      ]
    },
    {
      "cell_type": "code",
      "execution_count": null,
      "metadata": {
        "id": "AOVAqlZq10Is"
      },
      "outputs": [],
      "source": [
        "# Visualization\n",
        "\n",
        "import matplotlib.pyplot as plt\n",
        "labs = [\"AGx\",'AGy','AGz', 'AAx','AAy','AAz', 'AMx','AMy','AMz','FAx','FAy','FAz','FGx','FGy','FGz','FMx','FMy','FMz','HAx','HAy','HAz','HGx','HGy','HGz','HMx','HMy','HMz']\n",
        "\n",
        "def plot_activity(activity,df,start=0,stop=20):\n",
        "  # extractRowsOfActivity = (df['Movimiento'] == activity)  # Output will be true/false.\n",
        "  data = df[:] # data has only rows that are for the requested activity.\n",
        "  # data = data[['AAx','AAy','AAz','AGx','AGy','AGz','AMx','AMy','AMz','FAx','FAy','FAz','FGx','FGy','FGz','FMx','FMy','FMz','HAx','HAy','HAz','HGx','HGy','HGz','HMx','HMy','HMz']] # data has only the accelerometer columns of one IMU.\n",
        "  data = data[['AAx','AAy','AAz','AGx','AGy','AGz','AMx','AMy','AMz','FAx','FAy','FAz','FGx','FGy','FGz']] # data has only the accelerometer columns of one IMU.\n",
        "  data = data[start:stop]\n",
        "\n",
        "  ax = data.plot(subplots=True,figsize=(16,12)) # Plot accelerometer for the activity.\n",
        "  ax = ax.flat\n",
        "  fig = ax[0].get_figure()\n",
        "  for idx, x in enumerate(ax):\n",
        "    x.legend([labs[idx]], loc=\"upper left\")\n",
        "    x.set_yticks([])\n",
        "  plt.show()"
      ]
    },
    {
      "cell_type": "markdown",
      "metadata": {
        "id": "CJ_fSlPyqVyU"
      },
      "source": [
        "### Dataset information plot"
      ]
    },
    {
      "cell_type": "code",
      "execution_count": null,
      "metadata": {
        "id": "wNzof2ls3Z5_"
      },
      "outputs": [],
      "source": [
        "plot_activity('Extension',df)"
      ]
    },
    {
      "cell_type": "code",
      "execution_count": null,
      "metadata": {
        "id": "ClgAHo_58Dmb"
      },
      "outputs": [],
      "source": [
        "plot_activity('Flexion',df,100,500)"
      ]
    },
    {
      "cell_type": "markdown",
      "metadata": {
        "id": "soAFuWBl4gQc"
      },
      "source": [
        "### Feature Importance\n",
        "\n",
        "**Method:** Random Forest"
      ]
    },
    {
      "cell_type": "code",
      "execution_count": null,
      "metadata": {
        "id": "SV3zf5g14gQd"
      },
      "outputs": [],
      "source": [
        "df.iloc[:, 1:]"
      ]
    },
    {
      "cell_type": "code",
      "execution_count": null,
      "metadata": {
        "id": "XVUwU19V4gQd"
      },
      "outputs": [],
      "source": [
        "df.iloc[:, 0]"
      ]
    },
    {
      "cell_type": "code",
      "execution_count": null,
      "metadata": {
        "id": "q2fqTN7o4gQe"
      },
      "outputs": [],
      "source": [
        "from sklearn.model_selection import train_test_split\n",
        "X, X_test, Y, Y_test = train_test_split(df.iloc[:, 2:], df.iloc[:, 0], test_size=.2,random_state=4)\n",
        "X_train, X_val, Y_train, Y_val = train_test_split(X, Y, test_size=.2,random_state=4)\n",
        "X_train.shape"
      ]
    },
    {
      "cell_type": "code",
      "execution_count": null,
      "metadata": {
        "id": "9dqJwQF84gQe"
      },
      "outputs": [],
      "source": [
        "# Import necessary libraries\n",
        "from sklearn.ensemble import RandomForestClassifier\n",
        "from sklearn.datasets import make_classification\n",
        "\n",
        "# Initialize the Random Forest Classifier\n",
        "clf = RandomForestClassifier(n_estimators=100)\n",
        "\n",
        "# Fit the model to the data\n",
        "clf.fit(X_train, Y_train)\n",
        "\n",
        "def list_importances(features, importances):\n",
        "  zipped = zip(features, importances)\n",
        "  df = pd.DataFrame(list(sorted(zipped, reverse=True, key = lambda x: x[1])), columns =['Features', 'Importance'])\n",
        "  return df\n",
        "\n",
        "features = list(df.columns)[2:]\n",
        "df_importance = list_importances(features, clf.feature_importances_)\n",
        "df_importance"
      ]
    },
    {
      "cell_type": "markdown",
      "metadata": {
        "id": "1Mol3Zm0qbnq"
      },
      "source": [
        "## Preprocessing\n",
        "\n",
        "- Normalizing the measurements to be between 0 and 1.\n",
        "- Transforming the measurements to be in a 3-D array of [samples, timesteps,features].\n",
        "- Hot encoding the activity names.\n",
        "- Breaking the 3-D array into a training and test dataset."
      ]
    },
    {
      "cell_type": "markdown",
      "metadata": {
        "id": "S0ukz8gYsgdW"
      },
      "source": [
        "### Data Normalization"
      ]
    },
    {
      "cell_type": "code",
      "execution_count": null,
      "metadata": {
        "id": "9o3VGvSY4Lya"
      },
      "outputs": [],
      "source": [
        "#NORMALIZATION\n",
        "\n",
        "from sklearn.preprocessing import MinMaxScaler\n",
        "mms = MinMaxScaler()\n",
        "df['AAx_mms'] = mms.fit_transform(df[['AAx']])\n",
        "df['AAy_mms'] = mms.fit_transform(df[['AAy']])\n",
        "df['AAz_mms'] = mms.fit_transform(df[['AAz']])\n",
        "\n",
        "df['AGx_mms'] = mms.fit_transform(df[['AGx']])\n",
        "df['AGy_mms'] = mms.fit_transform(df[['AGy']])\n",
        "df['AGz_mms'] = mms.fit_transform(df[['AGz']])\n",
        "\n",
        "df['AMx_mms'] = mms.fit_transform(df[['AMx']])\n",
        "df['AMy_mms'] = mms.fit_transform(df[['AMy']])\n",
        "df['AMz_mms'] = mms.fit_transform(df[['AMz']])\n",
        "\n",
        "df['FAx_mms'] = mms.fit_transform(df[['FAx']])\n",
        "df['FAy_mms'] = mms.fit_transform(df[['FAy']])\n",
        "df['FAz_mms'] = mms.fit_transform(df[['FAz']])\n",
        "\n",
        "df['FGx_mms'] = mms.fit_transform(df[['FGx']])\n",
        "df['FGy_mms'] = mms.fit_transform(df[['FGy']])\n",
        "df['FGz_mms'] = mms.fit_transform(df[['FGz']])\n",
        "\n",
        "df['FMx_mms'] = mms.fit_transform(df[['FMx']])\n",
        "df['FMy_mms'] = mms.fit_transform(df[['FMy']])\n",
        "df['FMz_mms'] = mms.fit_transform(df[['FMz']])\n",
        "\n",
        "df['HAx_mms'] = mms.fit_transform(df[['HAx']])\n",
        "df['HAy_mms'] = mms.fit_transform(df[['HAy']])\n",
        "df['HAz_mms'] = mms.fit_transform(df[['HAz']])\n",
        "\n",
        "df['HGx_mms'] = mms.fit_transform(df[['HGx']])\n",
        "df['HGy_mms'] = mms.fit_transform(df[['HGy']])\n",
        "df['HGz_mms'] = mms.fit_transform(df[['HGz']])\n",
        "\n",
        "df['HMx_mms'] = mms.fit_transform(df[['HMx']])\n",
        "df['HMy_mms'] = mms.fit_transform(df[['HMy']])\n",
        "df['HMz_mms'] = mms.fit_transform(df[['HMz']])\n",
        "\n",
        "df.describe().round(2)"
      ]
    },
    {
      "cell_type": "code",
      "execution_count": null,
      "metadata": {
        "id": "O5biTcP4c3pQ"
      },
      "outputs": [],
      "source": [
        "df"
      ]
    },
    {
      "cell_type": "code",
      "execution_count": null,
      "metadata": {
        "id": "ZFcagiUgiRlV"
      },
      "outputs": [],
      "source": [
        "def plot_activity_norm(activity,df,start=0,stop=20):\n",
        "  extractRowsOfActivity = (df['Movimiento'] == activity)  # Output will be true/false.\n",
        "  data = df[extractRowsOfActivity] # data has only rows that are for the requested activity.\n",
        "  data = data[['Ax1_mms','Ay1_mms','Az1_mms','Gx1_mms','Gy1_mms','Gz1_mms', 'Mx1_mms','My1_mms','Mz1_mms','Ax2_mms','Ay2_mms','Az2_mms','Gx2_mms','Gy2_mms','Gz2_mms', 'Mx2_mms','My2_mms','Mz2_mms', 'Ax3_mms','Ay3_mms','Az3_mms','Gx3_mms','Gy3_mms','Gz3_mms', 'Mx3_mms','My3_mms','Mz3_mms']] # data has only the accelerometer columns of one IMU.\n",
        "  data = data[start:stop]\n",
        "\n",
        "  ax = data.plot(subplots=True,figsize=(16,12),title=activity+ ', Start Row: '+str(start)+' Stop row: '+str(stop)) # Plot accelerometer for the activity."
      ]
    },
    {
      "cell_type": "code",
      "execution_count": null,
      "metadata": {
        "id": "-WEJL-1MhEAA"
      },
      "outputs": [],
      "source": [
        "plot_activity_norm('Extension',df)"
      ]
    },
    {
      "cell_type": "code",
      "execution_count": null,
      "metadata": {
        "id": "W1gsnIDuhEAA"
      },
      "outputs": [],
      "source": [
        "plot_activity_norm('Flexion',df,100,500)"
      ]
    },
    {
      "cell_type": "markdown",
      "metadata": {
        "id": "OnWx0M5js87G"
      },
      "source": [
        "### Transformation of dimensions as a 3D array\n",
        "\n",
        "Due to the low number of elements in the dataset, the number of samples was changed to 10, so that the final training and testing datasets do not have very few elements."
      ]
    },
    {
      "cell_type": "code",
      "execution_count": null,
      "metadata": {
        "id": "4V__LcXyGt4T"
      },
      "outputs": [],
      "source": [
        "# Az3\t0.127717\n",
        "# Mx3\t0.127032\n",
        "# Mz3\t0.126262\n",
        "# Ay3\t0.113951"
      ]
    },
    {
      "cell_type": "code",
      "execution_count": null,
      "metadata": {
        "id": "1oXw-Uie9FZm"
      },
      "outputs": [],
      "source": [
        "import numpy as np\n",
        "from scipy import stats\n",
        "#nSamplesInEach = 200\n",
        "nSamplesInEach = 10\n",
        "nFeatures = 4\n",
        "samples = []\n",
        "labels = []\n",
        "for i in range(0,len(df)-nSamplesInEach,nSamplesInEach):  # Collecting samples\n",
        "  # ax1 = df['AAx_mms'].values[i:i+nSamplesInEach]\n",
        "  # ay1 = df['AAy_mms'].values[i:i+nSamplesInEach]\n",
        "  # az1 = df['AAz_mms'].values[i:i+nSamplesInEach]\n",
        "\n",
        "  # gx1 = df['AGx_mms'].values[i:i+nSamplesInEach]\n",
        "  # gy1 = df['AGy_mms'].values[i:i+nSamplesInEach]\n",
        "  # gz1 = df['AGz_mms'].values[i:i+nSamplesInEach]\n",
        "\n",
        "  # mx1 = df['AMx_mms'].values[i:i+nSamplesInEach]\n",
        "  # my1 = df['AMy_mms'].values[i:i+nSamplesInEach]\n",
        "  # mz1 = df['AMz_mms'].values[i:i+nSamplesInEach]\n",
        "\n",
        "  # ax2 = df['FAx_mms'].values[i:i+nSamplesInEach]\n",
        "  # ay2 = df['FAy_mms'].values[i:i+nSamplesInEach]\n",
        "  # az2 = df['FAz_mms'].values[i:i+nSamplesInEach]\n",
        "\n",
        "  # gx2 = df['FGx_mms'].values[i:i+nSamplesInEach]\n",
        "  # gy2 = df['FGy_mms'].values[i:i+nSamplesInEach]\n",
        "  # gz2 = df['FGz_mms'].values[i:i+nSamplesInEach]\n",
        "\n",
        "  # mx2 = df['FMx_mms'].values[i:i+nSamplesInEach]\n",
        "  # my2 = df['FMy_mms'].values[i:i+nSamplesInEach]\n",
        "  # mz2 = df['FMz_mms'].values[i:i+nSamplesInEach]\n",
        "\n",
        "  # ax3 = df['HAx_mms'].values[i:i+nSamplesInEach]\n",
        "  ay3 = df['HAy_mms'].values[i:i+nSamplesInEach]\n",
        "  az3 = df['HAz_mms'].values[i:i+nSamplesInEach]\n",
        "\n",
        "  # gx3 = df['HGx_mms'].values[i:i+nSamplesInEach]\n",
        "  # gy3 = df['HGy_mms'].values[i:i+nSamplesInEach]\n",
        "  # gz3 = df['HGz_mms'].values[i:i+nSamplesInEach]\n",
        "\n",
        "  mx3 = df['HMx_mms'].values[i:i+nSamplesInEach]\n",
        "  # my3 = df['HMy_mms'].values[i:i+nSamplesInEach]\n",
        "  mz3 = df['HMz_mms'].values[i:i+nSamplesInEach]\n",
        "\n",
        "  label = stats.mode(df['Movimiento'][i:i+nSamplesInEach])\n",
        "  label = label[0][0]\n",
        "\n",
        "  # samples.append([ax1, ay1, az1, gx1, gy1, gz1, mx1, my1, mz1, ax2, ay2, az2, gx2, gy2, gz2, mx2, my2, mz2, ax3, ay3, az3, gx3, gy3, gz3, mx3, my3, mz3])\n",
        "  samples.append([ay3, az3, mx3, mz3])\n",
        "  labels.append(label)\n",
        "\n",
        "# Dimensions of resulting tensor\n",
        "np.array(samples).shape\n"
      ]
    },
    {
      "cell_type": "markdown",
      "metadata": {
        "id": "IGf2MHB6vCcM"
      },
      "source": [
        "### Reshape\n",
        "\n",
        "This is necessary so that the dimensions of the tensor are in the correct order, that is, to change the shape from (samples, features, timesteps) to (samples, timesteps, features)."
      ]
    },
    {
      "cell_type": "code",
      "execution_count": null,
      "metadata": {
        "id": "MzFDbedY-wA9"
      },
      "outputs": [],
      "source": [
        "#Reshape\n",
        "reshaped_s = np.array(samples).reshape(-1,nSamplesInEach,nFeatures)\n",
        "np.array(reshaped_s).shape"
      ]
    },
    {
      "cell_type": "code",
      "execution_count": null,
      "metadata": {
        "id": "TaNfAMNcn-qx"
      },
      "outputs": [],
      "source": [
        "# Length of datasrt after preprocessing\n",
        "print(len(reshaped_s))"
      ]
    },
    {
      "cell_type": "markdown",
      "source": [
        "### Label Encoding\n",
        "\n",
        "To make training easier, the labels are encoded to binary values, which are easier to process and map in a neural network."
      ],
      "metadata": {
        "id": "SUWPHVKCvYx0"
      }
    },
    {
      "cell_type": "code",
      "source": [
        "#Labels\n",
        "text_labels = labels[:]\n",
        "orig_labels = list(dict.fromkeys(labels)) # Get unique labels\n",
        "for i in range(len(text_labels)):\n",
        "  if text_labels[i] == \"Extension\":\n",
        "    text_labels[i] = 0\n",
        "  elif text_labels[i] == \"Flexion\":\n",
        "    text_labels[i] = 1\n",
        "  elif text_labels[i] == \"Pronacion\":\n",
        "    text_labels[i] = 2\n",
        "  else:\n",
        "    text_labels[i] = 3\n",
        "text_labels = np.array(text_labels)\n",
        "print(orig_labels)\n",
        "print(text_labels)"
      ],
      "metadata": {
        "id": "Ze4AqFLn_D_s"
      },
      "execution_count": null,
      "outputs": []
    },
    {
      "cell_type": "code",
      "source": [
        "labels = np.array(pd.get_dummies(labels))\n",
        "labels[:10]"
      ],
      "metadata": {
        "id": "7XZQ_MYKAX4Y"
      },
      "execution_count": null,
      "outputs": []
    },
    {
      "cell_type": "code",
      "source": [
        "# Identify unique encoded labels\n",
        "_, idx = np.unique(labels, axis=0, return_index=True)\n",
        "encoded_labels = labels[np.sort(idx)]\n",
        "print(encoded_labels)"
      ],
      "metadata": {
        "id": "bZ25WYUhm8eF"
      },
      "execution_count": null,
      "outputs": []
    },
    {
      "cell_type": "code",
      "source": [
        "# Shape of the label list\n",
        "labels.shape"
      ],
      "metadata": {
        "id": "MRIHpOXZAc8y"
      },
      "execution_count": null,
      "outputs": []
    },
    {
      "cell_type": "markdown",
      "metadata": {
        "id": "hekaGMStvwcW"
      },
      "source": [
        "## Creation of training, testing and validation splits\n",
        "\n"
      ]
    },
    {
      "cell_type": "code",
      "execution_count": null,
      "metadata": {
        "id": "MWMYJ8niAktf"
      },
      "outputs": [],
      "source": [
        "# Create a kfold object of 5 splits\n",
        "\n",
        "from sklearn.model_selection import KFold\n",
        "\n",
        "kfold = KFold(n_splits=5, shuffle=True, random_state=42)"
      ]
    },
    {
      "cell_type": "markdown",
      "metadata": {
        "id": "sr5CV0x14L5h"
      },
      "source": [
        "## Architectures"
      ]
    },
    {
      "cell_type": "markdown",
      "metadata": {
        "id": "nZxc32qm4L5x"
      },
      "source": [
        "### Architecture 1: LSTM(128) + Dropout + Fully Connected + Fully Connected\n",
        "\n",
        "Source: https://www.analyticsvidhya.com/blog/2021/07/implementing-lstm-for-human-activity-recognition-using-smartphone-accelerometer-data/"
      ]
    },
    {
      "cell_type": "code",
      "execution_count": null,
      "metadata": {
        "id": "7ILh4iSY4L5y"
      },
      "outputs": [],
      "source": [
        "from tensorflow import keras\n",
        "from keras.models import Sequential\n",
        "from keras.layers import Dense, Dropout, LSTM, Conv1D, MaxPooling1D, Flatten, Reshape"
      ]
    },
    {
      "cell_type": "markdown",
      "metadata": {
        "id": "4U-XU2D94L5y"
      },
      "source": [
        "This simple architecture uses a LSTM layer of 128 neurons to process the time series data, then a dropout layer to prevent overfitting, and two fully connected layers to map the information from previous layers to the 4 outputs.\n",
        "\n",
        "**Loss function:** Categorical Cross Entropy\n",
        "\n",
        "**Optimizer:** Adam"
      ]
    },
    {
      "cell_type": "code",
      "execution_count": null,
      "metadata": {
        "id": "_3EHmIZk4L5z"
      },
      "outputs": [],
      "source": [
        "def create_model(n_outputs):\n",
        "  model = Sequential()\n",
        "  # RNN layer\n",
        "  model.add(LSTM(units = 128, input_shape = (X_train.shape[1], X_train.shape[2])))\n",
        "  # Dropout layer\n",
        "  model.add(Dropout(0.5))\n",
        "  # Dense layer with ReLu\n",
        "  model.add(Dense(units = 64, activation='relu'))\n",
        "  # Softmax layer\n",
        "  model.add(Dense(n_outputs, activation = 'softmax'))\n",
        "\n",
        "  print(model.summary())\n",
        "  model.compile(loss='categorical_crossentropy', optimizer='adam', metrics=['accuracy'])\n",
        "\n",
        "  return model"
      ]
    },
    {
      "cell_type": "markdown",
      "metadata": {
        "id": "fVSjO_134L5z"
      },
      "source": [
        "#### Train the model\n",
        "\n",
        "Train the model for 50 epochs in mini-batches of 32 samples (because the dataset is small). This will be done for all the splits made by the kfold. This is 50 iterations over all samples in the `x_train` and `y_train` tensors."
      ]
    },
    {
      "cell_type": "code",
      "source": [
        "from sklearn.metrics import accuracy_score, log_loss, precision_score, recall_score, f1_score\n",
        "import tensorflow as tf\n",
        "\n",
        "# Initialization of train and test\n",
        "\n",
        "X = reshaped_s\n",
        "Y = labels"
      ],
      "metadata": {
        "id": "HhnsbX2Wn4Bi"
      },
      "execution_count": null,
      "outputs": []
    },
    {
      "cell_type": "code",
      "source": [
        "train_accuracies = []\n",
        "train_losses = []\n",
        "val_accuracies = []\n",
        "val_losses = []\n",
        "test_accuracies = []\n",
        "test_losses = []\n",
        "precisions = []\n",
        "recalls = []\n",
        "f1_scores = []\n",
        "\n",
        "for id, (train_index, test_index) in enumerate(kfold.split(X)):\n",
        "\n",
        "    print(f\"------------------------------------------ SPLIT {id + 1} -------------------------------------------\")\n",
        "\n",
        "    X_train, X_test = X[train_index], X[test_index]\n",
        "    Y_train, Y_test = Y[train_index], Y[test_index]\n",
        "\n",
        "    print(f\"X train length: {len(X_train)}    X test length: {len(X_test)}\")\n",
        "    print(f\"y train length: {len(Y_train)}    y test length: {len(Y_test)}\")\n",
        "\n",
        "    # Get the input shape -> (samples, time steps, features)\n",
        "    n_timesteps, n_features, n_outputs = X_train.shape[1], X_train.shape[2], Y_train.shape[1]\n",
        "    print('n_timesteps: {}, n_features: {}, n_outputs: {}'.format(n_timesteps,n_features, n_outputs))\n",
        "\n",
        "    model = create_model(n_outputs)\n",
        "\n",
        "    history = model.fit(X_train, Y_train, validation_split=0.15, epochs = 50, batch_size = 32, verbose = 0)\n",
        "    history_dict = history.history\n",
        "\n",
        "    # Get the historical values for accuracies and losses\n",
        "\n",
        "    acc = history_dict['accuracy']\n",
        "    vacc = history_dict['val_accuracy']\n",
        "    loss = history_dict['loss']\n",
        "    vloss = history_dict['val_loss']\n",
        "\n",
        "    # Save the last values for accuracies and losses for comparison\n",
        "\n",
        "    train_acc = acc[-1]\n",
        "    val_acc = vacc[-1]\n",
        "    train_loss = loss[-1]\n",
        "    val_loss = vloss[-1]\n",
        "\n",
        "    train_accuracies.append(train_acc)\n",
        "    val_accuracies.append(val_acc)\n",
        "    train_losses.append(train_loss)\n",
        "    val_losses.append(val_loss)\n",
        "\n",
        "    Y_pred = model.predict(X_test)\n",
        "    Y_pred = tf.argmax(Y_pred, axis=1)\n",
        "    Y_test_flat = []\n",
        "\n",
        "    for encoding in Y_test:\n",
        "      index = int(np.where(encoding == 1)[0])\n",
        "      Y_test_flat.append(index)\n",
        "\n",
        "    Y_test = tf.constant(Y_test_flat)\n",
        "\n",
        "    test_acc = accuracy_score(Y_test, Y_pred)\n",
        "    test_loss = log_loss(Y_test, model.predict(X_test))\n",
        "    precision = precision_score(Y_test, Y_pred, average = 'weighted')\n",
        "    recall = recall_score(Y_test, Y_pred, average = 'weighted')\n",
        "    f1score = f1_score(Y_test, Y_pred, average = 'weighted')\n",
        "\n",
        "    test_accuracies.append(test_acc)\n",
        "    test_losses.append(test_loss)\n",
        "    precisions.append(precision)\n",
        "    recalls.append(recall)\n",
        "    f1_scores.append(f1score)\n",
        "\n",
        "    print(\"Train Accuracy: \", train_acc)\n",
        "    print(\"Train Loss: \", train_loss)\n",
        "    print(\"Validation Accuracy: \", val_acc)\n",
        "    print(\"Validation Loss: \", val_loss)\n",
        "    print(\"Test Accuracy: \", test_acc)\n",
        "    print(\"Test Loss: \", test_loss)\n",
        "    print(\"Precision: \", precision)\n",
        "    print(\"Recall: \", recall)\n",
        "    print(\"F1 score: \", f1score)\n",
        "    print(f\"-----------------------------------------------------------------------------------------------\\n\")\n",
        "\n",
        "arch1_train_acc = np.mean(train_accuracies)\n",
        "arch1_train_loss = np.mean(train_losses)\n",
        "arch1_val_acc = np.mean(val_accuracies)\n",
        "arch1_val_loss = np.mean(val_losses)\n",
        "arch1_test_acc = np.mean(test_accuracies)\n",
        "arch1_test_loss = np.mean(test_losses)\n",
        "arch1_precision = np.mean(precisions)\n",
        "arch1_recall = np.mean(recalls)\n",
        "arch1_f1_score = np.mean(f1_scores)\n",
        "\n",
        "print(\"Mean Train Accuracy: %.2f%% (+/- %.2f%%)\" % (arch1_train_acc * 100, np.std(train_accuracies) * 100))\n",
        "print(\"Mean Train Loss: %.2f%%\" % (arch1_train_loss * 100))\n",
        "print(\"Mean Validation Accuracy: %.2f%% (+/- %.2f%%)\" % (arch1_val_acc * 100, np.std(val_accuracies) * 100))\n",
        "print(\"Mean Validation Loss: %.2f%%\" % (arch1_val_loss * 100))\n",
        "print(\"Mean Test Accuracy: %.2f%% (+/- %.2f%%)\" % (arch1_test_acc * 100, np.std(test_accuracies) * 100))\n",
        "print(\"Mean Test Loss: %.2f%%\" % (arch1_test_loss * 100))\n",
        "print(\"Mean Precision: %.2f%% (+/- %.2f%%)\" % (arch1_precision * 100, np.std(precisions) * 100))\n",
        "print(\"Mean Recall: %.2f%% (+/- %.2f%%)\" % (arch1_recall * 100, np.std(recalls) * 100))\n",
        "print(\"Mean F1 score: %.2f%% (+/- %.2f%%)\" % (arch1_f1_score * 100, np.std(f1_scores) * 100))"
      ],
      "metadata": {
        "id": "IAibG35a_hV_"
      },
      "execution_count": null,
      "outputs": []
    },
    {
      "cell_type": "markdown",
      "metadata": {
        "id": "qqbCYy-p4L51"
      },
      "source": [
        "#### Create a graph of accuracy and loss over time"
      ]
    },
    {
      "cell_type": "code",
      "execution_count": null,
      "metadata": {
        "id": "gFyVDmj44L51"
      },
      "outputs": [],
      "source": [
        "import matplotlib.pyplot as plt\n",
        "\n",
        "epochs = range(1, len(acc) + 1)\n",
        "\n",
        "# Create 7 subplots in a grid with 3 rows and 3 columns\n",
        "fig, axes = plt.subplots(nrows=2, ncols=4, figsize=(25, 10))\n",
        "\n",
        "axes[0, 0].plot(epochs, acc, 'r', label='Training Accuracy')\n",
        "axes[0, 0].plot(epochs, vacc, 'm', label='Validation Accuracy')\n",
        "axes[0, 0].plot(epochs, loss, 'g', label='Training loss')\n",
        "axes[0, 0].plot(epochs, vloss, 'b', label='Validation loss')\n",
        "axes[0, 0].set_title(\"Architecture 1\")\n",
        "axes[0, 0].set_xlabel('Epochs')\n",
        "axes[0, 0].set_ylabel('Loss')\n",
        "axes[0, 0].legend()"
      ]
    },
    {
      "cell_type": "markdown",
      "metadata": {
        "id": "lHwmr4304L52"
      },
      "source": [
        "### Architecture 2: LSTM(128) + Dropout + LSTM(64) + Dropout + Fully Connected\n",
        "\n",
        "Source: https://github.com/srvds/Human-Activity-Recognition"
      ]
    },
    {
      "cell_type": "markdown",
      "metadata": {
        "id": "nQjnRyRW4L52"
      },
      "source": [
        "This architecture uses a LSTM layer of 128 neurons to process the time series data, then a dropout layer to prevent overfitting, another LSTM and another dropout layer for improving the previous architecture, and a fully connected layer to map the information from previous layers to the 4 outputs."
      ]
    },
    {
      "cell_type": "code",
      "execution_count": null,
      "metadata": {
        "id": "ZFORBXn54L53"
      },
      "outputs": [],
      "source": [
        "def create_model(n_outputs):\n",
        "  # Initiliazing the sequential model\n",
        "  model = keras.Sequential()\n",
        "  # Add LSTM layer\n",
        "  model.add(LSTM(128, return_sequences=True, input_shape=(X_train.shape[1], X_train.shape[2])))\n",
        "  # Adding a dropout layer\n",
        "  model.add(Dropout(0.5))\n",
        "  # Add another LSTM layer\n",
        "  model.add(LSTM(64))\n",
        "  # Adding a dropout layer\n",
        "  model.add(Dropout(0.5))\n",
        "  # Adding a dense output layer with sigmoid activation\n",
        "  model.add(Dense(n_outputs, activation='sigmoid'))\n",
        "\n",
        "  print(model.summary())\n",
        "\n",
        "  #lost function and optimizer\n",
        "  model.compile(loss='categorical_crossentropy', optimizer='adam', metrics=['accuracy'])\n",
        "  return model"
      ]
    },
    {
      "cell_type": "markdown",
      "metadata": {
        "id": "3ZhRU_9W4L53"
      },
      "source": [
        "#### Evaluate the model"
      ]
    },
    {
      "cell_type": "code",
      "execution_count": null,
      "metadata": {
        "id": "YicuaXIC4L56"
      },
      "outputs": [],
      "source": [
        "train_accuracies = []\n",
        "train_losses = []\n",
        "val_accuracies = []\n",
        "val_losses = []\n",
        "test_accuracies = []\n",
        "test_losses = []\n",
        "precisions = []\n",
        "recalls = []\n",
        "f1_scores = []\n",
        "\n",
        "for id, (train_index, test_index) in enumerate(kfold.split(X)):\n",
        "\n",
        "    print(f\"------------------------------------------ SPLIT {id + 1} -------------------------------------------\")\n",
        "\n",
        "    X_train, X_test = X[train_index], X[test_index]\n",
        "    Y_train, Y_test = Y[train_index], Y[test_index]\n",
        "\n",
        "    print(f\"X train length: {len(X_train)}    X test length: {len(X_test)}\")\n",
        "    print(f\"y train length: {len(Y_train)}    y test length: {len(Y_test)}\")\n",
        "\n",
        "    # Get the input shape -> (samples, time steps, features)\n",
        "    n_timesteps, n_features, n_outputs = X_train.shape[1], X_train.shape[2], Y_train.shape[1]\n",
        "    print('n_timesteps: {}, n_features: {}, n_outputs: {}'.format(n_timesteps,n_features, n_outputs))\n",
        "\n",
        "    model = create_model(n_outputs)\n",
        "\n",
        "    history = model.fit(X_train, Y_train, epochs = 50, validation_split=0.15, batch_size = 32, verbose = 0)\n",
        "    history_dict = history.history\n",
        "\n",
        "    # Get the historical values for accuracies and losses\n",
        "\n",
        "    acc = history_dict['accuracy']\n",
        "    vacc = history_dict['val_accuracy']\n",
        "    loss = history_dict['loss']\n",
        "    vloss = history_dict['val_loss']\n",
        "\n",
        "    # Save the last values for accuracies and losses for comparison\n",
        "\n",
        "    train_acc = acc[-1]\n",
        "    val_acc = vacc[-1]\n",
        "    train_loss = loss[-1]\n",
        "    val_loss = vloss[-1]\n",
        "\n",
        "    train_accuracies.append(train_acc)\n",
        "    val_accuracies.append(val_acc)\n",
        "    train_losses.append(train_loss)\n",
        "    val_losses.append(val_loss)\n",
        "\n",
        "    Y_pred = model.predict(X_test)\n",
        "    Y_pred = tf.argmax(Y_pred, axis=1)\n",
        "    Y_test_flat = []\n",
        "\n",
        "    for encoding in Y_test:\n",
        "      index = int(np.where(encoding == 1)[0])\n",
        "      Y_test_flat.append(index)\n",
        "\n",
        "    Y_test = tf.constant(Y_test_flat)\n",
        "\n",
        "    test_acc = accuracy_score(Y_test, Y_pred)\n",
        "    test_loss = log_loss(Y_test, model.predict(X_test))\n",
        "    precision = precision_score(Y_test, Y_pred, average = 'weighted')\n",
        "    recall = recall_score(Y_test, Y_pred, average = 'weighted')\n",
        "    f1score = f1_score(Y_test, Y_pred, average = 'weighted')\n",
        "\n",
        "    test_accuracies.append(test_acc)\n",
        "    test_losses.append(test_loss)\n",
        "    precisions.append(precision)\n",
        "    recalls.append(recall)\n",
        "    f1_scores.append(f1score)\n",
        "\n",
        "    print(\"Train Accuracy: \", train_acc)\n",
        "    print(\"Train Loss: \", train_loss)\n",
        "    print(\"Validation Accuracy: \", val_acc)\n",
        "    print(\"Validation Loss: \", val_loss)\n",
        "    print(\"Test Accuracy: \", test_acc)\n",
        "    print(\"Test Loss: \", test_loss)\n",
        "    print(\"Precision: \", precision)\n",
        "    print(\"Recall: \", recall)\n",
        "    print(\"F1 score: \", f1score)\n",
        "    print(f\"-----------------------------------------------------------------------------------------------\\n\")\n",
        "\n",
        "arch2_train_acc = np.mean(train_accuracies)\n",
        "arch2_train_loss = np.mean(train_losses)\n",
        "arch2_val_acc = np.mean(val_accuracies)\n",
        "arch2_val_loss = np.mean(val_losses)\n",
        "arch2_test_acc = np.mean(test_accuracies)\n",
        "arch2_test_loss = np.mean(test_losses)\n",
        "arch2_precision = np.mean(precisions)\n",
        "arch2_recall = np.mean(recalls)\n",
        "arch2_f1_score = np.mean(f1_scores)\n",
        "\n",
        "print(\"Mean Train Accuracy: %.2f%% (+/- %.2f%%)\" % (arch2_train_acc * 100, np.std(train_accuracies) * 100))\n",
        "print(\"Mean Train Loss: %.2f%%\" % (arch2_train_loss * 100))\n",
        "print(\"Mean Validation Accuracy: %.2f%% (+/- %.2f%%)\" % (arch2_val_acc * 100, np.std(val_accuracies) * 100))\n",
        "print(\"Mean Validation Loss: %.2f%%\" % (arch2_val_loss * 100))\n",
        "print(\"Mean Test Accuracy: %.2f%% (+/- %.2f%%)\" % (arch2_test_acc * 100, np.std(test_accuracies) * 100))\n",
        "print(\"Mean Test Loss: %.2f%%\" % (arch2_test_loss * 100))\n",
        "print(\"Mean Precision: %.2f%% (+/- %.2f%%)\" % (arch2_precision * 100, np.std(precisions) * 100))\n",
        "print(\"Mean Recall: %.2f%% (+/- %.2f%%)\" % (arch2_recall * 100, np.std(recalls) * 100))\n",
        "print(\"Mean F1 score: %.2f%% (+/- %.2f%%)\" % (arch2_f1_score * 100, np.std(f1_scores) * 100))"
      ]
    },
    {
      "cell_type": "markdown",
      "metadata": {
        "id": "cplpQg594L56"
      },
      "source": [
        "#### Create a graph of accuracy and loss over time"
      ]
    },
    {
      "cell_type": "code",
      "execution_count": null,
      "metadata": {
        "id": "-PJJEGFc4L57"
      },
      "outputs": [],
      "source": [
        "epochs = range(1, len(acc) + 1)\n",
        "\n",
        "axes[0, 1].plot(epochs, acc , 'r', label='Training Accuracy')\n",
        "axes[0, 1].plot(epochs, vacc , 'm', label='Validation Accuracy')\n",
        "axes[0, 1].plot(epochs, loss, 'g', label='Training loss')\n",
        "axes[0, 1].plot(epochs, vloss, 'b', label='Validation loss')\n",
        "axes[0, 1].set_title(\"Architecture 2\")\n",
        "axes[0, 1].set_xlabel('Epochs')\n",
        "axes[0, 1].set_ylabel('Loss')\n",
        "axes[0, 1].legend()"
      ]
    },
    {
      "cell_type": "markdown",
      "metadata": {
        "id": "fGkJMjB14L57"
      },
      "source": [
        "### Architecture 3: Conv1D(64) + Conv1D(64) + Dropout + Max Pooling + Flatten + Fully Connected + Fully Connected\n",
        "\n",
        "Source: https://github.com/CDAC-lab/ETFA-Workshop/blob/main/CNN%20and%20LSTM%20for%20Human%20Activity%20Recognition.ipynb"
      ]
    },
    {
      "cell_type": "markdown",
      "metadata": {
        "id": "DsF3HxnO4L58"
      },
      "source": [
        "This architecture focuses on convolutional neural networks. The first two layers are 1D convolutions of 64 filters, then a dropout layer to prevent overfitting, a max pooling layer to reduce dimensionality, a flatten layer to use dense layers, and two fully connected layers to map the information from previous layers to the 4 outputs."
      ]
    },
    {
      "cell_type": "code",
      "execution_count": null,
      "metadata": {
        "id": "Wfo5LPyk4L58"
      },
      "outputs": [],
      "source": [
        "def create_model(n_outputs):\n",
        "\n",
        "  # Define the model\n",
        "  model = keras.Sequential()\n",
        "\n",
        "  # Add a 1D Convolutional layer with 32 filters and a kernel size of 3\n",
        "  model.add(Conv1D(filters=64, kernel_size=4, activation='relu', input_shape=(n_timesteps,n_features)))\n",
        "\n",
        "  # Add a 1D Convolutional layer with 64 filters and a kernel size of 3\n",
        "  model.add(Conv1D(filters=64, kernel_size=4, activation='relu', input_shape=(n_timesteps,n_features)))\n",
        "\n",
        "  # Add a dropout layer with a rate of 0.5\n",
        "  model.add(Dropout(rate=0.5))\n",
        "\n",
        "  # Add a Max Pooling layer with a pool size of 2\n",
        "  model.add(MaxPooling1D(pool_size=2))\n",
        "\n",
        "  # Add a Flatten layer\n",
        "  model.add(Flatten())\n",
        "\n",
        "  # Add a fully connected layer\n",
        "  model.add(Dense(units=100, activation='relu'))\n",
        "\n",
        "  # Add an output layer\n",
        "  model.add(Dense(units=n_outputs, activation='softmax'))\n",
        "\n",
        "  print(model.summary())\n",
        "\n",
        "  model.compile(loss='categorical_crossentropy', optimizer='adam', metrics=['accuracy'])\n",
        "  return model"
      ]
    },
    {
      "cell_type": "markdown",
      "metadata": {
        "id": "pA_AC06v4L59"
      },
      "source": [
        "#### Evaluate the model"
      ]
    },
    {
      "cell_type": "code",
      "execution_count": null,
      "metadata": {
        "id": "9YHqjkma4L59"
      },
      "outputs": [],
      "source": [
        "train_accuracies = []\n",
        "train_losses = []\n",
        "val_accuracies = []\n",
        "val_losses = []\n",
        "test_accuracies = []\n",
        "test_losses = []\n",
        "precisions = []\n",
        "recalls = []\n",
        "f1_scores = []\n",
        "\n",
        "for id, (train_index, test_index) in enumerate(kfold.split(X)):\n",
        "\n",
        "    print(f\"------------------------------------------ SPLIT {id + 1} -------------------------------------------\")\n",
        "\n",
        "    X_train, X_test = X[train_index], X[test_index]\n",
        "    Y_train, Y_test = Y[train_index], Y[test_index]\n",
        "\n",
        "    print(f\"X train length: {len(X_train)}    X test length: {len(X_test)}\")\n",
        "    print(f\"y train length: {len(Y_train)}    y test length: {len(Y_test)}\")\n",
        "\n",
        "    # Get the input shape -> (samples, time steps, features)\n",
        "    n_timesteps, n_features, n_outputs = X_train.shape[1], X_train.shape[2], Y_train.shape[1]\n",
        "    print('n_timesteps: {}, n_features: {}, n_outputs: {}'.format(n_timesteps,n_features, n_outputs))\n",
        "\n",
        "    model = create_model(n_outputs)\n",
        "\n",
        "    history = model.fit(X_train, Y_train, validation_split=0.15, epochs = 50, batch_size = 32, verbose = 0)\n",
        "    history_dict = history.history\n",
        "\n",
        "    # Get the historical values for accuracies and losses\n",
        "\n",
        "    acc = history_dict['accuracy']\n",
        "    vacc = history_dict['val_accuracy']\n",
        "    loss = history_dict['loss']\n",
        "    vloss = history_dict['val_loss']\n",
        "\n",
        "    # Save the last values for accuracies and losses for comparison\n",
        "\n",
        "    train_acc = acc[-1]\n",
        "    val_acc = vacc[-1]\n",
        "    train_loss = loss[-1]\n",
        "    val_loss = vloss[-1]\n",
        "\n",
        "    train_accuracies.append(train_acc)\n",
        "    val_accuracies.append(val_acc)\n",
        "    train_losses.append(train_loss)\n",
        "    val_losses.append(val_loss)\n",
        "\n",
        "    Y_pred = model.predict(X_test)\n",
        "    Y_pred = tf.argmax(Y_pred, axis=1)\n",
        "    Y_test_flat = []\n",
        "\n",
        "    for encoding in Y_test:\n",
        "      index = int(np.where(encoding == 1)[0])\n",
        "      Y_test_flat.append(index)\n",
        "\n",
        "    Y_test = tf.constant(Y_test_flat)\n",
        "\n",
        "    test_acc = accuracy_score(Y_test, Y_pred)\n",
        "    test_loss = log_loss(Y_test, model.predict(X_test))\n",
        "    precision = precision_score(Y_test, Y_pred, average = 'weighted')\n",
        "    recall = recall_score(Y_test, Y_pred, average = 'weighted')\n",
        "    f1score = f1_score(Y_test, Y_pred, average = 'weighted')\n",
        "\n",
        "    test_accuracies.append(test_acc)\n",
        "    test_losses.append(test_loss)\n",
        "    precisions.append(precision)\n",
        "    recalls.append(recall)\n",
        "    f1_scores.append(f1score)\n",
        "\n",
        "    print(\"Train Accuracy: \", train_acc)\n",
        "    print(\"Train Loss: \", train_loss)\n",
        "    print(\"Validation Accuracy: \", val_acc)\n",
        "    print(\"Validation Loss: \", val_loss)\n",
        "    print(\"Test Accuracy: \", test_acc)\n",
        "    print(\"Test Loss: \", test_loss)\n",
        "    print(\"Precision: \", precision)\n",
        "    print(\"Recall: \", recall)\n",
        "    print(\"F1 score: \", f1score)\n",
        "    print(f\"-----------------------------------------------------------------------------------------------\\n\")\n",
        "\n",
        "arch3_train_acc = np.mean(train_accuracies)\n",
        "arch3_train_loss = np.mean(train_losses)\n",
        "arch3_val_acc = np.mean(val_accuracies)\n",
        "arch3_val_loss = np.mean(val_losses)\n",
        "arch3_test_acc = np.mean(test_accuracies)\n",
        "arch3_test_loss = np.mean(test_losses)\n",
        "arch3_precision = np.mean(precisions)\n",
        "arch3_recall = np.mean(recalls)\n",
        "arch3_f1_score = np.mean(f1_scores)\n",
        "\n",
        "print(\"Mean Train Accuracy: %.2f%% (+/- %.2f%%)\" % (arch3_train_acc * 100, np.std(train_accuracies) * 100))\n",
        "print(\"Mean Train Loss: %.2f%%\" % (arch3_train_loss * 100))\n",
        "print(\"Mean Validation Accuracy: %.2f%% (+/- %.2f%%)\" % (arch3_val_acc * 100, np.std(val_accuracies) * 100))\n",
        "print(\"Mean Validation Loss: %.2f%%\" % (arch3_val_loss * 100))\n",
        "print(\"Mean Test Accuracy: %.2f%% (+/- %.2f%%)\" % (arch3_test_acc * 100, np.std(test_accuracies) * 100))\n",
        "print(\"Mean Test Loss: %.2f%%\" % (arch3_test_loss * 100))\n",
        "print(\"Mean Precision: %.2f%% (+/- %.2f%%)\" % (arch3_precision * 100, np.std(precisions) * 100))\n",
        "print(\"Mean Recall: %.2f%% (+/- %.2f%%)\" % (arch3_recall * 100, np.std(recalls) * 100))\n",
        "print(\"Mean F1 score: %.2f%% (+/- %.2f%%)\" % (arch3_f1_score * 100, np.std(f1_scores) * 100))"
      ]
    },
    {
      "cell_type": "markdown",
      "metadata": {
        "id": "3Z7_yUFm4L5-"
      },
      "source": [
        "#### Create a graph of accuracy and loss over time"
      ]
    },
    {
      "cell_type": "code",
      "execution_count": null,
      "metadata": {
        "id": "g6Tu3y2X4L5-"
      },
      "outputs": [],
      "source": [
        "epochs = range(1, len(acc) + 1)\n",
        "\n",
        "axes[0, 2].plot(epochs, acc , 'r', label='Training Accuracy')\n",
        "axes[0, 2].plot(epochs, vacc, 'm', label='Validation Accuracy')\n",
        "axes[0, 2].plot(epochs, loss, 'g', label='Training loss')\n",
        "axes[0, 2].plot(epochs, vloss, 'b', label='Validation loss')\n",
        "axes[0, 2].set_title(\"Architecture 3\")\n",
        "axes[0, 2].set_xlabel('Epochs')\n",
        "axes[0, 2].set_ylabel('Loss')\n",
        "axes[0, 2].legend()"
      ]
    },
    {
      "cell_type": "markdown",
      "metadata": {
        "id": "X12COR144L5_"
      },
      "source": [
        "### Architecture 4: Conv1D(32) + Max Pooling + LSTM(128) + Dropout + Fully Connected + Fully Connected\n",
        "\n",
        "Source: None, the network was done empyrically"
      ]
    },
    {
      "cell_type": "markdown",
      "metadata": {
        "id": "iPWToZ5n4L5_"
      },
      "source": [
        "This architecture uses a 1D convolutional layer of 32 filters, then a max pooling layer to reduce dimensionality, a LSTM layer of 128 units, a dropout layer to prevent overfitting, and two fully connected layers to map the information from previous layers to the 4 outputs."
      ]
    },
    {
      "cell_type": "code",
      "execution_count": null,
      "metadata": {
        "id": "hUdgEpBn4L6A"
      },
      "outputs": [],
      "source": [
        "def create_model(n_outputs):\n",
        "\n",
        "  # Define the model\n",
        "  model = keras.Sequential()\n",
        "\n",
        "  # Add a 1D Convolutional layer with 32 filters and a kernel size of 3\n",
        "  model.add(Conv1D(filters=32, kernel_size=3, activation='relu', input_shape=(n_timesteps, n_features)))\n",
        "\n",
        "  # Add a Max Pooling layer with a pool size of 2\n",
        "  model.add(MaxPooling1D(pool_size=2))\n",
        "\n",
        "  # Add an LSTM layer with 128 units\n",
        "  model.add(LSTM(units=128))\n",
        "\n",
        "  # Add a dropout layer with a rate of 0.5\n",
        "  model.add(Dropout(rate=0.5))\n",
        "\n",
        "  # Add a fully connected layer\n",
        "  model.add(Dense(units=64, activation='relu'))\n",
        "\n",
        "  # Add an output layer\n",
        "  model.add(Dense(units=n_outputs, activation='softmax'))\n",
        "\n",
        "  print(model.summary())\n",
        "\n",
        "  model.compile(loss='categorical_crossentropy', optimizer='adam', metrics=['accuracy'])\n",
        "  return model"
      ]
    },
    {
      "cell_type": "markdown",
      "metadata": {
        "id": "tRvK4bBq4L6A"
      },
      "source": [
        "#### Evaluate the model"
      ]
    },
    {
      "cell_type": "code",
      "execution_count": null,
      "metadata": {
        "id": "U5Y6kXTl4L6B"
      },
      "outputs": [],
      "source": [
        "train_accuracies = []\n",
        "train_losses = []\n",
        "val_accuracies = []\n",
        "val_losses = []\n",
        "test_accuracies = []\n",
        "test_losses = []\n",
        "precisions = []\n",
        "recalls = []\n",
        "f1_scores = []\n",
        "\n",
        "for id, (train_index, test_index) in enumerate(kfold.split(X)):\n",
        "\n",
        "    print(f\"------------------------------------------ SPLIT {id + 1} -------------------------------------------\")\n",
        "\n",
        "    X_train, X_test = X[train_index], X[test_index]\n",
        "    Y_train, Y_test = Y[train_index], Y[test_index]\n",
        "\n",
        "    print(f\"X train length: {len(X_train)}    X test length: {len(X_test)}\")\n",
        "    print(f\"y train length: {len(Y_train)}    y test length: {len(Y_test)}\")\n",
        "\n",
        "    # Get the input shape -> (samples, time steps, features)\n",
        "    n_timesteps, n_features, n_outputs = X_train.shape[1], X_train.shape[2], Y_train.shape[1]\n",
        "    print('n_timesteps: {}, n_features: {}, n_outputs: {}'.format(n_timesteps,n_features, n_outputs))\n",
        "\n",
        "    model = create_model(n_outputs)\n",
        "\n",
        "    history = model.fit(X_train, Y_train, validation_split=0.15, epochs = 50, batch_size = 32, verbose = 0)\n",
        "    history_dict = history.history\n",
        "\n",
        "    # Get the historical values for accuracies and losses\n",
        "\n",
        "    acc = history_dict['accuracy']\n",
        "    vacc = history_dict['val_accuracy']\n",
        "    loss = history_dict['loss']\n",
        "    vloss = history_dict['val_loss']\n",
        "\n",
        "    # Save the last values for accuracies and losses for comparison\n",
        "\n",
        "    train_acc = acc[-1]\n",
        "    val_acc = vacc[-1]\n",
        "    train_loss = loss[-1]\n",
        "    val_loss = vloss[-1]\n",
        "\n",
        "    train_accuracies.append(train_acc)\n",
        "    val_accuracies.append(val_acc)\n",
        "    train_losses.append(train_loss)\n",
        "    val_losses.append(val_loss)\n",
        "\n",
        "    Y_pred = model.predict(X_test)\n",
        "    Y_pred = tf.argmax(Y_pred, axis=1)\n",
        "    Y_test_flat = []\n",
        "\n",
        "    for encoding in Y_test:\n",
        "      index = int(np.where(encoding == 1)[0])\n",
        "      Y_test_flat.append(index)\n",
        "\n",
        "    Y_test = tf.constant(Y_test_flat)\n",
        "\n",
        "    test_acc = accuracy_score(Y_test, Y_pred)\n",
        "    test_loss = log_loss(Y_test, model.predict(X_test))\n",
        "    precision = precision_score(Y_test, Y_pred, average = 'weighted')\n",
        "    recall = recall_score(Y_test, Y_pred, average = 'weighted')\n",
        "    f1score = f1_score(Y_test, Y_pred, average = 'weighted')\n",
        "\n",
        "    test_accuracies.append(test_acc)\n",
        "    test_losses.append(test_loss)\n",
        "    precisions.append(precision)\n",
        "    recalls.append(recall)\n",
        "    f1_scores.append(f1score)\n",
        "\n",
        "    print(\"Train Accuracy: \", train_acc)\n",
        "    print(\"Train Loss: \", train_loss)\n",
        "    print(\"Validation Accuracy: \", val_acc)\n",
        "    print(\"Validation Loss: \", val_loss)\n",
        "    print(\"Test Accuracy: \", test_acc)\n",
        "    print(\"Test Loss: \", test_loss)\n",
        "    print(\"Precision: \", precision)\n",
        "    print(\"Recall: \", recall)\n",
        "    print(\"F1 score: \", f1score)\n",
        "    print(f\"-----------------------------------------------------------------------------------------------\\n\")\n",
        "\n",
        "arch4_train_acc = np.mean(train_accuracies)\n",
        "arch4_train_loss = np.mean(train_losses)\n",
        "arch4_val_acc = np.mean(val_accuracies)\n",
        "arch4_val_loss = np.mean(val_losses)\n",
        "arch4_test_acc = np.mean(test_accuracies)\n",
        "arch4_test_loss = np.mean(test_losses)\n",
        "arch4_precision = np.mean(precisions)\n",
        "arch4_recall = np.mean(recalls)\n",
        "arch4_f1_score = np.mean(f1_scores)\n",
        "\n",
        "print(\"Mean Train Accuracy: %.2f%% (+/- %.2f%%)\" % (arch4_train_acc * 100, np.std(train_accuracies) * 100))\n",
        "print(\"Mean Train Loss: %.2f%%\" % (arch4_train_loss * 100))\n",
        "print(\"Mean Validation Accuracy: %.2f%% (+/- %.2f%%)\" % (arch4_val_acc * 100, np.std(val_accuracies) * 100))\n",
        "print(\"Mean Validation Loss: %.2f%%\" % (arch4_val_loss * 100))\n",
        "print(\"Mean Test Accuracy: %.2f%% (+/- %.2f%%)\" % (arch4_test_acc * 100, np.std(test_accuracies) * 100))\n",
        "print(\"Mean Test Loss: %.2f%%\" % (arch4_test_loss * 100))\n",
        "print(\"Mean Precision: %.2f%% (+/- %.2f%%)\" % (arch4_precision * 100, np.std(precisions) * 100))\n",
        "print(\"Mean Recall: %.2f%% (+/- %.2f%%)\" % (arch4_recall * 100, np.std(recalls) * 100))\n",
        "print(\"Mean F1 score: %.2f%% (+/- %.2f%%)\" % (arch4_f1_score * 100, np.std(f1_scores) * 100))"
      ]
    },
    {
      "cell_type": "markdown",
      "metadata": {
        "id": "h5I6yo7R4L6C"
      },
      "source": [
        "#### Create a graph of accuracy and loss over time"
      ]
    },
    {
      "cell_type": "code",
      "execution_count": null,
      "metadata": {
        "id": "QmgSA-j54L6D"
      },
      "outputs": [],
      "source": [
        "epochs = range(1, len(acc) + 1)\n",
        "\n",
        "axes[0, 3].plot(epochs, acc , 'r', label='Training Accuracy')\n",
        "axes[0, 3].plot(epochs, vacc, 'm', label='Validation Accuracy')\n",
        "axes[0, 3].plot(epochs, loss, 'g', label='Training loss')\n",
        "axes[0, 3].plot(epochs, vloss, 'b', label='Validation loss')\n",
        "axes[0, 3].set_title(\"Architecture 4\")\n",
        "axes[0, 3].set_xlabel('Epochs')\n",
        "axes[0, 3].set_ylabel('Loss')\n",
        "axes[0, 3].legend()"
      ]
    },
    {
      "cell_type": "markdown",
      "metadata": {
        "id": "QHolcJCi4L6E"
      },
      "source": [
        "### Architecture 5: Conv1D(32) + Conv1D(64) + Max Pooling + Bidirectional LSTM(128) + Dropout + Fully Connected + Fully Connected\n",
        "\n",
        "Source: One of the papers suggested using bidirectional LSTM as an improvement for HAR, the added convolutional layers are for testing"
      ]
    },
    {
      "cell_type": "markdown",
      "metadata": {
        "id": "zv_gYmKm4L6H"
      },
      "source": [
        "This architecture uses two layers of 1D convolutions, one using 32 filters and the other using 64 filters, then a max pooling layer to reduce dimensionality, a bidirectional LSTM of 128 neurons, a dropout layer to prevent overfitting, and two fully connected layers to map the information from previous layers to the 4 outputs."
      ]
    },
    {
      "cell_type": "code",
      "execution_count": null,
      "metadata": {
        "id": "7Bw1SIve4L6I"
      },
      "outputs": [],
      "source": [
        "from keras.layers import Bidirectional, Attention\n",
        "\n",
        "def create_model(n_outputs):\n",
        "\n",
        "  # Define the model\n",
        "  model = keras.Sequential()\n",
        "\n",
        "  # Add a 1D Convolutional layer with 32 filters and a kernel size of 3\n",
        "  model.add(Conv1D(filters=32, kernel_size=3, activation='relu', input_shape=(n_timesteps, n_features)))\n",
        "\n",
        "  # Add a second 1D Convolutional layer with 64 filters and a kernel size of 3\n",
        "  model.add(Conv1D(filters=64, kernel_size=3, activation='relu'))\n",
        "\n",
        "  # Add a Max Pooling layer with a pool size of 2\n",
        "  model.add(MaxPooling1D(pool_size=2))\n",
        "\n",
        "  # Add a bidirectional LSTM layer with 128 units\n",
        "  model.add(Bidirectional(LSTM(units=128)))\n",
        "\n",
        "  # Add a dropout layer with a rate of 0.5\n",
        "  model.add(Dropout(rate=0.5))\n",
        "\n",
        "  # Add a fully connected layer\n",
        "  model.add(Dense(units=64, activation='relu'))\n",
        "\n",
        "  # Add an output layer\n",
        "  model.add(Dense(units=n_outputs, activation='softmax'))\n",
        "\n",
        "  print(model.summary())\n",
        "\n",
        "  model.compile(loss='categorical_crossentropy', optimizer='adam', metrics=['accuracy'])\n",
        "  return model"
      ]
    },
    {
      "cell_type": "markdown",
      "metadata": {
        "id": "6r4_eUrJ4L6J"
      },
      "source": [
        "#### Evaluate the model"
      ]
    },
    {
      "cell_type": "code",
      "execution_count": null,
      "metadata": {
        "id": "P96k8LuF4L6J"
      },
      "outputs": [],
      "source": [
        "train_accuracies = []\n",
        "train_losses = []\n",
        "val_accuracies = []\n",
        "val_losses = []\n",
        "test_accuracies = []\n",
        "test_losses = []\n",
        "precisions = []\n",
        "recalls = []\n",
        "f1_scores = []\n",
        "\n",
        "for id, (train_index, test_index) in enumerate(kfold.split(X)):\n",
        "\n",
        "    print(f\"------------------------------------------ SPLIT {id + 1} -------------------------------------------\")\n",
        "\n",
        "    X_train, X_test = X[train_index], X[test_index]\n",
        "    Y_train, Y_test = Y[train_index], Y[test_index]\n",
        "\n",
        "    print(f\"X train length: {len(X_train)}    X test length: {len(X_test)}\")\n",
        "    print(f\"y train length: {len(Y_train)}    y test length: {len(Y_test)}\")\n",
        "\n",
        "    # Get the input shape -> (samples, time steps, features)\n",
        "    n_timesteps, n_features, n_outputs = X_train.shape[1], X_train.shape[2], Y_train.shape[1]\n",
        "    print('n_timesteps: {}, n_features: {}, n_outputs: {}'.format(n_timesteps,n_features, n_outputs))\n",
        "\n",
        "    model = create_model(n_outputs)\n",
        "\n",
        "    history = model.fit(X_train, Y_train, validation_split=0.15, epochs = 50, batch_size = 32, verbose = 0)\n",
        "    history_dict = history.history\n",
        "\n",
        "    # Get the historical values for accuracies and losses\n",
        "\n",
        "    acc = history_dict['accuracy']\n",
        "    vacc = history_dict['val_accuracy']\n",
        "    loss = history_dict['loss']\n",
        "    vloss = history_dict['val_loss']\n",
        "\n",
        "    # Save the last values for accuracies and losses for comparison\n",
        "\n",
        "    train_acc = acc[-1]\n",
        "    val_acc = vacc[-1]\n",
        "    train_loss = loss[-1]\n",
        "    val_loss = vloss[-1]\n",
        "\n",
        "    train_accuracies.append(train_acc)\n",
        "    val_accuracies.append(val_acc)\n",
        "    train_losses.append(train_loss)\n",
        "    val_losses.append(val_loss)\n",
        "\n",
        "    Y_pred = model.predict(X_test)\n",
        "    Y_pred = tf.argmax(Y_pred, axis=1)\n",
        "    Y_test_flat = []\n",
        "\n",
        "    for encoding in Y_test:\n",
        "      index = int(np.where(encoding == 1)[0])\n",
        "      Y_test_flat.append(index)\n",
        "\n",
        "    Y_test = tf.constant(Y_test_flat)\n",
        "\n",
        "    test_acc = accuracy_score(Y_test, Y_pred)\n",
        "    test_loss = log_loss(Y_test, model.predict(X_test))\n",
        "    precision = precision_score(Y_test, Y_pred, average = 'weighted')\n",
        "    recall = recall_score(Y_test, Y_pred, average = 'weighted')\n",
        "    f1score = f1_score(Y_test, Y_pred, average = 'weighted')\n",
        "\n",
        "    test_accuracies.append(test_acc)\n",
        "    test_losses.append(test_loss)\n",
        "    precisions.append(precision)\n",
        "    recalls.append(recall)\n",
        "    f1_scores.append(f1score)\n",
        "\n",
        "    print(\"Train Accuracy: \", train_acc)\n",
        "    print(\"Train Loss: \", train_loss)\n",
        "    print(\"Validation Accuracy: \", val_acc)\n",
        "    print(\"Validation Loss: \", val_loss)\n",
        "    print(\"Test Accuracy: \", test_acc)\n",
        "    print(\"Test Loss: \", test_loss)\n",
        "    print(\"Precision: \", precision)\n",
        "    print(\"Recall: \", recall)\n",
        "    print(\"F1 score: \", f1score)\n",
        "    print(f\"-----------------------------------------------------------------------------------------------\\n\")\n",
        "\n",
        "arch5_train_acc = np.mean(train_accuracies)\n",
        "arch5_train_loss = np.mean(train_losses)\n",
        "arch5_val_acc = np.mean(val_accuracies)\n",
        "arch5_val_loss = np.mean(val_losses)\n",
        "arch5_test_acc = np.mean(test_accuracies)\n",
        "arch5_test_loss = np.mean(test_losses)\n",
        "arch5_precision = np.mean(precisions)\n",
        "arch5_recall = np.mean(recalls)\n",
        "arch5_f1_score = np.mean(f1_scores)\n",
        "\n",
        "print(\"Mean Train Accuracy: %.2f%% (+/- %.2f%%)\" % (arch5_train_acc * 100, np.std(train_accuracies) * 100))\n",
        "print(\"Mean Train Loss: %.2f%%\" % (arch5_train_loss * 100))\n",
        "print(\"Mean Validation Accuracy: %.2f%% (+/- %.2f%%)\" % (arch5_val_acc * 100, np.std(val_accuracies) * 100))\n",
        "print(\"Mean Validation Loss: %.2f%%\" % (arch5_val_loss * 100))\n",
        "print(\"Mean Test Accuracy: %.2f%% (+/- %.2f%%)\" % (arch5_test_acc * 100, np.std(test_accuracies) * 100))\n",
        "print(\"Mean Test Loss: %.2f%%\" % (arch5_test_loss * 100))\n",
        "print(\"Mean Precision: %.2f%% (+/- %.2f%%)\" % (arch5_precision * 100, np.std(precisions) * 100))\n",
        "print(\"Mean Recall: %.2f%% (+/- %.2f%%)\" % (arch5_recall * 100, np.std(recalls) * 100))\n",
        "print(\"Mean F1 score: %.2f%% (+/- %.2f%%)\" % (arch5_f1_score * 100, np.std(f1_scores) * 100))"
      ]
    },
    {
      "cell_type": "markdown",
      "metadata": {
        "id": "PdgRgoj34L6L"
      },
      "source": [
        "#### Create a graph of accuracy and loss over time\n"
      ]
    },
    {
      "cell_type": "code",
      "execution_count": null,
      "metadata": {
        "id": "GQpaWVhq4L6M"
      },
      "outputs": [],
      "source": [
        "epochs = range(1, len(acc) + 1)\n",
        "\n",
        "axes[1, 0].plot(epochs, acc , 'r', label='Training Accuracy')\n",
        "axes[1, 0].plot(epochs, vacc, 'm', label='Validation Accuracy')\n",
        "axes[1, 0].plot(epochs, loss, 'g', label='Training loss')\n",
        "axes[1, 0].plot(epochs, vloss, 'b', label='Validation loss')\n",
        "axes[1, 0].set_title(\"Architecture 5\")\n",
        "axes[1, 0].set_xlabel('Epochs')\n",
        "axes[1, 0].set_ylabel('Loss')\n",
        "axes[1, 0].legend()"
      ]
    },
    {
      "cell_type": "markdown",
      "metadata": {
        "id": "ny7JG3F_4L6M"
      },
      "source": [
        "### Architecture 6: LSTM(128) + Dropout + Reshape + Conv1D(32) + Dropout + Flatten + Fully Connected + Fully Connected\n",
        "\n",
        "Source: Empyrical adaptation of the architechture of the model with convolutional layers at the start"
      ]
    },
    {
      "cell_type": "markdown",
      "metadata": {
        "id": "DUcrFSyZ4L6N"
      },
      "source": [
        "The sixth architecture starts with a LSTM layer, followed by a dropout layer to avoid overfitting and a reshape layer in order to use a convolutional layer. The next layer is a 1D convolution with 32 filters, followed by another dropout layer, and a flatter layer in order to use dense layers. The last two layers are fully connected layers in order to map the information from previous layers to the 4 outputs."
      ]
    },
    {
      "cell_type": "code",
      "execution_count": null,
      "metadata": {
        "id": "F5QxttbU4L6O"
      },
      "outputs": [],
      "source": [
        "def create_model(n_outputs):\n",
        "\n",
        "  # Define the model\n",
        "  model = keras.Sequential()\n",
        "\n",
        "  # Add an LSTM layer with 128 units\n",
        "  model.add(LSTM(units=128, input_shape=(n_timesteps, n_features)))\n",
        "\n",
        "  # Add a dropout layer with a rate of 0.5\n",
        "  model.add(Dropout(rate=0.5))\n",
        "\n",
        "  # Reshape the input data to the correct shape for the Conv1D layer\n",
        "  model.add(Reshape((-1, 128)))\n",
        "\n",
        "  # Add a 1D Convolutional layer with 32 filters and a kernel size of 3\n",
        "  model.add(Conv1D(filters=32, kernel_size=3, activation='relu', padding='causal'))\n",
        "\n",
        "  # Add a dropout layer with a rate of 0.5\n",
        "  model.add(Dropout(rate=0.5))\n",
        "\n",
        "  # Add a Flatten layer\n",
        "  model.add(Flatten())\n",
        "\n",
        "  # Add a fully connected layer\n",
        "  model.add(Dense(units=64, activation='relu'))\n",
        "\n",
        "  # Add an output layer\n",
        "  model.add(Dense(units=n_outputs, activation='softmax'))\n",
        "\n",
        "  print(model.summary())\n",
        "\n",
        "  model.compile(loss='categorical_crossentropy', optimizer='adam', metrics=['accuracy'])\n",
        "  return model"
      ]
    },
    {
      "cell_type": "markdown",
      "metadata": {
        "id": "5LeCHj104L6O"
      },
      "source": [
        "#### Evaluate the model"
      ]
    },
    {
      "cell_type": "code",
      "execution_count": null,
      "metadata": {
        "id": "w1eqESQf4L6P"
      },
      "outputs": [],
      "source": [
        "train_accuracies = []\n",
        "train_losses = []\n",
        "val_accuracies = []\n",
        "val_losses = []\n",
        "test_accuracies = []\n",
        "test_losses = []\n",
        "precisions = []\n",
        "recalls = []\n",
        "f1_scores = []\n",
        "\n",
        "for id, (train_index, test_index) in enumerate(kfold.split(X)):\n",
        "\n",
        "    print(f\"------------------------------------------ SPLIT {id + 1} -------------------------------------------\")\n",
        "\n",
        "    X_train, X_test = X[train_index], X[test_index]\n",
        "    Y_train, Y_test = Y[train_index], Y[test_index]\n",
        "\n",
        "    print(f\"X train length: {len(X_train)}    X test length: {len(X_test)}\")\n",
        "    print(f\"y train length: {len(Y_train)}    y test length: {len(Y_test)}\")\n",
        "\n",
        "    # Get the input shape -> (samples, time steps, features)\n",
        "    n_timesteps, n_features, n_outputs = X_train.shape[1], X_train.shape[2], Y_train.shape[1]\n",
        "    print('n_timesteps: {}, n_features: {}, n_outputs: {}'.format(n_timesteps,n_features, n_outputs))\n",
        "\n",
        "    model = create_model(n_outputs)\n",
        "\n",
        "    history = model.fit(X_train, Y_train, validation_split=0.15, epochs = 50, batch_size = 32, verbose = 0)\n",
        "    history_dict = history.history\n",
        "\n",
        "    # Get the historical values for accuracies and losses\n",
        "\n",
        "    acc = history_dict['accuracy']\n",
        "    vacc = history_dict['val_accuracy']\n",
        "    loss = history_dict['loss']\n",
        "    vloss = history_dict['val_loss']\n",
        "\n",
        "    # Save the last values for accuracies and losses for comparison\n",
        "\n",
        "    train_acc = acc[-1]\n",
        "    val_acc = vacc[-1]\n",
        "    train_loss = loss[-1]\n",
        "    val_loss = vloss[-1]\n",
        "\n",
        "    train_accuracies.append(train_acc)\n",
        "    val_accuracies.append(val_acc)\n",
        "    train_losses.append(train_loss)\n",
        "    val_losses.append(val_loss)\n",
        "\n",
        "    Y_pred = model.predict(X_test)\n",
        "    Y_pred = tf.argmax(Y_pred, axis=1)\n",
        "    Y_test_flat = []\n",
        "\n",
        "    for encoding in Y_test:\n",
        "      index = int(np.where(encoding == 1)[0])\n",
        "      Y_test_flat.append(index)\n",
        "\n",
        "    Y_test = tf.constant(Y_test_flat)\n",
        "\n",
        "    test_acc = accuracy_score(Y_test, Y_pred)\n",
        "    test_loss = log_loss(Y_test, model.predict(X_test))\n",
        "    precision = precision_score(Y_test, Y_pred, average = 'weighted')\n",
        "    recall = recall_score(Y_test, Y_pred, average = 'weighted')\n",
        "    f1score = f1_score(Y_test, Y_pred, average = 'weighted')\n",
        "\n",
        "    test_accuracies.append(test_acc)\n",
        "    test_losses.append(test_loss)\n",
        "    precisions.append(precision)\n",
        "    recalls.append(recall)\n",
        "    f1_scores.append(f1score)\n",
        "\n",
        "    print(\"Train Accuracy: \", train_acc)\n",
        "    print(\"Train Loss: \", train_loss)\n",
        "    print(\"Validation Accuracy: \", val_acc)\n",
        "    print(\"Validation Loss: \", val_loss)\n",
        "    print(\"Test Accuracy: \", test_acc)\n",
        "    print(\"Test Loss: \", test_loss)\n",
        "    print(\"Precision: \", precision)\n",
        "    print(\"Recall: \", recall)\n",
        "    print(\"F1 score: \", f1score)\n",
        "    print(f\"-----------------------------------------------------------------------------------------------\\n\")\n",
        "\n",
        "arch6_train_acc = np.mean(train_accuracies)\n",
        "arch6_train_loss = np.mean(train_losses)\n",
        "arch6_val_acc = np.mean(val_accuracies)\n",
        "arch6_val_loss = np.mean(val_losses)\n",
        "arch6_test_acc = np.mean(test_accuracies)\n",
        "arch6_test_loss = np.mean(test_losses)\n",
        "arch6_precision = np.mean(precisions)\n",
        "arch6_recall = np.mean(recalls)\n",
        "arch6_f1_score = np.mean(f1_scores)\n",
        "\n",
        "print(\"Mean Train Accuracy: %.2f%% (+/- %.2f%%)\" % (arch6_train_acc * 100, np.std(train_accuracies) * 100))\n",
        "print(\"Mean Train Loss: %.2f%%\" % (arch6_train_loss * 100))\n",
        "print(\"Mean Validation Accuracy: %.2f%% (+/- %.2f%%)\" % (arch6_val_acc * 100, np.std(val_accuracies) * 100))\n",
        "print(\"Mean Validation Loss: %.2f%%\" % (arch6_val_loss * 100))\n",
        "print(\"Mean Test Accuracy: %.2f%% (+/- %.2f%%)\" % (arch6_test_acc * 100, np.std(test_accuracies) * 100))\n",
        "print(\"Mean Test Loss: %.2f%%\" % (arch6_test_loss * 100))\n",
        "print(\"Mean Precision: %.2f%% (+/- %.2f%%)\" % (arch6_precision * 100, np.std(precisions) * 100))\n",
        "print(\"Mean Recall: %.2f%% (+/- %.2f%%)\" % (arch6_recall * 100, np.std(recalls) * 100))\n",
        "print(\"Mean F1 score: %.2f%% (+/- %.2f%%)\" % (arch6_f1_score * 100, np.std(f1_scores) * 100))"
      ]
    },
    {
      "cell_type": "markdown",
      "metadata": {
        "id": "hJ4F9ujy4L6Q"
      },
      "source": [
        "#### Create a graph of accuracy and loss over time"
      ]
    },
    {
      "cell_type": "code",
      "execution_count": null,
      "metadata": {
        "id": "TMG6VLU44L6R"
      },
      "outputs": [],
      "source": [
        "epochs = range(1, len(acc) + 1)\n",
        "\n",
        "axes[1, 1].plot(epochs, acc , 'r', label='Training Accuracy')\n",
        "axes[1, 1].plot(epochs, vacc, 'm', label='Validation Accuracy')\n",
        "axes[1, 1].plot(epochs, loss, 'g', label='Training loss')\n",
        "axes[1, 1].plot(epochs, vloss, 'b', label='Validation loss')\n",
        "axes[1, 1].set_title(\"Architecture 6\")\n",
        "axes[1, 1].set_xlabel('Epochs')\n",
        "axes[1, 1].set_ylabel('Loss')\n",
        "axes[1, 1].legend()"
      ]
    },
    {
      "cell_type": "markdown",
      "metadata": {
        "id": "1ddxsQEH4L6S"
      },
      "source": [
        "### Architecture 7: LSTM(64) + Dropout + Fully Connected + Fully Connected + Fully Connected\n",
        "\n",
        "Source: Empyrical"
      ]
    },
    {
      "cell_type": "markdown",
      "metadata": {
        "id": "dAY9U3EH4L6S"
      },
      "source": [
        "The final architecture is a very simple one, starting with a LSTM layer, followed by a dropout layer to avoid overfitting and three fully connected layers in order to map the information from previous layers to the 4 outputs."
      ]
    },
    {
      "cell_type": "code",
      "execution_count": null,
      "metadata": {
        "id": "dP0UhE744L6T"
      },
      "outputs": [],
      "source": [
        "def create_model(n_outputs):\n",
        "\n",
        "  model = keras.Sequential()\n",
        "  model.add(LSTM(64,input_shape=(n_timesteps,n_features)))\n",
        "  model.add(Dropout(0.5))\n",
        "  model.add(Dense(64,activation='relu'))\n",
        "  model.add(Dense(64,activation='relu'))\n",
        "  model.add(Dense(n_outputs, activation='softmax'))\n",
        "\n",
        "  print(model.summary())\n",
        "\n",
        "  model.compile(loss='categorical_crossentropy', optimizer='adam', metrics=['accuracy'])\n",
        "  return model"
      ]
    },
    {
      "cell_type": "markdown",
      "metadata": {
        "id": "GA8WDyfQ4L6U"
      },
      "source": [
        "#### Evaluate the model"
      ]
    },
    {
      "cell_type": "code",
      "execution_count": null,
      "metadata": {
        "id": "35hu94sw4L6U"
      },
      "outputs": [],
      "source": [
        "train_accuracies = []\n",
        "train_losses = []\n",
        "val_accuracies = []\n",
        "val_losses = []\n",
        "test_accuracies = []\n",
        "test_losses = []\n",
        "precisions = []\n",
        "recalls = []\n",
        "f1_scores = []\n",
        "\n",
        "for id, (train_index, test_index) in enumerate(kfold.split(X)):\n",
        "\n",
        "    print(f\"------------------------------------------ SPLIT {id + 1} -------------------------------------------\")\n",
        "\n",
        "    X_train, X_test = X[train_index], X[test_index]\n",
        "    Y_train, Y_test = Y[train_index], Y[test_index]\n",
        "\n",
        "    print(f\"X train length: {len(X_train)}    X test length: {len(X_test)}\")\n",
        "    print(f\"y train length: {len(Y_train)}    y test length: {len(Y_test)}\")\n",
        "\n",
        "    # Get the input shape -> (samples, time steps, features)\n",
        "    n_timesteps, n_features, n_outputs = X_train.shape[1], X_train.shape[2], Y_train.shape[1]\n",
        "    print('n_timesteps: {}, n_features: {}, n_outputs: {}'.format(n_timesteps,n_features, n_outputs))\n",
        "\n",
        "    model = create_model(n_outputs)\n",
        "\n",
        "    history = model.fit(X_train, Y_train, validation_split=0.15, epochs = 50, batch_size = 32, verbose = 0)\n",
        "    history_dict = history.history\n",
        "\n",
        "    # Get the historical values for accuracies and losses\n",
        "\n",
        "    acc = history_dict['accuracy']\n",
        "    vacc = history_dict['val_accuracy']\n",
        "    loss = history_dict['loss']\n",
        "    vloss = history_dict['val_loss']\n",
        "\n",
        "    # Save the last values for accuracies and losses for comparison\n",
        "\n",
        "    train_acc = acc[-1]\n",
        "    val_acc = vacc[-1]\n",
        "    train_loss = loss[-1]\n",
        "    val_loss = vloss[-1]\n",
        "\n",
        "    train_accuracies.append(train_acc)\n",
        "    val_accuracies.append(val_acc)\n",
        "    train_losses.append(train_loss)\n",
        "    val_losses.append(val_loss)\n",
        "\n",
        "    Y_pred = model.predict(X_test)\n",
        "    Y_pred = tf.argmax(Y_pred, axis=1)\n",
        "    Y_test_flat = []\n",
        "\n",
        "    for encoding in Y_test:\n",
        "      index = int(np.where(encoding == 1)[0])\n",
        "      Y_test_flat.append(index)\n",
        "\n",
        "    Y_test = tf.constant(Y_test_flat)\n",
        "\n",
        "    test_acc = accuracy_score(Y_test, Y_pred)\n",
        "    test_loss = log_loss(Y_test, model.predict(X_test))\n",
        "    precision = precision_score(Y_test, Y_pred, average = 'weighted')\n",
        "    recall = recall_score(Y_test, Y_pred, average = 'weighted')\n",
        "    f1score = f1_score(Y_test, Y_pred, average = 'weighted')\n",
        "\n",
        "    test_accuracies.append(test_acc)\n",
        "    test_losses.append(test_loss)\n",
        "    precisions.append(precision)\n",
        "    recalls.append(recall)\n",
        "    f1_scores.append(f1score)\n",
        "\n",
        "    print(\"Train Accuracy: \", train_acc)\n",
        "    print(\"Train Loss: \", train_loss)\n",
        "    print(\"Validation Accuracy: \", val_acc)\n",
        "    print(\"Validation Loss: \", val_loss)\n",
        "    print(\"Test Accuracy: \", test_acc)\n",
        "    print(\"Test Loss: \", test_loss)\n",
        "    print(\"Precision: \", precision)\n",
        "    print(\"Recall: \", recall)\n",
        "    print(\"F1 score: \", f1score)\n",
        "    print(f\"-----------------------------------------------------------------------------------------------\\n\")\n",
        "\n",
        "arch7_train_acc = np.mean(train_accuracies)\n",
        "arch7_train_loss = np.mean(train_losses)\n",
        "arch7_val_acc = np.mean(val_accuracies)\n",
        "arch7_val_loss = np.mean(val_losses)\n",
        "arch7_test_acc = np.mean(test_accuracies)\n",
        "arch7_test_loss = np.mean(test_losses)\n",
        "arch7_precision = np.mean(precisions)\n",
        "arch7_recall = np.mean(recalls)\n",
        "arch7_f1_score = np.mean(f1_scores)\n",
        "\n",
        "print(\"Mean Train Accuracy: %.2f%% (+/- %.2f%%)\" % (arch7_train_acc * 100, np.std(train_accuracies) * 100))\n",
        "print(\"Mean Train Loss: %.2f%%\" % (arch7_train_loss * 100))\n",
        "print(\"Mean Validation Accuracy: %.2f%% (+/- %.2f%%)\" % (arch7_val_acc * 100, np.std(val_accuracies) * 100))\n",
        "print(\"Mean Validation Loss: %.2f%%\" % (arch7_val_loss * 100))\n",
        "print(\"Mean Test Accuracy: %.2f%% (+/- %.2f%%)\" % (arch7_test_acc * 100, np.std(test_accuracies) * 100))\n",
        "print(\"Mean Test Loss: %.2f%%\" % (arch7_test_loss * 100))\n",
        "print(\"Mean Precision: %.2f%% (+/- %.2f%%)\" % (arch7_precision * 100, np.std(precisions) * 100))\n",
        "print(\"Mean Recall: %.2f%% (+/- %.2f%%)\" % (arch7_recall * 100, np.std(recalls) * 100))\n",
        "print(\"Mean F1 score: %.2f%% (+/- %.2f%%)\" % (arch7_f1_score * 100, np.std(f1_scores) * 100))"
      ]
    },
    {
      "cell_type": "markdown",
      "metadata": {
        "id": "UCaOJbfc4L6V"
      },
      "source": [
        "#### Create a graph of accuracy and loss over time"
      ]
    },
    {
      "cell_type": "code",
      "execution_count": null,
      "metadata": {
        "id": "dYY-PioV4L6W"
      },
      "outputs": [],
      "source": [
        "epochs = range(1, len(acc) + 1)\n",
        "\n",
        "axes[1, 2].plot(epochs, acc , 'r', label='Training Accuracy')\n",
        "axes[1, 2].plot(epochs, vacc, 'm', label='Validation Accuracy')\n",
        "axes[1, 2].plot(epochs, loss, 'g', label='Training loss')\n",
        "axes[1, 2].plot(epochs, vloss, 'b', label='Validation loss')\n",
        "axes[1, 2].set_title(\"Architecture 7\")\n",
        "axes[1, 2].set_xlabel('Epochs')\n",
        "axes[1, 2].set_ylabel('Loss')\n",
        "axes[1, 2].legend()"
      ]
    },
    {
      "cell_type": "markdown",
      "metadata": {
        "id": "i4qQbt-iXilA"
      },
      "source": [
        "### Architecture 8: Normalization + Transformer + Normalization + Dense\n",
        "\n",
        "Source: https://www.mdpi.com/1424-8220/22/5/1911"
      ]
    },
    {
      "cell_type": "code",
      "execution_count": null,
      "metadata": {
        "id": "5JstpmMWX6c8"
      },
      "outputs": [],
      "source": [
        "!pip3 install git+https://github.com/tensorflow/addons.git\n",
        "\n",
        "from keras.layers import  Add, MultiHeadAttention, LayerNormalization, Layer, Normalization\n",
        "import math\n",
        "from keras import Model\n",
        "from keras.initializers import TruncatedNormal\n",
        "from keras.optimizers import Adam\n",
        "from keras.callbacks import EarlyStopping, LearningRateScheduler, Callback\n",
        "\n",
        "import seaborn as sns"
      ]
    },
    {
      "cell_type": "code",
      "execution_count": null,
      "metadata": {
        "id": "0lFGhNtyZznL"
      },
      "outputs": [],
      "source": [
        "class PositionalEmbedding(Layer):\n",
        "    def __init__(self, units, dropout_rate, **kwargs):\n",
        "        super(PositionalEmbedding, self).__init__(**kwargs)\n",
        "\n",
        "        self.units = units\n",
        "\n",
        "        self.projection = Dense(units, kernel_initializer=TruncatedNormal(stddev=0.02))\n",
        "\n",
        "        self.dropout = Dropout(rate=dropout_rate)\n",
        "\n",
        "    def build(self, input_shape):\n",
        "        super(PositionalEmbedding, self).build(input_shape)\n",
        "\n",
        "        self.position = self.add_weight(\n",
        "            name=\"position\",\n",
        "            shape=(1, input_shape[1], self.units),\n",
        "            initializer=TruncatedNormal(stddev=0.02),\n",
        "            trainable=True,\n",
        "        )\n",
        "\n",
        "    def call(self, inputs, training):\n",
        "        x = self.projection(inputs)\n",
        "        x = x + self.position\n",
        "\n",
        "        return self.dropout(x, training=training)\n"
      ]
    },
    {
      "cell_type": "code",
      "execution_count": null,
      "metadata": {
        "id": "PIwd6GlIZznM"
      },
      "outputs": [],
      "source": [
        "class Encoder(Layer):\n",
        "    def __init__(\n",
        "        self, embed_dim, mlp_dim, num_heads, dropout_rate, attention_dropout_rate, **kwargs\n",
        "    ):\n",
        "        super(Encoder, self).__init__(**kwargs)\n",
        "\n",
        "        self.mha = MultiHeadAttention(\n",
        "            num_heads=num_heads,\n",
        "            key_dim=embed_dim,\n",
        "            dropout=attention_dropout_rate,\n",
        "            kernel_initializer=TruncatedNormal(stddev=0.02),\n",
        "        )\n",
        "\n",
        "        self.dense_0 = Dense(\n",
        "            units=mlp_dim,\n",
        "            activation=\"gelu\",\n",
        "            kernel_initializer=TruncatedNormal(stddev=0.02),\n",
        "        )\n",
        "        self.dense_1 = Dense(\n",
        "            units=embed_dim, kernel_initializer=TruncatedNormal(stddev=0.02)\n",
        "        )\n",
        "\n",
        "        self.dropout_0 = Dropout(rate=dropout_rate)\n",
        "        self.dropout_1 = Dropout(rate=dropout_rate)\n",
        "\n",
        "        self.norm_0 = LayerNormalization(epsilon=1e-5)\n",
        "        self.norm_1 = LayerNormalization(epsilon=1e-5)\n",
        "\n",
        "        self.add_0 = Add()\n",
        "        self.add_1 = Add()\n",
        "\n",
        "    def call(self, inputs, training):\n",
        "        # Attention block\n",
        "        x = self.norm_0(inputs)\n",
        "        x = self.mha(\n",
        "            query=x,\n",
        "            value=x,\n",
        "            key=x,\n",
        "            training=training,\n",
        "        )\n",
        "        x = self.dropout_0(x, training=training)\n",
        "        x = self.add_0([x, inputs])\n",
        "\n",
        "        # MLP block\n",
        "        y = self.norm_1(x)\n",
        "        y = self.dense_0(y)\n",
        "        y = self.dense_1(y)\n",
        "        y = self.dropout_1(y, training=training)\n",
        "\n",
        "        return self.add_1([x, y])"
      ]
    },
    {
      "cell_type": "code",
      "execution_count": null,
      "metadata": {
        "id": "UYEKK7pYZznN"
      },
      "outputs": [],
      "source": [
        "class Transformer(Model):\n",
        "    def __init__(\n",
        "        self,\n",
        "        num_layers,\n",
        "        embed_dim,\n",
        "        mlp_dim,\n",
        "        num_heads,\n",
        "        num_classes,\n",
        "        dropout_rate,\n",
        "        attention_dropout_rate,\n",
        "        **kwargs\n",
        "    ):\n",
        "        super(Transformer, self).__init__(**kwargs)\n",
        "\n",
        "        # Input (normalization of RAW measurements)\n",
        "        self.input_norm = Normalization()\n",
        "\n",
        "        # Input\n",
        "        self.pos_embs = PositionalEmbedding(embed_dim, dropout_rate)\n",
        "\n",
        "        # Encoder\n",
        "        self.e_layers = [\n",
        "            Encoder(embed_dim, mlp_dim, num_heads, dropout_rate, attention_dropout_rate)\n",
        "            for _ in range(num_layers)\n",
        "        ]\n",
        "\n",
        "        # Output\n",
        "        self.norm = LayerNormalization(epsilon=1e-5)\n",
        "        self.final_layer = Dense(num_classes, kernel_initializer=\"zeros\")\n",
        "\n",
        "    def call(self, inputs, training):\n",
        "        x = self.input_norm(inputs)\n",
        "        x = self.pos_embs(x, training=training)\n",
        "\n",
        "        for layer in self.e_layers:\n",
        "            x = layer(x, training=training)\n",
        "\n",
        "        x = self.norm(x)\n",
        "        x = self.final_layer(x)\n",
        "\n",
        "        return x\n"
      ]
    },
    {
      "cell_type": "markdown",
      "metadata": {
        "id": "NjP4eLOkLZeC"
      },
      "source": [
        "#### Loss function and training"
      ]
    },
    {
      "cell_type": "code",
      "execution_count": null,
      "metadata": {
        "id": "NK6QapYViAIb"
      },
      "outputs": [],
      "source": [
        "#Loss\n",
        "def smoothed_sparse_categorical_crossentropy(label_smoothing: float = 0.0):\n",
        "    def loss_fn(y_true, y_pred):\n",
        "        num_classes = tf.shape(y_pred)[-1]\n",
        "        y_true = tf.one_hot(y_true, num_classes)\n",
        "\n",
        "        loss = tf.keras.losses.categorical_crossentropy(y_true, y_pred, from_logits=True, label_smoothing=label_smoothing)\n",
        "        return tf.reduce_mean(loss)\n",
        "\n",
        "    return loss_fn\n",
        "\n",
        "def cosine_schedule(base_lr, total_steps, warmup_steps):\n",
        "    def step_fn(epoch):\n",
        "        lr = base_lr\n",
        "        epoch += 1\n",
        "\n",
        "        progress = (epoch - warmup_steps) / float(total_steps - warmup_steps)\n",
        "        progress = tf.clip_by_value(progress, 0.0, 1.0)\n",
        "\n",
        "        lr = lr * 0.5 * (1.0 + tf.cos(math.pi * progress))\n",
        "\n",
        "        if warmup_steps:\n",
        "            lr = lr * tf.minimum(1.0, epoch / warmup_steps)\n",
        "\n",
        "        return lr\n",
        "\n",
        "    return step_fn"
      ]
    },
    {
      "cell_type": "code",
      "source": [
        "text_labels = np.repeat(text_labels.reshape(text_labels.shape[0], 1), reshaped_s.shape[1], axis=1)"
      ],
      "metadata": {
        "id": "fX7fPrj9iyFF"
      },
      "execution_count": null,
      "outputs": []
    },
    {
      "cell_type": "code",
      "execution_count": null,
      "metadata": {
        "id": "QaZxGMgKZznS"
      },
      "outputs": [],
      "source": [
        "amsgrad = False\n",
        "attention_dropout = 0.1\n",
        "batch_size = 32\n",
        "dropout = 0.1\n",
        "embed_layer_size = 128\n",
        "epochs = 50\n",
        "fc_layer_size = 256\n",
        "global_clipnorm = 3\n",
        "label_smoothing = 0.05\n",
        "learning_rate = 0.001\n",
        "num_heads = 8\n",
        "num_layers = 3\n",
        "optimizer = \"adam\"\n",
        "warmup_steps = 10\n",
        "\n",
        "def create_model(n_outputs):\n",
        "\n",
        "  # Generate new model\n",
        "  model = Transformer(\n",
        "    num_layers=num_layers,\n",
        "    embed_dim=embed_layer_size,\n",
        "    mlp_dim=fc_layer_size,\n",
        "    num_heads=num_heads,\n",
        "    num_classes=n_outputs,\n",
        "    dropout_rate=dropout,\n",
        "    attention_dropout_rate=attention_dropout,\n",
        "  )\n",
        "\n",
        "  # adapt on training dataset - must be before model.compile !!!\n",
        "  model.input_norm.adapt(X_train, batch_size=batch_size)\n",
        "\n",
        "  # Select optimizer\n",
        "  if optimizer == \"adam\":\n",
        "    optim = Adam(\n",
        "        global_clipnorm=global_clipnorm,\n",
        "        amsgrad=amsgrad,\n",
        "    )\n",
        "\n",
        "  model.compile(\n",
        "    loss=smoothed_sparse_categorical_crossentropy(label_smoothing=label_smoothing),\n",
        "    optimizer=optim,\n",
        "    metrics=[\"accuracy\"],\n",
        "  )\n",
        "  return model"
      ]
    },
    {
      "cell_type": "code",
      "source": [
        "train_accuracies = []\n",
        "train_losses = []\n",
        "val_accuracies = []\n",
        "val_losses = []\n",
        "test_accuracies = []\n",
        "test_losses = []\n",
        "precisions = []\n",
        "recalls = []\n",
        "f1_scores = []\n",
        "\n",
        "Y = text_labels\n",
        "\n",
        "for id, (train_index, test_index) in enumerate(kfold.split(X)):\n",
        "\n",
        "    print(f\"------------------------------------------ SPLIT {id + 1} -------------------------------------------\")\n",
        "\n",
        "    X_train, X_test = X[train_index], X[test_index]\n",
        "    Y_train, Y_test = Y[train_index], Y[test_index]\n",
        "\n",
        "    print(f\"X train length: {len(X_train)}    X test length: {len(X_test)}\")\n",
        "    print(f\"y train length: {len(Y_train)}    y test length: {len(Y_test)}\")\n",
        "\n",
        "    # Get the input shape -> (samples, time steps, features)\n",
        "    n_timesteps, n_features, n_outputs = X_train.shape[1], X_train.shape[2], n_outputs\n",
        "    print('n_timesteps: {}, n_features: {}, n_outputs: {}'.format(n_timesteps,n_features, n_outputs))\n",
        "\n",
        "    model = create_model(n_outputs)\n",
        "\n",
        "    history = model.fit(\n",
        "      X_train,\n",
        "      Y_train,\n",
        "      batch_size=batch_size,\n",
        "      epochs=epochs,\n",
        "      validation_split=0.15,\n",
        "      callbacks=[\n",
        "        LearningRateScheduler(cosine_schedule(base_lr=learning_rate, total_steps=epochs, warmup_steps=warmup_steps))\n",
        "      ],\n",
        "      verbose=0\n",
        "    )\n",
        "\n",
        "    print(model.summary())\n",
        "\n",
        "    results = model.evaluate(X_test, Y_test, batch_size = 32, verbose = 1)\n",
        "\n",
        "    history_dict = history.history\n",
        "\n",
        "    # Get the historical values for accuracies and losses\n",
        "\n",
        "    acc = history_dict['accuracy']\n",
        "    vacc = history_dict['val_accuracy']\n",
        "    loss = history_dict['loss']\n",
        "    vloss = history_dict['val_loss']\n",
        "\n",
        "    # Save the last values for accuracies and losses for comparison\n",
        "\n",
        "    train_acc = acc[-1]\n",
        "    val_acc = vacc[-1]\n",
        "    train_loss = loss[-1]\n",
        "    val_loss = vloss[-1]\n",
        "\n",
        "    train_accuracies.append(train_acc)\n",
        "    val_accuracies.append(val_acc)\n",
        "    train_losses.append(train_loss)\n",
        "    val_losses.append(val_loss)\n",
        "\n",
        "    Y_pred = model.predict(X_test)\n",
        "    Y_pred_aux = model.predict(X_test)\n",
        "    Y_pred = tf.argmax(Y_pred, axis=2)\n",
        "    Y_pred = Y_pred.numpy()\n",
        "    Y_pred_lcalc = [] # For computing loss\n",
        "    Y_pred_flat = []\n",
        "    Y_test_flat = []\n",
        "\n",
        "    for encoding in Y_pred:\n",
        "      yp = encoding[0] # Extract the Y_pred label\n",
        "      Y_pred_flat.append(yp)\n",
        "\n",
        "    for encoding in Y_test:\n",
        "      yt = encoding[0] # Extract the Y_test label\n",
        "      Y_test_flat.append(yt)\n",
        "\n",
        "    Y_pred = tf.constant(Y_pred_flat)\n",
        "    Y_test = tf.constant(Y_test_flat)\n",
        "\n",
        "    test_acc = results[1]\n",
        "    test_loss = results[0]\n",
        "    precision = precision_score(Y_test, Y_pred, average = 'weighted')\n",
        "    recall = recall_score(Y_test, Y_pred, average = 'weighted')\n",
        "    f1score = f1_score(Y_test, Y_pred, average = 'weighted')\n",
        "\n",
        "    test_accuracies.append(test_acc)\n",
        "    test_losses.append(test_loss)\n",
        "    precisions.append(precision)\n",
        "    recalls.append(recall)\n",
        "    f1_scores.append(f1score)\n",
        "\n",
        "    print(\"Train Accuracy: \", train_acc)\n",
        "    print(\"Train Loss: \", train_loss)\n",
        "    print(\"Validation Accuracy: \", val_acc)\n",
        "    print(\"Validation Loss: \", val_loss)\n",
        "    print(\"Test Accuracy: \", test_acc)\n",
        "    print(\"Test Loss: \", test_loss)\n",
        "    print(\"Precision: \", precision)\n",
        "    print(\"Recall: \", recall)\n",
        "    print(\"F1 score: \", f1score)\n",
        "    print(f\"-----------------------------------------------------------------------------------------------\\n\")\n",
        "\n",
        "arch8_train_acc = np.mean(train_accuracies)\n",
        "arch8_train_loss = np.mean(train_losses)\n",
        "arch8_val_acc = np.mean(val_accuracies)\n",
        "arch8_val_loss = np.mean(val_losses)\n",
        "arch8_test_acc = np.mean(test_accuracies)\n",
        "arch8_test_loss = np.mean(test_losses)\n",
        "arch8_precision = np.mean(precisions)\n",
        "arch8_recall = np.mean(recalls)\n",
        "arch8_f1_score = np.mean(f1_scores)\n",
        "\n",
        "print(\"Mean Train Accuracy: %.2f%% (+/- %.2f%%)\" % (arch8_train_acc * 100, np.std(train_accuracies) * 100))\n",
        "print(\"Mean Train Loss: %.2f%%\" % (arch8_train_loss * 100))\n",
        "print(\"Mean Validation Accuracy: %.2f%% (+/- %.2f%%)\" % (arch8_val_acc * 100, np.std(val_accuracies) * 100))\n",
        "print(\"Mean Validation Loss: %.2f%%\" % (arch8_val_loss * 100))\n",
        "print(\"Mean Test Accuracy: %.2f%% (+/- %.2f%%)\" % (arch8_test_acc * 100, np.std(test_accuracies) * 100))\n",
        "print(\"Mean Test Loss: %.2f%%\" % (arch8_test_loss * 100))\n",
        "print(\"Mean Precision: %.2f%% (+/- %.2f%%)\" % (arch8_precision * 100, np.std(precisions) * 100))\n",
        "print(\"Mean Recall: %.2f%% (+/- %.2f%%)\" % (arch8_recall * 100, np.std(recalls) * 100))\n",
        "print(\"Mean F1 score: %.2f%% (+/- %.2f%%)\" % (arch8_f1_score * 100, np.std(f1_scores) * 100))"
      ],
      "metadata": {
        "id": "xKfM85PvayIU"
      },
      "execution_count": null,
      "outputs": []
    },
    {
      "cell_type": "markdown",
      "metadata": {
        "id": "_2RP3L4_mhMG"
      },
      "source": [
        "#### Create a graph of accuracy and loss over time"
      ]
    },
    {
      "cell_type": "code",
      "execution_count": null,
      "metadata": {
        "id": "nkvlh_GKmhMH"
      },
      "outputs": [],
      "source": [
        "epochs = range(1, len(acc) + 1)\n",
        "\n",
        "axes[1, 3].plot(epochs, acc , 'r', label='Training Accuracy')\n",
        "axes[1, 3].plot(epochs, vacc, 'm', label='Validation Accuracy')\n",
        "axes[1, 3].plot(epochs, loss, 'g', label='Training loss')\n",
        "axes[1, 3].plot(epochs, vloss, 'b', label='Validation loss')\n",
        "axes[1, 3].set_title(\"Architecture 8\")\n",
        "axes[1, 3].set_xlabel('Epochs')\n",
        "axes[1, 3].set_ylabel('Loss')\n",
        "axes[1, 3].legend()"
      ]
    },
    {
      "cell_type": "markdown",
      "metadata": {
        "id": "-dUYDsdhcTco"
      },
      "source": [
        "## Table Comparison of accuracies of the 8 architechtures\n",
        "\n",
        "After training and testing all the architectures and obtaining their accuracy and loss values, the obtained results are presented in a table to compare the performance of each architecture in the dataset."
      ]
    },
    {
      "cell_type": "code",
      "execution_count": null,
      "metadata": {
        "id": "rYKZiVe6cTcp"
      },
      "outputs": [],
      "source": [
        "# Architectures labels\n",
        "archs = [\"Architecture 1\", \"Architecture 2\", \"Architecture 3\", \"Architecture 4\", \"Architecture 5\", \"Architecture 6\", \"Architecture 7\", \"Architecture 8\"]\n",
        "# Training accuracies of the architectures\n",
        "train_accs = [arch1_train_acc, arch2_train_acc, arch3_train_acc, arch4_train_acc, arch5_train_acc, arch6_train_acc, arch7_train_acc, arch8_train_acc]\n",
        "# Training losses of the architectures\n",
        "train_losses = [arch1_test_loss, arch2_test_loss, arch3_test_loss, arch4_test_loss, arch5_test_loss, arch6_test_loss, arch7_train_loss, arch8_train_loss]\n",
        "# Testing accuracies of the architectures\n",
        "test_accs = [arch1_test_acc, arch2_test_acc, arch3_test_acc, arch4_test_acc, arch5_test_acc, arch6_test_acc, arch7_test_acc, arch8_test_acc]\n",
        "# Testing losses of the architectures\n",
        "test_losses = [arch1_test_loss, arch2_test_loss, arch3_test_loss, arch4_test_loss, arch5_test_loss, arch6_test_loss, arch7_test_loss, arch8_test_loss]\n",
        "# Precisions of the architectures\n",
        "precisions = [arch1_precision, arch2_precision, arch3_precision, arch4_precision, arch5_precision, arch6_precision, arch7_precision, arch8_precision]\n",
        "# Recalls of the architectures\n",
        "recalls = [arch1_recall, arch2_recall, arch3_recall, arch4_recall, arch5_recall, arch6_recall, arch7_recall, arch8_recall]\n",
        "# F1 scores of the architectures\n",
        "f1_scores = [arch1_f1_score, arch2_f1_score, arch3_f1_score, arch4_f1_score, arch5_f1_score, arch6_f1_score, arch7_f1_score, arch8_f1_score]\n",
        "\n",
        "df = pd.DataFrame(list(zip(archs, train_accs, train_losses, test_accs, test_losses, precisions, recalls, f1_scores)),\n",
        "                  columns =['Architectures', 'Training Accuracy', 'Training Loss', 'Test Accuracy', 'Test Loss', 'Precision', 'Recall', 'F1 score'])\n",
        "df\n",
        "\n",
        "# Defining custom function which returns\n",
        "# the list for df.style.apply() method\n",
        "def highlight_max(s):\n",
        "    is_max = s == s.max()\n",
        "    return ['font-weight: %s' % 'bold' if cell else '' for cell in is_max]\n",
        "\n",
        "\n",
        "# Defining custom function which returns\n",
        "# the list for df.style.apply() method\n",
        "def highlight_min(s):\n",
        "    is_min = s == s.min()\n",
        "    return ['font-weight: %s' % 'bold' if cell else '' for cell in is_min]\n",
        "\n",
        "df.style.apply(highlight_max, subset = ['Training Accuracy', 'Test Accuracy', 'Precision', 'Recall', 'F1 score']).apply(highlight_min, subset = ['Training Loss', 'Test Loss'])"
      ]
    },
    {
      "cell_type": "markdown",
      "metadata": {
        "id": "1J7I2gxZ8lCN"
      },
      "source": [
        "## Plot of the Performance of Every Architecture"
      ]
    },
    {
      "cell_type": "code",
      "execution_count": null,
      "metadata": {
        "id": "8buxDzlAYXaI"
      },
      "outputs": [],
      "source": [
        "from IPython.display import display\n",
        "axes[1, 3].axis('off')\n",
        "display(fig)"
      ]
    },
    {
      "cell_type": "markdown",
      "metadata": {
        "id": "-XuLf8VN8sKa"
      },
      "source": [
        "## Plot of Best Architecture"
      ]
    },
    {
      "cell_type": "code",
      "execution_count": null,
      "metadata": {
        "colab": {
          "base_uri": "https://localhost:8080/",
          "height": 350
        },
        "id": "6-iqOFMVgjAG",
        "outputId": "f5c68a3e-31c9-4c82-b80a-3f4f6c17dd32"
      },
      "outputs": [
        {
          "data": {
            "image/png": "[encoded data removed]",
            "text/plain": [
              "<Figure size 1800x720 with 8 Axes>"
            ]
          },
          "metadata": {},
          "output_type": "display_data"
        }
      ],
      "source": [
        "best = 4\n",
        "\n",
        "if (best <= 4):\n",
        "  best_x = 0\n",
        "  best_y = best - 1\n",
        "else:\n",
        "  best_x = 1\n",
        "  best_y = (best - 1) - 4\n",
        "\n",
        "# Set the spacing between subplots to zero\n",
        "fig.subplots_adjust(wspace=0, hspace=0)\n",
        "\n",
        "# Hide the other subplots\n",
        "for i in range(2):\n",
        "    for j in range(4):\n",
        "        if i != best_x or j != best_y:\n",
        "            axes[i, j].set_visible(False)\n",
        "\n",
        "display(axes[best_x, best_y].figure)"
      ]
    }
  ],
  "metadata": {
    "accelerator": "GPU",
    "colab": {
      "provenance": []
    },
    "gpuClass": "standard",
    "kernelspec": {
      "display_name": "Python 3",
      "name": "python3"
    },
    "language_info": {
      "name": "python"
    }
  },
  "nbformat": 4,
  "nbformat_minor": 0
}